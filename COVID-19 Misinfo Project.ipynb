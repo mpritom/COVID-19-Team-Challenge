{
 "cells": [
  {
   "cell_type": "markdown",
   "metadata": {},
   "source": [
    "# Step1: Loading data"
   ]
  },
  {
   "cell_type": "code",
   "execution_count": 166,
   "metadata": {},
   "outputs": [],
   "source": [
    "import xlrd\n",
    "\n",
    "wb1 = xlrd.open_workbook(r'covid_data_0.xlsx')\n",
    "sheets_name1 = wb1.sheet_names();\n",
    "ws1 = wb1.sheet_by_index(0)\n",
    "true_tweets = ws1.col_values(0)\n",
    "\n",
    "wb2 = xlrd.open_workbook(r'covid_data_1.xlsx')\n",
    "sheets_name2 = wb1.sheet_names();\n",
    "ws2 = wb2.sheet_by_index(0)\n",
    "misinfo_tweets = ws2.col_values(0)\n"
   ]
  },
  {
   "cell_type": "code",
   "execution_count": 167,
   "metadata": {},
   "outputs": [
    {
     "data": {
      "text/plain": [
       "211"
      ]
     },
     "execution_count": 167,
     "metadata": {},
     "output_type": "execute_result"
    }
   ],
   "source": [
    "len(misinfo_tweets)"
   ]
  },
  {
   "cell_type": "code",
   "execution_count": 92,
   "metadata": {},
   "outputs": [
    {
     "ename": "NameError",
     "evalue": "name 'misinfo' is not defined",
     "output_type": "error",
     "traceback": [
      "\u001b[1;31m---------------------------------------------------------------------------\u001b[0m",
      "\u001b[1;31mNameError\u001b[0m                                 Traceback (most recent call last)",
      "\u001b[1;32m<ipython-input-92-ee1cfbe51145>\u001b[0m in \u001b[0;36m<module>\u001b[1;34m\u001b[0m\n\u001b[1;32m----> 1\u001b[1;33m \u001b[0mmisinfo\u001b[0m\u001b[1;33m.\u001b[0m\u001b[0mhead\u001b[0m\u001b[1;33m(\u001b[0m\u001b[1;36m3\u001b[0m\u001b[1;33m)\u001b[0m\u001b[1;33m\u001b[0m\u001b[1;33m\u001b[0m\u001b[0m\n\u001b[0m",
      "\u001b[1;31mNameError\u001b[0m: name 'misinfo' is not defined"
     ]
    }
   ],
   "source": []
  },
  {
   "cell_type": "code",
   "execution_count": 168,
   "metadata": {},
   "outputs": [
    {
     "data": {
      "text/plain": [
       "314"
      ]
     },
     "execution_count": 168,
     "metadata": {},
     "output_type": "execute_result"
    }
   ],
   "source": [
    "len(true_tweets)"
   ]
  },
  {
   "cell_type": "markdown",
   "metadata": {},
   "source": [
    "# Step2: Tokenize"
   ]
  },
  {
   "cell_type": "code",
   "execution_count": 169,
   "metadata": {},
   "outputs": [
    {
     "name": "stderr",
     "output_type": "stream",
     "text": [
      "[nltk_data] Downloading package punkt to\n",
      "[nltk_data]     C:\\Users\\mprit\\AppData\\Roaming\\nltk_data...\n",
      "[nltk_data]   Package punkt is already up-to-date!\n"
     ]
    },
    {
     "data": {
      "text/plain": [
       "True"
      ]
     },
     "execution_count": 169,
     "metadata": {},
     "output_type": "execute_result"
    }
   ],
   "source": [
    "import nltk\n",
    "nltk.download('punkt')"
   ]
  },
  {
   "cell_type": "code",
   "execution_count": 170,
   "metadata": {},
   "outputs": [],
   "source": [
    "true_tweets_original = []\n",
    "true_tweet_tokens = []\n",
    "for i in range(len(true_tweets)):\n",
    "    temp_split = nltk.word_tokenize(true_tweets[i])\n",
    "    true_tweet_tokens.append(temp_split)\n",
    "    true_tweets_original.append(true_tweets[i])\n",
    "\n",
    "misinfo_tweets_original= []\n",
    "misinfo_tweet_tokens = []\n",
    "for i in range(len(misinfo_tweets)):\n",
    "    temp_split = nltk.word_tokenize(misinfo_tweets[i])\n",
    "    misinfo_tweet_tokens.append(temp_split)\n",
    "    misinfo_tweets_original.append(misinfo_tweets[i])\n"
   ]
  },
  {
   "cell_type": "code",
   "execution_count": null,
   "metadata": {},
   "outputs": [],
   "source": []
  },
  {
   "cell_type": "markdown",
   "metadata": {},
   "source": [
    "# Step 3: Normalize Data"
   ]
  },
  {
   "cell_type": "code",
   "execution_count": 172,
   "metadata": {},
   "outputs": [],
   "source": [
    "from nltk.tag import pos_tag\n",
    "from nltk.stem.wordnet import WordNetLemmatizer\n",
    "\n",
    "def lemmatize_sentence(tokens):\n",
    "    lemmatizer = WordNetLemmatizer()\n",
    "    lemmatized_sentence = []\n",
    "    for word, tag in pos_tag(tokens):\n",
    "        if tag.startswith('NN'):\n",
    "            pos = 'n'\n",
    "        elif tag.startswith('VB'):\n",
    "            pos = 'v'\n",
    "        else:\n",
    "            pos = 'a'\n",
    "        lemmatized_sentence.append(lemmatizer.lemmatize(word, pos))\n",
    "    return lemmatized_sentence\n"
   ]
  },
  {
   "cell_type": "code",
   "execution_count": 10,
   "metadata": {},
   "outputs": [
    {
     "name": "stderr",
     "output_type": "stream",
     "text": [
      "[nltk_data] Downloading package averaged_perceptron_tagger to\n",
      "[nltk_data]     C:\\Users\\mprit\\AppData\\Roaming\\nltk_data...\n",
      "[nltk_data]   Package averaged_perceptron_tagger is already up-to-\n",
      "[nltk_data]       date!\n"
     ]
    },
    {
     "data": {
      "text/plain": [
       "True"
      ]
     },
     "execution_count": 10,
     "metadata": {},
     "output_type": "execute_result"
    }
   ],
   "source": [
    "nltk.download('averaged_perceptron_tagger')"
   ]
  },
  {
   "cell_type": "code",
   "execution_count": 11,
   "metadata": {},
   "outputs": [
    {
     "name": "stderr",
     "output_type": "stream",
     "text": [
      "[nltk_data] Downloading package wordnet to\n",
      "[nltk_data]     C:\\Users\\mprit\\AppData\\Roaming\\nltk_data...\n",
      "[nltk_data]   Package wordnet is already up-to-date!\n"
     ]
    },
    {
     "data": {
      "text/plain": [
       "True"
      ]
     },
     "execution_count": 11,
     "metadata": {},
     "output_type": "execute_result"
    }
   ],
   "source": [
    "nltk.download('wordnet')"
   ]
  },
  {
   "cell_type": "code",
   "execution_count": 246,
   "metadata": {},
   "outputs": [
    {
     "name": "stdout",
     "output_type": "stream",
     "text": [
      "Requirement already satisfied: nltk in c:\\users\\mprit\\anaconda3\\lib\\site-packages (3.5)\n",
      "Requirement already satisfied: click in c:\\users\\mprit\\anaconda3\\lib\\site-packages (from nltk) (7.1.2)\n",
      "Requirement already satisfied: joblib in c:\\users\\mprit\\anaconda3\\lib\\site-packages (from nltk) (0.16.0)\n",
      "Requirement already satisfied: tqdm in c:\\users\\mprit\\anaconda3\\lib\\site-packages (from nltk) (4.47.0)\n",
      "Requirement already satisfied: regex in c:\\users\\mprit\\anaconda3\\lib\\site-packages (from nltk) (2020.6.8)\n"
     ]
    }
   ],
   "source": [
    "!pip install nltk"
   ]
  },
  {
   "cell_type": "code",
   "execution_count": 173,
   "metadata": {},
   "outputs": [],
   "source": [
    "import pandas as pd"
   ]
  },
  {
   "cell_type": "code",
   "execution_count": 174,
   "metadata": {},
   "outputs": [],
   "source": [
    "our_stop_words = ['....',\n",
    "'...',\n",
    "'around','covidー19',\n",
    "'12','60','14','5','//t.c…', \"'m\",\"'re\",'—','–','..','2', '20','4','//t.…','a…','b…','c…','f…','it…','no…','the…','covid_19',\n",
    "'200,000','d…','is…','na','s…','t…','b','u','19.', 'https','1.7', '50',\n",
    "'th…',\n",
    "'3',\n",
    "'19',\n",
    "'100',\n",
    "\"'if\",\n",
    "'…','s',\n",
    "'t','y',\n",
    "\"''\",\n",
    "\"'s\",\n",
    "'``',\n",
    "\"n't\",\n",
    "\"'d\",\n",
    "'d',\n",
    "'’',\n",
    "'‘',\n",
    "'”',\n",
    "'“',\n",
    "'”',\n",
    "'“',\n",
    "'covid19',\n",
    "'covid-19',\n",
    "'coronavirus',    \n",
    "'corona',    \n",
    "'a', # start of initial stop words\n",
    "'able',\n",
    "'about',\n",
    "'across',\n",
    "'after',\n",
    "'all',\n",
    "'almost',\n",
    "'also',\n",
    "'am',\n",
    "'among',\n",
    "'an',\n",
    "'and',\n",
    "'any',\n",
    "'are',\n",
    "'as',\n",
    "'at',\n",
    "'be',\n",
    "'because',\n",
    "'been',\n",
    "'but',\n",
    "'by',\n",
    "'can',\n",
    "'cannot',\n",
    "'could',\n",
    "'dear',\n",
    "'did',\n",
    "'do',\n",
    "'does',\n",
    "'either',\n",
    "'else',\n",
    "'ever',\n",
    "'every',\n",
    "'for',\n",
    "'from',\n",
    "'get',\n",
    "'got',\n",
    "'had',\n",
    "'has',\n",
    "'have',\n",
    "'he',\n",
    "'her',\n",
    "'hers',\n",
    "'him',\n",
    "'his',\n",
    "'how',\n",
    "'however',\n",
    "'i',\n",
    "'if',\n",
    "'in',\n",
    "'into',\n",
    "'is',\n",
    "'it',\n",
    "'its',\n",
    "'just',\n",
    "'least',\n",
    "'let',\n",
    "'like',\n",
    "'likely',\n",
    "'may',\n",
    "'me',\n",
    "'might',\n",
    "'most',\n",
    "'must',\n",
    "'my',\n",
    "'neither',\n",
    "'no',\n",
    "'nor',\n",
    "'not',\n",
    "'of',\n",
    "'off',\n",
    "'often',\n",
    "'on',\n",
    "'only',\n",
    "'or',\n",
    "'other','our','own','rather','said','say','says','she','should','since','so','some','than','that','the','their','them','then',\n",
    "'there','these','they','this','tis','to','too','twas','us','wants','was','we','were','what','when','where','which','while','who','whom',\n",
    "'why','will','with','would','yet','you','your', '🙄', \"'ve\",'@','rt','http','\"']"
   ]
  },
  {
   "cell_type": "code",
   "execution_count": 175,
   "metadata": {},
   "outputs": [
    {
     "data": {
      "text/plain": [
       "188"
      ]
     },
     "execution_count": 175,
     "metadata": {},
     "output_type": "execute_result"
    }
   ],
   "source": [
    "len(our_stop_words)\n",
    "# initial size 125"
   ]
  },
  {
   "cell_type": "markdown",
   "metadata": {},
   "source": [
    "# Step 4: Remove noise, stop words"
   ]
  },
  {
   "cell_type": "code",
   "execution_count": 176,
   "metadata": {},
   "outputs": [],
   "source": [
    "import re, string\n",
    "\n",
    "def remove_noise(tweet_tokens, stop_words):\n",
    "\n",
    "    cleaned_tokens = []\n",
    "\n",
    "    for token, tag in pos_tag(tweet_tokens):\n",
    "        token = re.sub('http[s]?://(?:[a-zA-Z]|[0-9]|[$-_@.&+#:/]|[!*\\(\\),]|...\"😷RT'\\\n",
    "                       'http(?:%[0-9a-fA-F][0-9a-fA-F]))+\"...\"😷RT','', token)\n",
    "        token = re.sub(\"(@[A-Za-z0-9_]+)\",\"\", token)\n",
    "\n",
    "        if tag.startswith(\"NN\"):\n",
    "            pos = 'n'\n",
    "        elif tag.startswith('VB'):\n",
    "            pos = 'v'\n",
    "        else:\n",
    "            pos = 'a'\n",
    "\n",
    "        lemmatizer = WordNetLemmatizer()\n",
    "        token = lemmatizer.lemmatize(token, pos)\n",
    "\n",
    "        if len(token) > 0 and token not in string.punctuation and token.lower() not in stop_words:\n",
    "            cleaned_tokens.append(token.lower())\n",
    "    return cleaned_tokens\n"
   ]
  },
  {
   "cell_type": "code",
   "execution_count": 177,
   "metadata": {},
   "outputs": [],
   "source": [
    "true_cleaned_tokens_list = []\n",
    "misinfo_cleaned_tokens_list = []\n",
    "\n",
    "for tokens in true_tweet_tokens:\n",
    "    true_cleaned_tokens_list.append(remove_noise(tokens, our_stop_words))\n",
    "\n",
    "for tokens in misinfo_tweet_tokens:\n",
    "    misinfo_cleaned_tokens_list.append(remove_noise(tokens, our_stop_words))\n"
   ]
  },
  {
   "cell_type": "code",
   "execution_count": 178,
   "metadata": {},
   "outputs": [],
   "source": [
    "# getting tokens\n",
    "def get_all_words(cleaned_tokens_list):\n",
    "    for tokens in cleaned_tokens_list:\n",
    "        for token in tokens:\n",
    "            yield token\n"
   ]
  },
  {
   "cell_type": "code",
   "execution_count": 179,
   "metadata": {},
   "outputs": [],
   "source": [
    "all_true_tweet_words = get_all_words(true_cleaned_tokens_list)\n",
    "all_misinfo_tweet_words = get_all_words(misinfo_cleaned_tokens_list)\n"
   ]
  },
  {
   "cell_type": "code",
   "execution_count": 180,
   "metadata": {},
   "outputs": [],
   "source": [
    "from nltk import FreqDist\n",
    "\n",
    "freq_dist_true_tweet = FreqDist(all_true_tweet_words)\n",
    "freq_dist_misinfo_tweet = FreqDist(all_misinfo_tweet_words)\n"
   ]
  },
  {
   "cell_type": "code",
   "execution_count": 181,
   "metadata": {},
   "outputs": [
    {
     "name": "stdout",
     "output_type": "stream",
     "text": [
      "[('mask', 74), ('virus', 71), ('stay', 66), ('lockdown', 59), ('home', 52), ('wear', 44), ('health', 39), ('vaccine', 33), ('people', 33), ('supportlockdownstaysafe', 31), ('spread', 31), ('covid', 29), ('test', 26), ('please', 25), ('social', 24), ('more', 23), ('pandemic', 21), ('distancing', 20), ('fight', 20), ('amp', 20), ('go', 19), ('safe', 18), ('stop', 17), ('good', 17), ('one', 16), ('person', 16), ('now', 16), ('patient', 16), ('case', 15), ('against', 15), ('life', 15), ('very', 15), ('public', 15), ('still', 15), ('new', 15), ('follow', 14), ('hand', 14), ('use', 14), ('healthy', 14), ('protect', 13), ('time', 13), ('india', 12), ('infection', 12), ('take', 12), ('way', 11), ('make', 11), ('infect', 11), ('disease', 11), ('drug', 11), ('antibody', 10)]\n"
     ]
    }
   ],
   "source": [
    "print(freq_dist_true_tweet.most_common(50))\n",
    "\n"
   ]
  },
  {
   "cell_type": "code",
   "execution_count": 182,
   "metadata": {},
   "outputs": [
    {
     "name": "stdout",
     "output_type": "stream",
     "text": [
      "[('test', 40), ('virus', 34), ('covid', 32), ('hydroxychloroquine', 32), ('mask', 29), ('use', 29), ('drug', 27), ('now', 27), ('trump', 23), ('vaccine', 23), ('case', 22), ('emergency', 21), ('stop', 19), ('fda', 18), ('very', 17), ('wear', 17), ('people', 17), ('health', 17), ('5g', 16), ('right', 16), ('few', 15), ('amp', 13), ('one', 12), ('make', 12), ('treat', 12), ('patient', 12), ('lockdown', 11), ('treatment', 11), ('authorization', 11), ('new', 11), ('up', 10), ('immunity', 10), ('good', 10), ('revoke', 10), ('more', 10), ('stay', 9), ('need', 9), ('go', 9), ('see', 9), ('take', 9), ('actually', 8), ('doctor', 8), ('social', 8), ('pandemic', 8), ('time', 8), ('flu', 8), ('chloroquine', 8), ('against', 8), ('malaria', 8), ('rate', 8)]\n"
     ]
    }
   ],
   "source": [
    "print(freq_dist_misinfo_tweet.most_common(50))\n"
   ]
  },
  {
   "cell_type": "markdown",
   "metadata": {},
   "source": [
    "# step 6"
   ]
  },
  {
   "cell_type": "code",
   "execution_count": 185,
   "metadata": {},
   "outputs": [],
   "source": [
    "def get_tweets_for_model(cleaned_tokens_list):\n",
    "    for tweet_tokens in cleaned_tokens_list:\n",
    "        yield dict([token, True] for token in tweet_tokens)\n",
    "\n"
   ]
  },
  {
   "cell_type": "code",
   "execution_count": null,
   "metadata": {},
   "outputs": [],
   "source": []
  },
  {
   "cell_type": "code",
   "execution_count": 186,
   "metadata": {},
   "outputs": [],
   "source": [
    "true_tweet_tokens_for_model = get_tweets_for_model(true_cleaned_tokens_list)\n",
    "misinfo_tweets_tokens_for_model = get_tweets_for_model(misinfo_cleaned_tokens_list)\n",
    "\n",
    "import random\n",
    "\n",
    "true_tweet_dataset = [(tweet_dict, \"0\")\n",
    "                     for tweet_dict in true_tweet_tokens_for_model]\n",
    "\n",
    "misinfo_tweet_dataset = [(tweet_dict, \"1\")\n",
    "                     for tweet_dict in misinfo_tweets_tokens_for_model]\n",
    "\n",
    "#Merge_dataset = true_tweet_dataset + misinfo_tweet_dataset\n",
    "\n",
    "\n",
    "#random.shuffle(Merge_dataset)\n",
    "\n",
    "#train_data2 = dataset\n"
   ]
  },
  {
   "cell_type": "code",
   "execution_count": 189,
   "metadata": {},
   "outputs": [],
   "source": [
    "true_tweet_df = pd.DataFrame(true_tweet_dataset, columns=['tokens', 'Label'])"
   ]
  },
  {
   "cell_type": "code",
   "execution_count": 190,
   "metadata": {},
   "outputs": [],
   "source": [
    "misinfo_tweet_df = pd.DataFrame(misinfo_tweet_dataset, columns=['tokens', 'Label'])"
   ]
  },
  {
   "cell_type": "code",
   "execution_count": 191,
   "metadata": {},
   "outputs": [
    {
     "data": {
      "text/html": [
       "<div>\n",
       "<style scoped>\n",
       "    .dataframe tbody tr th:only-of-type {\n",
       "        vertical-align: middle;\n",
       "    }\n",
       "\n",
       "    .dataframe tbody tr th {\n",
       "        vertical-align: top;\n",
       "    }\n",
       "\n",
       "    .dataframe thead th {\n",
       "        text-align: right;\n",
       "    }\n",
       "</style>\n",
       "<table border=\"1\" class=\"dataframe\">\n",
       "  <thead>\n",
       "    <tr style=\"text-align: right;\">\n",
       "      <th></th>\n",
       "      <th>tokens</th>\n",
       "      <th>Label</th>\n",
       "    </tr>\n",
       "  </thead>\n",
       "  <tbody>\n",
       "    <tr>\n",
       "      <th>0</th>\n",
       "      <td>{'india': True, 'potentially': True, 'large': ...</td>\n",
       "      <td>0</td>\n",
       "    </tr>\n",
       "    <tr>\n",
       "      <th>1</th>\n",
       "      <td>{'scientist': True, 'medical': True, 'research...</td>\n",
       "      <td>0</td>\n",
       "    </tr>\n",
       "    <tr>\n",
       "      <th>2</th>\n",
       "      <td>{'save': True, 'urself': True, 'whole': True, ...</td>\n",
       "      <td>0</td>\n",
       "    </tr>\n",
       "    <tr>\n",
       "      <th>3</th>\n",
       "      <td>{'follow': True, 'social': True, 'distancing':...</td>\n",
       "      <td>0</td>\n",
       "    </tr>\n",
       "  </tbody>\n",
       "</table>\n",
       "</div>"
      ],
      "text/plain": [
       "                                              tokens Label\n",
       "0  {'india': True, 'potentially': True, 'large': ...     0\n",
       "1  {'scientist': True, 'medical': True, 'research...     0\n",
       "2  {'save': True, 'urself': True, 'whole': True, ...     0\n",
       "3  {'follow': True, 'social': True, 'distancing':...     0"
      ]
     },
     "execution_count": 191,
     "metadata": {},
     "output_type": "execute_result"
    }
   ],
   "source": [
    "true_tweet_df.head(4)"
   ]
  },
  {
   "cell_type": "code",
   "execution_count": 192,
   "metadata": {},
   "outputs": [],
   "source": [
    "true_tweet_df['Text'] = true_tweets_original"
   ]
  },
  {
   "cell_type": "code",
   "execution_count": 193,
   "metadata": {},
   "outputs": [],
   "source": [
    "misinfo_tweet_df['Text'] = misinfo_tweets_original"
   ]
  },
  {
   "cell_type": "code",
   "execution_count": 194,
   "metadata": {},
   "outputs": [
    {
     "data": {
      "text/html": [
       "<div>\n",
       "<style scoped>\n",
       "    .dataframe tbody tr th:only-of-type {\n",
       "        vertical-align: middle;\n",
       "    }\n",
       "\n",
       "    .dataframe tbody tr th {\n",
       "        vertical-align: top;\n",
       "    }\n",
       "\n",
       "    .dataframe thead th {\n",
       "        text-align: right;\n",
       "    }\n",
       "</style>\n",
       "<table border=\"1\" class=\"dataframe\">\n",
       "  <thead>\n",
       "    <tr style=\"text-align: right;\">\n",
       "      <th></th>\n",
       "      <th>tokens</th>\n",
       "      <th>Label</th>\n",
       "      <th>Text</th>\n",
       "    </tr>\n",
       "  </thead>\n",
       "  <tbody>\n",
       "    <tr>\n",
       "      <th>0</th>\n",
       "      <td>{'test': True, 'virus': True, 'pick': True, 'u...</td>\n",
       "      <td>1</td>\n",
       "      <td>if the test for corona virus is picking up exo...</td>\n",
       "    </tr>\n",
       "    <tr>\n",
       "      <th>1</th>\n",
       "      <td>{'nigga': True, 'cause': True, '5g': True, 'ne...</td>\n",
       "      <td>1</td>\n",
       "      <td>niggas said corona is caused from 5g network r...</td>\n",
       "    </tr>\n",
       "    <tr>\n",
       "      <th>2</th>\n",
       "      <td>{'donald': True, 'trump': True, 'approve': Tru...</td>\n",
       "      <td>1</td>\n",
       "      <td>donald trump approved 5g so he is just as evil...</td>\n",
       "    </tr>\n",
       "    <tr>\n",
       "      <th>3</th>\n",
       "      <td>{'something': True, 'abt': True, 'government':...</td>\n",
       "      <td>1</td>\n",
       "      <td>they saying something abt the government insta...</td>\n",
       "    </tr>\n",
       "  </tbody>\n",
       "</table>\n",
       "</div>"
      ],
      "text/plain": [
       "                                              tokens Label  \\\n",
       "0  {'test': True, 'virus': True, 'pick': True, 'u...     1   \n",
       "1  {'nigga': True, 'cause': True, '5g': True, 'ne...     1   \n",
       "2  {'donald': True, 'trump': True, 'approve': Tru...     1   \n",
       "3  {'something': True, 'abt': True, 'government':...     1   \n",
       "\n",
       "                                                Text  \n",
       "0  if the test for corona virus is picking up exo...  \n",
       "1  niggas said corona is caused from 5g network r...  \n",
       "2  donald trump approved 5g so he is just as evil...  \n",
       "3  they saying something abt the government insta...  "
      ]
     },
     "execution_count": 194,
     "metadata": {},
     "output_type": "execute_result"
    }
   ],
   "source": [
    "misinfo_tweet_df.head(4)"
   ]
  },
  {
   "cell_type": "code",
   "execution_count": 195,
   "metadata": {},
   "outputs": [],
   "source": [
    "merge_tweets_data = pd.concat([true_tweet_df, misinfo_tweet_df])"
   ]
  },
  {
   "cell_type": "code",
   "execution_count": 196,
   "metadata": {},
   "outputs": [
    {
     "data": {
      "text/plain": [
       "(525, 3)"
      ]
     },
     "execution_count": 196,
     "metadata": {},
     "output_type": "execute_result"
    }
   ],
   "source": [
    "merge_tweets_data.shape"
   ]
  },
  {
   "cell_type": "code",
   "execution_count": 199,
   "metadata": {},
   "outputs": [],
   "source": [
    "merge_tweets_data = sklearn.utils.shuffle(merge_tweets_data)"
   ]
  },
  {
   "cell_type": "code",
   "execution_count": 200,
   "metadata": {},
   "outputs": [
    {
     "data": {
      "text/html": [
       "<div>\n",
       "<style scoped>\n",
       "    .dataframe tbody tr th:only-of-type {\n",
       "        vertical-align: middle;\n",
       "    }\n",
       "\n",
       "    .dataframe tbody tr th {\n",
       "        vertical-align: top;\n",
       "    }\n",
       "\n",
       "    .dataframe thead th {\n",
       "        text-align: right;\n",
       "    }\n",
       "</style>\n",
       "<table border=\"1\" class=\"dataframe\">\n",
       "  <thead>\n",
       "    <tr style=\"text-align: right;\">\n",
       "      <th></th>\n",
       "      <th>tokens</th>\n",
       "      <th>Label</th>\n",
       "      <th>Text</th>\n",
       "    </tr>\n",
       "  </thead>\n",
       "  <tbody>\n",
       "    <tr>\n",
       "      <th>15</th>\n",
       "      <td>{'two': True, 'oxford': True, 'professor': Tru...</td>\n",
       "      <td>1</td>\n",
       "      <td>two oxford professors and one at dundee have s...</td>\n",
       "    </tr>\n",
       "    <tr>\n",
       "      <th>169</th>\n",
       "      <td>{'read': True, 'fake': True, 'news': True, 'wh...</td>\n",
       "      <td>1</td>\n",
       "      <td>read that some fake news whatsapp forward talk...</td>\n",
       "    </tr>\n",
       "    <tr>\n",
       "      <th>133</th>\n",
       "      <td>{'still': True, 'fight': True, 'pandemic': Tru...</td>\n",
       "      <td>0</td>\n",
       "      <td>we are still fighting a pandemic. and covid-19...</td>\n",
       "    </tr>\n",
       "    <tr>\n",
       "      <th>168</th>\n",
       "      <td>{'everyone': True, 'flu': True, 'shot': True, ...</td>\n",
       "      <td>1</td>\n",
       "      <td>everyone that had a flu shot will test positiv...</td>\n",
       "    </tr>\n",
       "    <tr>\n",
       "      <th>131</th>\n",
       "      <td>{'immunity': True, 'important': True, 'fight':...</td>\n",
       "      <td>0</td>\n",
       "      <td>immunity is important in the fight against cor...</td>\n",
       "    </tr>\n",
       "  </tbody>\n",
       "</table>\n",
       "</div>"
      ],
      "text/plain": [
       "                                                tokens Label  \\\n",
       "15   {'two': True, 'oxford': True, 'professor': Tru...     1   \n",
       "169  {'read': True, 'fake': True, 'news': True, 'wh...     1   \n",
       "133  {'still': True, 'fight': True, 'pandemic': Tru...     0   \n",
       "168  {'everyone': True, 'flu': True, 'shot': True, ...     1   \n",
       "131  {'immunity': True, 'important': True, 'fight':...     0   \n",
       "\n",
       "                                                  Text  \n",
       "15   two oxford professors and one at dundee have s...  \n",
       "169  read that some fake news whatsapp forward talk...  \n",
       "133  we are still fighting a pandemic. and covid-19...  \n",
       "168  everyone that had a flu shot will test positiv...  \n",
       "131  immunity is important in the fight against cor...  "
      ]
     },
     "execution_count": 200,
     "metadata": {},
     "output_type": "execute_result"
    }
   ],
   "source": [
    "merge_tweets_data.head(5)"
   ]
  },
  {
   "cell_type": "code",
   "execution_count": 205,
   "metadata": {},
   "outputs": [
    {
     "name": "stderr",
     "output_type": "stream",
     "text": [
      "<ipython-input-205-05fb8173106e>:6: SettingWithCopyWarning: \n",
      "A value is trying to be set on a copy of a slice from a DataFrame.\n",
      "Try using .loc[row_indexer,col_indexer] = value instead\n",
      "\n",
      "See the caveats in the documentation: https://pandas.pydata.org/pandas-docs/stable/user_guide/indexing.html#returning-a-view-versus-a-copy\n",
      "  merge_tweets_data['Text_Clean'] = merge_tweets_data['Text'].apply(lambda x: remove_punct(x))\n"
     ]
    }
   ],
   "source": [
    "def remove_punct(text):\n",
    "    text_nopunct = ''\n",
    "    text_nopunct = re.sub('['+string.punctuation+']', '', text)\n",
    "    return text_nopunct\n",
    "\n",
    "merge_tweets_data['Text_Clean'] = merge_tweets_data['Text'].apply(lambda x: remove_punct(x))"
   ]
  },
  {
   "cell_type": "code",
   "execution_count": 264,
   "metadata": {},
   "outputs": [
    {
     "data": {
      "text/html": [
       "<div>\n",
       "<style scoped>\n",
       "    .dataframe tbody tr th:only-of-type {\n",
       "        vertical-align: middle;\n",
       "    }\n",
       "\n",
       "    .dataframe tbody tr th {\n",
       "        vertical-align: top;\n",
       "    }\n",
       "\n",
       "    .dataframe thead th {\n",
       "        text-align: right;\n",
       "    }\n",
       "</style>\n",
       "<table border=\"1\" class=\"dataframe\">\n",
       "  <thead>\n",
       "    <tr style=\"text-align: right;\">\n",
       "      <th></th>\n",
       "      <th>tokens</th>\n",
       "      <th>Label</th>\n",
       "      <th>Text</th>\n",
       "      <th>Text_Clean</th>\n",
       "      <th>Text_Final</th>\n",
       "      <th>true_label</th>\n",
       "      <th>misinfo_label</th>\n",
       "    </tr>\n",
       "  </thead>\n",
       "  <tbody>\n",
       "    <tr>\n",
       "      <th>15</th>\n",
       "      <td>{'two': True, 'oxford': True, 'professor': Tru...</td>\n",
       "      <td>1</td>\n",
       "      <td>two oxford professors and one at dundee have s...</td>\n",
       "      <td>two oxford professors and one at dundee have s...</td>\n",
       "      <td>two oxford professors one dundee scientific ev...</td>\n",
       "      <td>0</td>\n",
       "      <td>1</td>\n",
       "    </tr>\n",
       "    <tr>\n",
       "      <th>169</th>\n",
       "      <td>{'read': True, 'fake': True, 'news': True, 'wh...</td>\n",
       "      <td>1</td>\n",
       "      <td>read that some fake news whatsapp forward talk...</td>\n",
       "      <td>read that some fake news whatsapp forward talk...</td>\n",
       "      <td>read fake news whatsapp forward talks drinking...</td>\n",
       "      <td>0</td>\n",
       "      <td>1</td>\n",
       "    </tr>\n",
       "    <tr>\n",
       "      <th>133</th>\n",
       "      <td>{'still': True, 'fight': True, 'pandemic': Tru...</td>\n",
       "      <td>0</td>\n",
       "      <td>we are still fighting a pandemic. and covid-19...</td>\n",
       "      <td>we are still fighting a pandemic and covid19 i...</td>\n",
       "      <td>still fighting pandemic fighting back 🚨 practi...</td>\n",
       "      <td>1</td>\n",
       "      <td>0</td>\n",
       "    </tr>\n",
       "    <tr>\n",
       "      <th>168</th>\n",
       "      <td>{'everyone': True, 'flu': True, 'shot': True, ...</td>\n",
       "      <td>1</td>\n",
       "      <td>everyone that had a flu shot will test positiv...</td>\n",
       "      <td>everyone that had a flu shot will test positiv...</td>\n",
       "      <td>everyone flu shot test positive virusjust sayi...</td>\n",
       "      <td>0</td>\n",
       "      <td>1</td>\n",
       "    </tr>\n",
       "    <tr>\n",
       "      <th>131</th>\n",
       "      <td>{'immunity': True, 'important': True, 'fight':...</td>\n",
       "      <td>0</td>\n",
       "      <td>immunity is important in the fight against cor...</td>\n",
       "      <td>immunity is important in the fight against cor...</td>\n",
       "      <td>immunity important fight against ayurveda comp...</td>\n",
       "      <td>1</td>\n",
       "      <td>0</td>\n",
       "    </tr>\n",
       "  </tbody>\n",
       "</table>\n",
       "</div>"
      ],
      "text/plain": [
       "                                                tokens  Label  \\\n",
       "15   {'two': True, 'oxford': True, 'professor': Tru...      1   \n",
       "169  {'read': True, 'fake': True, 'news': True, 'wh...      1   \n",
       "133  {'still': True, 'fight': True, 'pandemic': Tru...      0   \n",
       "168  {'everyone': True, 'flu': True, 'shot': True, ...      1   \n",
       "131  {'immunity': True, 'important': True, 'fight':...      0   \n",
       "\n",
       "                                                  Text  \\\n",
       "15   two oxford professors and one at dundee have s...   \n",
       "169  read that some fake news whatsapp forward talk...   \n",
       "133  we are still fighting a pandemic. and covid-19...   \n",
       "168  everyone that had a flu shot will test positiv...   \n",
       "131  immunity is important in the fight against cor...   \n",
       "\n",
       "                                            Text_Clean  \\\n",
       "15   two oxford professors and one at dundee have s...   \n",
       "169  read that some fake news whatsapp forward talk...   \n",
       "133  we are still fighting a pandemic and covid19 i...   \n",
       "168  everyone that had a flu shot will test positiv...   \n",
       "131  immunity is important in the fight against cor...   \n",
       "\n",
       "                                            Text_Final  true_label  \\\n",
       "15   two oxford professors one dundee scientific ev...           0   \n",
       "169  read fake news whatsapp forward talks drinking...           0   \n",
       "133  still fighting pandemic fighting back 🚨 practi...           1   \n",
       "168  everyone flu shot test positive virusjust sayi...           0   \n",
       "131  immunity important fight against ayurveda comp...           1   \n",
       "\n",
       "     misinfo_label  \n",
       "15               1  \n",
       "169              1  \n",
       "133              0  \n",
       "168              1  \n",
       "131              0  "
      ]
     },
     "execution_count": 264,
     "metadata": {},
     "output_type": "execute_result"
    }
   ],
   "source": [
    "merge_tweets_data.head(5)"
   ]
  },
  {
   "cell_type": "code",
   "execution_count": null,
   "metadata": {},
   "outputs": [],
   "source": [
    "# preprocessing for true / misinfo label creation "
   ]
  },
  {
   "cell_type": "code",
   "execution_count": 249,
   "metadata": {},
   "outputs": [],
   "source": [
    "merge_tweets_data['Label'] = merge_tweets_data['Label'].astype(int)"
   ]
  },
  {
   "cell_type": "code",
   "execution_count": 250,
   "metadata": {},
   "outputs": [],
   "source": [
    "\n",
    "true_label = []\n",
    "misinfo_label = []\n",
    "for l in merge_tweets_data.Label:\n",
    "    if l == 0:\n",
    "        true_label.append(1)\n",
    "        misinfo_label.append(0)\n",
    "    elif l == 1:\n",
    "        true_label.append(0)\n",
    "        misinfo_label.append(1)"
   ]
  },
  {
   "cell_type": "code",
   "execution_count": 251,
   "metadata": {},
   "outputs": [],
   "source": [
    "\n",
    "merge_tweets_data['true_label']= true_label\n",
    "merge_tweets_data['misinfo_label']= misinfo_label"
   ]
  },
  {
   "cell_type": "code",
   "execution_count": null,
   "metadata": {},
   "outputs": [],
   "source": []
  },
  {
   "cell_type": "code",
   "execution_count": 217,
   "metadata": {},
   "outputs": [],
   "source": [
    "\n",
    "from nltk import word_tokenize, WordNetLemmatizer\n",
    "tokens = [word_tokenize(sen) for sen in merge_tweets_data.Text_Clean]"
   ]
  },
  {
   "cell_type": "code",
   "execution_count": 218,
   "metadata": {},
   "outputs": [],
   "source": [
    "def lower_token(tokens): \n",
    "    return [w.lower() for w in tokens]    \n",
    "    \n",
    "lower_tokens = [lower_token(token) for token in tokens]"
   ]
  },
  {
   "cell_type": "code",
   "execution_count": 219,
   "metadata": {},
   "outputs": [],
   "source": [
    "\n",
    "def remove_stop_words(tokens): \n",
    "    return [word for word in tokens if word not in our_stop_words]"
   ]
  },
  {
   "cell_type": "code",
   "execution_count": 210,
   "metadata": {},
   "outputs": [],
   "source": [
    "#from nltk import word_tokenize, WordNetLemmatizer\n",
    "#tokens = [word_tokenize(sen) for sen in merge_tweets_data.Text_Clean]"
   ]
  },
  {
   "cell_type": "code",
   "execution_count": null,
   "metadata": {},
   "outputs": [],
   "source": []
  },
  {
   "cell_type": "code",
   "execution_count": 220,
   "metadata": {},
   "outputs": [],
   "source": [
    "filtered_words = [remove_stop_words(sen) for sen in lower_tokens]"
   ]
  },
  {
   "cell_type": "code",
   "execution_count": 213,
   "metadata": {},
   "outputs": [
    {
     "data": {
      "text/plain": [
       "12"
      ]
     },
     "execution_count": 213,
     "metadata": {},
     "output_type": "execute_result"
    }
   ],
   "source": [
    "len(filtered_words)"
   ]
  },
  {
   "cell_type": "code",
   "execution_count": 221,
   "metadata": {},
   "outputs": [],
   "source": [
    "result = [' '.join(sen) for sen in filtered_words]"
   ]
  },
  {
   "cell_type": "code",
   "execution_count": 222,
   "metadata": {},
   "outputs": [
    {
     "name": "stderr",
     "output_type": "stream",
     "text": [
      "<ipython-input-222-83b2d4933e1c>:1: SettingWithCopyWarning: \n",
      "A value is trying to be set on a copy of a slice from a DataFrame.\n",
      "Try using .loc[row_indexer,col_indexer] = value instead\n",
      "\n",
      "See the caveats in the documentation: https://pandas.pydata.org/pandas-docs/stable/user_guide/indexing.html#returning-a-view-versus-a-copy\n",
      "  merge_tweets_data['Text_Final'] = result\n"
     ]
    }
   ],
   "source": [
    "merge_tweets_data['Text_Final'] = result"
   ]
  },
  {
   "cell_type": "markdown",
   "metadata": {},
   "source": [
    "# Training Testing split"
   ]
  },
  {
   "cell_type": "code",
   "execution_count": 265,
   "metadata": {},
   "outputs": [],
   "source": [
    "data_train, data_test = train_test_split(merge_tweets_data, test_size=0.20, random_state=42)"
   ]
  },
  {
   "cell_type": "code",
   "execution_count": 266,
   "metadata": {},
   "outputs": [
    {
     "name": "stdout",
     "output_type": "stream",
     "text": [
      "5376 words total, with a vocabulary size of 2289\n",
      "Max sentence length is 33\n"
     ]
    }
   ],
   "source": [
    "all_training_words = [word for tokens in data_train[\"tokens\"] for word in tokens]\n",
    "training_sentence_lengths = [len(tokens) for tokens in data_train[\"tokens\"]]\n",
    "TRAINING_VOCAB = sorted(list(set(all_training_words)))\n",
    "print(\"%s words total, with a vocabulary size of %s\" % (len(all_training_words), len(TRAINING_VOCAB)))\n",
    "print(\"Max sentence length is %s\" % max(training_sentence_lengths))"
   ]
  },
  {
   "cell_type": "code",
   "execution_count": 267,
   "metadata": {},
   "outputs": [
    {
     "name": "stdout",
     "output_type": "stream",
     "text": [
      "1341 words total, with a vocabulary size of 820\n",
      "Max sentence length is 28\n"
     ]
    }
   ],
   "source": [
    "all_test_words = [word for tokens in data_test[\"tokens\"] for word in tokens]\n",
    "test_sentence_lengths = [len(tokens) for tokens in data_test[\"tokens\"]]\n",
    "TEST_VOCAB = sorted(list(set(all_test_words)))\n",
    "print(\"%s words total, with a vocabulary size of %s\" % (len(all_test_words), len(TEST_VOCAB)))\n",
    "print(\"Max sentence length is %s\" % max(test_sentence_lengths))"
   ]
  },
  {
   "cell_type": "code",
   "execution_count": 228,
   "metadata": {},
   "outputs": [],
   "source": [
    "word2vec_path = 'GoogleNews-vectors-negative300.bin.gz'\n",
    "word2vec = models.KeyedVectors.load_word2vec_format(word2vec_path, binary=True)"
   ]
  },
  {
   "cell_type": "code",
   "execution_count": 269,
   "metadata": {},
   "outputs": [],
   "source": [
    "def get_average_word2vec(tokens_list, vector, generate_missing=False, k=300):\n",
    "    if len(tokens_list)<1:\n",
    "        return np.zeros(k)\n",
    "    if generate_missing:\n",
    "        vectorized = [vector[word] if word in vector else np.random.rand(k) for word in tokens_list]\n",
    "    else:\n",
    "        vectorized = [vector[word] if word in vector else np.zeros(k) for word in tokens_list]\n",
    "    length = len(vectorized)\n",
    "    summed = np.sum(vectorized, axis=0)\n",
    "    averaged = np.divide(summed, length)\n",
    "    return averaged\n",
    "\n",
    "def get_word2vec_embeddings(vectors, clean_comments, generate_missing=False):\n",
    "    embeddings = clean_comments['tokens'].apply(lambda x: get_average_word2vec(x, vectors, \n",
    "                                                                                generate_missing=generate_missing))\n",
    "    return list(embeddings)"
   ]
  },
  {
   "cell_type": "markdown",
   "metadata": {},
   "source": [
    "# get embeddings"
   ]
  },
  {
   "cell_type": "code",
   "execution_count": 270,
   "metadata": {},
   "outputs": [],
   "source": [
    "training_embeddings = get_word2vec_embeddings(word2vec, data_train, generate_missing=True)"
   ]
  },
  {
   "cell_type": "code",
   "execution_count": 271,
   "metadata": {},
   "outputs": [],
   "source": [
    "MAX_SEQUENCE_LENGTH = 50\n",
    "EMBEDDING_DIM = 300"
   ]
  },
  {
   "cell_type": "markdown",
   "metadata": {},
   "source": [
    "# tokenizing and padding sequence"
   ]
  },
  {
   "cell_type": "code",
   "execution_count": 272,
   "metadata": {},
   "outputs": [
    {
     "name": "stdout",
     "output_type": "stream",
     "text": [
      "Found 2580 unique tokens.\n"
     ]
    }
   ],
   "source": [
    "tokenizer = Tokenizer(num_words=len(TRAINING_VOCAB), lower=True, char_level=False)\n",
    "tokenizer.fit_on_texts(data_train[\"Text_Final\"].tolist())\n",
    "training_sequences = tokenizer.texts_to_sequences(data_train[\"Text_Final\"].tolist())\n",
    "\n",
    "train_word_index = tokenizer.word_index\n",
    "print('Found %s unique tokens.' % len(train_word_index))"
   ]
  },
  {
   "cell_type": "code",
   "execution_count": 273,
   "metadata": {},
   "outputs": [],
   "source": [
    "train_cnn_data = pad_sequences(training_sequences, maxlen=MAX_SEQUENCE_LENGTH)"
   ]
  },
  {
   "cell_type": "code",
   "execution_count": 274,
   "metadata": {},
   "outputs": [
    {
     "name": "stdout",
     "output_type": "stream",
     "text": [
      "(2581, 300)\n"
     ]
    }
   ],
   "source": [
    "train_embedding_weights = np.zeros((len(train_word_index)+1, EMBEDDING_DIM))\n",
    "for word,index in train_word_index.items():\n",
    "    train_embedding_weights[index,:] = word2vec[word] if word in word2vec else np.random.rand(EMBEDDING_DIM)\n",
    "print(train_embedding_weights.shape)"
   ]
  },
  {
   "cell_type": "code",
   "execution_count": 275,
   "metadata": {},
   "outputs": [],
   "source": [
    "test_sequences = tokenizer.texts_to_sequences(data_test[\"Text_Final\"].tolist())\n",
    "test_cnn_data = pad_sequences(test_sequences, maxlen=MAX_SEQUENCE_LENGTH)"
   ]
  },
  {
   "cell_type": "markdown",
   "metadata": {},
   "source": [
    "# define CNN"
   ]
  },
  {
   "cell_type": "code",
   "execution_count": 276,
   "metadata": {},
   "outputs": [],
   "source": [
    "def ConvNet(embeddings, max_sequence_length, num_words, embedding_dim, labels_index):\n",
    "    \n",
    "    embedding_layer = Embedding(num_words,\n",
    "                            embedding_dim,\n",
    "                            weights=[embeddings],\n",
    "                            input_length=max_sequence_length,\n",
    "                            trainable=False)\n",
    "    \n",
    "    sequence_input = Input(shape=(max_sequence_length,), dtype='int32')\n",
    "    embedded_sequences = embedding_layer(sequence_input)\n",
    "\n",
    "    convs = []\n",
    "    filter_sizes = [2,3,4,5,6]\n",
    "\n",
    "    for filter_size in filter_sizes:\n",
    "        l_conv = Conv1D(filters=200, kernel_size=filter_size, activation='relu')(embedded_sequences)\n",
    "        l_pool = GlobalMaxPooling1D()(l_conv)\n",
    "        convs.append(l_pool)\n",
    "\n",
    "\n",
    "    l_merge = concatenate(convs, axis=1)\n",
    "\n",
    "    x = Dropout(0.1)(l_merge)  \n",
    "    x = Dense(128, activation='relu')(x)\n",
    "    x = Dropout(0.2)(x)\n",
    "    preds = Dense(labels_index, activation='sigmoid')(x)\n",
    "\n",
    "    model = Model(sequence_input, preds)\n",
    "    model.compile(loss='binary_crossentropy',\n",
    "                  optimizer='adam',\n",
    "                  metrics=['acc'])\n",
    "    model.summary()\n",
    "    return model\n"
   ]
  },
  {
   "cell_type": "code",
   "execution_count": 245,
   "metadata": {},
   "outputs": [],
   "source": [
    "#merge_tweets_data['true_label'] = merge_tweets_data['true_label'].astype(int)"
   ]
  },
  {
   "cell_type": "code",
   "execution_count": 246,
   "metadata": {},
   "outputs": [],
   "source": [
    "#merge_tweets_data['misinfo_label'] = merge_tweets_data['misinfo_label'].astype(int)"
   ]
  },
  {
   "cell_type": "code",
   "execution_count": 277,
   "metadata": {},
   "outputs": [],
   "source": [
    "label_names = ['true_label', 'misinfo_label'] "
   ]
  },
  {
   "cell_type": "code",
   "execution_count": 278,
   "metadata": {},
   "outputs": [],
   "source": [
    "y_train = data_train[label_names].values"
   ]
  },
  {
   "cell_type": "code",
   "execution_count": 279,
   "metadata": {},
   "outputs": [],
   "source": [
    "\n",
    "x_train = train_cnn_data\n",
    "y_tr = y_train"
   ]
  },
  {
   "cell_type": "code",
   "execution_count": 300,
   "metadata": {},
   "outputs": [
    {
     "name": "stdout",
     "output_type": "stream",
     "text": [
      "Model: \"functional_5\"\n",
      "__________________________________________________________________________________________________\n",
      "Layer (type)                    Output Shape         Param #     Connected to                     \n",
      "==================================================================================================\n",
      "input_3 (InputLayer)            [(None, 50)]         0                                            \n",
      "__________________________________________________________________________________________________\n",
      "embedding_2 (Embedding)         (None, 50, 300)      774300      input_3[0][0]                    \n",
      "__________________________________________________________________________________________________\n",
      "conv1d_5 (Conv1D)               (None, 49, 200)      120200      embedding_2[0][0]                \n",
      "__________________________________________________________________________________________________\n",
      "conv1d_6 (Conv1D)               (None, 48, 200)      180200      embedding_2[0][0]                \n",
      "__________________________________________________________________________________________________\n",
      "conv1d_7 (Conv1D)               (None, 47, 200)      240200      embedding_2[0][0]                \n",
      "__________________________________________________________________________________________________\n",
      "conv1d_8 (Conv1D)               (None, 46, 200)      300200      embedding_2[0][0]                \n",
      "__________________________________________________________________________________________________\n",
      "conv1d_9 (Conv1D)               (None, 45, 200)      360200      embedding_2[0][0]                \n",
      "__________________________________________________________________________________________________\n",
      "global_max_pooling1d_5 (GlobalM (None, 200)          0           conv1d_5[0][0]                   \n",
      "__________________________________________________________________________________________________\n",
      "global_max_pooling1d_6 (GlobalM (None, 200)          0           conv1d_6[0][0]                   \n",
      "__________________________________________________________________________________________________\n",
      "global_max_pooling1d_7 (GlobalM (None, 200)          0           conv1d_7[0][0]                   \n",
      "__________________________________________________________________________________________________\n",
      "global_max_pooling1d_8 (GlobalM (None, 200)          0           conv1d_8[0][0]                   \n",
      "__________________________________________________________________________________________________\n",
      "global_max_pooling1d_9 (GlobalM (None, 200)          0           conv1d_9[0][0]                   \n",
      "__________________________________________________________________________________________________\n",
      "concatenate_1 (Concatenate)     (None, 1000)         0           global_max_pooling1d_5[0][0]     \n",
      "                                                                 global_max_pooling1d_6[0][0]     \n",
      "                                                                 global_max_pooling1d_7[0][0]     \n",
      "                                                                 global_max_pooling1d_8[0][0]     \n",
      "                                                                 global_max_pooling1d_9[0][0]     \n",
      "__________________________________________________________________________________________________\n",
      "dropout_3 (Dropout)             (None, 1000)         0           concatenate_1[0][0]              \n",
      "__________________________________________________________________________________________________\n",
      "dense_4 (Dense)                 (None, 128)          128128      dropout_3[0][0]                  \n",
      "__________________________________________________________________________________________________\n",
      "dropout_4 (Dropout)             (None, 128)          0           dense_4[0][0]                    \n",
      "__________________________________________________________________________________________________\n",
      "dense_5 (Dense)                 (None, 2)            258         dropout_4[0][0]                  \n",
      "==================================================================================================\n",
      "Total params: 2,103,686\n",
      "Trainable params: 1,329,386\n",
      "Non-trainable params: 774,300\n",
      "__________________________________________________________________________________________________\n"
     ]
    }
   ],
   "source": [
    "model_cnn = ConvNet(train_embedding_weights, MAX_SEQUENCE_LENGTH, len(train_word_index)+1, EMBEDDING_DIM, \n",
    "                len(list(label_names)))"
   ]
  },
  {
   "cell_type": "markdown",
   "metadata": {},
   "source": [
    "# Train CNN"
   ]
  },
  {
   "cell_type": "code",
   "execution_count": 301,
   "metadata": {},
   "outputs": [],
   "source": [
    "num_epochs = 3\n",
    "batch_size = 34"
   ]
  },
  {
   "cell_type": "code",
   "execution_count": 302,
   "metadata": {},
   "outputs": [
    {
     "name": "stdout",
     "output_type": "stream",
     "text": [
      "Epoch 1/3\n",
      "12/12 [==============================] - 1s 48ms/step - loss: 0.7700 - acc: 0.5794 - val_loss: 0.6777 - val_acc: 0.6667\n",
      "Epoch 2/3\n",
      "12/12 [==============================] - 0s 34ms/step - loss: 0.5718 - acc: 0.7249 - val_loss: 0.6634 - val_acc: 0.6667\n",
      "Epoch 3/3\n",
      "12/12 [==============================] - 0s 39ms/step - loss: 0.4606 - acc: 0.8228 - val_loss: 0.5845 - val_acc: 0.6667\n"
     ]
    }
   ],
   "source": [
    "hist_cnn = model_cnn.fit(x_train, y_tr, epochs=num_epochs, validation_split=0.1, shuffle=True, batch_size=batch_size)"
   ]
  },
  {
   "cell_type": "markdown",
   "metadata": {},
   "source": [
    "# Test CNN"
   ]
  },
  {
   "cell_type": "code",
   "execution_count": 303,
   "metadata": {},
   "outputs": [
    {
     "name": "stdout",
     "output_type": "stream",
     "text": [
      "1/1 [==============================] - 0s 993us/step\n"
     ]
    }
   ],
   "source": [
    "predictions_cnn = model_cnn.predict(test_cnn_data, batch_size=1024, verbose=1)"
   ]
  },
  {
   "cell_type": "code",
   "execution_count": 304,
   "metadata": {},
   "outputs": [],
   "source": [
    "\n",
    "labels = [0, 1]"
   ]
  },
  {
   "cell_type": "code",
   "execution_count": 305,
   "metadata": {},
   "outputs": [],
   "source": [
    "prediction_labels=[]\n",
    "for p in predictions_cnn:\n",
    "    prediction_labels.append(labels[np.argmax(p)])"
   ]
  },
  {
   "cell_type": "code",
   "execution_count": 306,
   "metadata": {},
   "outputs": [
    {
     "data": {
      "text/plain": [
       "0.638095238095238"
      ]
     },
     "execution_count": 306,
     "metadata": {},
     "output_type": "execute_result"
    }
   ],
   "source": [
    "sum(data_test.Label==prediction_labels)/len(prediction_labels)"
   ]
  },
  {
   "cell_type": "code",
   "execution_count": 308,
   "metadata": {},
   "outputs": [
    {
     "data": {
      "text/plain": [
       "0    56\n",
       "1    49\n",
       "Name: Label, dtype: int64"
      ]
     },
     "execution_count": 308,
     "metadata": {},
     "output_type": "execute_result"
    }
   ],
   "source": [
    "data_test.Label.value_counts()"
   ]
  },
  {
   "cell_type": "markdown",
   "metadata": {},
   "source": [
    "# RNN/LSTM"
   ]
  },
  {
   "cell_type": "code",
   "execution_count": 309,
   "metadata": {},
   "outputs": [],
   "source": [
    "def recurrent_nn(embeddings, max_sequence_length, num_words, embedding_dim, labels_index):\n",
    "    \n",
    "    embedding_layer = Embedding(num_words,\n",
    "                            embedding_dim,\n",
    "                            weights=[embeddings],\n",
    "                            input_length=max_sequence_length,\n",
    "                            trainable=False)\n",
    "    \n",
    "    sequence_input = Input(shape=(max_sequence_length,), dtype='int32')\n",
    "    embedded_sequences = embedding_layer(sequence_input)\n",
    "\n",
    "#     lstm = LSTM(256, dropout=0.2, recurrent_dropout=0.2, return_sequences=True)(embedded_sequences)\n",
    "    lstm = LSTM(256)(embedded_sequences)\n",
    "    \n",
    "    x = Dense(128, activation='relu')(lstm)\n",
    "    x = Dropout(0.2)(x)\n",
    "    preds = Dense(labels_index, activation='sigmoid')(x)\n",
    "\n",
    "    model = Model(sequence_input, preds)\n",
    "    model.compile(loss='binary_crossentropy',\n",
    "                  optimizer='adam',\n",
    "                  metrics=['acc'])\n",
    "    model.summary()\n",
    "    return model"
   ]
  },
  {
   "cell_type": "code",
   "execution_count": 310,
   "metadata": {},
   "outputs": [
    {
     "name": "stdout",
     "output_type": "stream",
     "text": [
      "Model: \"functional_7\"\n",
      "_________________________________________________________________\n",
      "Layer (type)                 Output Shape              Param #   \n",
      "=================================================================\n",
      "input_4 (InputLayer)         [(None, 50)]              0         \n",
      "_________________________________________________________________\n",
      "embedding_3 (Embedding)      (None, 50, 300)           774300    \n",
      "_________________________________________________________________\n",
      "lstm_1 (LSTM)                (None, 256)               570368    \n",
      "_________________________________________________________________\n",
      "dense_6 (Dense)              (None, 128)               32896     \n",
      "_________________________________________________________________\n",
      "dropout_5 (Dropout)          (None, 128)               0         \n",
      "_________________________________________________________________\n",
      "dense_7 (Dense)              (None, 2)                 258       \n",
      "=================================================================\n",
      "Total params: 1,377,822\n",
      "Trainable params: 603,522\n",
      "Non-trainable params: 774,300\n",
      "_________________________________________________________________\n"
     ]
    }
   ],
   "source": [
    "\n",
    "model_rnn = recurrent_nn(train_embedding_weights, MAX_SEQUENCE_LENGTH, len(train_word_index)+1, EMBEDDING_DIM, \n",
    "                len(list(label_names)))"
   ]
  },
  {
   "cell_type": "markdown",
   "metadata": {},
   "source": [
    "# Train LSTM"
   ]
  },
  {
   "cell_type": "code",
   "execution_count": 311,
   "metadata": {},
   "outputs": [],
   "source": [
    "\n",
    "num_epochs = 5\n",
    "batch_size = 34"
   ]
  },
  {
   "cell_type": "code",
   "execution_count": 312,
   "metadata": {},
   "outputs": [
    {
     "name": "stdout",
     "output_type": "stream",
     "text": [
      "Epoch 1/5\n",
      "12/12 [==============================] - 1s 122ms/step - loss: 0.6687 - acc: 0.5899 - val_loss: 0.6743 - val_acc: 0.7143\n",
      "Epoch 2/5\n",
      "12/12 [==============================] - 1s 84ms/step - loss: 0.6558 - acc: 0.6402 - val_loss: 0.6628 - val_acc: 0.5952\n",
      "Epoch 3/5\n",
      "12/12 [==============================] - 1s 81ms/step - loss: 0.5966 - acc: 0.7196 - val_loss: 0.7178 - val_acc: 0.6190\n",
      "Epoch 4/5\n",
      "12/12 [==============================] - 1s 92ms/step - loss: 0.5744 - acc: 0.7275 - val_loss: 0.6281 - val_acc: 0.6667\n",
      "Epoch 5/5\n",
      "12/12 [==============================] - 1s 86ms/step - loss: 0.5057 - acc: 0.7381 - val_loss: 0.5644 - val_acc: 0.7857\n"
     ]
    }
   ],
   "source": [
    "hist = model_rnn.fit(x_train, y_tr, epochs=num_epochs, validation_split=0.1, shuffle=True, batch_size=batch_size)"
   ]
  },
  {
   "cell_type": "markdown",
   "metadata": {},
   "source": [
    "# Test LSTM"
   ]
  },
  {
   "cell_type": "code",
   "execution_count": 313,
   "metadata": {},
   "outputs": [
    {
     "name": "stdout",
     "output_type": "stream",
     "text": [
      "1/1 [==============================] - 0s 1ms/step\n"
     ]
    }
   ],
   "source": [
    "predictions_lstm = model_rnn.predict(test_cnn_data, batch_size=1024, verbose=1)"
   ]
  },
  {
   "cell_type": "code",
   "execution_count": 314,
   "metadata": {},
   "outputs": [],
   "source": [
    "labels = [0, 1]"
   ]
  },
  {
   "cell_type": "code",
   "execution_count": 315,
   "metadata": {},
   "outputs": [],
   "source": [
    "prediction_labels=[]\n",
    "for p in predictions_lstm:\n",
    "    prediction_labels.append(labels[np.argmax(p)])"
   ]
  },
  {
   "cell_type": "code",
   "execution_count": 316,
   "metadata": {},
   "outputs": [
    {
     "data": {
      "text/plain": [
       "0.6476190476190476"
      ]
     },
     "execution_count": 316,
     "metadata": {},
     "output_type": "execute_result"
    }
   ],
   "source": [
    "\n",
    "sum(data_test.Label==prediction_labels)/len(prediction_labels)"
   ]
  },
  {
   "cell_type": "code",
   "execution_count": null,
   "metadata": {},
   "outputs": [],
   "source": []
  },
  {
   "cell_type": "code",
   "execution_count": null,
   "metadata": {},
   "outputs": [],
   "source": []
  },
  {
   "cell_type": "code",
   "execution_count": null,
   "metadata": {},
   "outputs": [],
   "source": []
  },
  {
   "cell_type": "code",
   "execution_count": null,
   "metadata": {},
   "outputs": [],
   "source": []
  },
  {
   "cell_type": "code",
   "execution_count": null,
   "metadata": {},
   "outputs": [],
   "source": []
  },
  {
   "cell_type": "code",
   "execution_count": 25,
   "metadata": {},
   "outputs": [
    {
     "data": {
      "text/plain": [
       "({'scientist': True,\n",
       "  'medical': True,\n",
       "  'researcher': True,\n",
       "  'work': True,\n",
       "  'find': True,\n",
       "  'vaccine': True,\n",
       "  'against': True,\n",
       "  'virus': True,\n",
       "  'until': True,\n",
       "  'stop': True},\n",
       " '0')"
      ]
     },
     "execution_count": 25,
     "metadata": {},
     "output_type": "execute_result"
    }
   ],
   "source": [
    "true_tweet_dataset[1]"
   ]
  },
  {
   "cell_type": "code",
   "execution_count": 26,
   "metadata": {},
   "outputs": [
    {
     "data": {
      "text/plain": [
       "314"
      ]
     },
     "execution_count": 26,
     "metadata": {},
     "output_type": "execute_result"
    }
   ],
   "source": [
    "len(true_tweet_dataset)"
   ]
  },
  {
   "cell_type": "code",
   "execution_count": 112,
   "metadata": {},
   "outputs": [],
   "source": [
    "\n",
    "train_data = Merge_dataset[:421]\n",
    "test_data = Merge_dataset[422:]\n"
   ]
  },
  {
   "cell_type": "code",
   "execution_count": 115,
   "metadata": {},
   "outputs": [],
   "source": [
    "training_df = pd.DataFrame(train_data, columns=['Text', 'Label'])"
   ]
  },
  {
   "cell_type": "code",
   "execution_count": 116,
   "metadata": {},
   "outputs": [
    {
     "data": {
      "text/html": [
       "<div>\n",
       "<style scoped>\n",
       "    .dataframe tbody tr th:only-of-type {\n",
       "        vertical-align: middle;\n",
       "    }\n",
       "\n",
       "    .dataframe tbody tr th {\n",
       "        vertical-align: top;\n",
       "    }\n",
       "\n",
       "    .dataframe thead th {\n",
       "        text-align: right;\n",
       "    }\n",
       "</style>\n",
       "<table border=\"1\" class=\"dataframe\">\n",
       "  <thead>\n",
       "    <tr style=\"text-align: right;\">\n",
       "      <th></th>\n",
       "      <th>Text</th>\n",
       "      <th>Label</th>\n",
       "    </tr>\n",
       "  </thead>\n",
       "  <tbody>\n",
       "    <tr>\n",
       "      <th>0</th>\n",
       "      <td>{'greaternoidawest': True, 'coronavirusindia':...</td>\n",
       "      <td>0</td>\n",
       "    </tr>\n",
       "    <tr>\n",
       "      <th>1</th>\n",
       "      <td>{'worldwide': True, 'pandemic': True, 'cause':...</td>\n",
       "      <td>0</td>\n",
       "    </tr>\n",
       "    <tr>\n",
       "      <th>2</th>\n",
       "      <td>{'follow': True, 'social': True, 'distancing':...</td>\n",
       "      <td>0</td>\n",
       "    </tr>\n",
       "    <tr>\n",
       "      <th>3</th>\n",
       "      <td>{'roque': True, 'implementation': True, 'lockd...</td>\n",
       "      <td>0</td>\n",
       "    </tr>\n",
       "  </tbody>\n",
       "</table>\n",
       "</div>"
      ],
      "text/plain": [
       "                                                Text Label\n",
       "0  {'greaternoidawest': True, 'coronavirusindia':...     0\n",
       "1  {'worldwide': True, 'pandemic': True, 'cause':...     0\n",
       "2  {'follow': True, 'social': True, 'distancing':...     0\n",
       "3  {'roque': True, 'implementation': True, 'lockd...     0"
      ]
     },
     "execution_count": 116,
     "metadata": {},
     "output_type": "execute_result"
    }
   ],
   "source": [
    "training_df.head(4)"
   ]
  },
  {
   "cell_type": "code",
   "execution_count": 123,
   "metadata": {},
   "outputs": [
    {
     "data": {
      "text/html": [
       "<div>\n",
       "<style scoped>\n",
       "    .dataframe tbody tr th:only-of-type {\n",
       "        vertical-align: middle;\n",
       "    }\n",
       "\n",
       "    .dataframe tbody tr th {\n",
       "        vertical-align: top;\n",
       "    }\n",
       "\n",
       "    .dataframe thead th {\n",
       "        text-align: right;\n",
       "    }\n",
       "</style>\n",
       "<table border=\"1\" class=\"dataframe\">\n",
       "  <thead>\n",
       "    <tr style=\"text-align: right;\">\n",
       "      <th></th>\n",
       "      <th>Text</th>\n",
       "      <th>Label</th>\n",
       "    </tr>\n",
       "  </thead>\n",
       "  <tbody>\n",
       "    <tr>\n",
       "      <th>329</th>\n",
       "      <td>{'37': True, 'virus-infected': True, 'patient'...</td>\n",
       "      <td>0</td>\n",
       "    </tr>\n",
       "    <tr>\n",
       "      <th>179</th>\n",
       "      <td>{'one': True, 'nova': True, 'health': True, 'c...</td>\n",
       "      <td>0</td>\n",
       "    </tr>\n",
       "    <tr>\n",
       "      <th>174</th>\n",
       "      <td>{'pandemic': True, 'teach': True, 'everyone': ...</td>\n",
       "      <td>0</td>\n",
       "    </tr>\n",
       "    <tr>\n",
       "      <th>402</th>\n",
       "      <td>{'wear': True, 'mask': True, 'please': True}</td>\n",
       "      <td>0</td>\n",
       "    </tr>\n",
       "    <tr>\n",
       "      <th>286</th>\n",
       "      <td>{'two': True, 'oxford': True, 'professor': Tru...</td>\n",
       "      <td>1</td>\n",
       "    </tr>\n",
       "    <tr>\n",
       "      <th>...</th>\n",
       "      <td>...</td>\n",
       "      <td>...</td>\n",
       "    </tr>\n",
       "    <tr>\n",
       "      <th>17</th>\n",
       "      <td>{'number': True, 'japanese': True, 'antibody':...</td>\n",
       "      <td>0</td>\n",
       "    </tr>\n",
       "    <tr>\n",
       "      <th>178</th>\n",
       "      <td>{'case': True, 'rise': True, 'rapidly': True, ...</td>\n",
       "      <td>0</td>\n",
       "    </tr>\n",
       "    <tr>\n",
       "      <th>189</th>\n",
       "      <td>{'social': True, 'distance': True, 'very': Tru...</td>\n",
       "      <td>0</td>\n",
       "    </tr>\n",
       "    <tr>\n",
       "      <th>4</th>\n",
       "      <td>{'hydroxychloroquin': True, 'approve': True, '...</td>\n",
       "      <td>1</td>\n",
       "    </tr>\n",
       "    <tr>\n",
       "      <th>65</th>\n",
       "      <td>{'fda': True, 'pull': True, 'emergency': True,...</td>\n",
       "      <td>1</td>\n",
       "    </tr>\n",
       "  </tbody>\n",
       "</table>\n",
       "<p>421 rows × 2 columns</p>\n",
       "</div>"
      ],
      "text/plain": [
       "                                                  Text Label\n",
       "329  {'37': True, 'virus-infected': True, 'patient'...     0\n",
       "179  {'one': True, 'nova': True, 'health': True, 'c...     0\n",
       "174  {'pandemic': True, 'teach': True, 'everyone': ...     0\n",
       "402       {'wear': True, 'mask': True, 'please': True}     0\n",
       "286  {'two': True, 'oxford': True, 'professor': Tru...     1\n",
       "..                                                 ...   ...\n",
       "17   {'number': True, 'japanese': True, 'antibody':...     0\n",
       "178  {'case': True, 'rise': True, 'rapidly': True, ...     0\n",
       "189  {'social': True, 'distance': True, 'very': Tru...     0\n",
       "4    {'hydroxychloroquin': True, 'approve': True, '...     1\n",
       "65   {'fda': True, 'pull': True, 'emergency': True,...     1\n",
       "\n",
       "[421 rows x 2 columns]"
      ]
     },
     "execution_count": 123,
     "metadata": {},
     "output_type": "execute_result"
    }
   ],
   "source": [
    "sklearn.utils.shuffle(training_df)"
   ]
  },
  {
   "cell_type": "code",
   "execution_count": 124,
   "metadata": {},
   "outputs": [],
   "source": [
    "testing_df = pd.DataFrame(test_data, columns=['Text', 'Label'])"
   ]
  },
  {
   "cell_type": "code",
   "execution_count": 125,
   "metadata": {},
   "outputs": [
    {
     "data": {
      "text/html": [
       "<div>\n",
       "<style scoped>\n",
       "    .dataframe tbody tr th:only-of-type {\n",
       "        vertical-align: middle;\n",
       "    }\n",
       "\n",
       "    .dataframe tbody tr th {\n",
       "        vertical-align: top;\n",
       "    }\n",
       "\n",
       "    .dataframe thead th {\n",
       "        text-align: right;\n",
       "    }\n",
       "</style>\n",
       "<table border=\"1\" class=\"dataframe\">\n",
       "  <thead>\n",
       "    <tr style=\"text-align: right;\">\n",
       "      <th></th>\n",
       "      <th>Text</th>\n",
       "      <th>Label</th>\n",
       "    </tr>\n",
       "  </thead>\n",
       "  <tbody>\n",
       "    <tr>\n",
       "      <th>0</th>\n",
       "      <td>{'support': True, 'lockdown': True, 'stop': Tr...</td>\n",
       "      <td>0</td>\n",
       "    </tr>\n",
       "    <tr>\n",
       "      <th>1</th>\n",
       "      <td>{'early': True, 'detection': True, 'monitoring...</td>\n",
       "      <td>0</td>\n",
       "    </tr>\n",
       "    <tr>\n",
       "      <th>2</th>\n",
       "      <td>{'federal': True, 'law': True, 'allow': True, ...</td>\n",
       "      <td>1</td>\n",
       "    </tr>\n",
       "    <tr>\n",
       "      <th>3</th>\n",
       "      <td>{'😷': True, 'friend': True, 'buy': True, 'mask...</td>\n",
       "      <td>0</td>\n",
       "    </tr>\n",
       "  </tbody>\n",
       "</table>\n",
       "</div>"
      ],
      "text/plain": [
       "                                                Text Label\n",
       "0  {'support': True, 'lockdown': True, 'stop': Tr...     0\n",
       "1  {'early': True, 'detection': True, 'monitoring...     0\n",
       "2  {'federal': True, 'law': True, 'allow': True, ...     1\n",
       "3  {'😷': True, 'friend': True, 'buy': True, 'mask...     0"
      ]
     },
     "execution_count": 125,
     "metadata": {},
     "output_type": "execute_result"
    }
   ],
   "source": [
    "testing_df.head(4)"
   ]
  },
  {
   "cell_type": "code",
   "execution_count": 126,
   "metadata": {},
   "outputs": [
    {
     "data": {
      "text/plain": [
       "(103, 2)"
      ]
     },
     "execution_count": 126,
     "metadata": {},
     "output_type": "execute_result"
    }
   ],
   "source": [
    "testing_df.shape"
   ]
  },
  {
   "cell_type": "code",
   "execution_count": 128,
   "metadata": {},
   "outputs": [
    {
     "data": {
      "text/plain": [
       "(421, 2)"
      ]
     },
     "execution_count": 128,
     "metadata": {},
     "output_type": "execute_result"
    }
   ],
   "source": [
    "training_df.shape"
   ]
  },
  {
   "cell_type": "code",
   "execution_count": 130,
   "metadata": {},
   "outputs": [],
   "source": [
    "merge_data = pd.concat([testing_df, training_df])"
   ]
  },
  {
   "cell_type": "code",
   "execution_count": 139,
   "metadata": {},
   "outputs": [
    {
     "data": {
      "text/plain": [
       "(524, 2)"
      ]
     },
     "execution_count": 139,
     "metadata": {},
     "output_type": "execute_result"
    }
   ],
   "source": [
    "merge_data.shape"
   ]
  },
  {
   "cell_type": "code",
   "execution_count": 132,
   "metadata": {},
   "outputs": [
    {
     "data": {
      "text/html": [
       "<div>\n",
       "<style scoped>\n",
       "    .dataframe tbody tr th:only-of-type {\n",
       "        vertical-align: middle;\n",
       "    }\n",
       "\n",
       "    .dataframe tbody tr th {\n",
       "        vertical-align: top;\n",
       "    }\n",
       "\n",
       "    .dataframe thead th {\n",
       "        text-align: right;\n",
       "    }\n",
       "</style>\n",
       "<table border=\"1\" class=\"dataframe\">\n",
       "  <thead>\n",
       "    <tr style=\"text-align: right;\">\n",
       "      <th></th>\n",
       "      <th>Text</th>\n",
       "      <th>Label</th>\n",
       "    </tr>\n",
       "  </thead>\n",
       "  <tbody>\n",
       "    <tr>\n",
       "      <th>0</th>\n",
       "      <td>{'support': True, 'lockdown': True, 'stop': Tr...</td>\n",
       "      <td>0</td>\n",
       "    </tr>\n",
       "    <tr>\n",
       "      <th>1</th>\n",
       "      <td>{'early': True, 'detection': True, 'monitoring...</td>\n",
       "      <td>0</td>\n",
       "    </tr>\n",
       "    <tr>\n",
       "      <th>2</th>\n",
       "      <td>{'federal': True, 'law': True, 'allow': True, ...</td>\n",
       "      <td>1</td>\n",
       "    </tr>\n",
       "    <tr>\n",
       "      <th>3</th>\n",
       "      <td>{'😷': True, 'friend': True, 'buy': True, 'mask...</td>\n",
       "      <td>0</td>\n",
       "    </tr>\n",
       "    <tr>\n",
       "      <th>4</th>\n",
       "      <td>{'stay': True, 'home': True, 'unique': True, '...</td>\n",
       "      <td>0</td>\n",
       "    </tr>\n",
       "  </tbody>\n",
       "</table>\n",
       "</div>"
      ],
      "text/plain": [
       "                                                Text Label\n",
       "0  {'support': True, 'lockdown': True, 'stop': Tr...     0\n",
       "1  {'early': True, 'detection': True, 'monitoring...     0\n",
       "2  {'federal': True, 'law': True, 'allow': True, ...     1\n",
       "3  {'😷': True, 'friend': True, 'buy': True, 'mask...     0\n",
       "4  {'stay': True, 'home': True, 'unique': True, '...     0"
      ]
     },
     "execution_count": 132,
     "metadata": {},
     "output_type": "execute_result"
    }
   ],
   "source": [
    "merge_data.head(5)"
   ]
  },
  {
   "cell_type": "code",
   "execution_count": 141,
   "metadata": {},
   "outputs": [
    {
     "data": {
      "text/plain": [
       "array(['0', '1'], dtype=object)"
      ]
     },
     "execution_count": 141,
     "metadata": {},
     "output_type": "execute_result"
    }
   ],
   "source": [
    "merge_data.Label.unique()"
   ]
  },
  {
   "cell_type": "code",
   "execution_count": null,
   "metadata": {},
   "outputs": [],
   "source": []
  },
  {
   "cell_type": "code",
   "execution_count": 142,
   "metadata": {},
   "outputs": [],
   "source": [
    "true = []\n",
    "misinfo = []\n",
    "for l in merge_data.Label:\n",
    "    if l == '0':\n",
    "        #print(\"it went in if\")\n",
    "        true.append(1)\n",
    "        misinfo.append(0)\n",
    "    elif l == '1':\n",
    "        true.append(0)\n",
    "        misinfo.append(1)"
   ]
  },
  {
   "cell_type": "code",
   "execution_count": 144,
   "metadata": {},
   "outputs": [
    {
     "data": {
      "text/plain": [
       "524"
      ]
     },
     "execution_count": 144,
     "metadata": {},
     "output_type": "execute_result"
    }
   ],
   "source": [
    "len(misinfo)"
   ]
  },
  {
   "cell_type": "code",
   "execution_count": 150,
   "metadata": {},
   "outputs": [
    {
     "data": {
      "text/html": [
       "<div>\n",
       "<style scoped>\n",
       "    .dataframe tbody tr th:only-of-type {\n",
       "        vertical-align: middle;\n",
       "    }\n",
       "\n",
       "    .dataframe tbody tr th {\n",
       "        vertical-align: top;\n",
       "    }\n",
       "\n",
       "    .dataframe thead th {\n",
       "        text-align: right;\n",
       "    }\n",
       "</style>\n",
       "<table border=\"1\" class=\"dataframe\">\n",
       "  <thead>\n",
       "    <tr style=\"text-align: right;\">\n",
       "      <th></th>\n",
       "      <th>Text</th>\n",
       "      <th>Label</th>\n",
       "      <th>tru</th>\n",
       "      <th>mis</th>\n",
       "    </tr>\n",
       "  </thead>\n",
       "  <tbody>\n",
       "    <tr>\n",
       "      <th>21</th>\n",
       "      <td>{'scientist': True, 'face': True, 'mask': True...</td>\n",
       "      <td>1</td>\n",
       "      <td>0</td>\n",
       "      <td>1</td>\n",
       "    </tr>\n",
       "    <tr>\n",
       "      <th>293</th>\n",
       "      <td>{'view': True, 'increase': True, 'status': Tru...</td>\n",
       "      <td>0</td>\n",
       "      <td>1</td>\n",
       "      <td>0</td>\n",
       "    </tr>\n",
       "    <tr>\n",
       "      <th>10</th>\n",
       "      <td>{'woman': True, '15': True, 'friend': True, 't...</td>\n",
       "      <td>0</td>\n",
       "      <td>1</td>\n",
       "      <td>0</td>\n",
       "    </tr>\n",
       "    <tr>\n",
       "      <th>400</th>\n",
       "      <td>{'bayer': True, 'offer': True, 'anti': True, '...</td>\n",
       "      <td>1</td>\n",
       "      <td>0</td>\n",
       "      <td>1</td>\n",
       "    </tr>\n",
       "    <tr>\n",
       "      <th>85</th>\n",
       "      <td>{'friend': True, 'india': True, 'win': True, '...</td>\n",
       "      <td>1</td>\n",
       "      <td>0</td>\n",
       "      <td>1</td>\n",
       "    </tr>\n",
       "    <tr>\n",
       "      <th>...</th>\n",
       "      <td>...</td>\n",
       "      <td>...</td>\n",
       "      <td>...</td>\n",
       "      <td>...</td>\n",
       "    </tr>\n",
       "    <tr>\n",
       "      <th>367</th>\n",
       "      <td>{'lockdown': True, 'give': True, 'high': True,...</td>\n",
       "      <td>0</td>\n",
       "      <td>1</td>\n",
       "      <td>0</td>\n",
       "    </tr>\n",
       "    <tr>\n",
       "      <th>0</th>\n",
       "      <td>{'support': True, 'lockdown': True, 'stop': Tr...</td>\n",
       "      <td>0</td>\n",
       "      <td>1</td>\n",
       "      <td>0</td>\n",
       "    </tr>\n",
       "    <tr>\n",
       "      <th>336</th>\n",
       "      <td>{'korean': True, 'study': True, 'sars-cov-2': ...</td>\n",
       "      <td>0</td>\n",
       "      <td>1</td>\n",
       "      <td>0</td>\n",
       "    </tr>\n",
       "    <tr>\n",
       "      <th>17</th>\n",
       "      <td>{'even': True, 'need': True, 'hydroxychlorquin...</td>\n",
       "      <td>1</td>\n",
       "      <td>0</td>\n",
       "      <td>1</td>\n",
       "    </tr>\n",
       "    <tr>\n",
       "      <th>78</th>\n",
       "      <td>{'good': True, 'long': True, 'stay': True, 'ho...</td>\n",
       "      <td>0</td>\n",
       "      <td>1</td>\n",
       "      <td>0</td>\n",
       "    </tr>\n",
       "  </tbody>\n",
       "</table>\n",
       "<p>524 rows × 4 columns</p>\n",
       "</div>"
      ],
      "text/plain": [
       "                                                  Text Label  tru  mis\n",
       "21   {'scientist': True, 'face': True, 'mask': True...     1    0    1\n",
       "293  {'view': True, 'increase': True, 'status': Tru...     0    1    0\n",
       "10   {'woman': True, '15': True, 'friend': True, 't...     0    1    0\n",
       "400  {'bayer': True, 'offer': True, 'anti': True, '...     1    0    1\n",
       "85   {'friend': True, 'india': True, 'win': True, '...     1    0    1\n",
       "..                                                 ...   ...  ...  ...\n",
       "367  {'lockdown': True, 'give': True, 'high': True,...     0    1    0\n",
       "0    {'support': True, 'lockdown': True, 'stop': Tr...     0    1    0\n",
       "336  {'korean': True, 'study': True, 'sars-cov-2': ...     0    1    0\n",
       "17   {'even': True, 'need': True, 'hydroxychlorquin...     1    0    1\n",
       "78   {'good': True, 'long': True, 'stay': True, 'ho...     0    1    0\n",
       "\n",
       "[524 rows x 4 columns]"
      ]
     },
     "execution_count": 150,
     "metadata": {},
     "output_type": "execute_result"
    }
   ],
   "source": [
    "sklearn.utils.shuffle(merge_data)"
   ]
  },
  {
   "cell_type": "code",
   "execution_count": 145,
   "metadata": {},
   "outputs": [],
   "source": [
    "merge_data['tru']= true\n",
    "merge_data['mis']= misinfo"
   ]
  },
  {
   "cell_type": "code",
   "execution_count": 146,
   "metadata": {},
   "outputs": [
    {
     "data": {
      "text/html": [
       "<div>\n",
       "<style scoped>\n",
       "    .dataframe tbody tr th:only-of-type {\n",
       "        vertical-align: middle;\n",
       "    }\n",
       "\n",
       "    .dataframe tbody tr th {\n",
       "        vertical-align: top;\n",
       "    }\n",
       "\n",
       "    .dataframe thead th {\n",
       "        text-align: right;\n",
       "    }\n",
       "</style>\n",
       "<table border=\"1\" class=\"dataframe\">\n",
       "  <thead>\n",
       "    <tr style=\"text-align: right;\">\n",
       "      <th></th>\n",
       "      <th>Text</th>\n",
       "      <th>Label</th>\n",
       "      <th>tru</th>\n",
       "      <th>mis</th>\n",
       "    </tr>\n",
       "  </thead>\n",
       "  <tbody>\n",
       "    <tr>\n",
       "      <th>0</th>\n",
       "      <td>{'support': True, 'lockdown': True, 'stop': Tr...</td>\n",
       "      <td>0</td>\n",
       "      <td>1</td>\n",
       "      <td>0</td>\n",
       "    </tr>\n",
       "    <tr>\n",
       "      <th>1</th>\n",
       "      <td>{'early': True, 'detection': True, 'monitoring...</td>\n",
       "      <td>0</td>\n",
       "      <td>1</td>\n",
       "      <td>0</td>\n",
       "    </tr>\n",
       "    <tr>\n",
       "      <th>2</th>\n",
       "      <td>{'federal': True, 'law': True, 'allow': True, ...</td>\n",
       "      <td>1</td>\n",
       "      <td>0</td>\n",
       "      <td>1</td>\n",
       "    </tr>\n",
       "    <tr>\n",
       "      <th>3</th>\n",
       "      <td>{'😷': True, 'friend': True, 'buy': True, 'mask...</td>\n",
       "      <td>0</td>\n",
       "      <td>1</td>\n",
       "      <td>0</td>\n",
       "    </tr>\n",
       "    <tr>\n",
       "      <th>4</th>\n",
       "      <td>{'stay': True, 'home': True, 'unique': True, '...</td>\n",
       "      <td>0</td>\n",
       "      <td>1</td>\n",
       "      <td>0</td>\n",
       "    </tr>\n",
       "  </tbody>\n",
       "</table>\n",
       "</div>"
      ],
      "text/plain": [
       "                                                Text Label  tru  mis\n",
       "0  {'support': True, 'lockdown': True, 'stop': Tr...     0    1    0\n",
       "1  {'early': True, 'detection': True, 'monitoring...     0    1    0\n",
       "2  {'federal': True, 'law': True, 'allow': True, ...     1    0    1\n",
       "3  {'😷': True, 'friend': True, 'buy': True, 'mask...     0    1    0\n",
       "4  {'stay': True, 'home': True, 'unique': True, '...     0    1    0"
      ]
     },
     "execution_count": 146,
     "metadata": {},
     "output_type": "execute_result"
    }
   ],
   "source": [
    "merge_data.head(5)"
   ]
  },
  {
   "cell_type": "code",
   "execution_count": 148,
   "metadata": {},
   "outputs": [],
   "source": [
    "word2vec_path = 'GoogleNews-vectors-negative300.bin.gz'\n",
    "word2vec = models.KeyedVectors.load_word2vec_format(word2vec_path, binary=True)"
   ]
  },
  {
   "cell_type": "code",
   "execution_count": 159,
   "metadata": {},
   "outputs": [],
   "source": [
    "def get_average_word2vec(tokens_list, vector, generate_missing=False, k=300):\n",
    "    if len(tokens_list)<1:\n",
    "        return np.zeros(k)\n",
    "    if generate_missing:\n",
    "        vectorized = [vector[word] if word in vector else np.random.rand(k) for word in tokens_list]\n",
    "    else:\n",
    "        vectorized = [vector[word] if word in vector else np.zeros(k) for word in tokens_list]\n",
    "    length = len(vectorized)\n",
    "    summed = np.sum(vectorized, axis=0)\n",
    "    averaged = np.divide(summed, length)\n",
    "    return averaged\n",
    "\n",
    "def get_word2vec_embeddings(vectors, clean_comments, generate_missing=False):\n",
    "    embeddings = clean_comments['Text'].apply(lambda x: get_average_word2vec(x, vectors, \n",
    "                                                                                generate_missing=generate_missing))\n",
    "    return list(embeddings)"
   ]
  },
  {
   "cell_type": "code",
   "execution_count": 151,
   "metadata": {},
   "outputs": [],
   "source": [
    "data_train, data_test = train_test_split(merge_data, test_size=0.20, random_state=42)"
   ]
  },
  {
   "cell_type": "code",
   "execution_count": 152,
   "metadata": {},
   "outputs": [
    {
     "name": "stdout",
     "output_type": "stream",
     "text": [
      "5435 words total, with a vocabulary size of 2359\n",
      "Max sentence length is 33\n"
     ]
    }
   ],
   "source": [
    "all_training_words = [word for tokens in data_train[\"Text\"] for word in tokens]\n",
    "training_sentence_lengths = [len(tokens) for tokens in data_train[\"Text\"]]\n",
    "TRAINING_VOCAB = sorted(list(set(all_training_words)))\n",
    "print(\"%s words total, with a vocabulary size of %s\" % (len(all_training_words), len(TRAINING_VOCAB)))\n",
    "print(\"Max sentence length is %s\" % max(training_sentence_lengths))"
   ]
  },
  {
   "cell_type": "code",
   "execution_count": 157,
   "metadata": {},
   "outputs": [
    {
     "name": "stdout",
     "output_type": "stream",
     "text": [
      "1273 words total, with a vocabulary size of 772\n",
      "Max sentence length is 30\n"
     ]
    }
   ],
   "source": [
    "all_test_words = [word for tokens in data_test[\"Text\"] for word in tokens]\n",
    "test_sentence_lengths = [len(tokens) for tokens in data_test[\"Text\"]]\n",
    "TEST_VOCAB = sorted(list(set(all_test_words)))\n",
    "print(\"%s words total, with a vocabulary size of %s\" % (len(all_test_words), len(TEST_VOCAB)))\n",
    "print(\"Max sentence length is %s\" % max(test_sentence_lengths))"
   ]
  },
  {
   "cell_type": "markdown",
   "metadata": {},
   "source": [
    "# get embeddings"
   ]
  },
  {
   "cell_type": "code",
   "execution_count": 160,
   "metadata": {},
   "outputs": [],
   "source": [
    "training_embeddings = get_word2vec_embeddings(word2vec, data_train, generate_missing=True)"
   ]
  },
  {
   "cell_type": "code",
   "execution_count": 161,
   "metadata": {},
   "outputs": [],
   "source": [
    "MAX_SEQUENCE_LENGTH = 50\n",
    "EMBEDDING_DIM = 300"
   ]
  },
  {
   "cell_type": "code",
   "execution_count": 163,
   "metadata": {},
   "outputs": [
    {
     "ename": "AttributeError",
     "evalue": "'dict' object has no attribute 'lower'",
     "output_type": "error",
     "traceback": [
      "\u001b[1;31m---------------------------------------------------------------------------\u001b[0m",
      "\u001b[1;31mAttributeError\u001b[0m                            Traceback (most recent call last)",
      "\u001b[1;32m<ipython-input-163-af700621c27a>\u001b[0m in \u001b[0;36m<module>\u001b[1;34m\u001b[0m\n\u001b[0;32m      1\u001b[0m \u001b[0mtokenizer\u001b[0m \u001b[1;33m=\u001b[0m \u001b[0mTokenizer\u001b[0m\u001b[1;33m(\u001b[0m\u001b[0mnum_words\u001b[0m\u001b[1;33m=\u001b[0m\u001b[0mlen\u001b[0m\u001b[1;33m(\u001b[0m\u001b[0mTRAINING_VOCAB\u001b[0m\u001b[1;33m)\u001b[0m\u001b[1;33m,\u001b[0m \u001b[0mchar_level\u001b[0m\u001b[1;33m=\u001b[0m\u001b[1;32mFalse\u001b[0m\u001b[1;33m)\u001b[0m\u001b[1;33m\u001b[0m\u001b[1;33m\u001b[0m\u001b[0m\n\u001b[1;32m----> 2\u001b[1;33m \u001b[0mtokenizer\u001b[0m\u001b[1;33m.\u001b[0m\u001b[0mfit_on_texts\u001b[0m\u001b[1;33m(\u001b[0m\u001b[0mdata_train\u001b[0m\u001b[1;33m[\u001b[0m\u001b[1;34m\"Text\"\u001b[0m\u001b[1;33m]\u001b[0m\u001b[1;33m.\u001b[0m\u001b[0mtolist\u001b[0m\u001b[1;33m(\u001b[0m\u001b[1;33m)\u001b[0m\u001b[1;33m)\u001b[0m\u001b[1;33m\u001b[0m\u001b[1;33m\u001b[0m\u001b[0m\n\u001b[0m\u001b[0;32m      3\u001b[0m \u001b[0mtraining_sequences\u001b[0m \u001b[1;33m=\u001b[0m \u001b[0mtokenizer\u001b[0m\u001b[1;33m.\u001b[0m\u001b[0mtexts_to_sequences\u001b[0m\u001b[1;33m(\u001b[0m\u001b[0mdata_train\u001b[0m\u001b[1;33m[\u001b[0m\u001b[1;34m\"Text\"\u001b[0m\u001b[1;33m]\u001b[0m\u001b[1;33m.\u001b[0m\u001b[0mtolist\u001b[0m\u001b[1;33m(\u001b[0m\u001b[1;33m)\u001b[0m\u001b[1;33m)\u001b[0m\u001b[1;33m\u001b[0m\u001b[1;33m\u001b[0m\u001b[0m\n\u001b[0;32m      4\u001b[0m \u001b[1;33m\u001b[0m\u001b[0m\n\u001b[0;32m      5\u001b[0m \u001b[0mtrain_word_index\u001b[0m \u001b[1;33m=\u001b[0m \u001b[0mtokenizer\u001b[0m\u001b[1;33m.\u001b[0m\u001b[0mword_index\u001b[0m\u001b[1;33m\u001b[0m\u001b[1;33m\u001b[0m\u001b[0m\n",
      "\u001b[1;32m~\\Anaconda3\\lib\\site-packages\\keras_preprocessing\\text.py\u001b[0m in \u001b[0;36mfit_on_texts\u001b[1;34m(self, texts)\u001b[0m\n\u001b[0;32m    220\u001b[0m                 \u001b[0mseq\u001b[0m \u001b[1;33m=\u001b[0m \u001b[0mtext\u001b[0m\u001b[1;33m\u001b[0m\u001b[1;33m\u001b[0m\u001b[0m\n\u001b[0;32m    221\u001b[0m             \u001b[1;32melse\u001b[0m\u001b[1;33m:\u001b[0m\u001b[1;33m\u001b[0m\u001b[1;33m\u001b[0m\u001b[0m\n\u001b[1;32m--> 222\u001b[1;33m                 seq = text_to_word_sequence(text,\n\u001b[0m\u001b[0;32m    223\u001b[0m                                             \u001b[0mself\u001b[0m\u001b[1;33m.\u001b[0m\u001b[0mfilters\u001b[0m\u001b[1;33m,\u001b[0m\u001b[1;33m\u001b[0m\u001b[1;33m\u001b[0m\u001b[0m\n\u001b[0;32m    224\u001b[0m                                             \u001b[0mself\u001b[0m\u001b[1;33m.\u001b[0m\u001b[0mlower\u001b[0m\u001b[1;33m,\u001b[0m\u001b[1;33m\u001b[0m\u001b[1;33m\u001b[0m\u001b[0m\n",
      "\u001b[1;32m~\\Anaconda3\\lib\\site-packages\\keras_preprocessing\\text.py\u001b[0m in \u001b[0;36mtext_to_word_sequence\u001b[1;34m(text, filters, lower, split)\u001b[0m\n\u001b[0;32m     41\u001b[0m     \"\"\"\n\u001b[0;32m     42\u001b[0m     \u001b[1;32mif\u001b[0m \u001b[0mlower\u001b[0m\u001b[1;33m:\u001b[0m\u001b[1;33m\u001b[0m\u001b[1;33m\u001b[0m\u001b[0m\n\u001b[1;32m---> 43\u001b[1;33m         \u001b[0mtext\u001b[0m \u001b[1;33m=\u001b[0m \u001b[0mtext\u001b[0m\u001b[1;33m.\u001b[0m\u001b[0mlower\u001b[0m\u001b[1;33m(\u001b[0m\u001b[1;33m)\u001b[0m\u001b[1;33m\u001b[0m\u001b[1;33m\u001b[0m\u001b[0m\n\u001b[0m\u001b[0;32m     44\u001b[0m \u001b[1;33m\u001b[0m\u001b[0m\n\u001b[0;32m     45\u001b[0m     \u001b[1;32mif\u001b[0m \u001b[0msys\u001b[0m\u001b[1;33m.\u001b[0m\u001b[0mversion_info\u001b[0m \u001b[1;33m<\u001b[0m \u001b[1;33m(\u001b[0m\u001b[1;36m3\u001b[0m\u001b[1;33m,\u001b[0m\u001b[1;33m)\u001b[0m\u001b[1;33m:\u001b[0m\u001b[1;33m\u001b[0m\u001b[1;33m\u001b[0m\u001b[0m\n",
      "\u001b[1;31mAttributeError\u001b[0m: 'dict' object has no attribute 'lower'"
     ]
    }
   ],
   "source": [
    "tokenizer = Tokenizer(num_words=len(TRAINING_VOCAB), char_level=False)\n",
    "tokenizer.fit_on_texts(data_train[\"Text\"].tolist())\n",
    "training_sequences = tokenizer.texts_to_sequences(data_train[\"Text\"].tolist())\n",
    "\n",
    "train_word_index = tokenizer.word_index\n",
    "print('Found %s unique tokens.' % len(train_word_index))"
   ]
  },
  {
   "cell_type": "code",
   "execution_count": null,
   "metadata": {},
   "outputs": [],
   "source": []
  },
  {
   "cell_type": "code",
   "execution_count": null,
   "metadata": {},
   "outputs": [],
   "source": []
  },
  {
   "cell_type": "code",
   "execution_count": null,
   "metadata": {},
   "outputs": [],
   "source": []
  },
  {
   "cell_type": "code",
   "execution_count": null,
   "metadata": {},
   "outputs": [],
   "source": []
  },
  {
   "cell_type": "code",
   "execution_count": 44,
   "metadata": {},
   "outputs": [
    {
     "data": {
      "text/plain": [
       "211"
      ]
     },
     "execution_count": 44,
     "metadata": {},
     "output_type": "execute_result"
    }
   ],
   "source": [
    "len(misinfo_tweet_dataset)"
   ]
  },
  {
   "cell_type": "code",
   "execution_count": 45,
   "metadata": {},
   "outputs": [
    {
     "data": {
      "text/plain": [
       "314"
      ]
     },
     "execution_count": 45,
     "metadata": {},
     "output_type": "execute_result"
    }
   ],
   "source": [
    "len(true_tweet_dataset)"
   ]
  },
  {
   "cell_type": "code",
   "execution_count": 46,
   "metadata": {},
   "outputs": [
    {
     "data": {
      "text/plain": [
       "525"
      ]
     },
     "execution_count": 46,
     "metadata": {},
     "output_type": "execute_result"
    }
   ],
   "source": [
    "len(Merge_dataset)"
   ]
  },
  {
   "cell_type": "code",
   "execution_count": 47,
   "metadata": {},
   "outputs": [
    {
     "data": {
      "text/plain": [
       "({'potent': True,\n",
       "  'neutralize': True,\n",
       "  'antibody': True,\n",
       "  'against': True,\n",
       "  'sars-cov-2': True,\n",
       "  'identify': True,\n",
       "  'high-throughput': True,\n",
       "  'single-cell': True,\n",
       "  'sequencing': True,\n",
       "  'convalescent': True,\n",
       "  'patient': True,\n",
       "  'cell': True,\n",
       "  '//t.co/tqhetaqr80': True},\n",
       " '0')"
      ]
     },
     "execution_count": 47,
     "metadata": {},
     "output_type": "execute_result"
    }
   ],
   "source": [
    "Merge_dataset[13]"
   ]
  },
  {
   "cell_type": "markdown",
   "metadata": {},
   "source": [
    "# Step 7:Classifiers with NLTK"
   ]
  },
  {
   "cell_type": "code",
   "execution_count": 32,
   "metadata": {},
   "outputs": [],
   "source": [
    "from nltk import classify\n",
    "from nltk import NaiveBayesClassifier\n",
    "from nltk import DecisionTreeClassifier\n",
    "from nltk import MaxentClassifier"
   ]
  },
  {
   "cell_type": "code",
   "execution_count": 52,
   "metadata": {},
   "outputs": [],
   "source": [
    "classifier = NaiveBayesClassifier.train(train_data)"
   ]
  },
  {
   "cell_type": "code",
   "execution_count": 48,
   "metadata": {},
   "outputs": [],
   "source": [
    "classifier2 = DecisionTreeClassifier.train(train_data)"
   ]
  },
  {
   "cell_type": "code",
   "execution_count": 58,
   "metadata": {},
   "outputs": [
    {
     "name": "stdout",
     "output_type": "stream",
     "text": [
      "  ==> Training (100 iterations)\n",
      "\n",
      "      Iteration    Log Likelihood    Accuracy\n",
      "      ---------------------------------------\n",
      "             1          -0.69315        0.404\n",
      "             2          -0.43919        0.929\n",
      "             3          -0.33655        0.955\n",
      "             4          -0.27652        0.971\n",
      "             5          -0.23600        0.974\n",
      "             6          -0.20643        0.988\n",
      "             7          -0.18375        0.990\n",
      "             8          -0.16574        0.993\n",
      "             9          -0.15106        0.993\n",
      "            10          -0.13884        0.993\n",
      "            11          -0.12851        0.995\n",
      "            12          -0.11965        0.995\n",
      "            13          -0.11197        0.995\n",
      "            14          -0.10524        0.995\n",
      "            15          -0.09930        0.995\n",
      "            16          -0.09402        0.995\n",
      "            17          -0.08928        0.995\n",
      "            18          -0.08502        0.995\n",
      "            19          -0.08115        0.995\n",
      "            20          -0.07764        0.995\n",
      "            21          -0.07442        0.995\n",
      "            22          -0.07147        0.995\n",
      "            23          -0.06876        0.995\n",
      "            24          -0.06625        0.995\n",
      "            25          -0.06393        0.995\n",
      "            26          -0.06176        0.995\n",
      "            27          -0.05975        0.995\n",
      "            28          -0.05787        0.995\n",
      "            29          -0.05611        0.995\n",
      "            30          -0.05445        0.995\n",
      "            31          -0.05290        0.995\n",
      "            32          -0.05143        0.998\n",
      "            33          -0.05005        0.998\n",
      "            34          -0.04875        0.998\n",
      "            35          -0.04751        0.998\n",
      "            36          -0.04634        0.998\n",
      "            37          -0.04522        0.998\n",
      "            38          -0.04416        0.998\n",
      "            39          -0.04315        0.998\n",
      "            40          -0.04219        0.998\n",
      "            41          -0.04128        0.998\n",
      "            42          -0.04040        0.998\n",
      "            43          -0.03956        0.998\n",
      "            44          -0.03876        0.998\n",
      "            45          -0.03799        0.998\n",
      "            46          -0.03725        0.998\n",
      "            47          -0.03654        0.998\n",
      "            48          -0.03586        0.998\n",
      "            49          -0.03521        0.998\n",
      "            50          -0.03458        0.998\n",
      "            51          -0.03397        0.998\n",
      "            52          -0.03338        0.998\n",
      "            53          -0.03282        0.998\n",
      "            54          -0.03227        0.998\n",
      "            55          -0.03175        0.998\n",
      "            56          -0.03124        0.998\n",
      "            57          -0.03075        0.998\n",
      "            58          -0.03027        0.998\n",
      "            59          -0.02981        0.998\n",
      "            60          -0.02936        0.998\n",
      "            61          -0.02893        0.998\n",
      "            62          -0.02851        0.998\n",
      "            63          -0.02810        0.998\n",
      "            64          -0.02771        0.998\n",
      "            65          -0.02732        0.998\n",
      "            66          -0.02695        0.998\n",
      "            67          -0.02659        0.998\n",
      "            68          -0.02623        0.998\n",
      "            69          -0.02589        0.998\n",
      "            70          -0.02556        0.998\n",
      "            71          -0.02523        0.998\n",
      "            72          -0.02491        0.998\n",
      "            73          -0.02461        0.998\n",
      "            74          -0.02431        0.998\n",
      "            75          -0.02401        0.998\n",
      "            76          -0.02373        0.998\n",
      "            77          -0.02345        0.998\n",
      "            78          -0.02317        0.998\n",
      "            79          -0.02291        0.998\n",
      "            80          -0.02265        0.998\n",
      "            81          -0.02239        0.998\n",
      "            82          -0.02214        0.998\n",
      "            83          -0.02190        0.998\n",
      "            84          -0.02166        0.998\n",
      "            85          -0.02143        0.998\n",
      "            86          -0.02121        0.998\n",
      "            87          -0.02098        1.000\n",
      "            88          -0.02077        1.000\n",
      "            89          -0.02055        1.000\n",
      "            90          -0.02034        1.000\n",
      "            91          -0.02014        1.000\n",
      "            92          -0.01994        1.000\n",
      "            93          -0.01974        1.000\n",
      "            94          -0.01955        1.000\n",
      "            95          -0.01936        1.000\n",
      "            96          -0.01918        1.000\n",
      "            97          -0.01900        1.000\n",
      "            98          -0.01882        1.000\n",
      "            99          -0.01864        1.000\n",
      "         Final          -0.01847        1.000\n"
     ]
    }
   ],
   "source": [
    "classifier_mxnet = MaxentClassifier.train(train_data)"
   ]
  },
  {
   "cell_type": "code",
   "execution_count": 53,
   "metadata": {},
   "outputs": [
    {
     "name": "stdout",
     "output_type": "stream",
     "text": [
      "Accuracy is: 73.7864077669903\n"
     ]
    }
   ],
   "source": [
    "print(\"Accuracy is:\", classify.accuracy(classifier, test_data)*100)"
   ]
  },
  {
   "cell_type": "code",
   "execution_count": 49,
   "metadata": {},
   "outputs": [
    {
     "name": "stdout",
     "output_type": "stream",
     "text": [
      "Accuracy is: 67.96116504854369\n"
     ]
    }
   ],
   "source": [
    "print(\"Accuracy is:\", classify.accuracy(classifier2, test_data)*100)"
   ]
  },
  {
   "cell_type": "code",
   "execution_count": 59,
   "metadata": {},
   "outputs": [
    {
     "name": "stdout",
     "output_type": "stream",
     "text": [
      "Accuracy is: 68.93203883495146\n"
     ]
    }
   ],
   "source": [
    "print(\"Accuracy is:\", classify.accuracy(classifier_mxnet, test_data)*100)"
   ]
  },
  {
   "cell_type": "code",
   "execution_count": 35,
   "metadata": {},
   "outputs": [],
   "source": [
    "from nltk.metrics.scores import *"
   ]
  },
  {
   "cell_type": "code",
   "execution_count": 36,
   "metadata": {},
   "outputs": [],
   "source": [
    "import collections"
   ]
  },
  {
   "cell_type": "code",
   "execution_count": 54,
   "metadata": {},
   "outputs": [],
   "source": [
    "# for calculating precision adn recall creating refset and testsets\n",
    "refsets = collections.defaultdict(set)\n",
    "testsets = collections.defaultdict(set)\n",
    "\n",
    "for i, (feats, label) in enumerate(test_data):\n",
    "    refsets[label].add(i)\n",
    "    observed = classifier.classify(feats)\n",
    "    testsets[observed].add(i)"
   ]
  },
  {
   "cell_type": "code",
   "execution_count": null,
   "metadata": {},
   "outputs": [],
   "source": []
  },
  {
   "cell_type": "code",
   "execution_count": 55,
   "metadata": {},
   "outputs": [
    {
     "name": "stdout",
     "output_type": "stream",
     "text": [
      "True info Precision: 0.7966101694915254\n",
      "Misinfo Precision: 0.6590909090909091\n",
      "True info Recall: 0.7580645161290323\n",
      "Misinfo Recall: 0.7073170731707317\n",
      "True info F-measure: 0.7768595041322315\n",
      "Misinfo F-measure: 0.6823529411764705\n"
     ]
    }
   ],
   "source": [
    "# metrics for NB classifiers (bag of words)\n",
    "print( 'True info Precision:', precision(refsets['0'], testsets['0']))\n",
    "print( 'Misinfo Precision:', precision(refsets['1'], testsets['1']))\n",
    "print( 'True info Recall:', recall(refsets['0'], testsets['0']))\n",
    "print( 'Misinfo Recall:', recall(refsets['1'], testsets['1']) )\n",
    "print( 'True info F-measure:', f_measure(refsets['0'], testsets['0']))\n",
    "print( 'Misinfo F-measure:', f_measure(refsets['1'], testsets['1']) )\n"
   ]
  },
  {
   "cell_type": "code",
   "execution_count": 56,
   "metadata": {},
   "outputs": [],
   "source": [
    "# for calculating precision adn recall creating refset and testsets\n",
    "refsets = collections.defaultdict(set)\n",
    "testsets = collections.defaultdict(set)\n",
    "\n",
    "for i, (feats, label) in enumerate(test_data):\n",
    "    refsets[label].add(i)\n",
    "    observed = classifier2.classify(feats)\n",
    "    testsets[observed].add(i)"
   ]
  },
  {
   "cell_type": "code",
   "execution_count": 57,
   "metadata": {},
   "outputs": [
    {
     "name": "stdout",
     "output_type": "stream",
     "text": [
      "True info Precision: 0.7301587301587301\n",
      "Misinfo Precision: 0.6\n",
      "True info Recall: 0.7419354838709677\n",
      "Misinfo Recall: 0.5853658536585366\n",
      "True info F-measure: 0.736\n",
      "Misinfo F-measure: 0.5925925925925926\n"
     ]
    }
   ],
   "source": [
    "# metrics for NB classifiers (bag of words)\n",
    "print( 'True info Precision:', precision(refsets['0'], testsets['0']))\n",
    "print( 'Misinfo Precision:', precision(refsets['1'], testsets['1']))\n",
    "print( 'True info Recall:', recall(refsets['0'], testsets['0']))\n",
    "print( 'Misinfo Recall:', recall(refsets['1'], testsets['1']) )\n",
    "print( 'True info F-measure:', f_measure(refsets['0'], testsets['0']))\n",
    "print( 'Misinfo F-measure:', f_measure(refsets['1'], testsets['1']) )\n"
   ]
  },
  {
   "cell_type": "code",
   "execution_count": 60,
   "metadata": {},
   "outputs": [],
   "source": [
    "# for calculating precision adn recall creating refset and testsets\n",
    "refsets = collections.defaultdict(set)\n",
    "testsets = collections.defaultdict(set)\n",
    "\n",
    "for i, (feats, label) in enumerate(test_data):\n",
    "    refsets[label].add(i)\n",
    "    observed = classifier_mxnet.classify(feats)\n",
    "    testsets[observed].add(i)"
   ]
  },
  {
   "cell_type": "code",
   "execution_count": 61,
   "metadata": {},
   "outputs": [
    {
     "name": "stdout",
     "output_type": "stream",
     "text": [
      "True info Precision: 0.7142857142857143\n",
      "Misinfo Precision: 0.6363636363636364\n",
      "True info Recall: 0.8064516129032258\n",
      "Misinfo Recall: 0.5121951219512195\n",
      "True info F-measure: 0.7575757575757577\n",
      "Misinfo F-measure: 0.5675675675675675\n"
     ]
    }
   ],
   "source": [
    "# metrics for NB classifiers (bag of words)\n",
    "print( 'True info Precision:', precision(refsets['0'], testsets['0']))\n",
    "print( 'Misinfo Precision:', precision(refsets['1'], testsets['1']))\n",
    "print( 'True info Recall:', recall(refsets['0'], testsets['0']))\n",
    "print( 'Misinfo Recall:', recall(refsets['1'], testsets['1']) )\n",
    "print( 'True info F-measure:', f_measure(refsets['0'], testsets['0']))\n",
    "print( 'Misinfo F-measure:', f_measure(refsets['1'], testsets['1']) )\n"
   ]
  },
  {
   "cell_type": "code",
   "execution_count": 77,
   "metadata": {},
   "outputs": [],
   "source": [
    "import sklearn\n",
    "from nltk.classify import SklearnClassifier\n",
    "from sklearn.svm import SVC\n",
    "from sklearn.ensemble import RandomForestClassifier"
   ]
  },
  {
   "cell_type": "code",
   "execution_count": 78,
   "metadata": {},
   "outputs": [],
   "source": [
    "classifier_svm = SklearnClassifier(SVC()).train(train_data)"
   ]
  },
  {
   "cell_type": "code",
   "execution_count": 79,
   "metadata": {},
   "outputs": [
    {
     "name": "stdout",
     "output_type": "stream",
     "text": [
      "Accuracy is: 68.93203883495146\n"
     ]
    }
   ],
   "source": [
    "print(\"Accuracy is:\", classify.accuracy(classifier_svm, test_data)*100)"
   ]
  },
  {
   "cell_type": "code",
   "execution_count": 80,
   "metadata": {},
   "outputs": [],
   "source": [
    "classifier_rf = SklearnClassifier(RandomForestClassifier()).train(train_data)"
   ]
  },
  {
   "cell_type": "code",
   "execution_count": 81,
   "metadata": {},
   "outputs": [
    {
     "name": "stdout",
     "output_type": "stream",
     "text": [
      "Accuracy is: 67.96116504854369\n"
     ]
    }
   ],
   "source": [
    "print(\"Accuracy is:\", classify.accuracy(classifier_rf, test_data)*100)"
   ]
  },
  {
   "cell_type": "code",
   "execution_count": 82,
   "metadata": {},
   "outputs": [],
   "source": [
    "# for calculating precision adn recall creating refset and testsets\n",
    "refsets = collections.defaultdict(set)\n",
    "testsets = collections.defaultdict(set)\n",
    "\n",
    "for i, (feats, label) in enumerate(test_data):\n",
    "    refsets[label].add(i)\n",
    "    observed = classifier_svm.classify(feats)\n",
    "    testsets[observed].add(i)"
   ]
  },
  {
   "cell_type": "code",
   "execution_count": 83,
   "metadata": {},
   "outputs": [
    {
     "name": "stdout",
     "output_type": "stream",
     "text": [
      "True info Precision: 0.6785714285714286\n",
      "Misinfo Precision: 0.7368421052631579\n",
      "True info Recall: 0.9193548387096774\n",
      "Misinfo Recall: 0.34146341463414637\n",
      "True info F-measure: 0.7808219178082192\n",
      "Misinfo F-measure: 0.4666666666666667\n"
     ]
    }
   ],
   "source": [
    "# metrics for NB classifiers (bag of words)\n",
    "print( 'True info Precision:', precision(refsets['0'], testsets['0']))\n",
    "print( 'Misinfo Precision:', precision(refsets['1'], testsets['1']))\n",
    "print( 'True info Recall:', recall(refsets['0'], testsets['0']))\n",
    "print( 'Misinfo Recall:', recall(refsets['1'], testsets['1']) )\n",
    "print( 'True info F-measure:', f_measure(refsets['0'], testsets['0']))\n",
    "print( 'Misinfo F-measure:', f_measure(refsets['1'], testsets['1']) )\n"
   ]
  },
  {
   "cell_type": "code",
   "execution_count": 84,
   "metadata": {},
   "outputs": [],
   "source": [
    "# for calculating precision adn recall creating refset and testsets\n",
    "refsets = collections.defaultdict(set)\n",
    "testsets = collections.defaultdict(set)\n",
    "\n",
    "for i, (feats, label) in enumerate(test_data):\n",
    "    refsets[label].add(i)\n",
    "    observed = classifier_rf.classify(feats)\n",
    "    testsets[observed].add(i)"
   ]
  },
  {
   "cell_type": "code",
   "execution_count": 85,
   "metadata": {},
   "outputs": [
    {
     "name": "stdout",
     "output_type": "stream",
     "text": [
      "True info Precision: 0.6746987951807228\n",
      "Misinfo Precision: 0.7\n",
      "True info Recall: 0.9032258064516129\n",
      "Misinfo Recall: 0.34146341463414637\n",
      "True info F-measure: 0.7724137931034483\n",
      "Misinfo F-measure: 0.459016393442623\n"
     ]
    }
   ],
   "source": [
    "# metrics for NB classifiers (bag of words)\n",
    "print( 'True info Precision:', precision(refsets['0'], testsets['0']))\n",
    "print( 'Misinfo Precision:', precision(refsets['1'], testsets['1']))\n",
    "print( 'True info Recall:', recall(refsets['0'], testsets['0']))\n",
    "print( 'Misinfo Recall:', recall(refsets['1'], testsets['1']) )\n",
    "print( 'True info F-measure:', f_measure(refsets['0'], testsets['0']))\n",
    "print( 'Misinfo F-measure:', f_measure(refsets['1'], testsets['1']) )\n"
   ]
  },
  {
   "cell_type": "code",
   "execution_count": 344,
   "metadata": {},
   "outputs": [
    {
     "name": "stdout",
     "output_type": "stream",
     "text": [
      "Most Informative Features\n",
      "      hydroxychloroquine = True                1 : 0      =     13.6 : 1.0\n",
      "                   right = True                1 : 0      =     13.0 : 1.0\n",
      "                     fda = True                1 : 0      =     12.0 : 1.0\n",
      "                      5g = True                1 : 0      =     11.1 : 1.0\n",
      "                     few = True                1 : 0      =     11.1 : 1.0\n",
      "                   treat = True                1 : 0      =     10.1 : 1.0\n",
      "                    home = True                0 : 1      =      9.0 : 1.0\n",
      "           authorization = True                1 : 0      =      8.2 : 1.0\n",
      "                    safe = True                0 : 1      =      8.1 : 1.0\n",
      "               emergency = True                1 : 0      =      5.6 : 1.0\n",
      "                   india = True                0 : 1      =      5.3 : 1.0\n",
      "                actually = True                1 : 0      =      5.3 : 1.0\n",
      "                   drink = True                1 : 0      =      5.3 : 1.0\n",
      "                  during = True                1 : 0      =      5.3 : 1.0\n",
      "                   trump = True                1 : 0      =      4.6 : 1.0\n",
      "                lockdown = True                0 : 1      =      4.5 : 1.0\n",
      "                   doesn = True                1 : 0      =      4.3 : 1.0\n",
      "                  update = True                1 : 0      =      4.3 : 1.0\n",
      "                    wave = True                1 : 0      =      4.3 : 1.0\n",
      "                     yes = True                1 : 0      =      4.3 : 1.0\n",
      "                   break = True                0 : 1      =      3.9 : 1.0\n",
      "                 disease = True                0 : 1      =      3.9 : 1.0\n",
      "                  family = True                0 : 1      =      3.9 : 1.0\n",
      "                  please = True                0 : 1      =      3.9 : 1.0\n",
      "                    down = True                1 : 0      =      3.8 : 1.0\n",
      "                medicine = True                1 : 0      =      3.8 : 1.0\n",
      "                    back = True                0 : 1      =      3.5 : 1.0\n",
      "                 contact = True                0 : 1      =      3.5 : 1.0\n",
      "                stayhome = True                0 : 1      =      3.5 : 1.0\n",
      "                    stay = True                0 : 1      =      3.4 : 1.0\n",
      "                      ca = True                1 : 0      =      3.4 : 1.0\n",
      "                     hot = True                1 : 0      =      3.4 : 1.0\n",
      "                 malaria = True                1 : 0      =      3.4 : 1.0\n",
      "                    mind = True                1 : 0      =      3.4 : 1.0\n",
      "                  number = True                1 : 0      =      3.4 : 1.0\n",
      "                  oxford = True                1 : 0      =      3.4 : 1.0\n",
      "                  report = True                1 : 0      =      3.4 : 1.0\n",
      "                  second = True                1 : 0      =      3.4 : 1.0\n",
      "                   those = True                1 : 0      =      3.4 : 1.0\n",
      "                withdraw = True                1 : 0      =      3.4 : 1.0\n",
      "                   wuhan = True                1 : 0      =      3.4 : 1.0\n",
      "                   child = True                1 : 0      =      3.2 : 1.0\n",
      "                  social = True                0 : 1      =      3.2 : 1.0\n",
      "                    drug = True                1 : 0      =      3.1 : 1.0\n",
      "                  doctor = True                1 : 0      =      3.1 : 1.0\n",
      "                  spread = True                0 : 1      =      3.1 : 1.0\n",
      "                    long = True                0 : 1      =      3.0 : 1.0\n",
      "                 protect = True                0 : 1      =      3.0 : 1.0\n",
      "                    risk = True                0 : 1      =      3.0 : 1.0\n",
      "                    hand = True                0 : 1      =      2.9 : 1.0\n",
      "                    need = True                1 : 0      =      2.7 : 1.0\n",
      "               treatment = True                1 : 0      =      2.7 : 1.0\n",
      "                    hoax = True                1 : 0      =      2.7 : 1.0\n",
      "                   study = True                1 : 0      =      2.7 : 1.0\n",
      "                    tell = True                1 : 0      =      2.7 : 1.0\n",
      "                    bill = True                1 : 0      =      2.6 : 1.0\n",
      "                    show = True                1 : 0      =      2.6 : 1.0\n",
      "                     now = True                1 : 0      =      2.6 : 1.0\n",
      "                    care = True                0 : 1      =      2.5 : 1.0\n",
      "                     end = True                0 : 1      =      2.5 : 1.0\n",
      "                    hard = True                0 : 1      =      2.5 : 1.0\n",
      "                hospital = True                0 : 1      =      2.5 : 1.0\n",
      "                 medical = True                0 : 1      =      2.5 : 1.0\n",
      "                 serious = True                0 : 1      =      2.5 : 1.0\n",
      "                 suggest = True                0 : 1      =      2.5 : 1.0\n",
      "                immunity = True                1 : 0      =      2.5 : 1.0\n",
      "                      up = True                1 : 0      =      2.4 : 1.0\n",
      "                   allow = True                1 : 0      =      2.4 : 1.0\n",
      "                     bad = True                1 : 0      =      2.4 : 1.0\n",
      "                     bat = True                1 : 0      =      2.4 : 1.0\n",
      "                     big = True                1 : 0      =      2.4 : 1.0\n",
      "                breaking = True                1 : 0      =      2.4 : 1.0\n",
      "                    burn = True                1 : 0      =      2.4 : 1.0\n",
      "                   cause = True                1 : 0      =      2.4 : 1.0\n",
      "                    city = True                1 : 0      =      2.4 : 1.0\n",
      "                cocktail = True                1 : 0      =      2.4 : 1.0\n",
      "                 combine = True                1 : 0      =      2.4 : 1.0\n",
      "                 contain = True                1 : 0      =      2.4 : 1.0\n",
      "                  course = True                1 : 0      =      2.4 : 1.0\n",
      "                  create = True                1 : 0      =      2.4 : 1.0\n",
      "                  depend = True                1 : 0      =      2.4 : 1.0\n",
      "                  expert = True                1 : 0      =      2.4 : 1.0\n",
      "                   first = True                1 : 0      =      2.4 : 1.0\n",
      "                    herd = True                1 : 0      =      2.4 : 1.0\n",
      "             immediately = True                1 : 0      =      2.4 : 1.0\n",
      "                 include = True                1 : 0      =      2.4 : 1.0\n",
      "                     law = True                1 : 0      =      2.4 : 1.0\n",
      "                   light = True                1 : 0      =      2.4 : 1.0\n",
      "                    list = True                1 : 0      =      2.4 : 1.0\n",
      "                     lot = True                1 : 0      =      2.4 : 1.0\n",
      "                    near = True                1 : 0      =      2.4 : 1.0\n",
      "                  period = True                1 : 0      =      2.4 : 1.0\n",
      "                    post = True                1 : 0      =      2.4 : 1.0\n",
      "                 require = True                1 : 0      =      2.4 : 1.0\n",
      "                  result = True                1 : 0      =      2.4 : 1.0\n",
      "                  safely = True                1 : 0      =      2.4 : 1.0\n",
      "                    sars = True                1 : 0      =      2.4 : 1.0\n",
      "                   texas = True                1 : 0      =      2.4 : 1.0\n",
      "                     try = True                1 : 0      =      2.4 : 1.0\n",
      "                    zero = True                1 : 0      =      2.4 : 1.0\n",
      "None\n"
     ]
    }
   ],
   "source": [
    "print(classifier.show_most_informative_features(100))"
   ]
  },
  {
   "cell_type": "markdown",
   "metadata": {},
   "source": [
    "# Ngrams methods"
   ]
  },
  {
   "cell_type": "code",
   "execution_count": 86,
   "metadata": {},
   "outputs": [],
   "source": [
    "import nltk.classify.util\n",
    "from nltk.classify import NaiveBayesClassifier\n",
    "from nltk.corpus import movie_reviews\n",
    "from nltk.corpus import stopwords\n",
    "from nltk.tokenize import word_tokenize\n",
    "from nltk import ngrams"
   ]
  },
  {
   "cell_type": "code",
   "execution_count": 87,
   "metadata": {},
   "outputs": [],
   "source": [
    "def create_ngram_features(words, n=2):\n",
    "    ngram_vocab = ngrams(words, n)\n",
    "    my_dict = dict([(ng, True) for ng in ngram_vocab])\n",
    "    return my_dict"
   ]
  },
  {
   "cell_type": "code",
   "execution_count": 393,
   "metadata": {},
   "outputs": [
    {
     "name": "stdout",
     "output_type": "stream",
     "text": [
      "1-gram accuracy: 0.735\n",
      "2-gram accuracy: 0.7625\n",
      "3-gram accuracy: 0.8275\n",
      "4-gram accuracy: 0.8125\n",
      "5-gram accuracy: 0.74\n"
     ]
    }
   ],
   "source": [
    "for n in [1,2,3,4,5]:\n",
    "    pos_data = []\n",
    "    for fileid in movie_reviews.fileids('pos'):\n",
    "        words = movie_reviews.words(fileid)\n",
    "        pos_data.append((create_ngram_features(words, n), \"positive\"))    \n",
    "\n",
    "    neg_data = []\n",
    "    for fileid in movie_reviews.fileids('neg'):\n",
    "        words = movie_reviews.words(fileid)\n",
    "        neg_data.append((create_ngram_features(words, n), \"negative\")) \n",
    "\n",
    "    train_set = pos_data[:800] + neg_data[:800]\n",
    "    test_set =  pos_data[800:] + neg_data[800:]\n",
    "\n",
    "    classifier = NaiveBayesClassifier.train(train_set)\n",
    "\n",
    "    accuracy = nltk.classify.util.accuracy(classifier, test_set)\n",
    "    print(str(n)+'-gram accuracy:', accuracy)"
   ]
  },
  {
   "cell_type": "code",
   "execution_count": 88,
   "metadata": {},
   "outputs": [
    {
     "data": {
      "text/plain": [
       "'0'"
      ]
     },
     "execution_count": 88,
     "metadata": {},
     "output_type": "execute_result"
    }
   ],
   "source": [
    "true_tweet_dataset[i][1]"
   ]
  },
  {
   "cell_type": "code",
   "execution_count": 89,
   "metadata": {},
   "outputs": [
    {
     "name": "stdout",
     "output_type": "stream",
     "text": [
      "1-gram size of total data  450\n",
      "1-gram size of training data  360\n",
      "1-gram size of test data  90\n",
      "1-gram accuracy for NB: 0.6333333333333333\n",
      "True info Precision: 0.6779661016949152\n",
      "Misinfo Precision: 0.5483870967741935\n",
      "True info Recall: 0.7407407407407407\n",
      "Misinfo Recall: 0.4722222222222222\n",
      "True info F-measure: 0.7079646017699115\n",
      "Misinfo F-measure: 0.5074626865671642\n",
      "1-gram accuracy for DT: 0.6555555555555556\n",
      "True info Precision: 0.7017543859649122\n",
      "Misinfo Precision: 0.5757575757575758\n",
      "True info Recall: 0.7407407407407407\n",
      "Misinfo Recall: 0.5277777777777778\n",
      "True info F-measure: 0.7207207207207206\n",
      "Misinfo F-measure: 0.5507246376811594\n",
      "  ==> Training (100 iterations)\n",
      "\n",
      "      Iteration    Log Likelihood    Accuracy\n",
      "      ---------------------------------------\n",
      "             1          -0.69315        0.456\n",
      "             2          -0.43368        0.939\n",
      "             3          -0.33140        0.961\n",
      "             4          -0.27230        0.972\n",
      "             5          -0.23250        0.981\n",
      "             6          -0.20346        0.989\n",
      "             7          -0.18116        0.992\n",
      "             8          -0.16345        0.992\n",
      "             9          -0.14901        0.994\n",
      "            10          -0.13700        0.994\n",
      "            11          -0.12684        0.994\n",
      "            12          -0.11814        0.994\n",
      "            13          -0.11060        0.994\n",
      "            14          -0.10400        0.994\n",
      "            15          -0.09817        0.994\n",
      "            16          -0.09299        0.994\n",
      "            17          -0.08835        0.994\n",
      "            18          -0.08417        0.994\n",
      "            19          -0.08039        0.994\n",
      "            20          -0.07695        0.994\n",
      "            21          -0.07381        0.994\n",
      "            22          -0.07093        0.994\n",
      "            23          -0.06827        0.994\n",
      "            24          -0.06582        0.994\n",
      "            25          -0.06355        0.994\n",
      "            26          -0.06144        0.994\n",
      "            27          -0.05948        0.994\n",
      "            28          -0.05764        0.994\n",
      "            29          -0.05593        0.994\n",
      "            30          -0.05431        0.994\n",
      "            31          -0.05280        0.997\n",
      "            32          -0.05137        0.997\n",
      "            33          -0.05003        0.997\n",
      "            34          -0.04875        0.997\n",
      "            35          -0.04755        0.997\n",
      "            36          -0.04641        0.997\n",
      "            37          -0.04532        0.997\n",
      "            38          -0.04429        0.997\n",
      "            39          -0.04331        0.997\n",
      "            40          -0.04238        0.997\n",
      "            41          -0.04148        0.997\n",
      "            42          -0.04063        0.997\n",
      "            43          -0.03981        0.997\n",
      "            44          -0.03903        0.997\n",
      "            45          -0.03828        0.997\n",
      "            46          -0.03757        0.997\n",
      "            47          -0.03688        0.997\n",
      "            48          -0.03621        0.997\n",
      "            49          -0.03558        0.997\n",
      "            50          -0.03496        0.997\n",
      "            51          -0.03437        0.997\n",
      "            52          -0.03380        0.997\n",
      "            53          -0.03325        0.997\n",
      "            54          -0.03272        0.997\n",
      "            55          -0.03221        0.997\n",
      "            56          -0.03171        0.997\n",
      "            57          -0.03123        0.997\n",
      "            58          -0.03077        0.997\n",
      "            59          -0.03032        0.997\n",
      "            60          -0.02988        0.997\n",
      "            61          -0.02946        0.997\n",
      "            62          -0.02905        0.997\n",
      "            63          -0.02865        0.997\n",
      "            64          -0.02826        0.997\n",
      "            65          -0.02789        0.997\n",
      "            66          -0.02752        0.997\n",
      "            67          -0.02717        0.997\n",
      "            68          -0.02682        0.997\n",
      "            69          -0.02649        0.997\n",
      "            70          -0.02616        0.997\n",
      "            71          -0.02584        0.997\n",
      "            72          -0.02553        0.997\n",
      "            73          -0.02523        0.997\n",
      "            74          -0.02493        0.997\n",
      "            75          -0.02464        0.997\n",
      "            76          -0.02436        0.997\n",
      "            77          -0.02409        0.997\n",
      "            78          -0.02382        0.997\n",
      "            79          -0.02356        0.997\n",
      "            80          -0.02330        0.997\n",
      "            81          -0.02305        0.997\n",
      "            82          -0.02280        0.997\n",
      "            83          -0.02256        0.997\n",
      "            84          -0.02233        0.997\n",
      "            85          -0.02210        0.997\n",
      "            86          -0.02188        0.997\n",
      "            87          -0.02166        0.997\n",
      "            88          -0.02144        0.997\n",
      "            89          -0.02123        0.997\n",
      "            90          -0.02102        0.997\n",
      "            91          -0.02082        0.997\n",
      "            92          -0.02062        0.997\n",
      "            93          -0.02043        0.997\n",
      "            94          -0.02024        0.997\n",
      "            95          -0.02005        0.997\n",
      "            96          -0.01986        0.997\n",
      "            97          -0.01968        0.997\n",
      "            98          -0.01951        0.997\n",
      "            99          -0.01933        0.997\n",
      "         Final          -0.01916        0.997\n",
      "1-gram accuracy for MXNet: 0.6666666666666666\n",
      "True info Precision: 0.6818181818181818\n",
      "Misinfo Precision: 0.625\n",
      "True info Recall: 0.8333333333333334\n",
      "Misinfo Recall: 0.4166666666666667\n",
      "True info F-measure: 0.7499999999999999\n",
      "Misinfo F-measure: 0.5\n",
      "1-gram accuracy for RF: 0.6555555555555556\n",
      "True info Precision: 0.6533333333333333\n",
      "Misinfo Precision: 0.6666666666666666\n",
      "True info Recall: 0.9074074074074074\n",
      "Misinfo Recall: 0.2777777777777778\n",
      "True info F-measure: 0.7596899224806202\n",
      "Misinfo F-measure: 0.3921568627450981\n",
      "1-gram accuracy for SVM: 0.6666666666666666\n",
      "True info Precision: 0.6714285714285714\n",
      "Misinfo Precision: 0.65\n",
      "True info Recall: 0.8703703703703703\n",
      "Misinfo Recall: 0.3611111111111111\n",
      "True info F-measure: 0.7580645161290321\n",
      "Misinfo F-measure: 0.4642857142857143\n",
      "Most Informative Features\n",
      "                     fda = True                1 : 0      =     13.3 : 1.0\n",
      "                     few = True                1 : 0      =     13.3 : 1.0\n",
      "                      5g = True                1 : 0      =     10.3 : 1.0\n",
      "               emergency = True                1 : 0      =      9.7 : 1.0\n",
      "                   treat = True                1 : 0      =      9.3 : 1.0\n",
      "      hydroxychloroquine = True                1 : 0      =      9.1 : 1.0\n",
      "                    home = True                0 : 1      =      8.4 : 1.0\n",
      "                   right = True                1 : 0      =      8.0 : 1.0\n",
      "                   child = True                1 : 0      =      7.4 : 1.0\n",
      "                   trump = True                1 : 0      =      7.0 : 1.0\n",
      "                    safe = True                0 : 1      =      6.6 : 1.0\n",
      "                 malaria = True                1 : 0      =      5.4 : 1.0\n",
      "               president = True                1 : 0      =      5.4 : 1.0\n",
      "                    drug = True                1 : 0      =      5.2 : 1.0\n",
      "                anything = True                1 : 0      =      4.4 : 1.0\n",
      "                    hoax = True                1 : 0      =      4.4 : 1.0\n",
      "                  report = True                1 : 0      =      4.4 : 1.0\n",
      "                  second = True                1 : 0      =      4.4 : 1.0\n",
      "                     yes = True                1 : 0      =      4.4 : 1.0\n",
      "                   india = True                0 : 1      =      4.3 : 1.0\n",
      "                      up = True                1 : 0      =      4.0 : 1.0\n",
      "                distance = True                0 : 1      =      3.8 : 1.0\n",
      "                actually = True                1 : 0      =      3.8 : 1.0\n",
      "                medicine = True                1 : 0      =      3.8 : 1.0\n",
      "                    stay = True                0 : 1      =      3.6 : 1.0\n",
      "                   agree = True                1 : 0      =      3.4 : 1.0\n",
      "                     bad = True                1 : 0      =      3.4 : 1.0\n",
      "                    best = True                1 : 0      =      3.4 : 1.0\n",
      "                   cause = True                1 : 0      =      3.4 : 1.0\n",
      "                    cell = True                1 : 0      =      3.4 : 1.0\n",
      "None\n",
      "2-gram size of total data  450\n",
      "2-gram size of training data  360\n",
      "2-gram size of test data  90\n",
      "2-gram accuracy for NB: 0.6222222222222222\n",
      "True info Precision: 0.5866666666666667\n",
      "Misinfo Precision: 0.8\n",
      "True info Recall: 0.9361702127659575\n",
      "Misinfo Recall: 0.27906976744186046\n",
      "True info F-measure: 0.7213114754098361\n",
      "Misinfo F-measure: 0.4137931034482758\n"
     ]
    },
    {
     "name": "stdout",
     "output_type": "stream",
     "text": [
      "2-gram accuracy for DT: 0.5555555555555556\n",
      "True info Precision: 0.5421686746987951\n",
      "Misinfo Precision: 0.7142857142857143\n",
      "True info Recall: 0.9574468085106383\n",
      "Misinfo Recall: 0.11627906976744186\n",
      "True info F-measure: 0.6923076923076923\n",
      "Misinfo F-measure: 0.2\n",
      "  ==> Training (100 iterations)\n",
      "\n",
      "      Iteration    Log Likelihood    Accuracy\n",
      "      ---------------------------------------\n",
      "             1          -0.69315        0.436\n",
      "             2          -0.36020        0.983\n",
      "             3          -0.26165        0.992\n",
      "             4          -0.20600        1.000\n",
      "             5          -0.17011        1.000\n",
      "             6          -0.14498        1.000\n",
      "             7          -0.12639        1.000\n",
      "             8          -0.11206        1.000\n",
      "             9          -0.10067        1.000\n",
      "            10          -0.09140        1.000\n",
      "            11          -0.08370        1.000\n",
      "            12          -0.07721        1.000\n",
      "            13          -0.07166        1.000\n",
      "            14          -0.06685        1.000\n",
      "            15          -0.06266        1.000\n",
      "            16          -0.05896        1.000\n",
      "            17          -0.05567        1.000\n",
      "            18          -0.05274        1.000\n",
      "            19          -0.05010        1.000\n",
      "            20          -0.04771        1.000\n",
      "            21          -0.04554        1.000\n",
      "            22          -0.04356        1.000\n",
      "            23          -0.04174        1.000\n",
      "            24          -0.04007        1.000\n",
      "            25          -0.03853        1.000\n",
      "            26          -0.03711        1.000\n",
      "            27          -0.03578        1.000\n",
      "            28          -0.03455        1.000\n",
      "            29          -0.03340        1.000\n",
      "            30          -0.03233        1.000\n",
      "            31          -0.03132        1.000\n",
      "            32          -0.03037        1.000\n",
      "            33          -0.02948        1.000\n",
      "            34          -0.02864        1.000\n",
      "            35          -0.02784        1.000\n",
      "            36          -0.02709        1.000\n",
      "            37          -0.02638        1.000\n",
      "            38          -0.02571        1.000\n",
      "            39          -0.02506        1.000\n",
      "            40          -0.02445        1.000\n",
      "            41          -0.02387        1.000\n",
      "            42          -0.02332        1.000\n",
      "            43          -0.02279        1.000\n",
      "            44          -0.02228        1.000\n",
      "            45          -0.02180        1.000\n",
      "            46          -0.02134        1.000\n",
      "            47          -0.02090        1.000\n",
      "            48          -0.02047        1.000\n",
      "            49          -0.02006        1.000\n",
      "            50          -0.01967        1.000\n",
      "            51          -0.01929        1.000\n",
      "            52          -0.01893        1.000\n",
      "            53          -0.01858        1.000\n",
      "            54          -0.01824        1.000\n",
      "            55          -0.01792        1.000\n",
      "            56          -0.01760        1.000\n",
      "            57          -0.01730        1.000\n",
      "            58          -0.01701        1.000\n",
      "            59          -0.01673        1.000\n",
      "            60          -0.01645        1.000\n",
      "            61          -0.01619        1.000\n",
      "            62          -0.01593        1.000\n",
      "            63          -0.01568        1.000\n",
      "            64          -0.01544        1.000\n",
      "            65          -0.01521        1.000\n",
      "            66          -0.01498        1.000\n",
      "            67          -0.01476        1.000\n",
      "            68          -0.01455        1.000\n",
      "            69          -0.01434        1.000\n",
      "            70          -0.01414        1.000\n",
      "            71          -0.01394        1.000\n",
      "            72          -0.01375        1.000\n",
      "            73          -0.01357        1.000\n",
      "            74          -0.01339        1.000\n",
      "            75          -0.01321        1.000\n",
      "            76          -0.01304        1.000\n",
      "            77          -0.01287        1.000\n",
      "            78          -0.01271        1.000\n",
      "            79          -0.01255        1.000\n",
      "            80          -0.01240        1.000\n",
      "            81          -0.01225        1.000\n",
      "            82          -0.01210        1.000\n",
      "            83          -0.01196        1.000\n",
      "            84          -0.01182        1.000\n",
      "            85          -0.01168        1.000\n",
      "            86          -0.01154        1.000\n",
      "            87          -0.01141        1.000\n",
      "            88          -0.01129        1.000\n",
      "            89          -0.01116        1.000\n",
      "            90          -0.01104        1.000\n",
      "            91          -0.01092        1.000\n",
      "            92          -0.01080        1.000\n",
      "            93          -0.01069        1.000\n",
      "            94          -0.01057        1.000\n",
      "            95          -0.01046        1.000\n",
      "            96          -0.01036        1.000\n",
      "            97          -0.01025        1.000\n",
      "            98          -0.01015        1.000\n",
      "            99          -0.01005        1.000\n",
      "         Final          -0.00995        1.000\n",
      "2-gram accuracy for MXNet: 0.6666666666666666\n",
      "True info Precision: 0.7073170731707317\n",
      "Misinfo Precision: 0.6326530612244898\n",
      "True info Recall: 0.6170212765957447\n",
      "Misinfo Recall: 0.7209302325581395\n",
      "True info F-measure: 0.6590909090909092\n",
      "Misinfo F-measure: 0.6739130434782609\n",
      "2-gram accuracy for RF: 0.5555555555555556\n",
      "True info Precision: 0.5402298850574713\n",
      "Misinfo Precision: 1.0\n",
      "True info Recall: 1.0\n",
      "Misinfo Recall: 0.06976744186046512\n",
      "True info F-measure: 0.7014925373134329\n",
      "Misinfo F-measure: 0.13043478260869565\n",
      "2-gram accuracy for SVM: 0.5555555555555556\n",
      "True info Precision: 0.5402298850574713\n",
      "Misinfo Precision: 1.0\n",
      "True info Recall: 1.0\n",
      "Misinfo Recall: 0.06976744186046512\n",
      "True info F-measure: 0.7014925373134329\n",
      "Misinfo F-measure: 0.13043478260869565\n",
      "Most Informative Features\n",
      "                     fda = True                1 : 0      =     13.3 : 1.0\n",
      "                     few = True                1 : 0      =     13.3 : 1.0\n",
      "                      5g = True                1 : 0      =     10.3 : 1.0\n",
      "               emergency = True                1 : 0      =      9.7 : 1.0\n",
      "                   treat = True                1 : 0      =      9.3 : 1.0\n",
      "      hydroxychloroquine = True                1 : 0      =      9.1 : 1.0\n",
      "                    home = True                0 : 1      =      8.4 : 1.0\n",
      "                   right = True                1 : 0      =      8.0 : 1.0\n",
      "                   child = True                1 : 0      =      7.4 : 1.0\n",
      "                   trump = True                1 : 0      =      7.0 : 1.0\n",
      "                    safe = True                0 : 1      =      6.6 : 1.0\n",
      "                 malaria = True                1 : 0      =      5.4 : 1.0\n",
      "               president = True                1 : 0      =      5.4 : 1.0\n",
      "                    drug = True                1 : 0      =      5.2 : 1.0\n",
      "                anything = True                1 : 0      =      4.4 : 1.0\n",
      "                    hoax = True                1 : 0      =      4.4 : 1.0\n",
      "                  report = True                1 : 0      =      4.4 : 1.0\n",
      "                  second = True                1 : 0      =      4.4 : 1.0\n",
      "                     yes = True                1 : 0      =      4.4 : 1.0\n",
      "                   india = True                0 : 1      =      4.3 : 1.0\n",
      "                      up = True                1 : 0      =      4.0 : 1.0\n",
      "                distance = True                0 : 1      =      3.8 : 1.0\n",
      "                actually = True                1 : 0      =      3.8 : 1.0\n",
      "                medicine = True                1 : 0      =      3.8 : 1.0\n",
      "                    stay = True                0 : 1      =      3.6 : 1.0\n",
      "                   agree = True                1 : 0      =      3.4 : 1.0\n",
      "                     bad = True                1 : 0      =      3.4 : 1.0\n",
      "                    best = True                1 : 0      =      3.4 : 1.0\n",
      "                   cause = True                1 : 0      =      3.4 : 1.0\n",
      "                    cell = True                1 : 0      =      3.4 : 1.0\n",
      "None\n",
      "3-gram size of total data  450\n",
      "3-gram size of training data  360\n",
      "3-gram size of test data  90\n",
      "3-gram accuracy for NB: 0.6\n",
      "True info Precision: 0.5930232558139535\n",
      "Misinfo Precision: 0.75\n",
      "True info Recall: 0.9807692307692307\n",
      "Misinfo Recall: 0.07894736842105263\n",
      "True info F-measure: 0.7391304347826086\n",
      "Misinfo F-measure: 0.14285714285714285\n"
     ]
    },
    {
     "name": "stdout",
     "output_type": "stream",
     "text": [
      "3-gram accuracy for DT: 0.5888888888888889\n",
      "True info Precision: 0.5842696629213483\n",
      "Misinfo Precision: 1.0\n",
      "True info Recall: 1.0\n",
      "Misinfo Recall: 0.02631578947368421\n",
      "True info F-measure: 0.7375886524822695\n",
      "Misinfo F-measure: 0.05128205128205128\n",
      "  ==> Training (100 iterations)\n",
      "\n",
      "      Iteration    Log Likelihood    Accuracy\n",
      "      ---------------------------------------\n",
      "             1          -0.69315        0.450\n",
      "             2          -0.40858        0.997\n",
      "             3          -0.29216        1.000\n",
      "             4          -0.22786        1.000\n",
      "             5          -0.18697        1.000\n",
      "             6          -0.15864        1.000\n",
      "             7          -0.13784        1.000\n",
      "             8          -0.12191        1.000\n",
      "             9          -0.10931        1.000\n",
      "            10          -0.09910        1.000\n",
      "            11          -0.09066        1.000\n",
      "            12          -0.08355        1.000\n",
      "            13          -0.07750        1.000\n",
      "            14          -0.07227        1.000\n",
      "            15          -0.06771        1.000\n",
      "            16          -0.06370        1.000\n",
      "            17          -0.06014        1.000\n",
      "            18          -0.05697        1.000\n",
      "            19          -0.05412        1.000\n",
      "            20          -0.05155        1.000\n",
      "            21          -0.04921        1.000\n",
      "            22          -0.04708        1.000\n",
      "            23          -0.04513        1.000\n",
      "            24          -0.04333        1.000\n",
      "            25          -0.04168        1.000\n",
      "            26          -0.04015        1.000\n",
      "            27          -0.03873        1.000\n",
      "            28          -0.03741        1.000\n",
      "            29          -0.03618        1.000\n",
      "            30          -0.03502        1.000\n",
      "            31          -0.03394        1.000\n",
      "            32          -0.03293        1.000\n",
      "            33          -0.03198        1.000\n",
      "            34          -0.03108        1.000\n",
      "            35          -0.03023        1.000\n",
      "            36          -0.02942        1.000\n",
      "            37          -0.02866        1.000\n",
      "            38          -0.02794        1.000\n",
      "            39          -0.02726        1.000\n",
      "            40          -0.02660        1.000\n",
      "            41          -0.02598        1.000\n",
      "            42          -0.02539        1.000\n",
      "            43          -0.02483        1.000\n",
      "            44          -0.02428        1.000\n",
      "            45          -0.02377        1.000\n",
      "            46          -0.02327        1.000\n",
      "            47          -0.02280        1.000\n",
      "            48          -0.02234        1.000\n",
      "            49          -0.02191        1.000\n",
      "            50          -0.02149        1.000\n",
      "            51          -0.02108        1.000\n",
      "            52          -0.02069        1.000\n",
      "            53          -0.02032        1.000\n",
      "            54          -0.01996        1.000\n",
      "            55          -0.01961        1.000\n",
      "            56          -0.01928        1.000\n",
      "            57          -0.01895        1.000\n",
      "            58          -0.01864        1.000\n",
      "            59          -0.01834        1.000\n",
      "            60          -0.01804        1.000\n",
      "            61          -0.01776        1.000\n",
      "            62          -0.01748        1.000\n",
      "            63          -0.01722        1.000\n",
      "            64          -0.01696        1.000\n",
      "            65          -0.01671        1.000\n",
      "            66          -0.01647        1.000\n",
      "            67          -0.01623        1.000\n",
      "            68          -0.01600        1.000\n",
      "            69          -0.01578        1.000\n",
      "            70          -0.01556        1.000\n",
      "            71          -0.01535        1.000\n",
      "            72          -0.01515        1.000\n",
      "            73          -0.01495        1.000\n",
      "            74          -0.01475        1.000\n",
      "            75          -0.01456        1.000\n",
      "            76          -0.01438        1.000\n",
      "            77          -0.01420        1.000\n",
      "            78          -0.01402        1.000\n",
      "            79          -0.01385        1.000\n",
      "            80          -0.01369        1.000\n",
      "            81          -0.01352        1.000\n",
      "            82          -0.01337        1.000\n",
      "            83          -0.01321        1.000\n",
      "            84          -0.01306        1.000\n",
      "            85          -0.01291        1.000\n",
      "            86          -0.01277        1.000\n",
      "            87          -0.01263        1.000\n",
      "            88          -0.01249        1.000\n",
      "            89          -0.01235        1.000\n",
      "            90          -0.01222        1.000\n",
      "            91          -0.01209        1.000\n",
      "            92          -0.01196        1.000\n",
      "            93          -0.01184        1.000\n",
      "            94          -0.01172        1.000\n",
      "            95          -0.01160        1.000\n",
      "            96          -0.01148        1.000\n",
      "            97          -0.01137        1.000\n",
      "            98          -0.01126        1.000\n",
      "            99          -0.01115        1.000\n",
      "         Final          -0.01104        1.000\n",
      "3-gram accuracy for MXNet: 0.5333333333333333\n",
      "True info Precision: 0.9166666666666666\n",
      "Misinfo Precision: 0.47435897435897434\n",
      "True info Recall: 0.21153846153846154\n",
      "Misinfo Recall: 0.9736842105263158\n",
      "True info F-measure: 0.34375\n",
      "Misinfo F-measure: 0.6379310344827587\n",
      "3-gram accuracy for RF: 0.5888888888888889\n",
      "True info Precision: 0.5842696629213483\n",
      "Misinfo Precision: 1.0\n",
      "True info Recall: 1.0\n",
      "Misinfo Recall: 0.02631578947368421\n",
      "True info F-measure: 0.7375886524822695\n",
      "Misinfo F-measure: 0.05128205128205128\n",
      "3-gram accuracy for SVM: 0.6\n",
      "True info Precision: 0.5909090909090909\n",
      "Misinfo Precision: 1.0\n",
      "True info Recall: 1.0\n",
      "Misinfo Recall: 0.05263157894736842\n",
      "True info F-measure: 0.7428571428571428\n",
      "Misinfo F-measure: 0.1\n",
      "Most Informative Features\n",
      "                     fda = True                1 : 0      =     13.3 : 1.0\n",
      "                     few = True                1 : 0      =     13.3 : 1.0\n",
      "                      5g = True                1 : 0      =     10.3 : 1.0\n",
      "               emergency = True                1 : 0      =      9.7 : 1.0\n",
      "                   treat = True                1 : 0      =      9.3 : 1.0\n",
      "      hydroxychloroquine = True                1 : 0      =      9.1 : 1.0\n",
      "                    home = True                0 : 1      =      8.4 : 1.0\n",
      "                   right = True                1 : 0      =      8.0 : 1.0\n",
      "                   child = True                1 : 0      =      7.4 : 1.0\n",
      "                   trump = True                1 : 0      =      7.0 : 1.0\n",
      "                    safe = True                0 : 1      =      6.6 : 1.0\n",
      "                 malaria = True                1 : 0      =      5.4 : 1.0\n",
      "               president = True                1 : 0      =      5.4 : 1.0\n",
      "                    drug = True                1 : 0      =      5.2 : 1.0\n",
      "                anything = True                1 : 0      =      4.4 : 1.0\n",
      "                    hoax = True                1 : 0      =      4.4 : 1.0\n",
      "                  report = True                1 : 0      =      4.4 : 1.0\n",
      "                  second = True                1 : 0      =      4.4 : 1.0\n",
      "                     yes = True                1 : 0      =      4.4 : 1.0\n",
      "                   india = True                0 : 1      =      4.3 : 1.0\n",
      "                      up = True                1 : 0      =      4.0 : 1.0\n",
      "                distance = True                0 : 1      =      3.8 : 1.0\n",
      "                actually = True                1 : 0      =      3.8 : 1.0\n",
      "                medicine = True                1 : 0      =      3.8 : 1.0\n",
      "                    stay = True                0 : 1      =      3.6 : 1.0\n",
      "                   agree = True                1 : 0      =      3.4 : 1.0\n",
      "                     bad = True                1 : 0      =      3.4 : 1.0\n",
      "                    best = True                1 : 0      =      3.4 : 1.0\n",
      "                   cause = True                1 : 0      =      3.4 : 1.0\n",
      "                    cell = True                1 : 0      =      3.4 : 1.0\n",
      "None\n"
     ]
    }
   ],
   "source": [
    "for n in [1,2,3]:\n",
    "    trueinfo_data = []\n",
    "    for i in range(len(true_tweet_dataset)):\n",
    "        words = true_tweet_dataset[i][0]\n",
    "        trueinfo_data.append((create_ngram_features(words, n), \"0\"))    \n",
    "\n",
    "    misinfo_data = []\n",
    "    for i in range(len(misinfo_tweet_dataset)):\n",
    "        words = misinfo_tweet_dataset[i][0]\n",
    "        misinfo_data.append((create_ngram_features(words, n), \"1\")) \n",
    "    trueinfo_data = random.sample(trueinfo_data, 250)\n",
    "    misinfo_data = random.sample(misinfo_data, 200)\n",
    "    Merge_data = trueinfo_data + misinfo_data\n",
    "    print(str(n)+'-gram size of total data ',len(Merge_data))\n",
    "    random.shuffle(Merge_data)\n",
    "    \n",
    "    train_set = Merge_data[:360]\n",
    "    test_set =  Merge_data[360:]\n",
    "    print(str(n)+'-gram size of training data ',len(train_set))\n",
    "    print(str(n)+'-gram size of test data ', len(test_set))\n",
    "    classifier_nb = NaiveBayesClassifier.train(train_set)\n",
    "\n",
    "    accuracy_nb = nltk.classify.util.accuracy(classifier_nb, test_set)\n",
    "    print(str(n)+'-gram accuracy for NB:', accuracy_nb)\n",
    "    refsets_ngram = collections.defaultdict(set)\n",
    "    testsets_ngram = collections.defaultdict(set)\n",
    "\n",
    "    for i, (feats, label) in enumerate(test_set):\n",
    "        refsets_ngram[label].add(i)\n",
    "        observed = classifier_nb.classify(feats)\n",
    "        testsets_ngram[observed].add(i)\n",
    "    print( 'True info Precision:', precision(refsets_ngram['0'], testsets_ngram['0']))\n",
    "    print( 'Misinfo Precision:', precision(refsets_ngram['1'], testsets_ngram['1']))\n",
    "    print( 'True info Recall:', recall(refsets_ngram['0'], testsets_ngram['0']))\n",
    "    print( 'Misinfo Recall:', recall(refsets_ngram['1'], testsets_ngram['1']) )\n",
    "    print( 'True info F-measure:', f_measure(refsets_ngram['0'], testsets_ngram['0']))\n",
    "    print( 'Misinfo F-measure:', f_measure(refsets_ngram['1'], testsets_ngram['1']) )\n",
    "    \n",
    "    #decision tree\n",
    "    classifier_dt = DecisionTreeClassifier.train(train_set)\n",
    "\n",
    "    accuracy_dt = nltk.classify.util.accuracy(classifier_dt, test_set)\n",
    "    print(str(n)+'-gram accuracy for DT:', accuracy_dt)\n",
    "    \n",
    "    refsets_ngram_dt = collections.defaultdict(set)\n",
    "    testsets_ngram_dt = collections.defaultdict(set)\n",
    "    \n",
    "    for i, (feats, label) in enumerate(test_set):\n",
    "        refsets_ngram_dt[label].add(i)\n",
    "        observed = classifier_dt.classify(feats)\n",
    "        testsets_ngram_dt[observed].add(i)\n",
    "    \n",
    "    print( 'True info Precision:', precision(refsets_ngram_dt['0'], testsets_ngram_dt['0']))\n",
    "    print( 'Misinfo Precision:', precision(refsets_ngram_dt['1'], testsets_ngram_dt['1']))\n",
    "    print( 'True info Recall:', recall(refsets_ngram_dt['0'], testsets_ngram_dt['0']))\n",
    "    print( 'Misinfo Recall:', recall(refsets_ngram_dt['1'], testsets_ngram_dt['1']) )\n",
    "    print( 'True info F-measure:', f_measure(refsets_ngram_dt['0'], testsets_ngram_dt['0']))\n",
    "    print( 'Misinfo F-measure:', f_measure(refsets_ngram_dt['1'], testsets_ngram_dt['1']) )\n",
    "    \n",
    "    #MXnet\n",
    "    classifier_mxn = MaxentClassifier.train(train_set)\n",
    "\n",
    "    accuracy_mxn = nltk.classify.util.accuracy(classifier_mxn, test_set)\n",
    "    print(str(n)+'-gram accuracy for MXNet:', accuracy_mxn)\n",
    "    \n",
    "    refsets_ngram_mxn = collections.defaultdict(set)\n",
    "    testsets_ngram_mxn = collections.defaultdict(set)\n",
    "    \n",
    "    for i, (feats, label) in enumerate(test_set):\n",
    "        refsets_ngram_mxn[label].add(i)\n",
    "        observed = classifier_mxn.classify(feats)\n",
    "        testsets_ngram_mxn[observed].add(i)\n",
    "    \n",
    "    print( 'True info Precision:', precision(refsets_ngram_mxn['0'], testsets_ngram_mxn['0']))\n",
    "    print( 'Misinfo Precision:', precision(refsets_ngram_mxn['1'], testsets_ngram_mxn['1']))\n",
    "    print( 'True info Recall:', recall(refsets_ngram_mxn['0'], testsets_ngram_mxn['0']))\n",
    "    print( 'Misinfo Recall:', recall(refsets_ngram_mxn['1'], testsets_ngram_mxn['1']) )\n",
    "    print( 'True info F-measure:', f_measure(refsets_ngram_mxn['0'], testsets_ngram_mxn['0']))\n",
    "    print( 'Misinfo F-measure:', f_measure(refsets_ngram_mxn['1'], testsets_ngram_mxn['1']) )\n",
    "    \n",
    "    #RandomForest\n",
    "    classifier_rf = SklearnClassifier(RandomForestClassifier()).train(train_set)\n",
    "\n",
    "    accuracy_rf = nltk.classify.util.accuracy(classifier_rf, test_set)\n",
    "    print(str(n)+'-gram accuracy for RF:', accuracy_rf)\n",
    "    \n",
    "    refsets_ngram_rf = collections.defaultdict(set)\n",
    "    testsets_ngram_rf = collections.defaultdict(set)\n",
    "    \n",
    "    for i, (feats, label) in enumerate(test_set):\n",
    "        refsets_ngram_rf[label].add(i)\n",
    "        observed = classifier_rf.classify(feats)\n",
    "        testsets_ngram_rf[observed].add(i)\n",
    "    \n",
    "    print( 'True info Precision:', precision(refsets_ngram_rf['0'], testsets_ngram_rf['0']))\n",
    "    print( 'Misinfo Precision:', precision(refsets_ngram_rf['1'], testsets_ngram_rf['1']))\n",
    "    print( 'True info Recall:', recall(refsets_ngram_rf['0'], testsets_ngram_rf['0']))\n",
    "    print( 'Misinfo Recall:', recall(refsets_ngram_rf['1'], testsets_ngram_rf['1']) )\n",
    "    print( 'True info F-measure:', f_measure(refsets_ngram_rf['0'], testsets_ngram_rf['0']))\n",
    "    print( 'Misinfo F-measure:', f_measure(refsets_ngram_rf['1'], testsets_ngram_rf['1']) )\n",
    "    \n",
    "    #SVM\n",
    "    classifier_svm = SklearnClassifier(SVC()).train(train_set)\n",
    "\n",
    "    accuracy_svm = nltk.classify.util.accuracy(classifier_svm, test_set)\n",
    "    print(str(n)+'-gram accuracy for SVM:', accuracy_svm)\n",
    "    \n",
    "    refsets_ngram_svm = collections.defaultdict(set)\n",
    "    testsets_ngram_svm = collections.defaultdict(set)\n",
    "    \n",
    "    for i, (feats, label) in enumerate(test_set):\n",
    "        refsets_ngram_svm[label].add(i)\n",
    "        observed = classifier_svm.classify(feats)\n",
    "        testsets_ngram_svm[observed].add(i)\n",
    "    \n",
    "    print( 'True info Precision:', precision(refsets_ngram_svm['0'], testsets_ngram_svm['0']))\n",
    "    print( 'Misinfo Precision:', precision(refsets_ngram_svm['1'], testsets_ngram_svm['1']))\n",
    "    print( 'True info Recall:', recall(refsets_ngram_svm['0'], testsets_ngram_svm['0']))\n",
    "    print( 'Misinfo Recall:', recall(refsets_ngram_svm['1'], testsets_ngram_svm['1']) )\n",
    "    print( 'True info F-measure:', f_measure(refsets_ngram_svm['0'], testsets_ngram_svm['0']))\n",
    "    print( 'Misinfo F-measure:', f_measure(refsets_ngram_svm['1'], testsets_ngram_svm['1']) )\n",
    "    \n",
    "    \n",
    "    \n",
    "    print(classifier.show_most_informative_features(30))"
   ]
  },
  {
   "cell_type": "code",
   "execution_count": null,
   "metadata": {},
   "outputs": [],
   "source": [
    "refsets_ngram = collections.defaultdict(set)\n",
    "testsets_ngram = collections.defaultdict(set)\n",
    "\n",
    "for i, (feats, label) in enumerate(test_data):\n",
    "    refsets_ngram[label].add(i)\n",
    "    observed = classifier.classify(feats)\n",
    "    testsets_ngram[observed].add(i)"
   ]
  },
  {
   "cell_type": "code",
   "execution_count": 429,
   "metadata": {},
   "outputs": [],
   "source": [
    "from sklearn.feature_extraction.text import CountVectorizer\n",
    "count_vect = CountVectorizer()"
   ]
  },
  {
   "cell_type": "code",
   "execution_count": 430,
   "metadata": {},
   "outputs": [
    {
     "ename": "AttributeError",
     "evalue": "'tuple' object has no attribute 'lower'",
     "output_type": "error",
     "traceback": [
      "\u001b[1;31m---------------------------------------------------------------------------\u001b[0m",
      "\u001b[1;31mAttributeError\u001b[0m                            Traceback (most recent call last)",
      "\u001b[1;32m<ipython-input-430-44fac3ff4d9d>\u001b[0m in \u001b[0;36m<module>\u001b[1;34m\u001b[0m\n\u001b[1;32m----> 1\u001b[1;33m \u001b[0mX_train_counts\u001b[0m \u001b[1;33m=\u001b[0m \u001b[0mcount_vect\u001b[0m\u001b[1;33m.\u001b[0m\u001b[0mfit_transform\u001b[0m\u001b[1;33m(\u001b[0m\u001b[0mtrain_data\u001b[0m\u001b[1;33m)\u001b[0m\u001b[1;33m\u001b[0m\u001b[1;33m\u001b[0m\u001b[0m\n\u001b[0m",
      "\u001b[1;32m~\\Anaconda3\\lib\\site-packages\\sklearn\\feature_extraction\\text.py\u001b[0m in \u001b[0;36mfit_transform\u001b[1;34m(self, raw_documents, y)\u001b[0m\n\u001b[0;32m   1196\u001b[0m         \u001b[0mmax_features\u001b[0m \u001b[1;33m=\u001b[0m \u001b[0mself\u001b[0m\u001b[1;33m.\u001b[0m\u001b[0mmax_features\u001b[0m\u001b[1;33m\u001b[0m\u001b[1;33m\u001b[0m\u001b[0m\n\u001b[0;32m   1197\u001b[0m \u001b[1;33m\u001b[0m\u001b[0m\n\u001b[1;32m-> 1198\u001b[1;33m         vocabulary, X = self._count_vocab(raw_documents,\n\u001b[0m\u001b[0;32m   1199\u001b[0m                                           self.fixed_vocabulary_)\n\u001b[0;32m   1200\u001b[0m \u001b[1;33m\u001b[0m\u001b[0m\n",
      "\u001b[1;32m~\\Anaconda3\\lib\\site-packages\\sklearn\\feature_extraction\\text.py\u001b[0m in \u001b[0;36m_count_vocab\u001b[1;34m(self, raw_documents, fixed_vocab)\u001b[0m\n\u001b[0;32m   1108\u001b[0m         \u001b[1;32mfor\u001b[0m \u001b[0mdoc\u001b[0m \u001b[1;32min\u001b[0m \u001b[0mraw_documents\u001b[0m\u001b[1;33m:\u001b[0m\u001b[1;33m\u001b[0m\u001b[1;33m\u001b[0m\u001b[0m\n\u001b[0;32m   1109\u001b[0m             \u001b[0mfeature_counter\u001b[0m \u001b[1;33m=\u001b[0m \u001b[1;33m{\u001b[0m\u001b[1;33m}\u001b[0m\u001b[1;33m\u001b[0m\u001b[1;33m\u001b[0m\u001b[0m\n\u001b[1;32m-> 1110\u001b[1;33m             \u001b[1;32mfor\u001b[0m \u001b[0mfeature\u001b[0m \u001b[1;32min\u001b[0m \u001b[0manalyze\u001b[0m\u001b[1;33m(\u001b[0m\u001b[0mdoc\u001b[0m\u001b[1;33m)\u001b[0m\u001b[1;33m:\u001b[0m\u001b[1;33m\u001b[0m\u001b[1;33m\u001b[0m\u001b[0m\n\u001b[0m\u001b[0;32m   1111\u001b[0m                 \u001b[1;32mtry\u001b[0m\u001b[1;33m:\u001b[0m\u001b[1;33m\u001b[0m\u001b[1;33m\u001b[0m\u001b[0m\n\u001b[0;32m   1112\u001b[0m                     \u001b[0mfeature_idx\u001b[0m \u001b[1;33m=\u001b[0m \u001b[0mvocabulary\u001b[0m\u001b[1;33m[\u001b[0m\u001b[0mfeature\u001b[0m\u001b[1;33m]\u001b[0m\u001b[1;33m\u001b[0m\u001b[1;33m\u001b[0m\u001b[0m\n",
      "\u001b[1;32m~\\Anaconda3\\lib\\site-packages\\sklearn\\feature_extraction\\text.py\u001b[0m in \u001b[0;36m_analyze\u001b[1;34m(doc, analyzer, tokenizer, ngrams, preprocessor, decoder, stop_words)\u001b[0m\n\u001b[0;32m    102\u001b[0m     \u001b[1;32melse\u001b[0m\u001b[1;33m:\u001b[0m\u001b[1;33m\u001b[0m\u001b[1;33m\u001b[0m\u001b[0m\n\u001b[0;32m    103\u001b[0m         \u001b[1;32mif\u001b[0m \u001b[0mpreprocessor\u001b[0m \u001b[1;32mis\u001b[0m \u001b[1;32mnot\u001b[0m \u001b[1;32mNone\u001b[0m\u001b[1;33m:\u001b[0m\u001b[1;33m\u001b[0m\u001b[1;33m\u001b[0m\u001b[0m\n\u001b[1;32m--> 104\u001b[1;33m             \u001b[0mdoc\u001b[0m \u001b[1;33m=\u001b[0m \u001b[0mpreprocessor\u001b[0m\u001b[1;33m(\u001b[0m\u001b[0mdoc\u001b[0m\u001b[1;33m)\u001b[0m\u001b[1;33m\u001b[0m\u001b[1;33m\u001b[0m\u001b[0m\n\u001b[0m\u001b[0;32m    105\u001b[0m         \u001b[1;32mif\u001b[0m \u001b[0mtokenizer\u001b[0m \u001b[1;32mis\u001b[0m \u001b[1;32mnot\u001b[0m \u001b[1;32mNone\u001b[0m\u001b[1;33m:\u001b[0m\u001b[1;33m\u001b[0m\u001b[1;33m\u001b[0m\u001b[0m\n\u001b[0;32m    106\u001b[0m             \u001b[0mdoc\u001b[0m \u001b[1;33m=\u001b[0m \u001b[0mtokenizer\u001b[0m\u001b[1;33m(\u001b[0m\u001b[0mdoc\u001b[0m\u001b[1;33m)\u001b[0m\u001b[1;33m\u001b[0m\u001b[1;33m\u001b[0m\u001b[0m\n",
      "\u001b[1;32m~\\Anaconda3\\lib\\site-packages\\sklearn\\feature_extraction\\text.py\u001b[0m in \u001b[0;36m_preprocess\u001b[1;34m(doc, accent_function, lower)\u001b[0m\n\u001b[0;32m     67\u001b[0m     \"\"\"\n\u001b[0;32m     68\u001b[0m     \u001b[1;32mif\u001b[0m \u001b[0mlower\u001b[0m\u001b[1;33m:\u001b[0m\u001b[1;33m\u001b[0m\u001b[1;33m\u001b[0m\u001b[0m\n\u001b[1;32m---> 69\u001b[1;33m         \u001b[0mdoc\u001b[0m \u001b[1;33m=\u001b[0m \u001b[0mdoc\u001b[0m\u001b[1;33m.\u001b[0m\u001b[0mlower\u001b[0m\u001b[1;33m(\u001b[0m\u001b[1;33m)\u001b[0m\u001b[1;33m\u001b[0m\u001b[1;33m\u001b[0m\u001b[0m\n\u001b[0m\u001b[0;32m     70\u001b[0m     \u001b[1;32mif\u001b[0m \u001b[0maccent_function\u001b[0m \u001b[1;32mis\u001b[0m \u001b[1;32mnot\u001b[0m \u001b[1;32mNone\u001b[0m\u001b[1;33m:\u001b[0m\u001b[1;33m\u001b[0m\u001b[1;33m\u001b[0m\u001b[0m\n\u001b[0;32m     71\u001b[0m         \u001b[0mdoc\u001b[0m \u001b[1;33m=\u001b[0m \u001b[0maccent_function\u001b[0m\u001b[1;33m(\u001b[0m\u001b[0mdoc\u001b[0m\u001b[1;33m)\u001b[0m\u001b[1;33m\u001b[0m\u001b[1;33m\u001b[0m\u001b[0m\n",
      "\u001b[1;31mAttributeError\u001b[0m: 'tuple' object has no attribute 'lower'"
     ]
    }
   ],
   "source": [
    "X_train_counts = count_vect.fit_transform(train_data[0])"
   ]
  },
  {
   "cell_type": "code",
   "execution_count": 433,
   "metadata": {},
   "outputs": [
    {
     "name": "stdout",
     "output_type": "stream",
     "text": [
      "Collecting dnspython==2.1.0rc1\n",
      "  Downloading dnspython-2.1.0rc1-py3-none-any.whl (241 kB)\n",
      "Installing collected packages: dnspython\n",
      "Successfully installed dnspython-2.1.0rc1\n"
     ]
    }
   ],
   "source": [
    "!pip install dnspython==2.1.0rc1"
   ]
  },
  {
   "cell_type": "code",
   "execution_count": 434,
   "metadata": {},
   "outputs": [
    {
     "ename": "ModuleNotFoundError",
     "evalue": "No module named 'subbrute'",
     "output_type": "error",
     "traceback": [
      "\u001b[1;31m---------------------------------------------------------------------------\u001b[0m",
      "\u001b[1;31mModuleNotFoundError\u001b[0m                       Traceback (most recent call last)",
      "\u001b[1;32m<ipython-input-434-ed99ae4a0a19>\u001b[0m in \u001b[0;36m<module>\u001b[1;34m\u001b[0m\n\u001b[1;32m----> 1\u001b[1;33m \u001b[1;32mimport\u001b[0m \u001b[0msubbrute\u001b[0m\u001b[1;33m\u001b[0m\u001b[1;33m\u001b[0m\u001b[0m\n\u001b[0m",
      "\u001b[1;31mModuleNotFoundError\u001b[0m: No module named 'subbrute'"
     ]
    }
   ],
   "source": [
    "import subbrute"
   ]
  },
  {
   "cell_type": "code",
   "execution_count": 435,
   "metadata": {},
   "outputs": [
    {
     "name": "stdout",
     "output_type": "stream",
     "text": [
      "Collecting waybackpy\n",
      "  Downloading waybackpy-2.2.0-py3-none-any.whl (13 kB)\n",
      "Installing collected packages: waybackpy\n",
      "Successfully installed waybackpy-2.2.0\n"
     ]
    }
   ],
   "source": [
    "!pip install waybackpy"
   ]
  },
  {
   "cell_type": "code",
   "execution_count": 1,
   "metadata": {},
   "outputs": [],
   "source": [
    "import waybackpy"
   ]
  },
  {
   "cell_type": "code",
   "execution_count": 2,
   "metadata": {},
   "outputs": [
    {
     "name": "stdout",
     "output_type": "stream",
     "text": [
      "https://web.archive.org/web/20201119102941/https://www.google.com/\n"
     ]
    }
   ],
   "source": [
    "\n",
    "\n",
    "url = \"https://www.google.com/\"\n",
    "user_agent = \"Mozilla/5.0 (Macintosh; Intel Mac OS X 10.8; rv:40.0) Gecko/20100101 Firefox/40.0\"\n",
    "\n",
    "waybackpy_url_obj = waybackpy.Url(url, user_agent)\n",
    "archive_url = waybackpy_url_obj.archive_url\n",
    "print(archive_url)"
   ]
  },
  {
   "cell_type": "code",
   "execution_count": 3,
   "metadata": {},
   "outputs": [
    {
     "name": "stdout",
     "output_type": "stream",
     "text": [
      "{'archived_snapshots': {'closest': {'timestamp': '20201119102941', 'available': True, 'status': '200', 'url': 'http://web.archive.org/web/20201119102941/https://www.google.com/'}}, 'url': 'https://www.google.com/'}\n"
     ]
    }
   ],
   "source": [
    "url = \"https://www.google.com/\"\n",
    "user_agent = \"Mozilla/5.0 (Macintosh; Intel Mac OS X 10.10; rv:39.0) Gecko/20100101 Firefox/39.0\"\n",
    "\n",
    "waybackpy_url_obj = waybackpy.Url(url, user_agent)\n",
    "json_dict = waybackpy_url_obj.JSON\n",
    "print(json_dict)"
   ]
  },
  {
   "cell_type": "code",
   "execution_count": 4,
   "metadata": {},
   "outputs": [],
   "source": [
    "from waybackpy import Url\n",
    "\n",
    "user_agent = \"Mozilla/5.0 (Macintosh; Intel Mac OS X 10.10; rv:38.0) Gecko/20100101 Firefox/38.0\"\n",
    "url = \"https://github.com/\"\n",
    "\n",
    "waybackpy_url_obj = Url(url, user_agent)\n"
   ]
  },
  {
   "cell_type": "code",
   "execution_count": 5,
   "metadata": {},
   "outputs": [
    {
     "name": "stdout",
     "output_type": "stream",
     "text": [
      "https://web.archive.org/web/20200619131316/https://github.com/\n"
     ]
    }
   ],
   "source": [
    "github_archive_near_2020_june = waybackpy_url_obj.near(year=2020, month=6)\n",
    "print(github_archive_near_2020_june)"
   ]
  },
  {
   "cell_type": "code",
   "execution_count": 6,
   "metadata": {},
   "outputs": [
    {
     "name": "stdout",
     "output_type": "stream",
     "text": [
      "<!doctype html><html itemscope=\"\" itemtype=\"http://schema.org/WebPage\" lang=\"en\"><head><meta charset=\"UTF-8\"><meta content=\"origin\" name=\"referrer\"><link href=\"/manifest?pwa=webhp\" crossorigin=\"use-credentials\" rel=\"manifest\"><meta content=\"Search the world's information, including webpages, images, videos and more. Google has many special features to help you find exactly what you're looking for.\" name=\"description\"><meta content=\"noodp\" name=\"robots\"><meta content=\"/images/branding/googleg/1x/googleg_standard_color_128dp.png\" itemprop=\"image\"><title>Google</title><script nonce=\"85l7VxQ9iEgIvpEFNOfcIw==\">(function(){window.google={kEI:'U2-2X-akBKKAtgWs5LmIBQ',kEXPI:'31',kBL:'q1cz'};google.sn='webhp';google.kHL='en';})();(function(){google.lc=[];google.li=0;google.getEI=function(a){for(var c;a&&(!a.getAttribute||!(c=a.getAttribute(\"eid\")));)a=a.parentNode;return c||google.kEI};google.getLEI=function(a){for(var c=null;a&&(!a.getAttribute||!(c=a.getAttribute(\"leid\")));)a=a.parentNode;return c};google.ml=function(){return null};google.time=function(){return Date.now()};google.log=function(a,c,b,d,g){if(b=google.logUrl(a,c,b,d,g)){a=new Image;var e=google.lc,f=google.li;e[f]=a;a.onerror=a.onload=a.onabort=function(){delete e[f]};google.vel&&google.vel.lu&&google.vel.lu(b);a.src=b;google.li=f+1}};google.logUrl=function(a,c,b,d,g){var e=\"\",f=google.ls||\"\";b||-1!=c.search(\"&ei=\")||(e=\"&ei=\"+google.getEI(d),-1==c.search(\"&lei=\")&&(d=google.getLEI(d))&&(e+=\"&lei=\"+d));d=\"\";!b&&google.cshid&&-1==c.search(\"&cshid=\")&&\"slh\"!=a&&(d=\"&cshid=\"+google.cshid);b=b||\"/\"+(g||\"gen_204\")+\"?atyp=i&ct=\"+a+\"&cad=\"+c+e+f+\"&zx=\"+google.time()+d;/^http:/i.test(b)&&\"https:\"==window.location.protocol&&(google.ml(Error(\"a\"),!1,{src:b,glmm:1}),b=\"\");return b};}).call(this);(function(){google.y={};google.x=function(a,b){if(a)var c=a.id;else{do c=Math.random();while(google.y[c])}google.y[c]=[a,b];return!1};google.lm=[];google.plm=function(a){google.lm.push.apply(google.lm,a)};google.lq=[];google.load=function(a,b,c){google.lq.push([[a],b,c])};google.loadAll=function(a,b){google.lq.push([a,b])};}).call(this);google.f={};(function(){\n",
      "document.documentElement.addEventListener(\"submit\",function(b){var a;if(a=b.target){var c=a.getAttribute(\"data-submitfalse\");a=\"1\"==c||\"q\"==c&&!a.elements.q.value?!0:!1}else a=!1;a&&(b.preventDefault(),b.stopPropagation())},!0);document.documentElement.addEventListener(\"click\",function(b){var a;a:{for(a=b.target;a&&a!=document.documentElement;a=a.parentElement)if(\"A\"==a.tagName){a=\"1\"==a.getAttribute(\"data-nohref\");break a}a=!1}a&&b.preventDefault()},!0);}).call(this);(function(){google.hs={h:true,sie:false};})();(function(){google.c={gl:true,lhc:false,lmv:true,sdi:false};(function(){\n",
      "var e=window.performance;var g=function(a,b,c,d){a.addEventListener?a.removeEventListener(b,c,d||!1):a.attachEvent&&a.detachEvent(\"on\"+b,c)},h=function(a,b,c,d){a.addEventListener?a.addEventListener(b,c,d||!1):a.attachEvent&&a.attachEvent(\"on\"+b,c)};google.timers={};google.startTick=function(a){google.timers[a]={t:{start:google.time()},e:{},m:{}}};google.tick=function(a,b,c){google.timers[a]||google.startTick(a);c=void 0!==c?c:google.time();b instanceof Array||(b=[b]);for(var d=0,f;f=b[d++];)google.timers[a].t[f]=c};google.c.e=function(a,b,c){google.timers[a].e[b]=c};google.c.b=function(a){var b=google.timers.load.m;b[a]&&google.ml(Error(\"a\"),!1,{m:a});b[a]=!0};google.c.u=function(a){var b=google.timers.load.m;if(b[a]){b[a]=!1;for(a in b)if(b[a])return;google.csiReport()}else google.ml(Error(\"b\"),!1,{m:a})};google.rll=function(a,b,c){var d=function(f){c(f);g(a,\"load\",d);g(a,\"error\",d)};h(a,\"load\",d);b&&h(a,\"error\",d)};google.aft=function(a){a.setAttribute(\"data-iml\",google.time())};google.startTick(\"load\");var k=google.timers.load;a:{var l=k.t;if(e){var m=e.timing;if(m){var n=m.navigationStart,p=m.responseStart;if(p>n&&p<=l.start){l.start=p;k.wsrt=p-n;break a}}e.now&&(k.wsrt=Math.floor(e.now()))}}google.c.b(\"pr\");google.c.b(\"xe\");if(google.c.gl){var q=function(a){a&&google.aft(a.target)};h(document.documentElement,\"load\",q,!0);google.c.glu=function(){g(document.documentElement,\"load\",q,!0)}};}).call(this);})();(function(){\n",
      "function g(){return window.performance&&window.performance.navigation&&window.performance.navigation.type};function k(a,b){return!a||!b&&l(a)?0:a.getBoundingClientRect?m(a,b,function(c){return c.getBoundingClientRect()}):1}function l(a){if(\"none\"==a.style.display)return!0;if(document.defaultView&&document.defaultView.getComputedStyle){var b=a.getAttribute(\"data-deferred\");b&&a.setAttribute(\"data-deferred\",0);var c=document.defaultView.getComputedStyle(a);c=!!c&&(\"hidden\"==c.visibility||\"0px\"==c.height&&\"0px\"==c.width);b&&a.setAttribute(\"data-deferred\",b);return c}return!1}\n",
      "function m(a,b,c){var d=c(a);a=d.left+window.pageXOffset;c=d.top+window.pageYOffset;var e=d.width;d=d.height;var f=0;if(!b&&0>=d&&0>=e)return f;0>c+d?f=2:c>=(window.innerHeight||document.documentElement.clientHeight)&&(f=4);if(0>a+e||a>=(window.innerWidth||document.documentElement.clientWidth))f|=8;return f||1};var n,q=window.location,r=[\"aft\",\"hct\",\"prt\",\"pprt\",\"sct\"];function t(a){return(a=q.search.match(new RegExp(\"[?&]\"+a+\"=(\\\\d+)\")))?Number(a[1]):-1}function u(a){n.removeEventListener(\"click\",u);a.stopPropagation&&a.stopPropagation()}\n",
      "function v(){var a=\"&ima=\"+w+\"&imad=\"+x,b=google.timers.load,c=b.m;if(!c||!c.prs){var d=g()?0:t(\"qsubts\");0<d&&(c=t(\"fbts\"),0<c&&(b.t.start=Math.max(d,c)));var e=b.t,f=e.start;c={wsrt:b.wsrt};for(var I=0,p;p=r[I++];){var y=e[p];y&&f&&(c[p]=y-f)}0<d&&(c.gsasrt=b.t.start-d);d=b.e;b=\"/gen_204?s=\"+google.sn+\"&t=aft&atyp=csi&ei=\"+google.kEI+\"&rt=\";e=\"\";for(var h in c)b+=\"\"+e+h+\".\"+c[h],e=\",\";for(var z in d)b+=\"&\"+z+\"=\"+d[z];google.cshid&&(b+=\"&cshid=\"+google.cshid);2==g()&&(b+=\"&bb=1\");1==g()&&(b+=\"&r=1\");\"gsasrt\"in c&&(h=t(\"qsd\"),0<h&&(b+=\"&qsd=\"+h));google.kBL&&(b+=\"&bl=\"+google.kBL);a=b+(a||\"\");(n=document.getElementById(\"csi-ping\"))?(n.addEventListener(\"click\",u),n.setAttribute(\"ping\",a),n.click()):navigator.sendBeacon?navigator.sendBeacon(a,\"\"):google.log(\"\",\"\",a)}};var A=0,B=0,w=0,x=0,C=0,D=!0,E=!0;function F(a,b,c,d){var e=google.timers.load.t[a];e&&(c||d&&b&&b<e)||google.tick(\"load\",a,b)}function G(a,b){b=b||google.time();F(\"aft\",b,!1,!0);++C;D||C!=w||v();H(a,b)}function H(a,b){a=b||google.time();F(\"iml\",a,!1,!0);++B;J()}function J(){E||B!=A||google.c.u(\"il\")}var K=\"src bsrc url ll image img-url\".split(\" \");google.c.b(\"il\");google.c.setup=function(a){var b=a.getAttribute(\"data-atf\");if(b)return Number(b);var c=\"string\"!=typeof a.src||!a.src,d=!!a.getAttribute(\"data-bsrc\");b=a.getAttribute(\"data-deferred\");var e;if(e=!b)a:{e=0;for(var f;f=K[e++];)if(a.getAttribute(\"data-\"+f)){e=!0;break a}e=!1}e&&a.setAttribute(\"data-lzy_\",1);c=(e=(c||a.complete)&&!b&&!d)&&!google.c.lhc&&Number(a.getAttribute(\"data-iml\"))||0;d=k(a,d&&google.c.lmv);a.setAttribute(\"data-atf\",d);++A;e&&!c||a.hasAttribute(\"data-noaft\")?++B:(f=(e=1==d)?G:H,e&&(++w,b&&++x),c?f(void 0,c):google.rll(a,!0,f));return d};google.c.ubr=function(a,b){F(\"aft\",b,!0);D&&((D=!1,C!=w)||v());a&&E&&(F(\"prt\",b),F(\"iml\",b,!0),E=!1,J(),google.c.setup=function(){return 0},google.c.ubr=function(){})};}).call(this);(function(){\n",
      "var b=[function(){google.tick&&google.tick(\"load\",\"dcl\")}];google.dclc=function(a){b.length?b.push(a):a()};function c(){for(var a;a=b.shift();)a()}window.addEventListener?(document.addEventListener(\"DOMContentLoaded\",c,!1),window.addEventListener(\"load\",c,!1)):window.attachEvent&&window.attachEvent(\"onload\",c);}).call(this);(function(){\n",
      "var b=[];google.jsc={xx:b,x:function(a){b.push(a)},mm:[],m:function(a){google.jsc.mm.length||(google.jsc.mm=a)}};}).call(this);(function(){\n",
      "var f=this||self;\n",
      "\n",
      "var h={};var x=function(a,c){if(null===c)return!1;if(\"contains\"in a&&1==c.nodeType)return a.contains(c);if(\"compareDocumentPosition\"in a)return a==c||!!(a.compareDocumentPosition(c)&16);for(;c&&a!=c;)c=c.parentNode;return c==a};var aa=function(a,c){return function(d){d||(d=window.event);return c.call(a,d)}},z=function(a){a=a.target||a.srcElement;!a.getAttribute&&a.parentNode&&(a=a.parentNode);return a},A=\"undefined\"!=typeof navigator&&/Macintosh/.test(navigator.userAgent),ba=\"undefined\"!=typeof navigator&&!/Opera/.test(navigator.userAgent)&&/WebKit/.test(navigator.userAgent),ca={A:1,INPUT:1,TEXTAREA:1,SELECT:1,BUTTON:1},da=function(){this._mouseEventsPrevented=!0},F={A:13,BUTTON:0,CHECKBOX:32,COMBOBOX:13,FILE:0,GRIDCELL:13,LINK:13,LISTBOX:13,MENU:0,MENUBAR:0,MENUITEM:0,MENUITEMCHECKBOX:0,MENUITEMRADIO:0,OPTION:0,RADIO:32,RADIOGROUP:32,RESET:0,SUBMIT:0,SWITCH:32,TAB:0,TREE:13,TREEITEM:13},G={CHECKBOX:!0,FILE:!0,OPTION:!0,RADIO:!0},H={COLOR:!0,DATE:!0,DATETIME:!0,\"DATETIME-LOCAL\":!0,EMAIL:!0,MONTH:!0,NUMBER:!0,PASSWORD:!0,RANGE:!0,SEARCH:!0,TEL:!0,TEXT:!0,TEXTAREA:!0,TIME:!0,URL:!0,WEEK:!0},ea={A:!0,AREA:!0,BUTTON:!0,DIALOG:!0,IMG:!0,INPUT:!0,LINK:!0,MENU:!0,OPTGROUP:!0,OPTION:!0,PROGRESS:!0,SELECT:!0,TEXTAREA:!0};\n",
      "var I=function(){this.h=this.a=null},K=function(a,c){var d=J;d.a=a;d.h=c;return d};I.prototype.g=function(){var a=this.a;this.a&&this.a!=this.h?this.a=this.a.__owner||this.a.parentNode:this.a=null;return a};var L=function(){this.i=[];this.a=0;this.h=null;this.j=!1};L.prototype.g=function(){if(this.j)return J.g();if(this.a!=this.i.length){var a=this.i[this.a];this.a++;a!=this.h&&a&&a.__owner&&(this.j=!0,K(a.__owner,this.h));return a}return null};var J=new I,M=new L;\n",
      "var O=function(){this.o=[];this.a=[];this.g=[];this.j={};this.h=null;this.i=[];N(this,\"_custom\")},fa=\"undefined\"!=typeof navigator&&/iPhone|iPad|iPod/.test(navigator.userAgent),P=String.prototype.trim?function(a){return a.trim()}:function(a){return a.replace(/^\\s+/,\"\").replace(/\\s+$/,\"\")},ha=/\\s*;\\s*/,la=function(a,c){return function p(b,g){g=void 0===g?!0:g;var l=c;if(\"_custom\"==l){l=b.detail;if(!l||!l._type)return;l=l._type}if(\"click\"==l&&(A&&b.metaKey||!A&&b.ctrlKey||2==b.which||null==b.which&&\n",
      "4==b.button||b.shiftKey))l=\"clickmod\";else{var k=b.which||b.keyCode;ba&&3==k&&(k=13);if(13!=k&&32!=k)k=!1;else{var e=z(b),n;(n=\"keydown\"!=b.type||!!(!(\"getAttribute\"in e)||(e.getAttribute(\"type\")||e.tagName).toUpperCase()in H||\"BUTTON\"==e.tagName.toUpperCase()||e.type&&\"FILE\"==e.type.toUpperCase()||e.isContentEditable)||b.ctrlKey||b.shiftKey||b.altKey||b.metaKey||(e.getAttribute(\"type\")||e.tagName).toUpperCase()in G&&32==k)||((n=e.tagName in ca)||(n=e.getAttributeNode(\"tabindex\"),n=null!=n&&n.specified),n=!(n&&!e.disabled));if(n)k=!1;else{n=(e.getAttribute(\"role\")||e.type||e.tagName).toUpperCase();var q=!(n in F)&&13==k;e=\"INPUT\"!=e.tagName.toUpperCase()||!!e.type;k=(0==F[n]%k||q)&&e}}k&&(l=\"clickkey\")}e=b.srcElement||b.target;k=R(l,b,e,\"\",null);b.path?(M.i=b.path,M.a=0,M.h=this,M.j=!1,n=M):n=K(e,this);for(;q=n.g();){var m=q;var r=void 0;var u=m;q=l;var t=u.__jsaction;if(!t){var y;t=null;\"getAttribute\"in u&&(t=u.getAttribute(\"jsaction\"));if(y=t){t=h[y];if(!t){t={};for(var B=y.split(ha),ia=B?B.length:0,C=0;C<ia;C++){var w=B[C];if(w){var D=w.indexOf(\":\"),Q=-1!=D,ja=Q?P(w.substr(0,D)):\"click\";w=Q?P(w.substr(D+1)):w;t[ja]=w}}h[y]=t}u.__jsaction=t}else t=ka,u.__jsaction=t}u=t;\"maybe_click\"==q&&u.click?(r=q,q=\"click\"):\"clickkey\"==q?q=\"click\":\"click\"!=q||u.click||(q=\"clickonly\");r={m:r?r:q,action:u[q]||\"\",event:null,s:!1};k=R(r.m,r.event||b,e,r.action||\"\",m,k.timeStamp);if(r.s||r.action)break}k&&\"touchend\"==k.eventType&&(k.event._preventMouseEvents=da);if(r&&r.action){if(e=\"clickkey\"==l)e=z(b),e=(e.type||\n",
      "e.tagName).toUpperCase(),(e=32==(b.which||b.keyCode)&&\"CHECKBOX\"!=e)||(e=z(b),n=e.tagName.toUpperCase(),r=(e.getAttribute(\"role\")||\"\").toUpperCase(),e=\"BUTTON\"===n||\"BUTTON\"===r?!0:!(e.tagName.toUpperCase()in ea)||\"A\"===n||\"SELECT\"===n||(e.getAttribute(\"type\")||e.tagName).toUpperCase()in G||(e.getAttribute(\"type\")||e.tagName).toUpperCase()in H?!1:!0);e&&(b.preventDefault?b.preventDefault():b.returnValue=!1);if(\"mouseenter\"==l||\"mouseleave\"==l)if(e=b.relatedTarget,!(\"mouseover\"==b.type&&\"mouseenter\"==\n",
      "l||\"mouseout\"==b.type&&\"mouseleave\"==l)||e&&(e===m||x(m,e)))k.action=\"\",k.actionElement=null;else{l={};for(var v in b)\"function\"!==typeof b[v]&&\"srcElement\"!==v&&\"target\"!==v&&(l[v]=b[v]);l.type=\"mouseover\"==b.type?\"mouseenter\":\"mouseleave\";l.target=l.srcElement=m;l.bubbles=!1;k.event=l;k.targetElement=m}}else k.action=\"\",k.actionElement=null;m=k;a.h&&!m.event.a11ysgd&&(v=R(m.eventType,m.event,m.targetElement,m.action,m.actionElement,m.timeStamp),\"clickonly\"==v.eventType&&(v.eventType=\"click\"),a.h(v,!0));if(m.actionElement)if(a.h)!m.actionElement||\"A\"!=m.actionElement.tagName||\"click\"!=m.eventType&&\"clickmod\"!=m.eventType||(b.preventDefault?b.preventDefault():b.returnValue=!1),(b=a.h(m))&&g&&p.call(this,b,!1);else{if((g=f.document)&&!g.createEvent&&g.createEventObject)try{var E=g.createEventObject(b)}catch(oa){E=b}else E=b;m.event=E;a.i.push(m)}}},R=function(a,c,d,b,g,p){return{eventType:a,event:c,targetElement:d,action:b,actionElement:g,timeStamp:p||Date.now()}},ka={},ma=function(a,c){return function(d){var b=\n",
      "a,g=c,p=!1;\"mouseenter\"==b?b=\"mouseover\":\"mouseleave\"==b&&(b=\"mouseout\");if(d.addEventListener){if(\"focus\"==b||\"blur\"==b||\"error\"==b||\"load\"==b)p=!0;d.addEventListener(b,g,p)}else d.attachEvent&&(\"focus\"==b?b=\"focusin\":\"blur\"==b&&(b=\"focusout\"),g=aa(d,g),d.attachEvent(\"on\"+b,g));return{m:b,l:g,capture:p}}},N=function(a,c){if(!a.j.hasOwnProperty(c)){var d=la(a,c),b=ma(c,d);a.j[c]=d;a.o.push(b);for(d=0;d<a.a.length;++d){var g=a.a[d];g.g.push(b.call(null,g.a))}\"click\"==c&&N(a,\"keydown\")}};O.prototype.l=function(a){return this.j[a]};var V=function(a,c){var d=new na(c);a:{for(var b=0;b<a.a.length;b++)if(S(a.a[b],c)){c=!0;break a}c=!1}if(c)return a.g.push(d),d;T(a,d);a.a.push(d);U(a);return d},U=function(a){for(var c=a.g.concat(a.a),d=[],b=[],g=0;g<a.a.length;++g){var p=a.a[g];W(p,c)?(d.push(p),X(p)):b.push(p)}for(g=0;g<a.g.length;++g)p=a.g[g],W(p,c)?d.push(p):(b.push(p),T(a,p));a.a=b;a.g=d},T=function(a,c){var d=c.a;fa&&(d.style.cursor=\"pointer\");for(d=0;d<a.o.length;++d)c.g.push(a.o[d].call(null,c.a))},Y=function(a,c){a.h=c;a.i&&(0<a.i.length&&c(a.i),a.i=null)},na=function(a){this.a=a;this.g=[]},S=function(a,c){for(a=a.a;a!=c&&c.parentNode;)c=c.parentNode;return a==c},W=function(a,c){for(var d=0;d<c.length;++d)if(c[d].a!=a.a&&S(c[d],a.a))return!0;return!1},X=function(a){for(var c=0;c<a.g.length;++c){var d=a.a,b=a.g[c];d.removeEventListener?d.removeEventListener(b.m,b.l,b.capture):d.detachEvent&&d.detachEvent(\"on\"+b.m,b.l)}a.g=[]};var Z=new O;V(Z,window.document.documentElement);N(Z,\"click\");N(Z,\"focus\");N(Z,\"focusin\");N(Z,\"blur\");N(Z,\"focusout\");N(Z,\"error\");N(Z,\"load\");N(Z,\"change\");N(Z,\"dblclick\");N(Z,\"input\");N(Z,\"keyup\");N(Z,\"keydown\");N(Z,\"keypress\");N(Z,\"mousedown\");N(Z,\"mouseenter\");N(Z,\"mouseleave\");N(Z,\"mouseout\");N(Z,\"mouseover\");N(Z,\"mouseup\");N(Z,\"paste\");N(Z,\"touchstart\");N(Z,\"touchend\");N(Z,\"touchcancel\");N(Z,\"speech\");(function(a){google.jsad=function(c){Y(a,c)};google.jsaac=function(c){return V(a,c)};google.jsarc=function(c){X(c);for(var d=!1,b=0;b<a.a.length;++b)if(a.a[b]===c){a.a.splice(b,1);d=!0;break}if(!d)for(d=0;d<a.g.length;++d)if(a.g[d]===c){a.g.splice(d,1);break}U(a)}})(Z);window.gws_wizbind=function(a){return{trigger:function(c){var d=a.l(c.type);d||(N(a,c.type),d=a.l(c.type));var b=c.target||c.srcElement;d&&d.call(b.ownerDocument.documentElement,c)},bind:function(c){Y(a,c)}}}(Z);}).call(this);\n",
      "var a=window.location,b=a.href.indexOf(\"#\");if(0<=b){var c=a.href.substring(b+1);/(^|&)q=/.test(c)&&-1==c.indexOf(\"#\")&&a.replace(\"/search?\"+c.replace(/(^|&)fp=[^&]*/g,\"\")+\"&cad=h\")};var h=\"function\"==typeof Object.defineProperties?Object.defineProperty:function(a,b,c){if(a==Array.prototype||a==Object.prototype)return a;a[b]=c.value;return a},k=function(a){a=[\"object\"==typeof globalThis&&globalThis,a,\"object\"==typeof window&&window,\"object\"==typeof self&&self,\"object\"==typeof global&&global];for(var b=0;b<a.length;++b){var c=a[b];if(c&&c.Math==Math)return c}throw Error(\"a\");},l=k(this),m=function(a,b){if(b)a:{var c=l;a=a.split(\".\");for(var d=0;d<a.length-1;d++){var e=a[d];if(!(e in\n",
      "c))break a;c=c[e]}a=a[a.length-1];d=c[a];b=b(d);b!=d&&null!=b&&h(c,a,{configurable:!0,writable:!0,value:b})}};m(\"String.prototype.startsWith\",function(a){return a?a:function(b,c){if(null==this)throw new TypeError(\"The 'this' value for String.prototype.startsWith must not be null or undefined\");if(b instanceof RegExp)throw new TypeError(\"First argument to String.prototype.startsWith must not be a regular expression\");var d=this+\"\";b+=\"\";var e=d.length,g=b.length;c=Math.max(0,Math.min(c|0,d.length));for(var f=0;f<g&&c<e;)if(d[c++]!=b[f++])return!1;return f>=g}});google.arwt=function(a){a.href=document.getElementById(a.id.substring(a.id.startsWith(\"vcs\")?3:1)).href;return!0};(function(){\n",
      "var d=function(a){this.g=a=a.url;var b=/[?&]dsh=1(&|$)/.test(a);this.i=!b&&/[?&]ae=1(&|$)/.test(a);this.j=!b&&/[?&]ae=2(&|$)/.test(a);if((this.a=/[?&]adurl=([^&]*)/.exec(a))&&this.a[1]){try{var c=decodeURIComponent(this.a[1])}catch(e){c=null}this.h=c}},g=function(a,b){return a.i&&a.h||a.j?1==b?a.i?a.h:f(a,\"&dct=1\"):2==b?f(a,\"&ri=2\"):f(a,\"&ri=16\"):a.g},f=function(a,b){return a.a?a.g.slice(0,a.a.index)+b+a.g.slice(a.a.index):a.g+b};var k=function(a,b){this.a=b===h?a:\"\"};k.prototype.h=!0;k.prototype.g=function(){return this.a.toString()};var l=/^(?:(?:https?|mailto|ftp):|[^:/?#]*(?:[/?#]|$))/i,h={};var m=/^((market|itms|intent|itms-appss):\\/\\/)/i;google.ausb=function(a){if(!a)return google.ml(Error(\"a\"),!1),!0;if(a.getAttribute(\"data-sbv2\")){if(a.hasAttribute(\"data-ohref\"))var b=a.getAttribute(\"data-ohref\");else b=a.href,a.setAttribute(\"data-ohref\",b);var c=b;var e=new d({url:c});c=e.i&&e.h||e.j?navigator.sendBeacon?navigator.sendBeacon(f(e,\"&act=1&ri=1\"),\"\")?g(e,1):g(e,2):g(e,0):c;c=c instanceof k||!m.test(c)?c:new k(c,h);b!=c&&(c instanceof k?b=c:(b=c,b instanceof k||(b=\"object\"==typeof b&&b.h?b.g():String(b),l.test(b)||(b=\"about:invalid#zClosurez\"),b=new k(b,h))),a.href=b instanceof k&&b.constructor===k?b.a:\"type_error:SafeUrl\")}return!0};}).call(this);(window['gbar']=window['gbar']||{})._CONFIG=[[[0,\"www.gstatic.com\",\"og.og2.en_US.F-Uj17rvTAs.O\",\"com\",\"en\",\"1\",0,[3,2,\".40.\",\"\",\"1300102,3700338,3700830,3700837\",\"342611702\",\"0\"],\"40400\",\"U2-2X_exBYG-sAXqibuoDQ\",0,0,\"og.og2.rnnlAOL7nv4.L.W.O\",\"AA2YrTt0KcM3-2nGE6q883_mXvYrnj17nQ\",\"AA2YrTscrDPTlHmmWp-TFNvSGEyE2_wZrw\",\"\",2,0,200,\"USA\",null,null,\"1\",\"1\",0],null,0,[\"m;/_/scs/abc-static/_/js/k=gapi.gapi.en.uhBKOtz6fOw.O/d=1/ct=zgms/rs=AHpOoo8GZHNTtpcfighnqAH0uUZTALLzrw/m=__features__\",\"https://apis.google.com\",\"\",\"\",\"\",\"\",null,1,\"es_plusone_gc_20201103.0_p0\",\"en\",null,0],[\"1\",\"gci_91f30755d6a6b787dcc2a4062e6e9824.js\",\"googleapis.client:gapi.iframes\",\"\",\"en\"],null,null,null,[0.009999999776482582,\"com\",\"1\",[[\"19019113\",\"19019112\",\"7\",30,5,2592000,\"\",\"AN2NJM6-GD33cLsf_VxvqGnv0YMLl0VmPg:1605791571090\",0,1,2],\"n\",\"\",[\"\",\"\",\"\"],1,5184000,null,null,\"https://www.google.com/url?q=https://www.google.com/chrome/%3Fbrand%3DRLNS%26utm_source%3Dgoogle.com%26utm_medium%3Dmaterial-callout%26utm_campaign%3Dsearch%26utm_content%3Dreinstall-to-stay-secure%26utm_keyword%3DRLNS\\u0026source=hpp\\u0026id=19019113\\u0026ct=7\\u0026usg=AFQjCNEr8BVI6ordo8O9JVYtc7A9SpG4LQ\",0,1,\"\",null,0,0,null,0,0,1,0,0,0,null,null,0,0],null,null,null,0,null,null,[\"5061451\",\"google\\\\.(com|ru|ca|by|kz|com\\\\.mx|com\\\\.tr)$\",1]],null,[0,0,0,null,\"\",\"\",\"\",\"\"],[1,0.001000000047497451,1],[1,0.1000000014901161,2,1],null,[1],[0,0,[\"lg\"],0,[\"lat\"]],[[\"\",\"\",\"\",\"\",\"\",\"\",\"\",\"\",\"\",\"\",\"\",\"\",\"\",\"\",\"\",\"def\",\"\",\"\",\"\",\"\",\"\",\"\",\"\",\"aswid\"],[\"\"]],null,null,null,[30,127,1,0,60],null,null,null,null,null,[1,0],null,[1,1,null,40400,1,\"USA\",\"en\",\"342611702.0\",1,0.009999999776482582,0,0,null,null,0,0,\"3700830,3700837\",null,null,null,\"U2-2X_exBYG-sAXqibuoDQ\",1,0],null,[\"\"],[[[null,null,[null,null,null,\"https://ogs.google.com/widget/app/so\"],0,448,328,40,27,1,0,0,63,64,8000,\"https://www.google.com/intl/en/about/products?tab=wh\",67,1,69,null,1,70,\"Can't seem to load the app launcher right now. Try again or go to the %1$sGoogle Products%2$s page.\",3,1,0,74,0,null,null,null,null,null,null,1]],1,[null,null,null,\"https://www.gstatic.com/og/_/js/k=og.qtm.en_US.Uy00yW1PZ_k.O/rt=j/m=qdsh/d=1/ed=1/rs=AA2YrTvqJb4fU1b04s4njDEmRjn4z7QgQw\"],\"1\",\"1\",0,0,null,\"en\",0]]];(window['gbar']=window['gbar']||{})._LDD=[\"in\",\"fot\"];this.gbar_=this.gbar_||{};(function(_){var window=this;\n",
      "try{\n",
      "/*\n",
      "\n",
      " Copyright The Closure Library Authors.\n",
      " SPDX-License-Identifier: Apache-2.0\n",
      "*/\n",
      "var ca,da,ea,fa,ha,ja,la,ma,qa,ra,Fa,Ga,Ha;_.aa=function(a){if(Error.captureStackTrace)Error.captureStackTrace(this,_.aa);else{var b=Error().stack;b&&(this.stack=b)}a&&(this.message=String(a))};_.ba=function(a){var b=a.length;if(0<b){for(var c=Array(b),d=0;d<b;d++)c[d]=a[d];return c}return[]};ca=function(a){var b=0;return function(){return b<a.length?{done:!1,value:a[b++]}:{done:!0}}};\n",
      "da=\"function\"==typeof Object.defineProperties?Object.defineProperty:function(a,b,c){if(a==Array.prototype||a==Object.prototype)return a;a[b]=c.value;return a};ea=function(a){a=[\"object\"==typeof globalThis&&globalThis,a,\"object\"==typeof window&&window,\"object\"==typeof self&&self,\"object\"==typeof global&&global];for(var b=0;b<a.length;++b){var c=a[b];if(c&&c.Math==Math)return c}throw Error(\"a\");};fa=ea(this);\n",
      "ha=function(a,b){if(b)a:{var c=fa;a=a.split(\".\");for(var d=0;d<a.length-1;d++){var e=a[d];if(!(e in c))break a;c=c[e]}a=a[a.length-1];d=c[a];b=b(d);b!=d&&null!=b&&da(c,a,{configurable:!0,writable:!0,value:b})}};\n",
      "ha(\"Symbol\",function(a){if(a)return a;var b=function(e,f){this.j=e;da(this,\"description\",{configurable:!0,writable:!0,value:f})};b.prototype.toString=function(){return this.j};var c=0,d=function(e){if(this instanceof d)throw new TypeError(\"b\");return new b(\"jscomp_symbol_\"+(e||\"\")+\"_\"+c++,e)};return d});\n",
      "ha(\"Symbol.iterator\",function(a){if(a)return a;a=Symbol(\"c\");for(var b=\"Array Int8Array Uint8Array Uint8ClampedArray Int16Array Uint16Array Int32Array Uint32Array Float32Array Float64Array\".split(\" \"),c=0;c<b.length;c++){var d=fa[b[c]];\"function\"===typeof d&&\"function\"!=typeof d.prototype[a]&&da(d.prototype,a,{configurable:!0,writable:!0,value:function(){return ja(ca(this))}})}return a});ja=function(a){a={next:a};a[Symbol.iterator]=function(){return this};return a};\n",
      "_.ka=function(a){var b=\"undefined\"!=typeof Symbol&&Symbol.iterator&&a[Symbol.iterator];return b?b.call(a):{next:ca(a)}};la=\"function\"==typeof Object.create?Object.create:function(a){var b=function(){};b.prototype=a;return new b};if(\"function\"==typeof Object.setPrototypeOf)ma=Object.setPrototypeOf;else{var na;a:{var oa={a:!0},pa={};try{pa.__proto__=oa;na=pa.a;break a}catch(a){}na=!1}ma=na?function(a,b){a.__proto__=b;if(a.__proto__!==b)throw new TypeError(\"d`\"+a);return a}:null}qa=ma;\n",
      "_.n=function(a,b){a.prototype=la(b.prototype);a.prototype.constructor=a;if(qa)qa(a,b);else for(var c in b)if(\"prototype\"!=c)if(Object.defineProperties){var d=Object.getOwnPropertyDescriptor(b,c);d&&Object.defineProperty(a,c,d)}else a[c]=b[c];a.V=b.prototype};ra=function(a,b,c){if(null==a)throw new TypeError(\"e`\"+c);if(b instanceof RegExp)throw new TypeError(\"f`\"+c);return a+\"\"};\n",
      "ha(\"String.prototype.startsWith\",function(a){return a?a:function(b,c){var d=ra(this,b,\"startsWith\"),e=d.length,f=b.length;c=Math.max(0,Math.min(c|0,d.length));for(var g=0;g<f&&c<e;)if(d[c++]!=b[g++])return!1;return g>=f}});var sa=function(a,b){a instanceof String&&(a+=\"\");var c=0,d=!1,e={next:function(){if(!d&&c<a.length){var f=c++;return{value:b(f,a[f]),done:!1}}d=!0;return{done:!0,value:void 0}}};e[Symbol.iterator]=function(){return e};return e};\n",
      "ha(\"Array.prototype.keys\",function(a){return a?a:function(){return sa(this,function(b){return b})}});ha(\"Array.prototype.values\",function(a){return a?a:function(){return sa(this,function(b,c){return c})}});ha(\"Array.prototype.entries\",function(a){return a?a:function(){return sa(this,function(b,c){return[b,c]})}});var ta=function(a,b){return Object.prototype.hasOwnProperty.call(a,b)};\n",
      "ha(\"WeakMap\",function(a){function b(){}function c(l){var m=typeof l;return\"object\"===m&&null!==l||\"function\"===m}function d(l){if(!ta(l,f)){var m=new b;da(l,f,{value:m})}}function e(l){var m=Object[l];m&&(Object[l]=function(q){if(q instanceof b)return q;Object.isExtensible(q)&&d(q);return m(q)})}if(function(){if(!a||!Object.seal)return!1;try{var l=Object.seal({}),m=Object.seal({}),q=new a([[l,2],[m,3]]);if(2!=q.get(l)||3!=q.get(m))return!1;q.delete(l);q.set(m,4);return!q.has(l)&&4==q.get(m)}catch(t){return!1}}())return a;\n",
      "var f=\"$jscomp_hidden_\"+Math.random();e(\"freeze\");e(\"preventExtensions\");e(\"seal\");var g=0,k=function(l){this.fa=(g+=Math.random()+1).toString();if(l){l=_.ka(l);for(var m;!(m=l.next()).done;)m=m.value,this.set(m[0],m[1])}};k.prototype.set=function(l,m){if(!c(l))throw Error(\"g\");d(l);if(!ta(l,f))throw Error(\"h`\"+l);l[f][this.fa]=m;return this};k.prototype.get=function(l){return c(l)&&ta(l,f)?l[f][this.fa]:void 0};k.prototype.has=function(l){return c(l)&&ta(l,f)&&ta(l[f],this.fa)};k.prototype.delete=\n",
      "function(l){return c(l)&&ta(l,f)&&ta(l[f],this.fa)?delete l[f][this.fa]:!1};return k});var ua=\"function\"==typeof Object.assign?Object.assign:function(a,b){for(var c=1;c<arguments.length;c++){var d=arguments[c];if(d)for(var e in d)ta(d,e)&&(a[e]=d[e])}return a};ha(\"Object.assign\",function(a){return a||ua});\n",
      "ha(\"Array.from\",function(a){return a?a:function(b,c,d){c=null!=c?c:function(k){return k};var e=[],f=\"undefined\"!=typeof Symbol&&Symbol.iterator&&b[Symbol.iterator];if(\"function\"==typeof f){b=f.call(b);for(var g=0;!(f=b.next()).done;)e.push(c.call(d,f.value,g++))}else for(f=b.length,g=0;g<f;g++)e.push(c.call(d,b[g],g));return e}});\n",
      "ha(\"Map\",function(a){if(function(){if(!a||\"function\"!=typeof a||!a.prototype.entries||\"function\"!=typeof Object.seal)return!1;try{var k=Object.seal({x:4}),l=new a(_.ka([[k,\"s\"]]));if(\"s\"!=l.get(k)||1!=l.size||l.get({x:4})||l.set({x:4},\"t\")!=l||2!=l.size)return!1;var m=l.entries(),q=m.next();if(q.done||q.value[0]!=k||\"s\"!=q.value[1])return!1;q=m.next();return q.done||4!=q.value[0].x||\"t\"!=q.value[1]||!m.next().done?!1:!0}catch(t){return!1}}())return a;var b=new WeakMap,c=function(k){this.o={};this.j=\n",
      "f();this.size=0;if(k){k=_.ka(k);for(var l;!(l=k.next()).done;)l=l.value,this.set(l[0],l[1])}};c.prototype.set=function(k,l){k=0===k?0:k;var m=d(this,k);m.list||(m.list=this.o[m.id]=[]);m.Ka?m.Ka.value=l:(m.Ka={next:this.j,Eb:this.j.Eb,head:this.j,key:k,value:l},m.list.push(m.Ka),this.j.Eb.next=m.Ka,this.j.Eb=m.Ka,this.size++);return this};c.prototype.delete=function(k){k=d(this,k);return k.Ka&&k.list?(k.list.splice(k.index,1),k.list.length||delete this.o[k.id],k.Ka.Eb.next=k.Ka.next,k.Ka.next.Eb=\n",
      "k.Ka.Eb,k.Ka.head=null,this.size--,!0):!1};c.prototype.clear=function(){this.o={};this.j=this.j.Eb=f();this.size=0};c.prototype.has=function(k){return!!d(this,k).Ka};c.prototype.get=function(k){return(k=d(this,k).Ka)&&k.value};c.prototype.entries=function(){return e(this,function(k){return[k.key,k.value]})};c.prototype.keys=function(){return e(this,function(k){return k.key})};c.prototype.values=function(){return e(this,function(k){return k.value})};c.prototype.forEach=function(k,l){for(var m=this.entries(),\n",
      "q;!(q=m.next()).done;)q=q.value,k.call(l,q[1],q[0],this)};c.prototype[Symbol.iterator]=c.prototype.entries;var d=function(k,l){var m=l&&typeof l;\"object\"==m||\"function\"==m?b.has(l)?m=b.get(l):(m=\"\"+ ++g,b.set(l,m)):m=\"p_\"+l;var q=k.o[m];if(q&&ta(k.o,m))for(k=0;k<q.length;k++){var t=q[k];if(l!==l&&t.key!==t.key||l===t.key)return{id:m,list:q,index:k,Ka:t}}return{id:m,list:q,index:-1,Ka:void 0}},e=function(k,l){var m=k.j;return ja(function(){if(m){for(;m.head!=k.j;)m=m.Eb;for(;m.next!=m.head;)return m=\n",
      "m.next,{done:!1,value:l(m)};m=null}return{done:!0,value:void 0}})},f=function(){var k={};return k.Eb=k.next=k.head=k},g=0;return c});\n",
      "ha(\"Set\",function(a){if(function(){if(!a||\"function\"!=typeof a||!a.prototype.entries||\"function\"!=typeof Object.seal)return!1;try{var c=Object.seal({x:4}),d=new a(_.ka([c]));if(!d.has(c)||1!=d.size||d.add(c)!=d||1!=d.size||d.add({x:4})!=d||2!=d.size)return!1;var e=d.entries(),f=e.next();if(f.done||f.value[0]!=c||f.value[1]!=c)return!1;f=e.next();return f.done||f.value[0]==c||4!=f.value[0].x||f.value[1]!=f.value[0]?!1:e.next().done}catch(g){return!1}}())return a;var b=function(c){this.j=new Map;if(c){c=\n",
      "_.ka(c);for(var d;!(d=c.next()).done;)this.add(d.value)}this.size=this.j.size};b.prototype.add=function(c){c=0===c?0:c;this.j.set(c,c);this.size=this.j.size;return this};b.prototype.delete=function(c){c=this.j.delete(c);this.size=this.j.size;return c};b.prototype.clear=function(){this.j.clear();this.size=0};b.prototype.has=function(c){return this.j.has(c)};b.prototype.entries=function(){return this.j.entries()};b.prototype.values=function(){return this.j.values()};b.prototype.keys=b.prototype.values;\n",
      "b.prototype[Symbol.iterator]=b.prototype.values;b.prototype.forEach=function(c,d){var e=this;this.j.forEach(function(f){return c.call(d,f,f,e)})};return b});ha(\"Object.entries\",function(a){return a?a:function(b){var c=[],d;for(d in b)ta(b,d)&&c.push([d,b[d]]);return c}});ha(\"Object.is\",function(a){return a?a:function(b,c){return b===c?0!==b||1/b===1/c:b!==b&&c!==c}});\n",
      "ha(\"Array.prototype.includes\",function(a){return a?a:function(b,c){var d=this;d instanceof String&&(d=String(d));var e=d.length;c=c||0;for(0>c&&(c=Math.max(c+e,0));c<e;c++){var f=d[c];if(f===b||Object.is(f,b))return!0}return!1}});ha(\"String.prototype.includes\",function(a){return a?a:function(b,c){return-1!==ra(this,b,\"includes\").indexOf(b,c||0)}});\n",
      "ha(\"Array.prototype.fill\",function(a){return a?a:function(b,c,d){var e=this.length||0;0>c&&(c=Math.max(0,e+c));if(null==d||d>e)d=e;d=Number(d);0>d&&(d=Math.max(0,e+d));for(c=Number(c||0);c<d;c++)this[c]=b;return this}});var va=function(a){return a?a:Array.prototype.fill};ha(\"Int8Array.prototype.fill\",va);ha(\"Uint8Array.prototype.fill\",va);ha(\"Uint8ClampedArray.prototype.fill\",va);ha(\"Int16Array.prototype.fill\",va);ha(\"Uint16Array.prototype.fill\",va);ha(\"Int32Array.prototype.fill\",va);\n",
      "ha(\"Uint32Array.prototype.fill\",va);ha(\"Float32Array.prototype.fill\",va);ha(\"Float64Array.prototype.fill\",va);_.wa=_.wa||{};_.p=this||self;_.xa=function(a,b){a=a.split(\".\");b=b||_.p;for(var c=0;c<a.length;c++)if(b=b[a[c]],null==b)return null;return b};_.za=function(){};_.Aa=function(a){a.Ne=void 0;a.U=function(){return a.Ne?a.Ne:a.Ne=new a}};_.Ba=function(a){var b=typeof a;return\"object\"!=b?b:a?Array.isArray(a)?\"array\":b:\"null\"};\n",
      "_.Ca=function(a){var b=_.Ba(a);return\"array\"==b||\"object\"==b&&\"number\"==typeof a.length};_.Da=function(a){var b=typeof a;return\"object\"==b&&null!=a||\"function\"==b};_.Ea=\"closure_uid_\"+(1E9*Math.random()>>>0);Fa=function(a,b,c){return a.call.apply(a.bind,arguments)};\n",
      "Ga=function(a,b,c){if(!a)throw Error();if(2<arguments.length){var d=Array.prototype.slice.call(arguments,2);return function(){var e=Array.prototype.slice.call(arguments);Array.prototype.unshift.apply(e,d);return a.apply(b,e)}}return function(){return a.apply(b,arguments)}};_.r=function(a,b,c){Function.prototype.bind&&-1!=Function.prototype.bind.toString().indexOf(\"native code\")?_.r=Fa:_.r=Ga;return _.r.apply(null,arguments)};\n",
      "_.u=function(a,b){a=a.split(\".\");var c=_.p;a[0]in c||\"undefined\"==typeof c.execScript||c.execScript(\"var \"+a[0]);for(var d;a.length&&(d=a.shift());)a.length||void 0===b?c[d]&&c[d]!==Object.prototype[d]?c=c[d]:c=c[d]={}:c[d]=b};_.v=function(a,b){function c(){}c.prototype=b.prototype;a.V=b.prototype;a.prototype=new c;a.prototype.constructor=a;a.Xl=function(d,e,f){for(var g=Array(arguments.length-2),k=2;k<arguments.length;k++)g[k-2]=arguments[k];return b.prototype[e].apply(d,g)}};Ha=function(a){return a};\n",
      "_.Ia=function(a){var b=null,c=_.p.trustedTypes;if(!c||!c.createPolicy)return b;try{b=c.createPolicy(a,{createHTML:Ha,createScript:Ha,createScriptURL:Ha})}catch(d){_.p.console&&_.p.console.error(d.message)}return b};\n",
      "_.v(_.aa,Error);_.aa.prototype.name=\"CustomError\";\n",
      "_.Ja=Array.prototype.indexOf?function(a,b){return Array.prototype.indexOf.call(a,b,void 0)}:function(a,b){if(\"string\"===typeof a)return\"string\"!==typeof b||1!=b.length?-1:a.indexOf(b,0);for(var c=0;c<a.length;c++)if(c in a&&a[c]===b)return c;return-1};_.Ka=Array.prototype.forEach?function(a,b,c){Array.prototype.forEach.call(a,b,c)}:function(a,b,c){for(var d=a.length,e=\"string\"===typeof a?a.split(\"\"):a,f=0;f<d;f++)f in e&&b.call(c,e[f],f,a)};\n",
      "_.La=Array.prototype.filter?function(a,b,c){return Array.prototype.filter.call(a,b,c)}:function(a,b,c){for(var d=a.length,e=[],f=0,g=\"string\"===typeof a?a.split(\"\"):a,k=0;k<d;k++)if(k in g){var l=g[k];b.call(c,l,k,a)&&(e[f++]=l)}return e};_.Ma=Array.prototype.map?function(a,b,c){return Array.prototype.map.call(a,b,c)}:function(a,b,c){for(var d=a.length,e=Array(d),f=\"string\"===typeof a?a.split(\"\"):a,g=0;g<d;g++)g in f&&(e[g]=b.call(c,f[g],g,a));return e};\n",
      "_.Na=Array.prototype.reduce?function(a,b,c){return Array.prototype.reduce.call(a,b,c)}:function(a,b,c){var d=c;(0,_.Ka)(a,function(e,f){d=b.call(void 0,d,e,f,a)});return d};_.Oa=Array.prototype.some?function(a,b){return Array.prototype.some.call(a,b,void 0)}:function(a,b){for(var c=a.length,d=\"string\"===typeof a?a.split(\"\"):a,e=0;e<c;e++)if(e in d&&b.call(void 0,d[e],e,a))return!0;return!1};\n",
      "var Qa;_.Pa=function(a,b,c){for(var d in a)b.call(c,a[d],d,a)};Qa=\"constructor hasOwnProperty isPrototypeOf propertyIsEnumerable toLocaleString toString valueOf\".split(\" \");_.Ra=function(a,b){for(var c,d,e=1;e<arguments.length;e++){d=arguments[e];for(c in d)a[c]=d[c];for(var f=0;f<Qa.length;f++)c=Qa[f],Object.prototype.hasOwnProperty.call(d,c)&&(a[c]=d[c])}};\n",
      "var Sa;_.Ta=function(){void 0===Sa&&(Sa=_.Ia(\"ogb-og2#html\"));return Sa};\n",
      "var Wa,Xa,Ya,Za,$a,ab,bb,db;_.Ua=function(a,b){return 0==a.lastIndexOf(b,0)};_.Va=String.prototype.trim?function(a){return a.trim()}:function(a){return/^[\\s\\xa0]*([\\s\\S]*?)[\\s\\xa0]*$/.exec(a)[1]};\n",
      "_.cb=function(a,b){if(b)a=a.replace(Wa,\"&amp;\").replace(Xa,\"&lt;\").replace(Ya,\"&gt;\").replace(Za,\"&quot;\").replace($a,\"&#39;\").replace(ab,\"&#0;\");else{if(!bb.test(a))return a;-1!=a.indexOf(\"&\")&&(a=a.replace(Wa,\"&amp;\"));-1!=a.indexOf(\"<\")&&(a=a.replace(Xa,\"&lt;\"));-1!=a.indexOf(\">\")&&(a=a.replace(Ya,\"&gt;\"));-1!=a.indexOf('\"')&&(a=a.replace(Za,\"&quot;\"));-1!=a.indexOf(\"'\")&&(a=a.replace($a,\"&#39;\"));-1!=a.indexOf(\"\\x00\")&&(a=a.replace(ab,\"&#0;\"))}return a};Wa=/&/g;Xa=/</g;Ya=/>/g;Za=/\"/g;$a=/'/g;\n",
      "ab=/\\x00/g;bb=/[\\x00&<>\"']/;_.eb=function(a,b){var c=0;a=(0,_.Va)(String(a)).split(\".\");b=(0,_.Va)(String(b)).split(\".\");for(var d=Math.max(a.length,b.length),e=0;0==c&&e<d;e++){var f=a[e]||\"\",g=b[e]||\"\";do{f=/(\\d*)(\\D*)(.*)/.exec(f)||[\"\",\"\",\"\",\"\"];g=/(\\d*)(\\D*)(.*)/.exec(g)||[\"\",\"\",\"\",\"\"];if(0==f[0].length&&0==g[0].length)break;c=db(0==f[1].length?0:parseInt(f[1],10),0==g[1].length?0:parseInt(g[1],10))||db(0==f[2].length,0==g[2].length)||db(f[2],g[2]);f=f[3];g=g[3]}while(0==c)}return c};\n",
      "db=function(a,b){return a<b?-1:a>b?1:0};\n",
      "var fb;_.gb=function(a,b){this.o=b===fb?a:\"\"};_.gb.prototype.Cb=!0;_.gb.prototype.kb=function(){return this.o.toString()};_.gb.prototype.Le=!0;_.gb.prototype.j=function(){return 1};_.hb=function(a){return a instanceof _.gb&&a.constructor===_.gb?a.o:\"type_error:SafeUrl\"};_.ib=/^(?:(?:https?|mailto|ftp):|[^:/?#]*(?:[/?#]|$))/i;fb={};_.jb=function(a){return new _.gb(a,fb)};_.kb=_.jb(\"about:invalid#zClosurez\");\n",
      "_.mb=function(a,b){this.j=b===_.lb?a:\"\"};_.mb.prototype.Cb=!0;_.mb.prototype.kb=function(){return this.j};_.lb={};_.nb=new _.mb(\"\",_.lb);\n",
      "a:{var pb=_.p.navigator;if(pb){var qb=pb.userAgent;if(qb){_.ob=qb;break a}}_.ob=\"\"}_.w=function(a){return-1!=_.ob.indexOf(a)};\n",
      "var tb;_.rb=function(){return _.w(\"Trident\")||_.w(\"MSIE\")};_.sb=function(){return _.w(\"Firefox\")||_.w(\"FxiOS\")};tb=function(){return(_.w(\"Chrome\")||_.w(\"CriOS\"))&&!_.w(\"Edge\")};\n",
      "var ub;_.vb=function(a,b,c){this.o=c===ub?a:\"\";this.A=b};_.vb.prototype.Le=!0;_.vb.prototype.j=function(){return this.A};_.vb.prototype.Cb=!0;_.vb.prototype.kb=function(){return this.o.toString()};_.wb=function(a){return a instanceof _.vb&&a.constructor===_.vb?a.o:\"type_error:SafeHtml\"};ub={};_.xb=function(a,b){var c=_.Ta();a=c?c.createHTML(a):a;return new _.vb(a,b,ub)};_.yb=new _.vb(_.p.trustedTypes&&_.p.trustedTypes.emptyHTML||\"\",0,ub);_.zb=_.xb(\"<br>\",0);\n",
      "_.Ab=function(a){var b=!1,c;return function(){b||(c=a(),b=!0);return c}}(function(){var a=document.createElement(\"div\"),b=document.createElement(\"div\");b.appendChild(document.createElement(\"div\"));a.appendChild(b);b=a.firstChild.firstChild;a.innerHTML=_.wb(_.yb);return!b.parentElement});\n",
      "_.Bb=function(a){return a=_.cb(a,void 0)};\n",
      "_.Cb=function(){return-1!=_.ob.toLowerCase().indexOf(\"webkit\")&&!_.w(\"Edge\")};\n",
      "var Db;Db=function(){return _.w(\"iPhone\")&&!_.w(\"iPod\")&&!_.w(\"iPad\")};_.Eb=function(){return Db()||_.w(\"iPad\")||_.w(\"iPod\")};\n",
      "_.Fb=function(a){_.Fb[\" \"](a);return a};_.Fb[\" \"]=_.za;var Hb=function(a,b){var c=Gb;return Object.prototype.hasOwnProperty.call(c,a)?c[a]:c[a]=b(a)};\n",
      "var Ob,Xb,Yb,Gb,fc;_.Ib=_.w(\"Opera\");_.x=_.rb();_.Jb=_.w(\"Edge\");_.Kb=_.Jb||_.x;_.Lb=_.w(\"Gecko\")&&!_.Cb()&&!(_.w(\"Trident\")||_.w(\"MSIE\"))&&!_.w(\"Edge\");_.Mb=_.Cb();Ob=_.p.navigator||null;_.Nb=Ob&&Ob.platform||\"\";_.Pb=_.w(\"Macintosh\");_.Qb=_.w(\"Windows\");_.Rb=_.w(\"Linux\")||_.w(\"CrOS\");_.Sb=_.w(\"Android\");_.Tb=Db();_.Ub=_.w(\"iPad\");_.Vb=_.w(\"iPod\");_.Wb=_.Eb();Xb=function(){var a=_.p.document;return a?a.documentMode:void 0};\n",
      "a:{var Zb=\"\",$b=function(){var a=_.ob;if(_.Lb)return/rv:([^\\);]+)(\\)|;)/.exec(a);if(_.Jb)return/Edge\\/([\\d\\.]+)/.exec(a);if(_.x)return/\\b(?:MSIE|rv)[: ]([^\\);]+)(\\)|;)/.exec(a);if(_.Mb)return/WebKit\\/(\\S+)/.exec(a);if(_.Ib)return/(?:Version)[ \\/]?(\\S+)/.exec(a)}();$b&&(Zb=$b?$b[1]:\"\");if(_.x){var ac=Xb();if(null!=ac&&ac>parseFloat(Zb)){Yb=String(ac);break a}}Yb=Zb}_.bc=Yb;Gb={};_.cc=function(a){return Hb(a,function(){return 0<=_.eb(_.bc,a)})};_.ec=function(a){return Number(dc)>=a};\n",
      "if(_.p.document&&_.x){var gc=Xb();fc=gc?gc:parseInt(_.bc,10)||void 0}else fc=void 0;var dc=fc;\n",
      "_.hc=_.sb();_.ic=Db()||_.w(\"iPod\");_.jc=_.w(\"iPad\");_.kc=_.w(\"Android\")&&!(tb()||_.sb()||_.w(\"Opera\")||_.w(\"Silk\"));_.lc=tb();_.mc=_.w(\"Safari\")&&!(tb()||_.w(\"Coast\")||_.w(\"Opera\")||_.w(\"Edge\")||_.w(\"Edg/\")||_.w(\"OPR\")||_.sb()||_.w(\"Silk\")||_.w(\"Android\"))&&!_.Eb();\n",
      "var nc={},oc=null;\n",
      "_.pc=function(a){this.j=0;this.o=a};_.pc.prototype.next=function(){return this.j<this.o.length?{done:!1,value:this.o[this.j++]}:{done:!0,value:void 0}};\"undefined\"!=typeof Symbol&&\"undefined\"!=typeof Symbol.iterator&&(_.pc.prototype[Symbol.iterator]=function(){return this});\n",
      "_.y=function(){};_.qc=\"function\"==typeof Uint8Array;\n",
      "_.z=function(a,b,c,d,e,f){a.j=null;b||(b=c?[c]:[]);a.J=c?String(c):void 0;a.C=0===c?-1:0;a.A=b;a:{c=a.A.length;b=-1;if(c&&(b=c-1,c=a.A[b],!(null===c||\"object\"!=typeof c||Array.isArray(c)||_.qc&&c instanceof Uint8Array))){a.D=b-a.C;a.B=c;break a}-1<d?(a.D=Math.max(d,b+1-a.C),a.B=null):a.D=Number.MAX_VALUE}a.H={};if(e)for(d=0;d<e.length;d++)b=e[d],b<a.D?(b+=a.C,a.A[b]=a.A[b]||_.rc):(_.sc(a),a.B[b]=a.B[b]||_.rc);if(f&&f.length)for(d=0;d<f.length;d++)_.tc(a,f[d])};_.rc=[];\n",
      "_.sc=function(a){var b=a.D+a.C;a.A[b]||(a.B=a.A[b]={})};_.A=function(a,b){if(b<a.D){b+=a.C;var c=a.A[b];return c!==_.rc?c:a.A[b]=[]}if(a.B)return c=a.B[b],c===_.rc?a.B[b]=[]:c};_.B=function(a,b){a=_.A(a,b);return null==a?a:!!a};_.C=function(a,b,c){a=_.A(a,b);return null==a?c:a};_.F=function(a,b,c){b<a.D?a.A[b+a.C]=c:(_.sc(a),a.B[b]=c);return a};_.tc=function(a,b){for(var c,d,e=0;e<b.length;e++){var f=b[e],g=_.A(a,f);null!=g&&(c=f,d=g,_.F(a,f,void 0))}return c?(_.F(a,c,d),c):0};\n",
      "_.G=function(a,b,c){a.j||(a.j={});if(!a.j[c]){var d=_.A(a,c);d&&(a.j[c]=new b(d))}return a.j[c]};_.y.prototype.Ea=function(){if(this.j)for(var a in this.j){var b=this.j[a];if(Array.isArray(b))for(var c=0;c<b.length;c++)b[c]&&b[c].Ea();else b&&b.Ea()}return this.A};\n",
      "_.y.prototype.o=_.qc?function(){var a=Uint8Array.prototype.toJSON;Uint8Array.prototype.toJSON=function(){var b;void 0===b&&(b=0);if(!oc){oc={};for(var c=\"ABCDEFGHIJKLMNOPQRSTUVWXYZabcdefghijklmnopqrstuvwxyz0123456789\".split(\"\"),d=[\"+/=\",\"+/\",\"-_=\",\"-_.\",\"-_\"],e=0;5>e;e++){var f=c.concat(d[e].split(\"\"));nc[e]=f;for(var g=0;g<f.length;g++){var k=f[g];void 0===oc[k]&&(oc[k]=g)}}}b=nc[b];c=[];for(d=0;d<this.length;d+=3){var l=this[d],m=(e=d+1<this.length)?this[d+1]:0;k=(f=d+2<this.length)?this[d+2]:0;\n",
      "g=l>>2;l=(l&3)<<4|m>>4;m=(m&15)<<2|k>>6;k&=63;f||(k=64,e||(m=64));c.push(b[g],b[l],b[m]||\"\",b[k]||\"\")}return c.join(\"\")};try{return JSON.stringify(this.A&&this.Ea(),uc)}finally{Uint8Array.prototype.toJSON=a}}:function(){return JSON.stringify(this.A&&this.Ea(),uc)};var uc=function(a,b){return\"number\"!==typeof b||!isNaN(b)&&Infinity!==b&&-Infinity!==b?b:String(b)};_.y.prototype.toString=function(){return this.Ea().toString()};\n",
      "_.vc=function(a){_.z(this,a,0,-1,null,null)};_.v(_.vc,_.y);\n",
      "var wc=function(a){_.z(this,a,0,-1,null,null)};_.v(wc,_.y);\n",
      "var xc=function(a){_.z(this,a,0,-1,null,null)};_.v(xc,_.y);\n",
      "_.I=function(a,b){return null!=a?!!a:!!b};_.J=function(a,b){void 0==b&&(b=\"\");return null!=a?a:b};_.yc=function(a,b){void 0==b&&(b=0);return null!=a?a:b};\n",
      "var zc=new xc(window.gbar&&window.gbar._CONFIG?window.gbar._CONFIG[0]:[[,,,,,,,[]],[],[],[],[],[],[],[],[],[],[],[],[],[],[],[],[],[],[]]),Ac;Ac=_.B(zc,3);_.Bc=_.I(Ac);\n",
      "_.Cc=function(){};_.u(\"gbar_._DumpException\",function(a){_.Cc(a)});\n",
      "_.L=function(){this.Oa=this.Oa;this.Jb=this.Jb};_.L.prototype.Oa=!1;_.L.prototype.ia=function(){this.Oa||(this.Oa=!0,this.S())};_.L.prototype.S=function(){if(this.Jb)for(;this.Jb.length;)this.Jb.shift()()};\n",
      "_.Dc=function(){this.j={};this.o={}};_.Gc=function(a,b){a.U=function(){return _.Ec(_.Dc.U(),b)};a.Zk=function(){return _.Fc(_.Dc.U(),b)}};_.Ic=function(a,b){var c=_.Dc.U();if(a in c.j){if(c.j[a]!=b)throw new Hc(a);}else{c.j[a]=b;if(b=c.o[a])for(var d=0,e=b.length;d<e;d++)b[d].j(c.j,a);delete c.o[a]}};_.Ec=function(a,b){if(b in a.j)return a.j[b];throw new Jc(b);};_.Fc=function(a,b){return a.j[b]||null};_.Aa(_.Dc);var Kc=function(a){_.aa.call(this);this.fa=a};_.n(Kc,_.aa);\n",
      "var Hc=function(a){Kc.call(this,a)};_.n(Hc,Kc);var Jc=function(a){Kc.call(this,a)};_.n(Jc,Kc);\n",
      "var Lc=function(){_.L.call(this);this.j=zc};_.n(Lc,_.L);_.M=function(){return Lc.U().j};_.Mc=function(){return _.G(_.M(),wc,1)||new wc};_.Gc(Lc,\"cs\");_.Ic(\"cs\",new Lc);\n",
      "var Nc;Nc=!_.x||_.ec(9);_.Oc=!_.Lb&&!_.x||_.x&&_.ec(9)||_.Lb&&_.cc(\"1.9.1\");_.Pc=_.x&&!_.cc(\"9\");_.Qc=_.x||_.Ib||_.Mb;\n",
      "var Rc;_.Sc=function(a,b){_.Pa(b,function(c,d){c&&\"object\"==typeof c&&c.Cb&&(c=c.kb());\"style\"==d?a.style.cssText=c:\"class\"==d?a.className=c:\"for\"==d?a.htmlFor=c:Rc.hasOwnProperty(d)?a.setAttribute(Rc[d],c):_.Ua(d,\"aria-\")||_.Ua(d,\"data-\")?a.setAttribute(d,c):a[d]=c})};Rc={cellpadding:\"cellPadding\",cellspacing:\"cellSpacing\",colspan:\"colSpan\",frameborder:\"frameBorder\",height:\"height\",maxlength:\"maxLength\",nonce:\"nonce\",role:\"role\",rowspan:\"rowSpan\",type:\"type\",usemap:\"useMap\",valign:\"vAlign\",width:\"width\"};\n",
      "_.Vc=function(a,b){var c=String(b[0]),d=b[1];if(!Nc&&d&&(d.name||d.type)){c=[\"<\",c];d.name&&c.push(' name=\"',_.Bb(d.name),'\"');if(d.type){c.push(' type=\"',_.Bb(d.type),'\"');var e={};_.Ra(e,d);delete e.type;d=e}c.push(\">\");c=c.join(\"\")}c=_.Tc(a,c);d&&(\"string\"===typeof d?c.className=d:Array.isArray(d)?c.className=d.join(\" \"):_.Sc(c,d));2<b.length&&_.Uc(a,c,b,2);return c};\n",
      "_.Uc=function(a,b,c,d){function e(k){k&&b.appendChild(\"string\"===typeof k?a.createTextNode(k):k)}for(;d<c.length;d++){var f=c[d];if(!_.Ca(f)||_.Da(f)&&0<f.nodeType)e(f);else{a:{if(f&&\"number\"==typeof f.length){if(_.Da(f)){var g=\"function\"==typeof f.item||\"string\"==typeof f.item;break a}if(\"function\"===typeof f){g=\"function\"==typeof f.item;break a}}g=!1}_.Ka(g?_.ba(f):f,e)}}};_.Tc=function(a,b){b=String(b);\"application/xhtml+xml\"===a.contentType&&(b=b.toLowerCase());return a.createElement(b)};\n",
      "var Wc=function(a,b,c){this.B=a;this.o=!1;this.j=b;this.A=c};Wc.prototype.Ya=function(a){if(this.o)throw Error(\"o`\"+this.j);try{a.apply(this.B,this.A),this.o=!0}catch(b){}};\n",
      "var Xc=function(a){_.L.call(this);this.A=a;this.j=[];this.o={}};_.n(Xc,_.L);Xc.prototype.B=function(a){var b=(0,_.r)(function(){this.j.push(new Wc(this.A,a,Array.prototype.slice.call(arguments)))},this);return this.o[a]=b};\n",
      "Xc.prototype.Ya=function(){for(var a=this.j.length,b=this.j,c=[],d=0;d<a;++d){var e=b[d].j;a:{var f=this.A;for(var g=e.split(\".\"),k=g.length,l=0;l<k;++l)if(f[g[l]])f=f[g[l]];else{f=null;break a}f=f instanceof Function?f:null}if(f&&f!=this.o[e])try{b[d].Ya(f)}catch(m){}else c.push(b[d])}this.j=c.concat(b.slice(a))};\n",
      "var Zc;_.Yc=\"bbh bbr bbs has prm sngw so\".split(\" \");Zc=new Xc(_.p);_.Ic(\"api\",Zc);\n",
      "for(var $c=\"addExtraLink addLink aomc asmc close cp.c cp.l cp.me cp.ml cp.rc cp.rel ela elc elh gpca gpcr lGC lPWF ldb mls noam paa pc pca pcm pw.clk pw.hvr qfaae qfaas qfaau qfae qfas qfau qfhi qm qs qsi rtl sa setContinueCb snaw sncw som sp spd spn spp sps tsl tst up.aeh up.aop up.dpc up.iic up.nap up.r up.sl up.spd up.tp upel upes upet\".split(\" \").concat(_.Yc),ad=(0,_.r)(Zc.B,Zc),bd=0;bd<$c.length;bd++){var cd=\"gbar.\"+$c[bd];null==_.xa(cd,window)&&_.u(cd,ad(cd))}_.u(\"gbar.up.gpd\",function(){return\"\"});\n",
      "var dd=new function(){this.j=_.G(_.Mc(),_.vc,8)||new _.vc};_.u(\"gbar.bv\",{n:_.yc(_.A(dd.j,2)),r:_.J(_.A(dd.j,4)),f:_.J(_.A(dd.j,3)),e:_.J(_.A(dd.j,5)),m:_.yc(_.C(dd.j,1,1),1)});_.u(\"gbar.kn\",function(){return!0});_.u(\"gbar.sb\",function(){return!1});\n",
      "\n",
      "}catch(e){_._DumpException(e)}\n",
      "try{\n",
      "_.u(\"gbar.elr\",function(){return{es:{f:152,h:60,m:30},mo:\"md\",vh:window.innerHeight||0,vw:window.innerWidth||0}});\n",
      "\n",
      "}catch(e){_._DumpException(e)}\n",
      "})(this.gbar_);\n",
      "// Google Inc.\n",
      "</script><style>@-webkit-keyframes gb__a{0%{opacity:0}50%{opacity:1}}@keyframes gb__a{0%{opacity:0}50%{opacity:1}}.gb_fd{display:inline-block;padding:0 0 0 15px;vertical-align:middle}.gb_fd:first-child,#gbsfw:first-child+.gb_fd{padding-left:0}.gb_Uf{position:relative}.gb_D{display:inline-block;outline:none;vertical-align:middle;-webkit-border-radius:2px;border-radius:2px;-webkit-box-sizing:border-box;box-sizing:border-box;height:30px;width:30px;color:#000;cursor:pointer;text-decoration:none}#gb#gb a.gb_D{color:#000;cursor:pointer;text-decoration:none}.gb_2a{border-color:transparent;border-bottom-color:#fff;border-style:dashed dashed solid;border-width:0 8.5px 8.5px;display:none;position:absolute;left:6.5px;top:37px;z-index:1;height:0;width:0;-webkit-animation:gb__a .2s;animation:gb__a .2s}.gb_3a{border-color:transparent;border-style:dashed dashed solid;border-width:0 8.5px 8.5px;display:none;position:absolute;left:6.5px;z-index:1;height:0;width:0;-webkit-animation:gb__a .2s;animation:gb__a .2s;border-bottom-color:#ccc;border-bottom-color:rgba(0,0,0,.2);top:36px}x:-o-prefocus,div.gb_3a{border-bottom-color:#ccc}.gb_F{background:#fff;border:1px solid #ccc;border-color:rgba(0,0,0,.2);color:#000;-webkit-box-shadow:0 2px 10px rgba(0,0,0,.2);box-shadow:0 2px 10px rgba(0,0,0,.2);display:none;outline:none;overflow:hidden;position:absolute;right:0;top:44px;-webkit-animation:gb__a .2s;animation:gb__a .2s;-webkit-border-radius:2px;border-radius:2px;-webkit-user-select:text}.gb_fd.gb_oa .gb_2a,.gb_fd.gb_oa .gb_3a,.gb_fd.gb_oa .gb_F,.gb_oa.gb_F{display:block}.gb_fd.gb_oa.gb_Vf .gb_2a,.gb_fd.gb_oa.gb_Vf .gb_3a{display:none}.gb_Wf{position:absolute;right:0;top:44px;z-index:-1}.gb_Na .gb_2a,.gb_Na .gb_3a,.gb_Na .gb_F{margin-top:-10px}.gb_C .gb_D{background-position:-132px -38px;opacity:.55}.gb_E .gb_C .gb_D{background-position:-132px -38px}.gb_j .gb_C .gb_D{background-position:-463px -35px;opacity:1}.gb_F.gb_H{min-height:196px;overflow-y:auto;width:320px}.gb_F.gb_H.gb_l{-webkit-border-radius:8px;border-radius:8px;-webkit-box-shadow:0 1px 2px 0 rgba(60,64,67,.30),0 2px 6px 2px rgba(60,64,67,.15);box-shadow:0 1px 2px 0 rgba(60,64,67,.30),0 2px 6px 2px rgba(60,64,67,.15);width:328px}.gb_I{-webkit-transition:height .2s ease-in-out;transition:height .2s ease-in-out}.gb_I.gb_H.gb_l{-webkit-transition:height 1s ease-in-out;transition:height 1s ease-in-out}.gb_J{background:#fff;margin:0;padding:28px;padding-right:27px;text-align:left;white-space:normal;width:265px}.gb_J:not(.gb_l){min-height:100px}.gb_H.gb_l>.gb_J{padding:12px 14px 20px 14px;width:300px}.gb_K{background:#f5f5f5;cursor:pointer;height:40px;overflow:hidden}.gb_L{position:relative}.gb_K{display:block;line-height:40px;text-align:center;width:320px}.gb_L{display:block;line-height:40px;text-align:center}.gb_L.gb_M{line-height:0}.gb_K,.gb_K:visited,.gb_K:active,.gb_L,.gb_L:visited{color:rgba(0,0,0,0.87);text-decoration:none}.gb_L:active{color:rgba(0,0,0,0.87)}#gb a.gb_K,#gb a.gb_K:visited,#gb a.gb_K:active,#gb a.gb_L,#gb a.gb_L:visited{color:rgba(0,0,0,0.87);text-decoration:none}#gb a.gb_L:active{color:rgba(0,0,0,0.87)}.gb_L:not(.gb_l),.gb_J:not(.gb_l){display:none}.gb_A,.gb_J.gb_A:not(.gb_l),.gb_A+.gb_L,.gb_N .gb_L,.gb_N .gb_J{display:block}.gb_l .gb_O,.gb_l .gb_P,.gb_N .gb_O,.gb_N .gb_P{display:inline-block}.gb_L:hover,.gb_L:active,#gb a.gb_L:hover,#gb a.gb_L:active{text-decoration:underline}.gb_L{border-bottom:1px solid #ebebeb;left:28px;width:264px}.gb_l .gb_L{border-bottom:1px solid #e8eaed;left:0;width:328px}.gb_Q{text-align:center}a.gb_O,a.gb_P{background-color:#ffffff;border:1px solid #dadce0;-webkit-border-radius:4px;border-radius:4px;-webkit-box-sizing:border-box;box-sizing:border-box;color:#1a73e8;display:inline-block;font:500 14px/16px Google Sans,Roboto,RobotoDraft,Helvetica,Arial,sans-serif;margin:16px 0 18px 0;max-width:264px;outline:none;overflow:hidden;padding:10px 24px;position:static;text-align:center;text-decoration:none;text-overflow:ellipsis;white-space:nowrap}a.gb_O:visited,a.gb_P:visited{color:#1a73e8}.gb_P:hover,.gb_O:hover{background-color:#f8fbff;border-color:#cce0fc;text-decoration:none}.gb_P:focus,.gb_P:hover:focus,.gb_O:focus,.gb_O:hover:focus{background-color:#f4f8ff;border-color:#c9ddfc}.gb_P:active,.gb_P:active:focus,.gb_O:active,.gb_O:active:focus{background-color:#ecf3fe;border-color:transparent;-webkit-box-shadow:0 1px 2px 0 rgba(60,64,67,0.3),0 2px 6px 2px rgba(60,64,67,0.15);box-shadow:0 1px 2px 0 rgba(60,64,67,0.3),0 2px 6px 2px rgba(60,64,67,0.15);text-decoration:none}.gb_N .gb_K{display:none}.gb_L:last-child{border-bottom-width:0}.gb_o .gb_f{display:initial}.gb_o.gb_R{height:100px;text-align:center}.gb_o.gb_R img{padding:34px 0;height:32px;width:32px}.gb_o .gb_r+img{border:0;margin:8px;height:48px;width:48px}.gb_o div.gb_S{background:#ffa;-webkit-border-radius:5px;border-radius:5px;padding:5px;text-align:center}.gb_l.gb_o.gb_T,.gb_l.gb_o.gb_p,.gb_o.gb_T,.gb_o.gb_p{padding-bottom:0}.gb_l.gb_o.gb_q,.gb_l.gb_o.gb_p,.gb_o.gb_q,.gb_o.gb_p{padding-top:0}.gb_o.gb_p a,.gb_o.gb_q a{top:0}.gb_U .gb_K{margin-top:0;position:static}.gb_V{display:inline-block}.gb_W:hover,#gb#gb .gb_W:hover{text-decoration:underline}.gb_X .gb_J{position:relative}.gb_X .gb_l>.gb_f{top:20px;left:20px}.gb_X .gb_f{position:absolute;top:28px;left:28px}.gb_K.gb_Z{display:none;height:0}.gb_a-a{width:100%;height:100%;border:0;overflow:hidden}.gb_a.gb_b-b-c{position:absolute;top:0;left:0;background-color:#fff}.gb_a.gb_b-b{position:absolute;top:0;left:0;background-color:#fff;border:1px solid #acacac;width:auto;padding:0;z-index:1001;overflow:auto;-webkit-box-shadow:rgba(0,0,0,.2) 0 4px 16px;-webkit-box-shadow:rgba(0,0,0,.2) 0 4px 16px;box-shadow:rgba(0,0,0,.2) 0 4px 16px;-webkit-transition:top .5s ease-in-out;-webkit-transition:top .5s ease-in-out;transition:top .5s ease-in-out}.gb_a-d{position:absolute;z-index:1002}.gb_a.gb_b-b-e{font-size:0;padding:0}.gb_a.gb_b-b-f{height:0;margin:0}.gb_a.gb_b-b-f-g,.gb_a.gb_b-b-h{display:none}.gb_Ha{-webkit-background-size:32px 32px;background-size:32px 32px;border:0;-webkit-border-radius:50%;border-radius:50%;display:block;margin:-1px;position:relative;height:32px;width:32px;z-index:0}.gb_Ia{background-color:#e8f0fe;border:1px solid rgba(32,33,36,.08);position:relative}.gb_Ia.gb_Ha{height:30px;width:30px}.gb_Ia.gb_Ha:hover,.gb_Ia.gb_Ha:active{-webkit-box-shadow:none;box-shadow:none}.gb_Ja{background:#fff;border:none;-webkit-border-radius:50%;border-radius:50%;bottom:2px;-webkit-box-shadow:0 1px 2px 0 rgba(60,64,67,.30),0 1px 3px 1px rgba(60,64,67,.15);box-shadow:0 1px 2px 0 rgba(60,64,67,.30),0 1px 3px 1px rgba(60,64,67,.15);height:14px;margin:2px;position:absolute;right:0;width:14px}.gb_Ka{color:#1f71e7;font:400 22px/32px Google Sans,Roboto,RobotoDraft,Helvetica,Arial,sans-serif;text-align:center;text-transform:uppercase}@media (min-resolution:1.25dppx),(-o-min-device-pixel-ratio:5/4),(-webkit-min-device-pixel-ratio:1.25),(min-device-pixel-ratio:1.25){.gb_Ha::before{display:inline-block;-webkit-transform:scale(.5);transform:scale(.5);-webkit-transform-origin:left 0;transform-origin:left 0}.gb_La::before{display:inline-block;-webkit-transform:scale(.5);transform:scale(.5);-webkit-transform-origin:left 0;transform-origin:left 0}.gb_l .gb_La::before{-webkit-transform:scale(0.416666667);transform:scale(0.416666667)}}.gb_Ha:hover,.gb_Ha:focus{-webkit-box-shadow:0 1px 0 rgba(0,0,0,.15);box-shadow:0 1px 0 rgba(0,0,0,.15)}.gb_Ha:active{-webkit-box-shadow:inset 0 2px 0 rgba(0,0,0,.15);box-shadow:inset 0 2px 0 rgba(0,0,0,.15)}.gb_Ha:active::after{background:rgba(0,0,0,.1);-webkit-border-radius:50%;border-radius:50%;content:'';display:block;height:100%}.gb_Ma{cursor:pointer;line-height:30px;min-width:30px;opacity:.75;overflow:hidden;vertical-align:middle;text-overflow:ellipsis}.gb_D.gb_Ma{width:auto}.gb_Ma:hover,.gb_Ma:focus{opacity:.85}.gb_Na .gb_Ma,.gb_Na .gb_Oa{line-height:26px}#gb#gb.gb_Na a.gb_Ma,.gb_Na .gb_Oa{font-size:11px;height:auto}.gb_Pa{border-top:4px solid #000;border-left:4px dashed transparent;border-right:4px dashed transparent;display:inline-block;margin-left:6px;opacity:.75;vertical-align:middle}.gb_Qa:hover .gb_Pa{opacity:.85}.gb_ja>.gb_Ra{padding:3px 3px 3px 4px}.gb_Sa.gb_Fa{color:#fff}.gb_j .gb_Ma,.gb_j .gb_Pa{opacity:1}#gb#gb.gb_j.gb_j a.gb_Ma,#gb#gb .gb_j.gb_j a.gb_Ma{color:#fff}.gb_j.gb_j .gb_Pa{border-top-color:#fff;opacity:1}.gb_E .gb_Ha:hover,.gb_j .gb_Ha:hover,.gb_E .gb_Ha:focus,.gb_j .gb_Ha:focus{-webkit-box-shadow: 0 1px 0 rgba(0,0,0,.15) , 0 1px 2px rgba(0,0,0,.2) ;box-shadow: 0 1px 0 rgba(0,0,0,.15) , 0 1px 2px rgba(0,0,0,.2) }.gb_Ta .gb_Ra,.gb_Ua .gb_Ra{position:absolute;right:1px}.gb_Ra.gb_i,.gb_Va.gb_i,.gb_Qa.gb_i{-webkit-flex:0 1 auto;flex:0 1 auto;-webkit-flex:0 1 main-size;flex:0 1 main-size}.gb_Wa.gb_Xa .gb_Ma{width:30px!important}.gb_Za{height:40px;position:absolute;right:-5px;top:-5px;width:40px}.gb_0a .gb_Za,.gb_1a .gb_Za{right:0;top:0}.gb_Ma~.gb_2a,.gb_Ma~.gb_3a{left:auto;right:6.5px}.gb_4a{outline:none;-webkit-transform:translateZ(0);transform:translateZ(0)}.gb_l.gb_4a{-webkit-border-radius:8px;border-radius:8px;margin-left:12px}@media screen and (min-width:361px){.gb_l.gb_4a{width:354px}}@media screen and (max-width:361px){.gb_l.gb_4a{width:calc(100vw -  12px *2)}}.gb_l.gb_4a.gb_5a{max-height:-webkit-calc(100vh - 44px - 100px);max-height:calc(100vh - 44px - 100px)}.gb_l.gb_4a.gb_6a{max-height:-webkit-calc(100vh - 44px - 15px - 100px);max-height:calc(100vh - 44px - 15px - 100px)}.gb_l.gb_4a.gb_7a{background-color:#2d2e30}.gb_8a.gb_9a{color:#5f6368;font:400  12px / 16px  Roboto,RobotoDraft,Helvetica,Arial,sans-serif}.gb_ab.gb_8a.gb_9a{background-color:rgba(138,180,248,0.24);color:#e8eaed}.gb_bb,#gb a.gb_bb.gb_bb,.gb_cb a,#gb .gb_cb.gb_cb a{color:#36c;text-decoration:none}.gb_8a>.gb_bb,#gb .gb_8a>a.gb_bb.gb_bb{color:#0070ff;font:inherit;font-weight:500;outline:0}.gb_ab.gb_8a>.gb_bb,#gb .gb_ab.gb_8a>a.gb_bb.gb_bb{color:#8ab4f8}.gb_bb:active,#gb a.gb_bb.gb_bb:active,.gb_bb:hover,#gb a.gb_bb.gb_bb:hover,.gb_cb a:active,#gb .gb_cb a:active,.gb_cb a:hover,#gb .gb_cb a:hover,#gb .gb_8a>a.gb_bb.gb_bb:focus{text-decoration:underline}.gb_db{margin:20px;white-space:nowrap}.gb_l>.gb_db{margin:20px 33px}.gb_eb,.gb_fb{display:inline-block;vertical-align:top}.gb_eb.gb_gb,.gb_fb.gb_hb{vertical-align:middle}.gb_l .gb_eb,.gb_l .gb_fb{display:block;vertical-align:top;text-align:center}.gb_gb{cursor:default}.gb_l .gb_eb{margin-bottom:10px;position:relative;height:86px;width:86px}.gb_ib{-webkit-border-radius:50%;border-radius:50%;overflow:hidden;-webkit-transform:translateZ(0)}.gb_La{border:none;margin-right:6px;vertical-align:top;height:80px;width:80px}.gb_jb{margin-bottom:11px;margin-top:4px}@media screen and (min-width:361px){.gb_l .gb_eb,.gb_jb{margin-left:101px}}@media screen and (max-width:361px){.gb_l .gb_eb,.gb_jb{margin-left:calc(( calc(100vw -  12px *2)  -  33px *2 -  86px )/2)}}.gb_kb.gb_kb{fill:#1a73e8}.gb_7a .gb_kb{fill:#8ab4f8}.gb_l .gb_lb.gb_La{position:relative;left:2px;margin-right:10px;top:2px;height:76px;width:76px}.gb_l .gb_mb{background:#fff;bottom:0;position:absolute;right:0;overflow:visible;height:32px;width:32px}.gb_l.gb_7a .gb_mb{background:#2d2e30}.gb_nb{bottom:0;-webkit-box-shadow:0 1px 1px 0 rgba(65,69,73,0.3),0 1px 3px 1px rgba(65,69,73,0.15);box-shadow:0 1px 1px 0 rgba(65,69,73,0.3),0 1px 3px 1px rgba(65,69,73,0.15);margin:0 2.5px 3px;outline:0;position:absolute;right:0;height:26px;width:26px}.gb_nb:hover{background-color:#f8faff}.gb_nb:focus,.gb_nb:hover:focus{background-color:#f4f8ff}.gb_nb:active,.gb_nb:focus:active{background-color:#f4f8ff;-webkit-box-shadow:0 1px 3px 0 rgba(60,64,67,0.3),0 4px 8px 3px rgba(60,64,67,0.15);box-shadow:0 1px 3px 0 rgba(60,64,67,0.3),0 4px 8px 3px rgba(60,64,67,0.15)}.gb_nb:hover>svg.gb_ob,.gb_nb:focus>svg.gb_ob,.gb_nb:active>svg.gb_ob{fill:#1a73e8}.gb_pb{font-weight:bold;margin:-4px 0 1px 0;text-overflow:ellipsis;overflow:hidden}.gb_l .gb_pb{color:#202124;font:500 16px/22px Google Sans,Roboto,RobotoDraft,Helvetica,Arial,sans-serif;letter-spacing:.29px;margin:0;text-align:center;text-overflow:ellipsis;overflow:hidden}.gb_l.gb_7a .gb_pb{color:#e8eaed}.gb_rb{color:#666;text-overflow:ellipsis;overflow:hidden}.gb_l .gb_rb{color:#5f6368;font:400 14px/19px Roboto,RobotoDraft,Helvetica,Arial,sans-serif;letter-spacing:normal;text-align:center;text-overflow:ellipsis;overflow:hidden}.gb_l.gb_7a .gb_rb{color:#e8eaed}.gb_hb>.gb_rb{color:#000;font-weight:bold;margin:-4px 0 1px 0;text-overflow:ellipsis;overflow:hidden}.gb_sb{color:#666;font-style:italic;font-weight:500;margin:4px 0;overflow:hidden}.gb_tb{color:#5f6368;font-family:Roboto,RobotoDraft,Helvetica,Arial,sans-serif;font-size:14px;line-height:19px;margin-top:4px;text-align:center}.gb_7a .gb_tb{color:#9aa0a6}.gb_ub{font-weight:500}.gb_vb.gb_vb{background-color:#ffffff;border:1px solid #dadce0;-webkit-border-radius:100px;border-radius:100px;color:#3c4043;display:inline-block;font:500 14px/16px Google Sans,Roboto,RobotoDraft,Helvetica,Arial,sans-serif;letter-spacing:.25px;margin:16px 0 0;max-width:254px;outline:0;padding:8px 16px;text-align:center;text-decoration:none;text-overflow:ellipsis;overflow:hidden}.gb_7a .gb_vb.gb_vb{background-color:#2d2e30;border:1px solid #5f6368;color:#e8eaed}.gb_vb:hover{background-color:#f7f8f8}.gb_vb:focus,.gb_vb:hover:focus{background-color:#f4f4f4}.gb_vb:active,.gb_vb:focus:active{background-color:#e8e8e9;border-color:transparent;-webkit-box-shadow:0 1px 2px 0 rgba(60,64,67,0.3),0 2px 6px 2px rgba(60,64,67,0.15);box-shadow:0 1px 2px 0 rgba(60,64,67,0.3),0 2px 6px 2px rgba(60,64,67,0.15)}.gb_wb{color:#5f6368;margin:14px 33px;text-align:center;white-space:normal}.gb_7a .gb_wb{color:#e8eaed}.gb_xb.gb_xb{-webkit-border-radius:4px;border-radius:4px;color:#5f6368;display:inline-block;font:400  12px / 16px  Roboto,RobotoDraft,Helvetica,Arial,sans-serif;outline:0;padding:4px 8px;text-decoration:none;text-align:center;white-space:normal}.gb_7a .gb_xb.gb_xb{border:1px solid transparent;color:#e8eaed}.gb_xb:hover{background-color:#f7f8f8}.gb_xb:focus,.gb_xb:hover:focus{background-color:#f4f4f4}.gb_xb:active,.gb_xb:active:focus{background-color:#e8e8e9}.gb_fb .gb_3{background:#4d90fe;border-color:#3079ed;font-weight:bold;margin:10px 0 0 0;color:#fff}#gb .gb_fb a.gb_3.gb_3{color:#fff}.gb_fb .gb_3:hover{background:#357ae8;border-color:#2f5bb7}.gb_yb .gb_2a{border-bottom-color:#fef9db}.gb_9a{background:#fef9db;font-size:11px;padding:10px 20px;white-space:normal}.gb_8a.gb_9a{background:#e8f0fe;-webkit-border-radius:4px;border-radius:4px;margin:4px;padding:4px 8px;text-align:center}.gb_8a.gb_9a>#gbpbt>span{white-space:nowrap;font-weight:500}.gb_9a b,.gb_bb{white-space:nowrap}.gb_zb.gb_zb{background-color:#ffffff;color:#3c4043;display:table;font:500 14px/16px Google Sans,Roboto,RobotoDraft,Helvetica,Arial,sans-serif;letter-spacing:.25px;outline:0;padding:14px 41px;text-align:center;text-decoration:none;width:100%}.gb_7a .gb_zb.gb_zb{background-color:#2d2e30;border:1px solid transparent;color:#e8eaed;width:270px}.gb_zb:hover{background-color:#f7f8f8}.gb_zb:focus,.gb_zb:hover:focus{background-color:#f4f4f4}.gb_zb:active,.gb_zb:focus:active{background-color:#e8e8e9}.gb_Ab{border:none;display:table-cell;vertical-align:middle;height:20px;width:20px}.gb_nb>svg.gb_ob,.gb_Ab>svg.gb_Bb,.gb_Cb>svg.gb_Db{color:#5f6368;fill:currentColor}.gb_7a .gb_Cb>svg.gb_Db{fill:#9aa0a6}.gb_7a .gb_nb{border:1px solid transparent;-webkit-box-shadow:0 1px 3px 0 rgba(0,0,0,0.3),0 4px 8px 3px rgba(0,0,0,0.15);box-shadow:0 1px 3px 0 rgba(0,0,0,0.3),0 4px 8px 3px rgba(0,0,0,0.15)}.gb_7a .gb_nb>svg.gb_ob,.gb_7a .gb_Ab>svg.gb_Bb{color:#e8eaed;fill:currentColor}.gb_7a .gb_nb:hover>svg.gb_ob,.gb_7a .gb_nb:focus>svg.gb_ob,.gb_7a .gb_nb:focus:hover>svg.gb_ob,.gb_7a .gb_nb:active>svg.gb_ob{fill:#8ab4f8}.gb_7a .gb_nb:hover{background-color:#353639;-webkit-box-shadow:0 2px 3px 0 rgba(0,0,0,0.3),0 6px 10px 4px rgba(0,0,0,0.15);box-shadow:0 2px 3px 0 rgba(0,0,0,0.3),0 6px 10px 4px rgba(0,0,0,0.15)}.gb_7a .gb_nb:focus,.gb_7a .gb_nb:focus:hover{background-color:#353639;border:1px solid #5f6368;-webkit-box-shadow:0 2px 3px 0 rgba(0,0,0,0.3),0 6px 10px 4px rgba(0,0,0,0.15);box-shadow:0 2px 3px 0 rgba(0,0,0,0.3),0 6px 10px 4px rgba(0,0,0,0.15)}.gb_7a .gb_nb:active{background-color:rgba(255,255,255,0.12);-webkit-box-shadow:0 4px 4px 0 rgba(0,0,0,0.3),0 8px 12px 6px rgba(0,0,0,0.15);box-shadow:0 4px 4px 0 rgba(0,0,0,0.3),0 8px 12px 6px rgba(0,0,0,0.15)}.gb_Eb{display:table-cell;padding:0 74px 0 16px;text-align:left;vertical-align:middle;white-space:normal}.gb_Fb{border-bottom:1px solid #e8eaed;border-top:1px solid #e8eaed;padding:0 17px;text-align:center}.gb_7a .gb_Fb{border-bottom:1px solid #5f6368;border-top:1px solid #5f6368}.gb_Hb.gb_Hb,.gb_Ib.gb_Ib{background-color:#ffffff;border:1px solid #dadce0;-webkit-border-radius:4px;border-radius:4px;display:inline-block;font:500 14px/16px Google Sans,Roboto,RobotoDraft,Helvetica,Arial,sans-serif;letter-spacing:.15px;margin:16px;outline:0;padding:10px 24px;text-align:center;text-decoration:none;white-space:normal}.gb_Hb.gb_Hb{color:#3c4043}.gb_Ib.gb_Ib{color:#1a73e8}.gb_7a .gb_Ib.gb_Ib,.gb_7a .gb_Hb.gb_Hb{background-color:#2d2e30;border:1px solid #5f6368;color:#e8eaed}.gb_Hb:hover{background-color:#f7f8f8}.gb_Hb:focus,.gb_Hb:hover:focus{background-color:#f4f4f4}.gb_Hb:active,.gb_Hb:active:focus{background-color:#e8e8e9;border-color:transparent;-webkit-box-shadow:0 1px 2px 0 rgba(60,64,67,0.3),0 2px 6px 2px rgba(60,64,67,0.15);box-shadow:0 1px 2px 0 rgba(60,64,67,0.3),0 2px 6px 2px rgba(60,64,67,0.15)}.gb_Ib:hover{background-color:#f8fbff;border-color:#cce0fc}.gb_Ib:focus,.gb_Ib:hover:focus{background-color:#f4f8ff;border-color:#c9ddfc}.gb_Ib:active,.gb_Ib:active:focus{background-color:#ecf3fe;border-color:transparent;-webkit-box-shadow:0 1px 2px 0 rgba(60,64,67,0.3),0 2px 6px 2px rgba(60,64,67,0.15);box-shadow:0 1px 2px 0 rgba(60,64,67,0.3),0 2px 6px 2px rgba(60,64,67,0.15)}.gb_Mb{border-top:1px solid #e8eaed}.gb_7a .gb_Mb{border-top:1px solid #5f6368}.gb_l.gb_4a{overflow-y:auto;overflow-x:hidden}.gb_Pb{border-top:1px solid #ccc;border-top-color:rgba(0,0,0,.2);display:block;outline-offset:-2px;padding:10px 20px;position:relative;white-space:nowrap}.gb_Qb>.gb_Pb{border:none;cursor:pointer;height:35px;outline:0;padding:12px 33px 13px}.gb_Rb .gb_Pb:focus .gb_Sb{outline:1px dotted #fff}.gb_Pb:hover{background:#eee}.gb_Qb>.gb_Pb:hover{background-color:#f7f8f8}.gb_Qb>.gb_Pb:focus,.gb_Qb>.gb_Pb:hover:focus{background-color:#f4f4f4}.gb_Qb>.gb_Pb:active,.gb_Qb>.gb_Pb:focus:active{background-color:#e8e8e9}.gb_7a .gb_Tb:hover,.gb_7a .gb_zb:hover,.gb_7a .gb_xb:hover,.gb_7a .gb_Qb>.gb_Pb:hover{background-color:rgba(255,255,255,0.04);border:1px solid transparent}.gb_7a .gb_Hb:hover,.gb_7a .gb_vb:hover{background-color:rgba(232,234,237,0.04);border:1px solid #5f6368}.gb_7a .gb_Tb:focus,.gb_7a .gb_Tb:hover:focus,.gb_7a .gb_vb:focus,.gb_7a .gb_vb:hover:focus,.gb_7a .gb_zb:focus,.gb_7a .gb_zb:hover:focus,.gb_7a .gb_Hb:focus,.gb_7a .gb_Hb:hover:focus,.gb_7a .gb_Qb>.gb_Pb:focus,.gb_7a .gb_Qb>.gb_Pb:hover:focus{background-color:rgba(232,234,237,0.12);border:1px solid #e8eaed}.gb_7a .gb_xb:focus,.gb_7a .gb_xb:hover:focus{background-color:rgba(232,234,237,0.12)}.gb_7a .gb_Tb:active,.gb_7a .gb_Tb:focus:active,.gb_7a .gb_zb:active,.gb_7a .gb_zb:focus:active,.gb_7a .gb_xb:active,.gb_7a .gb_xb:active:focus,.gb_7a .gb_Qb>.gb_Pb:active,.gb_7a .gb_Qb>.gb_Pb:focus:active{background-color:rgba(232,234,237,0.1);border:1px solid transparent}.gb_Ub{overflow-x:hidden}.gb_7a .gb_Qb>.gb_Pb{border:1px solid transparent}.gb_7a .gb_Hb:active,.gb_7a .gb_Hb:active:focus,.gb_7a .gb_vb:active,.gb_7a .gb_vb:focus:active{background-color:rgba(232,234,237,0.1);border:1px solid #5f6368}.gb_Pb[selected=\"true\"]{overflow:hidden}.gb_Qb>.gb_Pb[selected=\"true\"]{background-color:rgba(60,64,67,0.1)}.gb_7a .gb_Qb>.gb_Pb[selected=\"true\"]{background-color:rgba(255,255,255,0.12)}.gb_Pb[selected=\"true\"]>.gb_Vb{display:block;position:absolute;z-index:2}.gb_Vb::-moz-focus-inner{border:0}.gb_Vb{background-color:transparent;border:none;-webkit-border-radius:4px;border-radius:4px;-webkit-box-sizing:border-box;box-sizing:border-box;color:#fff;cursor:pointer;display:inline-block;font-family:Google Sans,Roboto,RobotoDraft,Helvetica,Arial,sans-serif;font-size:14px;font-weight:500;letter-spacing:.25px;line-height:16px;margin-bottom:1px;min-height:36px;min-width:86px;outline:none;padding:10px 24px;text-align:center;text-decoration:none;top:16px;width:auto}.gb_Wb.gb_Xb{background-color:#1a73e8;color:#fff;margin-left:0;margin-right:12px;margin-top:14px}.gb_7a .gb_Wb.gb_Xb{background-color:#8ab4f8;color:#2d2e30}.gb_Wb.gb_Zb{background-color:#ffffff;border:1px solid #dadce0;color:#3c4043;margin-left:0;margin-right:0;margin-top:11px}.gb_7a .gb_Wb.gb_Zb{background-color:rgba(218,220,224,0.01);border:1px solid #5f6368;color:#e8eaed}.gb_Vb.gb_Zb:hover{background-color:#f7f8f8}.gb_Vb.gb_Zb:focus,.gb_Vb.gb_Zb:hover:focus{background-color:#f4f4f4}.gb_Vb.gb_Zb:active{background-color:#f4f4f4;border:1px solid #5f6368;-webkit-box-shadow:0 1px 2px 0 rgba(60,64,67,0.3),0 1px 3px 1px rgba(60,64,67,0.15);box-shadow:0 1px 2px 0 rgba(60,64,67,0.3),0 1px 3px 1px rgba(60,64,67,0.15)}.gb_Vb.gb_Xb:hover{background-color:#2b7de9;border-color:transparent;-webkit-box-shadow:0 1px 2px 0 rgba(66,133,244,0.3),0 1px 3px 1px rgba(66,133,244,0.15);box-shadow:0 1px 2px 0 rgba(66,133,244,0.3),0 1px 3px 1px rgba(66,133,244,0.15)}.gb_Vb.gb_Xb:focus,.gb_Vb.gb_Xb:hover:focus{background-color:#5094ed;border-color:transparent;-webkit-box-shadow:0 1px 2px 0 rgba(66,133,244,0.3),0 1px 3px 1px rgba(66,133,244,0.15);box-shadow:0 1px 2px 0 rgba(66,133,244,0.3),0 1px 3px 1px rgba(66,133,244,0.15)}.gb_Vb.gb_Xb:active{background-color:#63a0ef;-webkit-box-shadow:0 1px 2px 0 rgba(66,133,244,0.3),0 1px 3px 1px rgba(66,133,244,0.15);box-shadow:0 1px 2px 0 rgba(66,133,244,0.3),0 1px 3px 1px rgba(66,133,244,0.15)}.gb_7a .gb_Vb.gb_Zb:hover{background-color:rgba(232,234,237,0.04)}.gb_7a .gb_Vb.gb_Zb:focus,.gb_7a .gb_Vb.gb_Zb:hover:focus{background-color:rgba(232,234,237,0.12);border:1px solid #e8eaed}.gb_7a .gb_Vb.gb_Zb:active,.gb_7a .gb_Vb.gb_Zb:active:focus{background-color:rgba(232,234,237,0.1);border:1px solid #5f6368;-webkit-box-shadow:0 1px 2px 0 rgba(60,64,67,0.3),0 2px 6px 2px rgba(60,64,67,0.15);box-shadow:0 1px 2px 0 rgba(60,64,67,0.3),0 2px 6px 2px rgba(60,64,67,0.15)}.gb_7a .gb_Vb.gb_Xb:hover{background-color:#93b9f8;-webkit-box-shadow:0 1px 2px 0 rgba(0,0,0,0.3),0 1px 3px 1px rgba(0,0,0,0.15);box-shadow:0 1px 2px 0 rgba(0,0,0,0.3),0 1px 3px 1px rgba(0,0,0,0.15)}.gb_7a .gb_Vb.gb_Xb:focus,.gb_7a .gb_Vb.gb_Xb:hover:focus{background-color:#a5c5f9}.gb_7a .gb_Vb.gb_Xb:active{background-color:#8ab4f8;-webkit-box-shadow:0 1px 2px 0 rgba(0,0,0,0.3),0 2px 6px 2px rgba(0,0,0,0.15);box-shadow:0 1px 2px 0 rgba(0,0,0,0.3),0 2px 6px 2px rgba(0,0,0,0.15)}.gb_Pb[selected=\"true\"]>.gb_Vb:focus{background-color:rgba(0,0,0,.24);-webkit-border-radius:2px;border-radius:2px;outline:0}.gb_Pb[selected=\"true\"]>.gb_Vb:hover,.gb_Pb[selected=\"true\"]>.gb_Vb:focus:hover{background-color:#565656;-webkit-border-radius:2px;border-radius:2px}.gb_Pb[selected=\"true\"]>.gb_Vb:active{-webkit-border-radius:2px;border-radius:2px;background-color:#212121}.gb_Zb{left:0;margin-left:5%}.gb_Xb{margin-right:5%;right:0}.gb_Pb:first-child,.gb_0b:first-child+.gb_Pb{border-top:0}.gb_7a .gb_Pb:first-child,.gb_7a .gb_0b:first-child+.gb_Pb{border-top:1px solid transparent}.gb_7a .gb_Pb:first-child:focus:hover,.gb_7a .gb_0b:first-child+.gb_Pb:focus:hover,.gb_7a .gb_Pb:first-child:focus,.gb_7a .gb_0b:first-child+.gb_Pb:focus{border-top:1px solid #e8eaed}.gb_7a .gb_Pb:first-child:active,.gb_7a .gb_0b:first-child+.gb_Pb:active,.gb_7a .gb_Pb:first-child:active:focus,.gb_7a .gb_0b:first-child+.gb_Pb:active:focus{border-top:1px solid transparent}.gb_0b{display:none}.gb_Qb>.gb_Pb.gb_1b{cursor:default;opacity:.38}.gb_Qb>.gb_Pb.gb_1b:hover,.gb_Qb>.gb_Pb.gb_1b:focus,.gb_Qb>.gb_Pb.gb_1b:active{background-color:#fff}.gb_2b{border:none;vertical-align:top;height:32px;width:32px}.gb_Sb{display:inline-block;margin:0 0 0 12px}@media screen and (min-width:361px){.gb_l .gb_Sb{width:244px}}@media screen and (max-width:361px){.gb_l .gb_Sb{width:calc( calc(100vw -  12px *2)  -  12px  -  32px  -  33px *2)}}.gb_4a.gb_ta .gb_Sb{max-width:222px}.gb_3b .gb_Sb{margin-top:9px}.gb_4b{color:#3c4043;font:500 14px/18px Google Sans,Roboto,RobotoDraft,Helvetica,Arial,sans-serif;letter-spacing:.25px;text-overflow:ellipsis;overflow:hidden}.gb_7a .gb_4b{color:#e8eaed}.gb_5b .gb_4b{font-family:Roboto,RobotoDraft,Helvetica,Arial,sans-serif;font-size:12px;letter-spacing:normal;line-height:16px}.gb_7a .gb_6b{color:#bdc1c6}.gb_6b{color:#5f6368;display:inline-block;font:400  12px / 16px  Roboto,RobotoDraft,Helvetica,Arial,sans-serif;text-overflow:ellipsis;overflow:hidden}@media screen and (min-width:361px){.gb_l .gb_6b{max-width:244px}}@media screen and (max-width:361px){.gb_l .gb_6b{max-width:calc( calc(100vw -  12px *2)  -  12px  -  32px  -  33px *2)}}@media screen and (min-width:361px){.gb_Sb>.gb_6b.gb_7b{max-width:224px}}@media screen and (max-width:361px){.gb_Sb>.gb_6b.gb_7b{max-width:calc( calc( calc(100vw -  12px *2)  -  12px  -  32px  -  33px *2)  -  20px )}}.gb_5b .gb_6b{margin-top:2px}.gb_8b{color:#5d6369;display:block;float:right;font:italic 400 12px/14px Roboto,RobotoDraft,Helvetica,Arial,sans-serif;padding:3px 0 0 20px;text-align:right;visibility:visible}.gb_7a .gb_8b{color:#9aa0a6}.gb_9b{background-color:transparent;display:none;left:0;overflow-wrap:break-word;position:relative;margin-left:44px;white-space:normal;width:100%;word-wrap:break-word;z-index:1}@media screen and (min-width:361px){.gb_9b{max-width:244px}}@media screen and (max-width:361px){.gb_9b{max-width:calc( calc(100vw -  12px *2)  -  33px *2 -  44px )}}.gb_Pb[selected=\"true\"]>.gb_9b{display:block}.gb_Qb>.gb_Pb[selected=\"true\"]{height:auto;min-height:91px}.gb_Vb:hover{background-color:rgba(100,100,100,0.4)}.gb_ac{display:block;padding:10px 20px}.gb_Tb{outline:0;padding:14px 41px;width:280px}.gb_Tb:hover{background-color:#f7f8f8}.gb_Tb:focus,.gb_Tb:hover:focus{background-color:#f4f4f4}.gb_Tb:active,.gb_Tb:focus:active{background-color:#e8e8e9}.gb_bc{display:inline-block;vertical-align:middle;height:20px;width:20px}.gb_e .gb_cc::before{left:-244px;top:0}.gb_dc{color:#427fed;display:inline-block;padding:0 25px 0 10px;vertical-align:middle;white-space:normal}.gb_ec{color:#3c4043;font:500 14px/18px Google Sans,Roboto,RobotoDraft,Helvetica,Arial,sans-serif;padding:0 25px 0 16px;text-align:left}@media screen and (min-width:361px){.gb_ec{width:195px}}@media screen and (max-width:361px){.gb_ec{width:calc( calc( calc(100vw -  12px *2)  -  12px  -  32px  -  33px *2)  -  24px  -  25px )}}.gb_7a .gb_ec{color:#e8eaed}.gb_fc{vertical-align:middle}.gb_gc{-webkit-transform:rotate(180deg);transform:rotate(180deg)}.gb_hc{height:108px;position:absolute;right:-6px;top:-6px;width:108px}.gb_ic{height:88px;position:absolute;right:2px;top:-4px;width:88px}@-webkit-keyframes progressmove{0%{margin-left:-100%}to{margin-left:100%}}@keyframes progressmove{0%{margin-left:-100%}to{margin-left:100%}}.gb_jc.gb_Ea{display:none}.gb_jc{background-color:#d2e3fc;height:3px;overflow:hidden}.gb_7a .gb_jc{background-color:rgba(138,180,248,0.24)}.gb_kc{background-color:#1a73e8;height:100%;width:50%;-webkit-animation:progressmove 1.5s linear 0s infinite;animation:progressmove 1.5s linear 0s infinite}.gb_7a>.gb_kc{background-color:#8ab4f8}.gb_Db,.gb_lc{height:20px;position:absolute;top:-2px;width:20px}.gb_Pb .gb_Cb{display:inline-block;height:16px;position:relative;width:20px}.gb_Db{display:inline-block}.gb_Pb[selected=\"true\"] .gb_Db{-webkit-transform:rotate(180deg);transform:rotate(180deg)}.gb_Cb{display:none}.gb_mc{margin:0 9px}.gb_Ia.gb_eb{height:80px;width:80px}.gb_nc.gb_Ia{height:32px;width:32px}.gb_Ka.gb_La{font:400 50px/ 80px  Google Sans,Roboto,RobotoDraft,Helvetica,Arial,sans-serif}.gb_Ka.gb_2b{font:400 22px/34px Google Sans,Roboto,RobotoDraft,Helvetica,Arial,sans-serif}.gb_oc{padding-bottom:2px;position:relative}.gb_nc>.gb_Ja{bottom:-2px;left:calc(18px +  2px )}.gb_oc>.gb_Ja{bottom:11px;height:24px;left:calc(191px -  33px );width:24px}.gb_pc{color:#5f6368;font-family:Roboto,RobotoDraft,Helvetica,Arial,sans-serif;font-size:14px;line-height:19px;margin-top:4px;text-align:center}.gb_nc{display:inline-block;position:relative}.gb_Sb.gb_qc{margin-left:calc( 12px  -  2px  + 1px)}.gb_4a.gb_l::-webkit-scrollbar{width:16px}.gb_H.gb_l::-webkit-scrollbar{width:16px}.gb_4a.gb_l::-webkit-scrollbar-thumb{background:#dadce0;background-clip:padding-box;border:4px solid transparent;-webkit-border-radius:8px;border-radius:8px;-webkit-box-shadow:none;box-shadow:none}.gb_H.gb_l::-webkit-scrollbar-thumb{background:#dadce0;background-clip:padding-box;border:4px solid transparent;-webkit-border-radius:8px;border-radius:8px;-webkit-box-shadow:none;box-shadow:none;min-height:50px}.gb_7a.gb_l::-webkit-scrollbar-thumb{background-color:#5f6368}.gb_H.gb_l::-webkit-scrollbar-track{background:none;border:none}.gb_4a.gb_l::-webkit-scrollbar-track{background:none;border:none}.gb_H.gb_l::-webkit-scrollbar-track:hover{background:none;border:none}.gb_4a.gb_l::-webkit-scrollbar-track:hover{background:none;border:none}.gb_Ea{display:none!important}.gb_Fa{visibility:hidden}#gb#gb a.gb_f,#gb#gb a.gb_g,#gb#gb span.gb_g{color:rgba(0,0,0,0.87);text-decoration:none}#gb#gb a.gb_g:hover,#gb#gb a.gb_g:focus{opacity:.85;text-decoration:underline}.gb_h.gb_i{display:none;padding-left:15px;vertical-align:middle}.gb_h.gb_i:first-child{padding-left:0}.gb_h .gb_g{display:inline-block;line-height:24px;outline:none;vertical-align:middle}#gb#gb.gb_j a.gb_g,#gb#gb.gb_j span.gb_g,#gb#gb .gb_j a.gb_g,#gb#gb .gb_j span.gb_g{color:#fff}#gb#gb.gb_j span.gb_g,#gb#gb .gb_j span.gb_g{opacity:.7}a.gb_0{border:none;color:#4285f4;cursor:default;font-weight:bold;outline:none;position:relative;text-align:center;text-decoration:none;text-transform:uppercase;white-space:nowrap;-webkit-user-select:none}a.gb_0:hover:after,a.gb_0:focus:after{background-color:rgba(0,0,0,.12);content:'';height:100%;left:0;position:absolute;top:0;width:100%}a.gb_0:hover,a.gb_0:focus{text-decoration:none}a.gb_0:active{background-color:rgba(153,153,153,.4);text-decoration:none}a.gb_1{background-color:#4285f4;color:#fff}a.gb_1:active{background-color:#0043b2}.gb_2{-webkit-box-shadow:0 1px 1px rgba(0,0,0,.16);box-shadow:0 1px 1px rgba(0,0,0,.16)}.gb_0,.gb_1,.gb_3,.gb_4{display:inline-block;line-height:28px;padding:0 12px;-webkit-border-radius:2px;border-radius:2px}.gb_3{background:#f8f8f8;border:1px solid #c6c6c6}.gb_4{background:#f8f8f8}.gb_3,#gb a.gb_3.gb_3,.gb_4{color:#666;cursor:default;text-decoration:none}#gb a.gb_4.gb_4{cursor:default;text-decoration:none}.gb_4{border:1px solid #4285f4;font-weight:bold;outline:none;background:#4285f4;background:-webkit-linear-gradient(top,#4387fd,#4683ea);background:linear-gradient(top,#4387fd,#4683ea);filter:progid:DXImageTransform.Microsoft.gradient(startColorstr=#4387fd,endColorstr=#4683ea,GradientType=0)}#gb a.gb_4.gb_4{color:#fff}.gb_4:hover{-webkit-box-shadow:0 1px 0 rgba(0,0,0,.15);box-shadow:0 1px 0 rgba(0,0,0,.15)}.gb_4:active{-webkit-box-shadow:inset 0 2px 0 rgba(0,0,0,.15);box-shadow:inset 0 2px 0 rgba(0,0,0,.15);background:#3c78dc;background:-webkit-linear-gradient(top,#3c7ae4,#3f76d3);background:linear-gradient(top,#3c7ae4,#3f76d3);filter:progid:DXImageTransform.Microsoft.gradient(startColorstr=#3c7ae4,endColorstr=#3f76d3,GradientType=0)}.gb_rc{min-width:127px;overflow:hidden;position:relative;z-index:987}.gb_sc{position:absolute;padding:0 20px 0 15px}.gb_tc{display:inline-block;line-height:0;outline:none;vertical-align:middle}.gb_uc .gb_tc{position:relative;top:2px}.gb_tc .gb_vc,.gb_ra{display:block}.gb_wc{border:none;display:block;visibility:hidden}.gb_tc .gb_vc{background-position:0 -35px;height:33px;width:92px}img.gb_ua{border:0;vertical-align:middle}.gb_j .gb_tc .gb_vc{background-position:-296px 0}.gb_E .gb_tc .gb_vc{background-position:-97px 0;opacity:.54}.gb_Xf{display:inline-block;line-height:normal;position:relative;z-index:987}.gb_Bg{color:#000;font:13px/27px Arial,sans-serif;left:0;min-width:1002px;position:absolute;top:0;-webkit-user-select:none;width:100%}.gb_2f{font:13px/27px Arial,sans-serif;position:relative;height:60px;width:100%}.gb_Na .gb_2f{height:28px}#gba{height:60px}#gba.gb_Na{height:28px}#gba.gb_Cg{height:90px}#gba.gb_Dg{height:132px}#gba.gb_Cg.gb_Na{height:58px}.gb_2f>.gb_i{height:60px;line-height:58px;vertical-align:middle}.gb_Na .gb_2f>.gb_i{height:28px;line-height:26px}.gb_2f::before{background:#e5e5e5;bottom:0;content:'';display:none;height:1px;left:0;position:absolute;right:0}.gb_2f{background:#f1f1f1}.gb_Eg .gb_2f{background:#fff}.gb_Eg .gb_2f::before,.gb_Na .gb_2f::before{display:none}.gb_E .gb_2f,.gb_j .gb_2f,.gb_Na .gb_2f{background:transparent}.gb_E .gb_2f::before{background:#e1e1e1;background:rgba(0,0,0,.12)}.gb_j .gb_2f::before{background:#333;background:rgba(255,255,255,.2)}.gb_i{display:inline-block;-webkit-flex:0 0 auto;flex:0 0 auto;-webkit-flex:0 0 main-size;flex:0 0 main-size}.gb_i.gb_Fg{float:right;-webkit-order:1;order:1}.gb_Hg{white-space:nowrap}.gb_0f .gb_Hg{display:-webkit-flex;display:flex}.gb_Hg,.gb_i{margin-left:0!important;margin-right:0!important}.gb_vc{background-image:url('//ssl.gstatic.com/gb/images/i1_1967ca6a.png');-webkit-background-size:528px 68px;background-size:528px 68px}@media (min-resolution:1.25dppx),(-webkit-min-device-pixel-ratio:1.25),(min-device-pixel-ratio:1.25){.gb_vc{background-image:url('//ssl.gstatic.com/gb/images/i2_2ec824b0.png')}}.gb_Wa{min-width:165px;padding-left:30px;padding-right:30px;position:relative;text-align:right;z-index:986;-webkit-align-items:center;align-items:center;-webkit-justify-content:flex-end;justify-content:flex-end;-webkit-user-select:none}.gb_Na .gb_Wa{min-width:0}.gb_Wa.gb_i{-webkit-flex:1 1 auto;flex:1 1 auto;-webkit-flex:1 1 main-size;flex:1 1 main-size}.gb_4e{line-height:normal;position:relative;text-align:left}.gb_4e.gb_i,.gb_je.gb_i,.gb_Oa.gb_i{-webkit-flex:0 1 auto;flex:0 1 auto;-webkit-flex:0 1 main-size;flex:0 1 main-size}.gb_rg,.gb_sg{display:inline-block;padding:0 0 0 15px;position:relative;vertical-align:middle}.gb_je{line-height:normal;padding-right:15px}.gb_Wa .gb_je{padding-right:0}.gb_Oa{color:#404040;line-height:30px;min-width:30px;overflow:hidden;vertical-align:middle;text-overflow:ellipsis}#gb.gb_Na.gb_Na .gb_ke,#gb.gb_Na.gb_Na .gb_4e>.gb_sg .gb_mg{background:none;border:none;color:#36c;cursor:pointer;filter:none;font-size:11px;line-height:26px;padding:0;-webkit-box-shadow:none;box-shadow:none}#gb.gb_Na.gb_j .gb_ke,#gb.gb_Na.gb_j .gb_4e>.gb_sg .gb_mg{color:#fff}.gb_Na .gb_ke{text-transform:uppercase}.gb_Wa.gb_1f{padding-left:0;padding-right:29px}.gb_Wa.gb_tg{max-width:400px}.gb_ug{background-clip:content-box;background-origin:content-box;opacity:.27;padding:22px;height:16px;width:16px}.gb_ug.gb_i{display:none}.gb_ug:hover,.gb_ug:focus{opacity:.55}.gb_vg{background-position:-219px -25px}.gb_wg{background-position:-194px 0;padding-left:30px;padding-right:14px;position:absolute;right:0;top:0;z-index:990}.gb_Ta:not(.gb_Ua) .gb_wg,.gb_1f .gb_vg{display:inline-block}.gb_Ta .gb_vg{padding-left:30px;padding-right:0;width:0}.gb_Ta:not(.gb_Ua) .gb_xg{display:none}.gb_Wa.gb_i.gb_1f,.gb_1f:not(.gb_Ua) .gb_4e{-webkit-flex:0 0 auto;flex:0 0 auto;-webkit-flex:0 0 main-size;flex:0 0 main-size}.gb_ug,.gb_1f .gb_je,.gb_Ua .gb_4e{overflow:hidden}.gb_Ta .gb_je{padding-right:0}.gb_1f .gb_4e{padding:1px 1px 1px 0}.gb_Ta .gb_4e{width:75px}.gb_Wa.gb_yg,.gb_Wa.gb_yg .gb_vg,.gb_Wa.gb_yg .gb_vg::before,.gb_Wa.gb_yg .gb_je,.gb_Wa.gb_yg .gb_4e{-webkit-transition:width .5s ease-in-out,min-width .5s ease-in-out,max-width .5s ease-in-out,padding .5s ease-in-out,left .5s ease-in-out;transition:width .5s ease-in-out,min-width .5s ease-in-out,max-width .5s ease-in-out,padding .5s ease-in-out,left .5s ease-in-out}.gb_0f .gb_Wa{min-width:0}.gb_Wa.gb_Xa,.gb_Wa.gb_Xa .gb_4e,.gb_Wa.gb_zg,.gb_Wa.gb_zg .gb_4e{min-width:0!important}.gb_Wa.gb_Xa,.gb_Wa.gb_Xa .gb_i{-webkit-flex:0 0 auto!important;-webkit-box-flex:0 0 auto!important;-webkit-flex:0 0 auto!important;flex:0 0 auto!important}.gb_Wa.gb_Xa .gb_Oa{width:30px!important}.gb_Ag{margin-right:32px}.gb_Fa{display:none}.gb_2f ::-webkit-scrollbar{height:15px;width:15px}.gb_2f ::-webkit-scrollbar-button{height:0;width:0}.gb_2f ::-webkit-scrollbar-thumb{background-clip:padding-box;background-color:rgba(0,0,0,.3);border:5px solid transparent;-webkit-border-radius:10px;border-radius:10px;min-height:20px;min-width:20px;height:5px;width:5px}.gb_2f ::-webkit-scrollbar-thumb:hover,.gb_2f ::-webkit-scrollbar-thumb:active{background-color:rgba(0,0,0,.4)}#gb.gb_Ig{min-width:980px}#gb.gb_Ig .gb_Zf{min-width:0;position:static;width:0}.gb_4c{display:none}.gb_Ig .gb_2f{background:transparent;border-bottom-color:transparent}.gb_Ig .gb_2f::before{display:none}.gb_Ig.gb_Ig .gb_h{display:inline-block}.gb_Ig.gb_Wa .gb_je{padding-right:15px}.gb_Ig.gb_0f #gbqf{display:block}.gb_Ig #gbq{height:0;position:absolute}.gb_Ig.gb_Wa{z-index:987}sentinel{}#gbq .gbgt-hvr,#gbq .gbgt:focus{background-color:transparent;background-image:none}.gbqfh#gbq1{display:none}.gbxx{display:none !important}#gbq{line-height:normal;position:relative;top:0;white-space:nowrap}#gbq{left:0;width:100%}[dir=rtl] #gbq{right:0}#gbq2{top:0;z-index:986}#gbq4{display:inline-block;max-height:29px;overflow:hidden;position:relative}.gbqfh#gbq2{z-index:985}.gbqfh#gbq2{margin:0;margin-left:0 !important;padding-top:0;position:relative;top:310px}.gbqfh #gbqf{margin:auto;min-width:534px;padding:0 !important}.gbqfh #gbqfbw{display:none}.gbqfh #gbqfbwa{display:block}.gbqfh #gbqf{max-width:572px;min-width:572px}.gbqfh .gbqfqw{border-right-width:1px}\n",
      "@-webkit-keyframes qs-timer {0%{}}</style></head><body jsmodel=\"TvHxbe\" class=\"hp vasq\" id=\"gsr\"><style>body,html{height:100%;margin:0;padding:0}#viewport{min-height:100%;position:relative;width:100%}.content{padding-bottom:35px}#footer{bottom:0;font-size:10pt;height:105px;width:100%}#gog{padding:3px 8px 0}td{line-height:.8em}.gac_m td{line-height:17px}body,td,a,p,.h{font-family:arial,sans-serif}.h{color:#1a0dab;font-size:20px}em{font-weight:bold;font-style:normal}#lst-ib:hover{border-color:#70757a #dadce0 #dadce0 #dadce0 !important}#lst-ib.lst-d-f,#lst-ib:hover.lst-d-f{border-color:#4285f4 !important}.ds{display:inline-block;margin-left:4px}.ctr-p{margin:0 auto;min-width:400px}.big .ctr-p{min-width:1139px;width:auto;min-width:400px}body{background:#fff;color:#202124}a{color:#1a0dab;text-decoration:none}a:hover,a:active{text-decoration:underline}.fl a{color:#1a0dab}a:visited{color:#609}.sblc{padding-top:5px}.sblc a{display:block;margin:2px 0;margin-left:13px;font-size:11px}.lsbb{height:30px;display:block}#footer a{color:#70757a;margin:2px 10px 0}#footer a:active{color:#ea4335}.lsb{border:none;color:#000;cursor:pointer;height:30px;margin:0;outline:0;vertical-align:top}.lst:focus{outline:none}body,html{font-size:small}h1,ol,ul,li{margin:0;padding:0}.hp #logocont{display:none}#body,#footer{display:block}.gl{white-space:nowrap}#ftby{padding-left:0}#ftby>div,#footer a{display:inline-block}@media only screen and (min-width:1222px){#ftby{margin:0 44px}}.logo-subtext{color:#4285f4;font:16px/16px roboto-regular, arial, sans-serif;left:215px;position:relative;top:76px;white-space:nowrap}[dir='ltr'],[dir='rtl']{unicode-bidi:-webkit-isolate;unicode-bidi:isolate}bdo[dir='ltr'],bdo[dir='rtl']{unicode-bidi:bidi-override;unicode-bidi:-webkit-isolate-override;unicode-bidi:isolate-override}.z1asCe{display:inline-block;fill:currentColor;height:24px;line-height:24px;position:relative;width:24px}.z1asCe svg{display:block;height:100%;width:100%}</style><div></div><div class=\"ctr-p\" id=\"viewport\"><style>@font-face{font-family:'Roboto';font-style:normal;font-weight:400;src:url(//fonts.gstatic.com/s/roboto/v18/KFOmCnqEu92Fr1Mu72xKKTU1Kvnz.woff2)format('woff2');unicode-range:U+0460-052F,U+1C80-1C88,U+20B4,U+2DE0-2DFF,U+A640-A69F,U+FE2E-FE2F;}@font-face{font-family:'Roboto';font-style:normal;font-weight:400;src:url(//fonts.gstatic.com/s/roboto/v18/KFOmCnqEu92Fr1Mu5mxKKTU1Kvnz.woff2)format('woff2');unicode-range:U+0400-045F,U+0490-0491,U+04B0-04B1,U+2116;}@font-face{font-family:'Roboto';font-style:normal;font-weight:400;src:url(//fonts.gstatic.com/s/roboto/v18/KFOmCnqEu92Fr1Mu7mxKKTU1Kvnz.woff2)format('woff2');unicode-range:U+1F00-1FFF;}@font-face{font-family:'Roboto';font-style:normal;font-weight:400;src:url(//fonts.gstatic.com/s/roboto/v18/KFOmCnqEu92Fr1Mu4WxKKTU1Kvnz.woff2)format('woff2');unicode-range:U+0370-03FF;}@font-face{font-family:'Roboto';font-style:normal;font-weight:400;src:url(//fonts.gstatic.com/s/roboto/v18/KFOmCnqEu92Fr1Mu7WxKKTU1Kvnz.woff2)format('woff2');unicode-range:U+0102-0103,U+0110-0111,U+0128-0129,U+0168-0169,U+01A0-01A1,U+01AF-01B0,U+1EA0-1EF9,U+20AB;}@font-face{font-family:'Roboto';font-style:normal;font-weight:400;src:url(//fonts.gstatic.com/s/roboto/v18/KFOmCnqEu92Fr1Mu7GxKKTU1Kvnz.woff2)format('woff2');unicode-range:U+0100-024F,U+0259,U+1E00-1EFF,U+2020,U+20A0-20AB,U+20AD-20CF,U+2113,U+2C60-2C7F,U+A720-A7FF;}@font-face{font-family:'Roboto';font-style:normal;font-weight:400;src:url(//fonts.gstatic.com/s/roboto/v18/KFOmCnqEu92Fr1Mu4mxKKTU1Kg.woff2)format('woff2');unicode-range:U+0000-00FF,U+0131,U+0152-0153,U+02BB-02BC,U+02C6,U+02DA,U+02DC,U+2000-206F,U+2074,U+20AC,U+2122,U+2191,U+2193,U+2212,U+2215,U+FEFF,U+FFFD;}@font-face{font-family:'Roboto';font-style:normal;font-weight:700;src:url(//fonts.gstatic.com/s/roboto/v18/KFOlCnqEu92Fr1MmWUlfCRc4AMP6lbBP.woff2)format('woff2');unicode-range:U+0460-052F,U+1C80-1C88,U+20B4,U+2DE0-2DFF,U+A640-A69F,U+FE2E-FE2F;}@font-face{font-family:'Roboto';font-style:normal;font-weight:700;src:url(//fonts.gstatic.com/s/roboto/v18/KFOlCnqEu92Fr1MmWUlfABc4AMP6lbBP.woff2)format('woff2');unicode-range:U+0400-045F,U+0490-0491,U+04B0-04B1,U+2116;}@font-face{font-family:'Roboto';font-style:normal;font-weight:700;src:url(//fonts.gstatic.com/s/roboto/v18/KFOlCnqEu92Fr1MmWUlfCBc4AMP6lbBP.woff2)format('woff2');unicode-range:U+1F00-1FFF;}@font-face{font-family:'Roboto';font-style:normal;font-weight:700;src:url(//fonts.gstatic.com/s/roboto/v18/KFOlCnqEu92Fr1MmWUlfBxc4AMP6lbBP.woff2)format('woff2');unicode-range:U+0370-03FF;}@font-face{font-family:'Roboto';font-style:normal;font-weight:700;src:url(//fonts.gstatic.com/s/roboto/v18/KFOlCnqEu92Fr1MmWUlfCxc4AMP6lbBP.woff2)format('woff2');unicode-range:U+0102-0103,U+0110-0111,U+0128-0129,U+0168-0169,U+01A0-01A1,U+01AF-01B0,U+1EA0-1EF9,U+20AB;}@font-face{font-family:'Roboto';font-style:normal;font-weight:700;src:url(//fonts.gstatic.com/s/roboto/v18/KFOlCnqEu92Fr1MmWUlfChc4AMP6lbBP.woff2)format('woff2');unicode-range:U+0100-024F,U+0259,U+1E00-1EFF,U+2020,U+20A0-20AB,U+20AD-20CF,U+2113,U+2C60-2C7F,U+A720-A7FF;}@font-face{font-family:'Roboto';font-style:normal;font-weight:700;src:url(//fonts.gstatic.com/s/roboto/v18/KFOlCnqEu92Fr1MmWUlfBBc4AMP6lQ.woff2)format('woff2');unicode-range:U+0000-00FF,U+0131,U+0152-0153,U+02BB-02BC,U+02C6,U+02DA,U+02DC,U+2000-206F,U+2074,U+20AC,U+2122,U+2191,U+2193,U+2212,U+2215,U+FEFF,U+FFFD;}.TSPr2b{color:#fff;height:1px;overflow:hidden;position:absolute;width:1px}.qosSob{font-family:Roboto}</style><div class=\"TSPr2b qosSob\" aria-hidden=\"true\">.<b>.</b></div><script nonce=\"85l7VxQ9iEgIvpEFNOfcIw==\">google.wf={};google.wf.s=Math.round(window.performance.now());(function(){var l='400,700';var font='Roboto';\n",
      "function a(){var b=c,e=document.fonts.load(b+\" 10pt \"+font);google.wf&&e.then(function(){google.wf[\"e\"+b]=Math.round(window.performance.now())})};if(document.fonts&&document.fonts.load)for(var d=l.split(\",\"),f=0,c=void 0;c=d[f];++f)a();})();</script><style>@media only screen and (max-width:380px){#gb div{display:none}}#gb{font-size:13px}#hptl{position:absolute;margin:7px 0 0 10px}#hptl a{display:inline-block;padding-left:15px;color:#000;opacity:0.75}#gb{position:relative;top:8px}#gb{top:16px}div#viewport{position:absolute;top:0;width:100%}div#searchform.jhp{margin-top:0}#searchform.big.jhp>#tsf{max-width:none}.jhp>#tsf{max-width:none}</style><div id=\"gb\"><div id=\"hptl\"><a href=\"https://about.google/?fg=1&amp;utm_source=google-US&amp;utm_medium=referral&amp;utm_campaign=hp-header\" ping=\"/url?sa=t&amp;rct=j&amp;source=webhp&amp;url=https://about.google/%3Ffg%3D1%26utm_source%3Dgoogle-US%26utm_medium%3Dreferral%26utm_campaign%3Dhp-header&amp;ved=0ahUKEwimmrXh147tAhUigK0KHSxyDlEQkNQCCAM\">About</a><a href=\"https://store.google.com/US?utm_source=hp_header&amp;utm_medium=google_ooo&amp;utm_campaign=GS100042&amp;hl=en-US\" ping=\"/url?sa=t&amp;rct=j&amp;source=webhp&amp;url=https://store.google.com/US%3Futm_source%3Dhp_header%26utm_medium%3Dgoogle_ooo%26utm_campaign%3DGS100042%26hl%3Den-US&amp;ved=0ahUKEwimmrXh147tAhUigK0KHSxyDlEQpMwCCAQ\">Store</a></div><div id=\"gbw\"><div style=\"top:0;left:0;right:0;width:100%\"><div class=\"gb_Wa gb_Hg gb_i gb_Fg gb_Ig\" data-ogsr-up=\"\"><div class=\"gb_je gb_i gb_Hg gb_xg\" data-ogbl=\"\"><div class=\"gb_h gb_i\"><a class=\"gb_g\" data-pid=\"23\" href=\"https://mail.google.com/mail/?tab=wm&amp;ogbl\" target=\"_top\">Gmail</a></div><div class=\"gb_h gb_i\"><a class=\"gb_g\" data-pid=\"2\" href=\"https://www.google.com/imghp?hl=en&amp;tab=wi&amp;ogbl\" target=\"_top\">Images</a></div></div><div class=\"gb_4e gb_Hg gb_i\"><div class=\"gb_C gb_fd gb_i\" data-ogsr-fb=\"true\" data-ogsr-alt=\"\" id=\"gbwa\"><div class=\"gb_Uf\"><a class=\"gb_D gb_vc\" href=\"https://www.google.com/intl/en/about/products?tab=wh\" title=\"Google apps\" aria-expanded=\"false\" role=\"button\" tabindex=\"0\"></a></div></div><div class=\"gb_rg gb_i\"><div class=\"gb_Uf\"><a class=\"gb_ke gb_4 gb_7c\" id=\"gb_70\" href=\"https://accounts.google.com/ServiceLogin?hl=en&amp;passive=true&amp;continue=https://www.google.com/&amp;ec=GAZAAQ\" target=\"_top\">Sign in</a><div class=\"gb_3a\"></div><div class=\"gb_2a\"></div></div></div><div class=\"gb_fd gb_gd gb_4c gb_td gb_Ed\" aria-label=\"Reinstall Chrome to stay secure\" role=\"dialog\" style=\"behavior:url(#default#userData)\"><div class=\"gb_F\"><div class=\"gb_ld\"><div class=\"gb_Dd\"><img height=\"48\" src=\"https://www.google.com/images/hpp/Chrome_Owned_96x96.png\" width=\"48\"></div><div class=\"gb_ud\"><p class=\"gb_xd\" role=\"heading\">Reinstall Chrome to stay secure</p><p class=\"gb_ed\"><span class=\"gb_yd\">You're using an older version of Chrome</span></p><div class=\"gb_qd\"><a class=\"gb_0 gb_pd gb_od\" href=\"#\" data-navigation=\"server\" role=\"button\" target=\"_top\">NO THANKS</a><a class=\"gb_7c gb_4 gb_od gb_rd\" aria-label=\"YES\" href=\"https://www.google.com/url?q=https://www.google.com/chrome/%3Fbrand%3DRLNS%26utm_source%3Dgoogle.com%26utm_medium%3Dmaterial-callout%26utm_campaign%3Dsearch%26utm_content%3Dreinstall-to-stay-secure%26utm_keyword%3DRLNS&amp;source=hpp&amp;id=19019113&amp;ct=7&amp;usg=AFQjCNEr8BVI6ordo8O9JVYtc7A9SpG4LQ\" target=\"_blank\" role=\"button\"><span>YES</span></a></div></div></div></div></div></div></div></div></div></div><div class=\"jhp\" id=\"searchform\"><script nonce=\"85l7VxQ9iEgIvpEFNOfcIw==\">(function(){var _j=1280;try{var s=document.getElementById('searchform');var w=document['body']&&document.body['offsetWidth'];if(s&&w&&w>=_j){s.className+=' big';document['body'].className+=' big';}\n",
      "}catch(e){}\n",
      "})();</script><style>#logocont{z-index:1;padding-left:13px;padding-right:10px;padding-top:7px}#logocont.ddl{padding-top:3px}.big #logocont{padding-left:13px;padding-right:12px}#searchform #logocont{left:0;padding:7px 28px 0 24px;position:absolute;top:4px}.sbibod{background-color:#fff;height:44px;vertical-align:top;border:1px solid #dfe1e5;border-radius:8px;box-shadow:none;transition:box-shadow 200ms cubic-bezier(0.4, 0.0, 0.2, 1);}.lst{border:0;margin-top:6px;margin-bottom:0}.gsfi,.lst{font:16px arial,sans-serif;color:rgba(0,0,0,.87);line-height:34px;height:34px !important}.lst-c{overflow:hidden}.lst-c .sbib_a{background:#fff}#gs_st0{line-height:44px;padding:0 8px;margin-top:-1px;position:static}.srp #gs_st0{padding:0 2px 0 8px}.gsfs{font:16px arial,sans-serif}.lsb{background:transparent;border:0;font-size:0;height:30px;outline:0;text-align:left;width:100%}.sbico{display:inline-block;height:0px;width:0px;cursor:pointer;vertical-align:middle;color:#4285f4}.sbico-c{background:transparent;border:0;float:right;height:44px;line-height:44px;margin-top:-1px;outline:0;padding-right:16px;position:relative;top:-1px}.hp .sbico-c{display:none}#sblsbb{text-align:center;border-bottom-left-radius:0;border-top-left-radius:0;height:44px;margin:0;padding:0;}#sbds{border:0;margin-left:0}.hp .nojsb,.srp .jsb{display:none}.sbsb_g{margin:3px 0 4px}.jhp input[type=\"submit\"],.sbdd_a input,.gbqfba{background-image:-webkit-linear-gradient(top,#f8f9fa,#f8f9fa);background-color:#f8f9fa;border:1px solid #f8f9fa;border-radius:4px;color:#3c4043;cursor:pointer;font-family:arial,sans-serif;font-size:14px;margin:11px 4px;min-width:54px;padding:0 16px;text-align:center}.gbqfba.gbqfba-hvr{font-size:14px}.jhp input[type=\"submit\"],.gbqfba{height:36px;line-height:27px}.sbdd_a input{height:100%}.jhp input[type=\"submit\"]:hover,.sbdd_a input:hover,.gbqfba:hover{background-color:#f8f9fa;background-image:-webkit-linear-gradient(top,#f8f9fa,#f8f9fa);border:1px solid #dadce0;box-shadow:0 1px 1px rgba(0,0,0,.1);color:#202124}.jhp input[type=\"submit\"]:focus,.sbdd_a input:focus{border:1px solid #4285f4;outline:none}.sbdd_a input{margin:6px;}span.lsbb,.lsb input{-webkit-transition:all 0.18s}@media only screen and (max-height:650px){span.lsbb{height:17px}}.tsf{margin:0 32px}.big .tsf{margin:0 32px}#searchform{width:100%}.hp #searchform{position:absolute;top:311px}@media only screen and (max-height:768px){.hp #searchform{top:269px}}.hp #searchform{min-width:400px}.hp div.sfbg,.hp div.sfbgg{min-width:400px;display:none}.srp #searchform{position:absolute;top:20px;}.sfbg{background:#fff;height:69px;left:0;position:absolute;width:100%}.sfbgg{height:65px}</style><div class=\"sfbg\" style=\"margin-top:-20px\"><div class=\"sfbgg\"></div></div><form class=\"tsf\" action=\"/search\" style=\"overflow:visible\" id=\"tsf\" data-submitfalse=\"q\" method=\"GET\" name=\"f\" role=\"search\"><div id=\"tophf\"><input name=\"source\" type=\"hidden\" value=\"hp\"><input value=\"U2-2X-akBKKAtgWs5LmIBQ\" name=\"ei\" type=\"hidden\"><input value=\"AINFCbYAAAAAX7Z9Y7-rSuPLjEla5_qtbfAjb4w6dzg7\" disabled=\"true\" name=\"iflsig\" type=\"hidden\"></div> <div jsmodel=\"vWNDde\" jsdata=\"MuIEvd;;AkxOpE\"> <div jscontroller=\"mvYTse\" jsmodel=\"TMlYFc\" class=\"A8SBwf\" jsdata=\"LVplcb;_;\" jsaction=\"lX6RWd:w3Wsmc;DkpM0b:d3sQLd;IQOavd:dFyQEf;XzZZPe:jI3wzf;Aghsf:AVsnlb;iHd9U:Q7Cnrc;f5hEHe:G0jgYd;vmxUb:j3bJnb;R2c5O:LuRugf;R3Yrj:DURTdb;qiCkJd:ANdidc;NOg9L:HLgh3;uGoIkd:epUokb;zLdLw:eaGBS;rcuQ6b:npT2md\"><style>.A8SBwf{position:relative;margin:0 auto;padding-top:6px;width:484px;width:auto;max-width:484px;}#searchform.big .A8SBwf{width:584px;width:auto;max-width:584px}.RNNXgb{background:#fff;display:flex;border:1px solid #dfe1e5;box-shadow:none;border-radius:24px;z-index:3;height:44px;margin:0 auto;width:482px;width:auto;}.minidiv .RNNXgb{height:32px;border-radius:16px;margin:10px 0 0}.emcav .RNNXgb{border-bottom-left-radius:0;border-bottom-right-radius:0;border-color:rgba(223,225,229,0);box-shadow:0 1px 6px rgba(32,33,36,.28)}.minidiv .emcav .RNNXgb{border-bottom-left-radius:0;border-bottom-right-radius:0}.emcav.emcat .RNNXgb{border-bottom-left-radius:24px;border-bottom-right-radius:24px}.minidiv .emcav.emcat .RNNXgb{border-bottom-left-radius:16px;border-bottom-right-radius:16px}.RNNXgb:hover,.sbfc .RNNXgb{box-shadow:0 1px 6px rgba(32,33,36,.28);border-color:rgba(223,225,229,0)}.UUbT9{width:auto}#searchform.big .RNNXgb{width:582px;width:auto}.SDkEP{flex:1;display:flex;padding:5px 8px 0 16px;padding-left:14px;}.minidiv .SDkEP{padding-top:0}.FPdoLc{padding-top:18px;top:53px;z-index:0;}#searchform.big .FPdoLc{}.iblpc{display:flex;align-items:center;padding-right:13px;margin-top:-5px}.minidiv .iblpc{margin-top:0}</style><div class=\"RNNXgb\" jsname=\"RNNXgb\"><div class=\"SDkEP\"><div class=\"iblpc\" jsname=\"uFMOof\"><style>.hsuHs{margin:auto}.wFncld{margin-top:3px;color:#9aa0a6;height:20px;width:20px}</style><div class=\"hsuHs\"><span class=\"wFncld z1asCe MZy1Rb\"><svg focusable=\"false\" xmlns=\"http://www.w3.org/2000/svg\" viewbox=\"0 0 24 24\"><path d=\"M15.5 14h-.79l-.28-.27A6.471 6.471 0 0 0 16 9.5 6.5 6.5 0 1 0 9.5 16c1.61 0 3.09-.59 4.23-1.57l.27.28v.79l5 4.99L20.49 19l-4.99-5zm-6 0C7.01 14 5 11.99 5 9.5S7.01 5 9.5 5 14 7.01 14 9.5 11.99 14 9.5 14z\"></path></svg></span></div></div><div jscontroller=\"iDPoPb\" class=\"a4bIc\" jsname=\"gLFyf\" jsaction=\"h5M12e;input:d3sQLd;blur:jI3wzf\"><style>.gLFyf{background-color:transparent;border:none;margin:0;padding:0;color:rgba(0,0,0,.87);word-wrap:break-word;outline:none;display:flex;flex:100%;-webkit-tap-highlight-color:transparent;margin-top:-37px;height:34px;font-size:16px}.minidiv .gLFyf{margin-top:-35px;}.a4bIc{display:flex;flex:1;flex-wrap:wrap}.pR49Ae{color:transparent;flex:100%;white-space:pre;height:34px}.pR49Ae span{background:url(\"/images/experiments/wavy-underline.png\") repeat-x scroll 0 100% transparent;padding:0 0 10px 0;}</style><div class=\"pR49Ae gsfi\" jsname=\"vdLsw\"></div><input class=\"gLFyf gsfi\" maxlength=\"2048\" name=\"q\" type=\"text\" jsaction=\"paste:puy29d\" aria-autocomplete=\"both\" aria-haspopup=\"false\" autocapitalize=\"off\" autocomplete=\"off\" autocorrect=\"off\" autofocus=\"\" role=\"combobox\" spellcheck=\"false\" title=\"Search\" value=\"\" aria-label=\"Search\" data-ved=\"0ahUKEwimmrXh147tAhUigK0KHSxyDlEQ39UDCAY\"></div><div class=\"dRYYxd\"><style>.dRYYxd{display:flex;flex:0 0 auto;margin-top:-5px;align-items:stretch;flex-direction:row}.minidiv .dRYYxd{margin-top:0}</style> <style>.clear-button{flex:1 0 auto;display:none;cursor:pointer;align-items:center;border:0;background:transparent;outline:none;padding:0 8px;line-height:44px}.XoaYSb{display:flex}.lBbtTb{height:100%;color:#80868b;vertical-align:middle;outline:none}.minidiv .clear-button{line-height:32px}.minidiv .lBbtTb{width:20px}</style> <style>.clear-button{padding-right:4px}.lBbtTb{margin-right:12px}.FqnKTc{border-left:1px solid #dfe1e5;height:65%}</style> <div jscontroller=\"J5Ptqf\" class=\"clear-button\" jsname=\"RP0xob\" aria-label=\" Clear\" role=\"button\" jsaction=\"AVsnlb;rcuQ6b:npT2md\" data-ved=\"0ahUKEwimmrXh147tAhUigK0KHSxyDlEQ05YFCAc\"> <span class=\"lBbtTb z1asCe rzyADb\" jsname=\"itVqKe\" tabindex=\"0\"><svg focusable=\"false\" xmlns=\"http://www.w3.org/2000/svg\" viewbox=\"0 0 24 24\"><path d=\"M19 6.41L17.59 5 12 10.59 6.41 5 5 6.41 10.59 12 5 17.59 6.41 19 12 13.41 17.59 19 19 17.59 13.41 12z\"></path></svg></span> <span class=\"FqnKTc\"></span> </div> <style>.hpuQDe{flex:1 0 auto;display:flex;cursor:pointer;align-items:center;border:0;background:transparent;outline:none;padding:0 8px;width:24px;line-height:44px}.HPVvwb{height:24px;width:24px;vertical-align:middle}.minidiv .hpuQDe{line-height:32px}.minidiv .HPVvwb{width:20px;height:20px}</style><div jscontroller=\"MC8mtf\" class=\"hpuQDe\" aria-label=\"Search by voice\" role=\"button\" tabindex=\"0\" jsaction=\"h5M12e;rcuQ6b:npT2md\" data-ved=\"0ahUKEwimmrXh147tAhUigK0KHSxyDlEQvs8DCAg\"><svg class=\"HPVvwb\" focusable=\"false\" viewbox=\"0 0 24 24\" xmlns=\"http://www.w3.org/2000/svg\"><path d=\"m12 15c1.66 0 3-1.31 3-2.97v-7.02c0-1.66-1.34-3.01-3-3.01s-3 1.34-3 3.01v7.02c0 1.66 1.34 2.97 3 2.97z\" fill=\"#4285f4\"></path><path d=\"m11 18.08h2v3.92h-2z\" fill=\"#34a853\"></path><path d=\"m7.05 16.87c-1.27-1.33-2.05-2.83-2.05-4.87h2c0 1.45 0.56 2.42 1.47 3.38v0.32l-1.15 1.18z\" fill=\"#f4b400\"></path><path d=\"m12 16.93a4.97 5.25 0 0 1 -3.54 -1.55l-1.41 1.49c1.26 1.34 3.02 2.13 4.95 2.13 3.87 0 6.99-2.92 6.99-7h-1.99c0 2.92-2.24 4.93-5 4.93z\" fill=\"#ea4335\"></path></svg></div></div></div></div><div jscontroller=\"tg8oTe\" class=\"UUbT9\" style=\"display:none\" jsname=\"UUbT9\" jsaction=\"mouseout:ItzDCd;mouseleave:MWfikb;hBEIVb:nUZ9le;YMFC3:VKssTb\"><style>.UUbT9{position:absolute;width:100%;text-align:left;margin-top:-1px;z-index:3;cursor:default;-webkit-user-select:none}.aajZCb{background:#fff;box-shadow:0 4px 6px rgba(32,33,36,.28);display:flex;flex-direction:column;list-style-type:none;margin:0;padding:0;border:0;border-radius:0 0 24px 24px;padding-bottom:4px;overflow:hidden}.minidiv .aajZCb{border-bottom-left-radius:16px;border-bottom-right-radius:16px}.erkvQe{flex:auto;padding-bottom:8px}.RjPuVb{height:1px;margin:0 26px 0 0}.S3nFnd{display:flex}.S3nFnd .RjPuVb,.S3nFnd .aajZCb{flex:0 0 auto}.lh87ke:link,.lh87ke:visited{color:#36c;cursor:pointer;font:11px arial,sans-serif;padding:0 5px;margin-top:-10px;text-decoration:none;flex:auto;align-self:flex-end;margin:0 16px 5px 0}.lh87ke:hover{text-decoration:underline}.xtSCL{border-top:1px solid #e8eaed;margin:0 20px 0 14px;padding-bottom:4px}.sb7{background:url() no-repeat ;min-height:0px;min-width:0px;height:0px;width:0px}.sb27{background:url(/images/searchbox/desktop_searchbox_sprites302_hr.png) no-repeat 0 -21px;background-size:20px;min-height:20px;min-width:20px;height:20px;width:20px}.sb43{background:url(/images/searchbox/desktop_searchbox_sprites302_hr.png) no-repeat 0 0;background-size:20px;min-height:20px;min-width:20px;height:20px;width:20px}.sb53.sb53{padding:0 4px;margin:0}</style><div class=\"RjPuVb\" jsname=\"RjPuVb\"></div><div class=\"aajZCb\" jsname=\"aajZCb\"><div class=\"xtSCL\"></div><ul class=\"erkvQe\" jsname=\"erkvQe\" role=\"listbox\"></ul><style>#ynRric{display:none}.ynRric{list-style-type:none;flex-direction:column;color:#80868b;font-family:arial,sans-serif;font-size:14px;letter-spacing:0.75px;margin:0 20px 0 16px;padding:8px 0 8px 0;line-height:16px;text-transform:uppercase}</style><li class=\"ynRric\" id=\"ynRric\" role=\"presentation\"></li><style>#sbt{display:none}.sbct{display:flex;align-items:center;min-width:0;padding:0}.jKWzZXdEJWi__suggestions-inner-container{flex:auto;display:flex;margin:0 20px;align-items:center;margin:0 20px 0 14px}.sbtc{display:flex;flex:auto;flex-direction:column;min-width:0;padding:6px 0}.sbic{display:flex;flex:0 1 auto;align-items:center;margin-right:14px}.sbic.sbei{margin:4px 7px 4px -5px;border-radius:4px;min-height:32px;min-width:32px;background:center/contain no-repeat}.sbre .sbl1{line-height:18px}.sbl2{line-height:12px;font-size:13px;color:#80868b;margin-top:2px}.sbl1{display:flex;font-size:16px;color:#212121;flex:auto;align-items:center;word-break:break-word;padding-right:8px}.minidiv .sbl1{font-size:14px}.sbl1p{color:#52188c}.sbl1>span{flex:auto}.sbab{display:flex;flex:0 1 auto;align-self:stretch}.sbdb:hover{color:#1a73e8;text-decoration:underline}.sbdb{color:#80868b;cursor:pointer;font:13px arial,sans-serif;align-self:center}.sbhl{background:#eee}.mus_pc{display:block;margin:6px 0}.mus_il{font-family:Arial,HelveticaNeue-Light,HelveticaNeue,Helvetica;padding-top:7px;position:relative}.mus_il:first-child{padding-top:0}.mus_il_at{margin-left:10px}.mus_il_st{right:52px;position:absolute}.mus_il_i{align:left;margin-right:10px}.mus_it3{margin-bottom:3px;max-height:24px;vertical-align:bottom}.mus_it5{height:24px;width:24px;vertical-align:bottom;margin-left:10px;margin-right:10px;transform:rotate(90deg)}.mus_tt3{color:#767676;font-size:12px;vertical-align:top}.mus_tt5{color:#dd4b39;font-size:14px}.mus_tt6{color:#3d9400;font-size:14px}.mus_tt8{font-size:16px;font-family:Arial,sans-serif}.mus_tt17{color:#212121;font-size:20px}.mus_tt18{color:#212121;font-size:24px}.mus_tt19{color:#767676;font-size:12px}.mus_tt20{color:#767676;font-size:14px}.mus_tt23{color:#767676;font-size:18px}</style><li data-view-type=\"1\" class=\"sbct\" id=\"sbt\" role=\"presentation\"><div class=\"jKWzZXdEJWi__suggestions-inner-container\"><div class=\"sbic\"></div><div class=\"sbtc\" role=\"option\"><div class=\"sbl1\"><span></span></div><div class=\"sbl2\"><span></span></div></div><div class=\"sbab\"><div class=\"sbai\">Remove</div></div></div></li><div jsname=\"VlcLAe\" class=\"tfB0Bf\"> <style>.tfB0Bf{height:70px}.tfB0Bf input[type=\"submit\"],.gbqfba{background-image:-webkit-linear-gradient(top,#f8f9fa,#f8f9fa);background-color:#f8f9fa;border:1px solid #f8f9fa;border-radius:4px;color:#3c4043;font-family:arial,sans-serif;font-size:14px;margin:11px 4px;padding:0 16px;line-height:27px;height:36px;min-width:54px;text-align:center;cursor:pointer;user-select:none}.tfB0Bf input[type=\"submit\"]:hover{box-shadow:0 1px 1px rgba(0,0,0,0.1);background-image:-webkit-linear-gradient(top,#f8f9fa,#f8f9fa);background-color:#f8f9fa;border:1px solid #dadce0;color:#202124}.tfB0Bf input[type=\"submit\"]:focus{border:1px solid #4d90fe;outline:none}</style> <center> <input class=\"gNO89b\" value=\"Google Search\" aria-label=\"Google Search\" name=\"btnK\" type=\"submit\" data-ved=\"0ahUKEwimmrXh147tAhUigK0KHSxyDlEQ4dUDCAk\"> <input class=\"RNmpXc\" value=\"I'm Feeling Lucky\" aria-label=\"I'm Feeling Lucky\" name=\"btnI\" type=\"submit\" jsaction=\"sf.lck\" data-ved=\"0ahUKEwimmrXh147tAhUigK0KHSxyDlEQ19QECAo\">  </center> </div></div><style>.JUypV{font-size:8pt;margin-top:-16px;position:absolute;right:16px}</style><div jsname=\"JUypV\" jscontroller=\"IvlUe\" class=\"JUypV\" data-async-context=\"async_id:duf3-46;authority:0;card_id:;entry_point:0;feature_id:;ftoe:0;header:0;is_jobs_spam_form:0;open:0;preselect_answer_index:-1;suggestions:;suggestions_subtypes:;suggestions_types:;surface:0;title:;type:46\"><style>a.duf3{color:#70757a;float:right;font-style:italic;-webkit-tap-highlight-color:rgba(0,0,0,.00);tap-highlight-color:rgba(0,0,0,.00)}a.aciXEb{padding:0 5px;}.RTZ84b{color:#70757a;cursor:pointer;padding-right:8px}.XEKxtf{color:#70757a;float:right;font-size:12px;line-height:1.34;padding-bottom:4px}</style><div jscontroller=\"xz7cCd\" style=\"display:none\" jsaction=\"rcuQ6b:npT2md\"></div><div id=\"duf3-46\" data-jiis=\"up\" data-async-type=\"duffy3\" data-async-context-required=\"type,open,feature_id,async_id,entry_point,authority,card_id,ftoe,title,header,suggestions,surface,suggestions_types,suggestions_subtypes,preselect_answer_index,is_jobs_spam_form\" class=\"y yp\" data-ved=\"0ahUKEwimmrXh147tAhUigK0KHSxyDlEQ-0EICw\"></div><a class=\"duf3 wrSo4 aciXEb\" href=\"#\" id=\"sbfblt\" data-async-trigger=\"duf3-46\" jsaction=\"async.u\" data-ved=\"0ahUKEwimmrXh147tAhUigK0KHSxyDlEQtw8IDA\">Report inappropriate predictions</a></div></div><div class=\"FPdoLc tfB0Bf\">  <center> <input class=\"gNO89b\" value=\"Google Search\" aria-label=\"Google Search\" name=\"btnK\" type=\"submit\" data-ved=\"0ahUKEwimmrXh147tAhUigK0KHSxyDlEQ4dUDCA0\"> <input class=\"RNmpXc\" value=\"I'm Feeling Lucky\" aria-label=\"I'm Feeling Lucky\" name=\"btnI\" type=\"submit\" jsaction=\"sf.lck\" data-ved=\"0ahUKEwimmrXh147tAhUigK0KHSxyDlEQ19QECA4\">  </center> </div></div> <div style=\"background:url(/images/searchbox/desktop_searchbox_sprites302_hr.png)\"> </div> </div> </form></div><style>.spch-dlg{background:transparent;border:none}.spch{background:#fff;height:100%;left:0;opacity:0;overflow:hidden;position:fixed;text-align:left;top:0;visibility:hidden;width:100%;z-index:10000;transition:visibility 0s linear 0.218s,background-color 0.218s}.close-button{background:none;border:none;color:#777;cursor:pointer;font-size:26px;right:0;height:11px;line-height:15px;margin:15px;opacity:.6;padding:0;position:absolute;top:0;width:15px;z-index:10}.close-button:hover{opacity:.8}.close-button:active{opacity:1}.spchc{display:block;height:42px;position:absolute;pointer-events:none}.inner-container{height:100%;opacity:.1;pointer-events:none;width:100%;transition:opacity .318s ease-in}.s2ml .inner-container,.s2ra .inner-container,.s2er .inner-container{opacity:1;transition:opacity 0s}.s2fp.spch{opacity:1;visibility:visible;transition-delay:0s}.s2tb-h.spch{background:rgba(255,255,255,0);opacity:0;visibility:hidden}.s2tb.spch{background:rgba(255,255,255,0);opacity:1;visibility:visible;transition-delay:0s}.google-logo{background:url(data:image/png;base64,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) no-repeat center;background-size:94px 32px;height:32px;width:94px;top:8px;opacity:0;float:right;left:255px;pointer-events:none;position:relative;transition:opacity .5s ease-in,left .5s ease-in}.s2tb .google-logo{opacity:0.54;left:270px;transition:opacity .5s ease-out,left .5s ease-out}.s2fp .spchc,.s2fp-h .spchc{margin:auto;margin-top:312px;max-width:572px;min-width:534px;padding:0 223px;position:relative;top:0}.s2tb .spchc,.s2tb-h .spchc{background:#fff;box-shadow:0 2px 6px rgba(0,0,0,.2);margin:0;min-width:100%;overflow:hidden;padding:51px 0 50px 126px;position:absolute}.s2tb-h .inner-container,.s2tb .inner-container{height:100%;width:572px;transition:opacity .318s ease-in}.button{background-color:#fff;border:1px solid #eee;border-radius:100%;bottom:0;box-shadow:0 2px 5px rgba(0,0,0,.1);cursor:pointer;display:inline-block;left:0;opacity:0;pointer-events:none;position:absolute;right:0;top:0;transition:background-color 0.218s,border 0.218s,box-shadow 0.218s}.s2tb-h .button{left:-83px;opacity:0;pointer-events:none;position:absolute;top:-83px;transition-delay:0}.s2fp-h .button,.s2fpm-h .button{opacity:0;pointer-events:none;position:absolute;transition-delay:0}.s2fp .button,.s2tb .button,.s2fpm .button{opacity:1;pointer-events:auto;position:absolute;transform:scale(1);transition-delay:0}.s2ra .button{background-color:#f44;border:0;box-shadow:none}.r8s4j{background-color:#dbdbdb;border-radius:100%;display:inline-block;height:301px;left:-69px;opacity:1;pointer-events:none;position:absolute;top:-69px;width:301px;transform:scale(.01);transition:opacity 0.218s}.s2tb-h .r8s4j,.s2tb .r8s4j{height:151px;left:-28px;top:-28px;width:151px}.button-container{pointer-events:none;position:relative;transition:transform 0.218s,opacity 0.218s ease-in}.s2fp-h .button-container,.s2fp .button-container{height:165px;right:-70px;top:-70px;width:165px;float:right}.s2fpm-h .button-container,.s2fpm .button-container{height:165px;margin:0 auto;top:150px;width:165px}.s2fp-h .button-container,.s2tb-h .button-container,.s2fpm-h .button-container{transform:scale(.1)}.s2fp .button-container,.s2fpm-h .button-container,.s2tb .button-container{transform:scale(1)}.s2tb-h .button-container,.s2tb .button-container{height:95px;right:-31px;top:-27px;width:95px;float:right}.s2ra .button:active{background-color:#cd0000}.button:active{background-color:#eee}.microphone{height:87px;left:43px;pointer-events:none;position:absolute;top:47px;width:42px;transform:scale(1)}.s2tb-h .microphone,.s2tb .microphone{left:17px;top:7px;transform:scale(.53)}.receiver{background-color:#999;border-radius:30px;height:46px;left:25px;pointer-events:none;position:absolute;width:24px}.wrapper{bottom:0;height:53px;left:11px;overflow:hidden;pointer-events:none;position:absolute;width:52px}.stem{background-color:#999;bottom:14px;height:14px;left:22px;pointer-events:none;position:absolute;width:9px;z-index:1}.shell{border:7px solid #999;border-radius:28px;bottom:27px;height:57px;pointer-events:none;position:absolute;width:38px;z-index:0;left:0px}.s2ml .receiver,.s2ml .stem{background-color:#f44}.s2ml .shell{border-color:#f44}.s2ra .receiver,.s2ra .stem{background-color:#fff}.s2ra .shell{border-color:#fff}.text-container{pointer-events:none}.s2fp-h .text-container,.s2fp .text-container,.s2fpm-h .text-container,.s2fpm .text-container{position:absolute}.s2tb-h .text-container,.s2tb .text-container{position:relative}.spcht{font-weight:normal;line-height:1.2;opacity:0;pointer-events:none;position:absolute;text-align:left;-webkit-font-smoothing:antialiased;transition:opacity .1s ease-in,margin-left .5s ease-in,top 0s linear 0.218s}.s2fp-h .spcht,.s2fpm-h .spcht{margin-left:44px}.s2tb-h .spcht{margin-left:32px}.s2fp-h .spcht,.s2fp .spcht,.s2fpm-h .spcht,.s2fpm .spcht{left:-44px;top:-.2em}.s2fp-h .spcht,.s2fp .spcht{font-size:32px;width:460px}.s2fpm-h .spcht,.s2fpm .spcht{font-size:28px;width:300px}.s2tb-h .spcht,.s2tb .spcht{font-size:27px;left:7px;top:.2em;width:490px}.s2fp .spcht,.s2fpm .spcht,.s2tb .spcht{margin-left:0;opacity:1;transition:opacity .5s ease-out,margin-left .5s ease-out}.spchta{color:#15c;cursor:pointer;font-size:18px;font-weight:500;pointer-events:auto;text-decoration:underline}.spch-2l.spcht,.spch-3l.spcht,.spch-4l.spcht{transition:top 0.218s ease-out}.spch-2l.spcht{top:-.6em}.spch-3l.spcht{top:-1.3em}.spch-4l.spcht{top:-1.7em}.s2fp .spch-5l.spcht{top:-2.5em}.s2tb .spch-5l.spcht{font-size:24px;top:-1.7em;transition:font-size 0.218s ease-out}.permission-bar{margin-top:-100px;opacity:0;pointer-events:none;position:absolute;width:500px;transition:opacity 0.218s ease-in,margin-top .4s ease-in}.s2wfp .permission-bar{margin-top:-300px;opacity:1;transition:opacity .5s ease-out 0.218s,margin-top 0.218s ease-out 0.218s}.permission-bar-gradient{box-shadow:0 1px 0px #4285f4;height:80px;left:0;margin:0;opacity:0;pointer-events:none;position:fixed;right:0;top:-80px;transition:opacity 0.218s,box-shadow 0.218s}.s2wfp .permission-bar-gradient{box-shadow:0 1px 80px #4285f4;opacity:1;pointer-events:none;animation:allow-alert .75s 0 infinite;animation-direction:alternate;animation-timing-function:ease-out;transition:opacity 0.218s,box-shadow 0.218s}@-webkit-keyframes allow-alert {from{opacity:1}to{opacity:.35}}</style><dialog class=\"spch-dlg\" id=\"spch-dlg\"><div class=\"spch s2fp-h\" style=\"display:none\" id=\"spch\"></div></dialog><div jscontroller=\"fEVMic\" style=\"display:none\" data-u=\"0\" jsdata=\"C4mkuf;;AkxOpI\" jsaction=\"rcuQ6b:npT2md\"></div><div class=\"content\" id=\"main\"><span class=\"ctr-p\" id=\"body\"><center><div jscontroller=\"cvn5cb\" data-responsive-height-resize=\"536\" data-responsive-min-height=\"100\" data-responsive-min-width=\"400\" id=\"lga\" jsaction=\"rcuQ6b:npT2md\"><style>.hp #searchform{transition:top 0.4s ease,transform 0.4s ease}#lga{transition:margin-top 0.4s ease,height 0.4s ease}div#lga img#hplogo{transition:padding-top 0.4s ease,width 0.4s ease,height 0.4s ease;width:auto}div#lga div#hplogo{max-width:100%;line-height:233px;transition:height 0.4s ease,transform 0.4s ease,width 0.4s ease}div#hplogo a img{max-width:100%;height:auto;vertical-align:bottom}@media only screen and (max-height:536px){.hp #searchform{transform:translateY(-129px)}.hp #lga{height:100px}div#lga img#hplogo{padding-top:10px !important;height:72px;width:auto}div#hplogo{transform:scale(.5) translateY(-120px);width:400px !important}.fOwUFe{right:-15px;top:unset !important;left:unset !important;bottom:20px;transform:scale(1.53)}}</style><style>#lga{height:233px;margin-top:89px}@media only screen and (max-height:768px){#lga{margin-top:47px}}</style><img alt=\"Google\" height=\"92\" id=\"hplogo\" src=\"/images/branding/googlelogo/2x/googlelogo_color_272x92dp.png\" srcset=\"/images/branding/googlelogo/1x/googlelogo_color_272x92dp.png 1x, /images/branding/googlelogo/2x/googlelogo_color_272x92dp.png 2x\" style=\"padding-top:109px\" width=\"272\"></div><div style=\"height:118px\"></div><div style=\"margin-top:12px\"><div id=\"prm\"></div><script nonce=\"85l7VxQ9iEgIvpEFNOfcIw==\">window.gbar&&gbar.up&&gbar.up.tp&&gbar.up.tp();</script><div id=\"swml\"></div></div></center></span><div class=\"ctr-p\" id=\"footer\"><style>.M6hT6{left:0;right:0;-webkit-text-size-adjust:none}.fbar a,#fsettl{text-decoration:none;white-space:nowrap}.fbar{margin-left:-27px}.Fx4vi{padding-left:27px;margin:0 !important}#fsl{}.f6F9Be{background:#f2f2f2;line-height:40px;min-width:980px;border-top:1px solid #dadce0;min-width:400px}.B4GxFc{margin-left:166px}.fbar p,.fbar a,#fsettl,#fsett a{color:#70757a}.fbar a:hover,#fsett a:hover{color:#3c4043}.fbar{font-size:14px}.EvHmz{bottom:0;left:0;position:absolute;right:0}.hRvfYe #fsettl:hover{text-decoration:underline}.hRvfYe #fsett a:hover{text-decoration:underline}.hRvfYe a:hover{text-decoration:underline}#fsl{margin-left:30px;float:left;}#fsr{float:right;margin-right:30px;}@media (max-width:805px){#fsl,#fsr{display:block;margin:0;float:none;}.fbar{text-align:center}}.b0KoTc{color:rgba(0,0,0,.54);padding-left:27px}.b0KoTc{margin-left:30px;text-align:left}#fsett{background:#fff;border:1px solid #70757a;bottom:30px;padding:10px 0;position:absolute;box-shadow:0 2px 4px rgba(0,0,0,.20);box-shadow:0 2px 4px rgba(0,0,0,.20);text-align:left;z-index:128}#fsett a{display:block;line-height:44px;padding:0 20px;text-decoration:none;white-space:nowrap}</style><div id=\"fbarcnt\"><div id=\"footcnt\"><div class=\"EvHmz f6F9Be hRvfYe\" id=\"fbar\"><div class=\"fbar\"><div class=\"b2hzT\"><div class=\"b0KoTc\"></div></div><span id=\"fsr\"><a class=\"Fx4vi\" href=\"https://policies.google.com/privacy?hl=en&amp;fg=1\" ping=\"/url?sa=t&amp;rct=j&amp;source=webhp&amp;url=https://policies.google.com/privacy%3Fhl%3Den%26fg%3D1&amp;ved=0ahUKEwimmrXh147tAhUigK0KHSxyDlEQ8awCCBI\">Privacy</a><a class=\"Fx4vi\" href=\"https://policies.google.com/terms?hl=en&amp;fg=1\" ping=\"/url?sa=t&amp;rct=j&amp;source=webhp&amp;url=https://policies.google.com/terms%3Fhl%3Den%26fg%3D1&amp;ved=0ahUKEwimmrXh147tAhUigK0KHSxyDlEQ8qwCCBM\">Terms</a><span style=\"display:inline-block;position:relative\"><a class=\"Fx4vi\" href=\"https://www.google.com/preferences?hl=en\" id=\"fsettl\" aria-controls=\"fsett\" aria-expanded=\"false\" aria-haspopup=\"true\" role=\"button\" jsaction=\"foot.cst\" ping=\"/url?sa=t&amp;rct=j&amp;source=webhp&amp;url=https://www.google.com/preferences%3Fhl%3Den&amp;ved=0ahUKEwimmrXh147tAhUigK0KHSxyDlEQzq0CCBQ\">Settings</a><span id=\"fsett\" aria-labelledby=\"fsettl\" role=\"menu\" style=\"display:none\"><a href=\"https://www.google.com/preferences?hl=en&amp;fg=1\" role=\"menuitem\">Search settings</a><a href=\"/advanced_search?hl=en&amp;fg=1\" role=\"menuitem\">Advanced search</a><a href=\"/history/privacyadvisor/search/unauth?utm_source=googlemenu&amp;fg=1\" role=\"menuitem\">Your data in Search</a><a href=\"/history/optout?hl=en&amp;fg=1\" role=\"menuitem\">Search history</a><a href=\"https://support.google.com/websearch/?p=ws_results_help&amp;hl=en&amp;fg=1\" role=\"menuitem\">Search help</a><a href=\"#\" data-bucket=\"websearch\" role=\"menuitem\" id=\"dk2qOd\" target=\"_blank\" jsaction=\"gf.sf\" data-ved=\"0ahUKEwimmrXh147tAhUigK0KHSxyDlEQLggV\">Send feedback</a></span></span></span><span id=\"fsl\"><a class=\"Fx4vi\" href=\"https://www.google.com/intl/en_us/ads/?subid=ww-ww-et-g-awa-a-g_hpafoot1_1!o2&amp;utm_source=google.com&amp;utm_medium=referral&amp;utm_campaign=google_hpafooter&amp;fg=1\" ping=\"/url?sa=t&amp;rct=j&amp;source=webhp&amp;url=https://www.google.com/intl/en_us/ads/%3Fsubid%3Dww-ww-et-g-awa-a-g_hpafoot1_1!o2%26utm_source%3Dgoogle.com%26utm_medium%3Dreferral%26utm_campaign%3Dgoogle_hpafooter%26fg%3D1&amp;ved=0ahUKEwimmrXh147tAhUigK0KHSxyDlEQkdQCCBY\">Advertising</a><a class=\"Fx4vi\" href=\"https://www.google.com/services/?subid=ww-ww-et-g-awa-a-g_hpbfoot1_1!o2&amp;utm_source=google.com&amp;utm_medium=referral&amp;utm_campaign=google_hpbfooter&amp;fg=1\" ping=\"/url?sa=t&amp;rct=j&amp;source=webhp&amp;url=https://www.google.com/services/%3Fsubid%3Dww-ww-et-g-awa-a-g_hpbfoot1_1!o2%26utm_source%3Dgoogle.com%26utm_medium%3Dreferral%26utm_campaign%3Dgoogle_hpbfooter%26fg%3D1&amp;ved=0ahUKEwimmrXh147tAhUigK0KHSxyDlEQktQCCBc\">Business</a><a class=\"Fx4vi\" href=\"https://google.com/search/howsearchworks/?fg=1\">  How Search works </a></span></div></div></div></div></div><div id=\"footc\"><div id=\"xfoot\">  <script nonce=\"85l7VxQ9iEgIvpEFNOfcIw==\">(function(){var u='/xjs/_/js/k\\x3dxjs.s.en_US.Ph9pmD1YGpo.O/ck\\x3dxjs.s.9uLCeycX9kM.L.W.O/m\\x3dcdos,dpf,hsm,jsa,pfd,d,csi/am\\x3dAAgAAAAAABgAAADAEti7AwLw3wQALtjEAQAAAIAEcEnQKGlAQkEACAAAQJbVMgAQAAE/d\\x3d1/dg\\x3d2/ct\\x3dzgms/rs\\x3dACT90oGwDowQ7kdZiRrgBVxukWpPuo8q-g';\n",
      "var c=this||self,e=/^[\\w+/_-]+[=]{0,2}$/,f=null,g=function(a){return(a=a.querySelector&&a.querySelector(\"script[nonce]\"))&&(a=a.nonce||a.getAttribute(\"nonce\"))&&e.test(a)?a:\"\"},h=function(a){return a};var l;var n=function(a,b){this.a=b===m?a:\"\"},m={};setTimeout(function(){var a=document;var b=\"SCRIPT\";\"application/xhtml+xml\"===a.contentType&&(b=b.toLowerCase());b=a.createElement(b);a=u;if(void 0===l){var d=null;var k=c.trustedTypes;if(k&&k.createPolicy){try{d=k.createPolicy(\"goog#html\",{createHTML:h,createScript:h,createScriptURL:h})}catch(p){c.console&&c.console.error(p.message)}l=d}else l=d}a=(d=l)?d.createScriptURL(a):a;a=new n(a,m);b.src=a instanceof n&&a.constructor===n?a.a:\"type_error:TrustedResourceUrl\";(a=b.ownerDocument&&b.ownerDocument.defaultView)&&\n",
      "a!=c?a=g(a.document):(null===f&&(f=g(c.document)),a=f);a&&b.setAttribute(\"nonce\",a);google.timers&&google.timers.load&&google.tick&&google.tick(\"load\",\"xjsls\");document.body.appendChild(b)},0);})();(function(){window.google.xjsu='/xjs/_/js/k\\x3dxjs.s.en_US.Ph9pmD1YGpo.O/ck\\x3dxjs.s.9uLCeycX9kM.L.W.O/m\\x3dcdos,dpf,hsm,jsa,pfd,d,csi/am\\x3dAAgAAAAAABgAAADAEti7AwLw3wQALtjEAQAAAIAEcEnQKGlAQkEACAAAQJbVMgAQAAE/d\\x3d1/dg\\x3d2/ct\\x3dzgms/rs\\x3dACT90oGwDowQ7kdZiRrgBVxukWpPuo8q-g';})();function _DumpException(e){throw e;}\n",
      "function _F_installCss(c){}\n",
      "(function(){google.jl={dw:false,em:[],emw:false,lls:'default',pdt:0,snet:true,uwp:true};})();(function(){var pmc='{\\x22aa\\x22:{},\\x22abd\\x22:{\\x22abd\\x22:false,\\x22deb\\x22:false,\\x22det\\x22:false},\\x22async\\x22:{},\\x22cdos\\x22:{\\x22cdobsel\\x22:false},\\x22csi\\x22:{},\\x22d\\x22:{},\\x22ddls\\x22:{},\\x22dpf\\x22:{},\\x22dvl\\x22:{\\x22cookie_secure\\x22:true,\\x22cookie_timeout\\x22:21600,\\x22jsc\\x22:\\x22[null,null,null,30000,null,null,null,2,null,null,null,null,null,null,null,null,null,null,null,null,null,null,null,null,null,null,null,null,null,null,null,null,null,null,null,null,null,null,null,null,null,null,null,null,null,null,[\\\\\\x2286400000\\\\\\x22,\\\\\\x22604800000\\\\\\x22,2.0]\\\\n,null,1,21600000]\\\\n\\x22,\\x22msg_err\\x22:\\x22Location unavailable\\x22,\\x22msg_gps\\x22:\\x22Using GPS\\x22,\\x22msg_unk\\x22:\\x22Unknown\\x22,\\x22msg_upd\\x22:\\x22Update location\\x22,\\x22msg_use\\x22:\\x22Use precise location\\x22},\\x22foot\\x22:{},\\x22gf\\x22:{\\x22pid\\x22:196},\\x22hsm\\x22:{},\\x22jsa\\x22:{\\x22csi\\x22:true,\\x22csir\\x22:100},\\x22lu\\x22:{},\\x22m\\x22:{},\\x22mUpTid\\x22:{},\\x22mu\\x22:{\\x22murl\\x22:\\x22https://adservice.google.com/adsid/google/ui\\x22},\\x22pfd\\x22:{},\\x22sb_wiz\\x22:{\\x22rfs\\x22:[],\\x22scq\\x22:\\x22\\x22,\\x22stok\\x22:\\x22EnNQYU4IdUNtv4WPlnTzxp0aby8\\x22},\\x22sf\\x22:{},\\x22sonic\\x22:{},\\x22spch\\x22:{\\x22ae\\x22:\\x22Please check your microphone.  \\\\u003Ca href\\x3d\\\\\\x22https://support.google.com/chrome/?p\\x3dui_voice_search\\\\\\x22 target\\x3d\\\\\\x22_blank\\\\\\x22\\\\u003ELearn more\\\\u003C/a\\\\u003E\\x22,\\x22hl\\x22:\\x22en-US\\x22,\\x22im\\x22:\\x22Click \\\\u003Cb\\\\u003EAllow\\\\u003C/b\\\\u003E to start voice search\\x22,\\x22iw\\x22:\\x22Waiting...\\x22,\\x22lm\\x22:\\x22Listening...\\x22,\\x22lu\\x22:\\x22%1$s voice search not available\\x22,\\x22mb\\x22:false,\\x22ne\\x22:\\x22No Internet connection\\x22,\\x22nt\\x22:\\x22Didn\\x27t get that. \\\\u003Cspan\\\\u003ETry again\\\\u003C/span\\\\u003E\\x22,\\x22nv\\x22:\\x22Please check your microphone and audio levels.  \\\\u003Ca href\\x3d\\\\\\x22https://support.google.com/chrome/?p\\x3dui_voice_search\\\\\\x22 target\\x3d\\\\\\x22_blank\\\\\\x22\\\\u003ELearn more\\\\u003C/a\\\\u003E\\x22,\\x22pe\\x22:\\x22Voice search has been turned off.  \\\\u003Ca href\\x3d\\\\\\x22https://support.google.com/chrome/?p\\x3dui_voice_search\\\\\\x22 target\\x3d\\\\\\x22_blank\\\\\\x22\\\\u003EDetails\\\\u003C/a\\\\u003E\\x22,\\x22rm\\x22:\\x22Speak now\\x22},\\x22wft\\x22:{}}';google.pmc=JSON.parse(pmc);})();(function(){var r=['sb_wiz','aa','abd','async','dvl','foot','lu','m','mUpTid','mu','sf','sonic','spch','wft'];google.plm(r);})();(function(){var m=['AkxOpE','[\\x22psy-ab\\x22,\\x22gws-wiz\\x22,\\x22\\x22,\\x22\\x22,null,1,0,0,11,\\x22en\\x22,\\x22EnNQYU4IdUNtv4WPlnTzxp0aby8\\x22,\\x22\\x22,\\x22U2-2X-akBKKAtgWs5LmIBQ\\x22,0,\\x22en\\x22,null,null,null,0,null,3,5,null,0,-1,0,0,0,\\x22\\x22,-1,0,\\x22\\x22,0,null,null,1,null,0,null,null,0,0,0,1,0,0,8,-1,null,null,null,null,null,0.0,0,null,null,null,600,0,null,null,null,null,null,1,null,0,0,0,0.1,0,0,0,null,0,0,100,0,null,1.15,0,0,-1,null,0,0,null,0,0,0,9]\\n','AkxOpI','[null,null,1,30000,null,null,null,2,null,null,3,null,null,null,null,null,1,null,null,null,null,null,null,[29.5108608,-98.5694208]\\n,null,null,null,null,0,null,null,null,null,null,null,null,0,\\x221605791571\\x22,null,null,null,null,null,1,null,null,[\\x2286400000\\x22,\\x22604800000\\x22,2.0]\\n,null,1,21600000]\\n'];\n",
      "var a=m;window.W_jd=window.W_jd||{};for(var b=0;b<a.length;b+=2)window.W_jd[a[b]]=JSON.parse(a[b+1]);})();(function(){window.WIZ_global_data={\"eptZe\":\"/wizrpcui/_/WizRpcUi/\",\"w2btAe\":\"%.@.\\\"\\\",\\\"\\\",\\\"0\\\",null,null,null,1]\\n\",\"QrtxK\":\"0\",\"SNlM0e\":\"\",\"LVIXXb\":\"1\",\"S06Grb\":\"\",\"Yllh3e\":\"%.@.1605791571070246,179142690,1359901228]\\n\",\"GWsdKe\":\"en-US\",\"zChJod\":\"%.@.]\\n\"};window.IJ_values=[false,false,false,\"invert(1) hue-rotate(180deg)\",\"#b8bbbe\",\"1px solid #dfe1e5\",false,false,\"\",false,\"#fff\",36,28,6,false,\"#70757a\",false,true,\"#fff\",11,16,13,2,false,\"#1a73e8\",\"#188038\",\"none\",\"#ea4335\",\"#000\",\"\",\"arial,sans-serif-medium,sans-serif\",\"arial,sans-serif\",\"#dadce0\",\"#000\",\"#dadce0\",\"#000\",\"#1a73e8\",\"rgba(0,0,0,.26)\",\"rgba(0,0,0,.54)\",\"rgba(204,204,204,.15)\",\"rgba(204,204,204,.25)\",\"rgba(112,117,122,.20)\",\"rgba(112,117,122,.40)\",\"#4285f4\",\"#1558d6\",\"#34a853\",\"#ea4335\",\"#fbbc04\",\"#f8f9fa\",\"#f8f9fa\",\"#f8f9fa\",\"#70757a\",\"#202124\",\"#34a853\",\"rgba(0,0,0,.12)\",\"#323232\",\"#fff\",\"#fff\",\"rgba(255,255,255,.30)\",\"#fff\",\"rgba(0,0,0,.87)\",\"#fff\",\"14px\",\"500\",\"pointer\",\"0 1px 1px rgba(0,0,0,.16)\",false,true,\"#000\",\"0 4px 16px rgba(0,0,0,0.2)\",\"#666\",false,\"#fff\",\"1px solid #dfe1e5\",\"none\",\"1px solid #dfe1e5\",true,false,false,\"8px\",\"#ebebeb\",true,false,false,false,false,false,\"%.@.\\\"\\\",\\\"\\\",\\\"0\\\",null,null,null,1]\\n\",\"0\",\"%.@.null,1,1.0]\\n\",\"85l7VxQ9iEgIvpEFNOfcIw\\u003d\\u003d\",\"%.@.\\\"#b8bbbe\\\"]\\n\",\"%.@.\\\"2px dashed\\\",\\\"bold\\\",\\\"#000\\\"]\\n\",\"%.@.0]\\n\",\"%.@.0]\\n\",\"%.@.0,\\\"\\\",\\\"#fff\\\",36,28,6,0.3,\\\"#fff\\\",12,\\\"#dadce0\\\",\\\"#3c4043\\\",\\\"#f8f9fa\\\",\\\"#bdc1c6\\\",\\\"#f8f9fa\\\",\\\"#202124\\\",\\\"#70757a\\\",\\\"#70757a\\\",\\\"#202124\\\",\\\"#f1f3f4\\\",\\\"#e8f0fe\\\",\\\"#d2e3fc\\\",\\\"#dadce0\\\",\\\"#1967d2\\\",\\\"#70757a\\\",\\\"#1a73e8\\\",\\\"#fabb05\\\",\\\"#fff\\\",\\\"#1a73e8\\\",\\\"#d1d1d1\\\",\\\"#fff\\\",1,1,\\\"1px solid #dfe1e5\\\",14,500,\\\"#1967d2\\\"]\\n\",\"%.@.[0,0,0]\\n,0,null,0,0]\\n\",\"%.@.\\\"Google Sans,arial,sans-serif\\\",\\\"Google Sans,arial,sans-serif-medium,sans-serif\\\",\\\"arial,sans-serif\\\",\\\"arial,sans-serif-medium,sans-serif\\\",\\\"arial,sans-serif-light,sans-serif\\\"]\\n\",\"en-US\",\"%.@.0,\\\"14px\\\",\\\"500\\\",\\\"500\\\",\\\"0 1px 1px rgba(0,0,0,.16)\\\",\\\"pointer\\\",\\\"#000\\\",\\\"rgba(0,0,0,.26)\\\",\\\"rgba(0,0,0,.54)\\\",\\\"rgba(0,0,0,.87)\\\",\\\"rgba(204,204,204,.15)\\\",\\\"rgba(204,204,204,.25)\\\",\\\"rgba(112,117,122,.20)\\\",\\\"rgba(112,117,122,.40)\\\",\\\"#34a853\\\",\\\"#4285f4\\\",\\\"#1558d6\\\",\\\"#ea4335\\\",\\\"#fbbc04\\\",\\\"#f8f9fa\\\",\\\"#f8f9fa\\\",\\\"#202124\\\",\\\"#34a853\\\",\\\"rgba(0,0,0,.12)\\\",\\\"#1e8e3e\\\",\\\"#fff\\\",\\\"rgba(255,255,255,.30)\\\",\\\"#fff\\\",\\\"rgba(0,0,0,.87)\\\",\\\"#fff\\\",0,0]\\n\",false,\"\",\"%.@.4]\\n\",\"%.@.\\\"#202124\\\",\\\"#70757a\\\",\\\"#4d5156\\\",\\\"#5f6368\\\",\\\"#fff\\\",\\\"rgba(255,255,255,.70)\\\",28,24,26,20,16,-2,0,-4,2,0,0,24,20,20,14,12]\\n\",\"\",false,\"105250506097979753968\"];})();google.x(null, function(){(function(){(function(){google.csct={};google.csct.ps='AOvVaw2F87DzXGnvUOH3AbiPShW7\\x26ust\\x3d1605877971108876';})();})();(function(){(function(){google.csct.pi=true;})();})();(function(){window.jsl=window.jsl||{};window.jsl.dh=window.jsl.dh||function(i,c,d){try{var e=document.getElementById(i);if(e){e.innerHTML=c;if(d){d();}}else{if(window.jsl.el){window.jsl.el(new Error('Missing ID.'),{'id':i});}}}catch(e){if(window.jsl.el){window.jsl.el(new Error('jsl.dh'));}}};})();(function(){window.jsl.dh('spch','\\x3cbutton class\\x3d\\x22close-button\\x22 id\\x3d\\x22spchx\\x22 aria-label\\x3d\\x22close\\x22\\x3e\\x26times;\\x3c/button\\x3e\\x3cdiv class\\x3d\\x22spchc\\x22 id\\x3d\\x22spchc\\x22\\x3e\\x3cdiv class\\x3d\\x22inner-container\\x22\\x3e\\x3cdiv class\\x3d\\x22button-container\\x22\\x3e\\x3cspan class\\x3d\\x22r8s4j\\x22 id\\x3d\\x22spchl\\x22\\x3e\\x3c/span\\x3e\\x3cspan class\\x3d\\x22button\\x22 id\\x3d\\x22spchb\\x22\\x3e\\x3cdiv class\\x3d\\x22microphone\\x22\\x3e\\x3cspan class\\x3d\\x22receiver\\x22\\x3e\\x3c/span\\x3e\\x3cdiv class\\x3d\\x22wrapper\\x22\\x3e\\x3cspan class\\x3d\\x22stem\\x22\\x3e\\x3c/span\\x3e\\x3cspan class\\x3d\\x22shell\\x22\\x3e\\x3c/span\\x3e\\x3c/div\\x3e\\x3c/div\\x3e\\x3c/span\\x3e\\x3c/div\\x3e\\x3cdiv class\\x3d\\x22text-container\\x22\\x3e\\x3cspan class\\x3d\\x22spcht\\x22 id\\x3d\\x22spchi\\x22 style\\x3d\\x22color:#777\\x22\\x3e\\x3c/span\\x3e\\x3cspan class\\x3d\\x22spcht\\x22 id\\x3d\\x22spchf\\x22 style\\x3d\\x22color:#000\\x22\\x3e\\x3c/span\\x3e\\x3c/div\\x3e\\x3cdiv class\\x3d\\x22google-logo\\x22\\x3e\\x3c/div\\x3e\\x3c/div\\x3e\\x3cdiv class\\x3d\\x22permission-bar\\x22\\x3e\\x3cdiv class\\x3d\\x22permission-bar-gradient\\x22\\x3e\\x3c/div\\x3e\\x3c/div\\x3e\\x3c/div\\x3e');})();(function(){google.drty&&google.drty();})();});</script></div></div><div class=\"gTMtLb fp-nh\" id=\"lb\"><style>.gTMtLb{z-index:1001;position:absolute;top:-1000px}</style></div></div><script nonce=\"85l7VxQ9iEgIvpEFNOfcIw==\">this.gbar_=this.gbar_||{};(function(_){var window=this;\n",
      "try{\n",
      "var kd,od,pd,sd,zd,Cd,Fd,Pd;kd=function(a){a:{var b=jd;for(var c=a.length,d=\"string\"===typeof a?a.split(\"\"):a,e=0;e<c;e++)if(e in d&&b.call(void 0,d[e],e,a)){b=e;break a}b=-1}return 0>b?null:\"string\"===typeof a?a.charAt(b):a[b]};_.ld=function(a,b){return 0<=(0,_.Ja)(a,b)};_.md=function(a,b){b=(0,_.Ja)(a,b);var c;(c=0<=b)&&Array.prototype.splice.call(a,b,1);return c};\n",
      "_.nd=function(a,b){var c=Array.prototype.slice.call(arguments,1);return function(){var d=c.slice();d.push.apply(d,arguments);return a.apply(this,d)}};od=/^(?:audio\\/(?:3gpp2|3gpp|aac|L16|midi|mp3|mp4|mpeg|oga|ogg|opus|x-m4a|x-matroska|x-wav|wav|webm)|font\\/\\w+|image\\/(?:bmp|gif|jpeg|jpg|png|tiff|webp|x-icon)|video\\/(?:mpeg|mp4|ogg|webm|quicktime|x-matroska))(?:;\\w+=(?:\\w+|\"[\\w;,= ]+\"))*$/i;pd=/^data:(.*);base64,[a-z0-9+\\/]+=*$/i;_.qd=function(a,b,c){a=_.B(a,b);return null==a?c:a};\n",
      "_.rd=function(a,b,c){a=_.A(a,b);a=null==a?a:+a;return null==a?c:a};sd=function(a){_.z(this,a,0,-1,null,null)};_.v(sd,_.y);var td=function(a){_.z(this,a,0,-1,null,null)};_.v(td,_.y);_.ud=function(a){a&&\"function\"==typeof a.ia&&a.ia()};_.vd=function(a,b){b=_.nd(_.ud,b);a.Oa?b():(a.Jb||(a.Jb=[]),a.Jb.push(b))};_.xd=function(){var a=_.wd();return _.A(a,9)};_.yd=function(){return Date.now()};zd=function(a,b){for(var c in a)if(b.call(void 0,a[c],c,a))return!0;return!1};\n",
      "_.Ad=function(a){var b=[],c=0,d;for(d in a)b[c++]=d;return b};_.Bd={};Cd={};_.Dd=function(a,b){this.j=a===_.Bd&&b||\"\";this.o=Cd};_.Dd.prototype.Cb=!0;_.Dd.prototype.kb=function(){return this.j};_.Ed=function(a){return a instanceof _.Dd&&a.constructor===_.Dd&&a.o===Cd?a.j:\"type_error:Const\"};Fd={};_.Gd=function(a,b){this.o=b===Fd?a:\"\"};_.Gd.prototype.Cb=!0;_.Gd.prototype.kb=function(){return this.o.toString()};_.Gd.prototype.Le=!0;_.Gd.prototype.j=function(){return 1};\n",
      "_.Hd=function(a){return a instanceof _.Gd&&a.constructor===_.Gd?a.o:\"type_error:TrustedResourceUrl\"};_.Id=function(a){var b=_.Ta();a=b?b.createScriptURL(a):a;return new _.Gd(a,Fd)};_.Jd=function(a){return/^[\\s\\xa0]*$/.test(a)};_.Kd=function(a){if(a instanceof _.gb)return a;a=\"object\"==typeof a&&a.Cb?a.kb():String(a);if(_.ib.test(a))a=_.jb(a);else{a=String(a);a=a.replace(/(%0A|%0D)/g,\"\");var b=a.match(pd);a=b&&od.test(b[1])?_.jb(a):null}return a};_.Ld=function(a){return encodeURIComponent(String(a))};\n",
      "_.Md=function(a){var b=Number(a);return 0==b&&_.Jd(a)?NaN:b};_.Nd=function(a,b){try{return _.Fb(a[b]),!0}catch(c){}return!1};Pd=function(){this.j=Od};Pd.prototype.o=function(){return!!this.j};_.Qd=function(a,b,c){_.A(a,b).push(c);return a};_.N=function(a,b,c){a.j||(a.j={});var d=c?c.Ea():c;a.j[b]=c;return _.F(a,b,d)};_.Rd=function(a){return _.Ec(_.Dc.U(),a)};_.wd=function(){return _.G(_.M(),sd,4)||new sd};_.Sd=function(){return _.G(_.M(),td,11)||new td};\n",
      "_.Td=function(a){return a?a.parentWindow||a.defaultView:window};_.Ud=function(a){return _.Tc(document,a)};\n",
      "/*\n",
      "\n",
      " Copyright The Closure Library Authors.\n",
      " SPDX-License-Identifier: Apache-2.0\n",
      "*/\n",
      "var Wd;_.Vd=function(a){this.j=a||{cookie:\"\"}};_.h=_.Vd.prototype;\n",
      "_.h.set=function(a,b,c){var d=!1;if(\"object\"===typeof c){var e=c.pm;d=c.Mk||!1;var f=c.domain||void 0;var g=c.path||void 0;var k=c.Qd}if(/[;=\\s]/.test(a))throw Error(\"s`\"+a);if(/[;\\r\\n]/.test(b))throw Error(\"t`\"+b);void 0===k&&(k=-1);this.j.cookie=a+\"=\"+b+(f?\";domain=\"+f:\"\")+(g?\";path=\"+g:\"\")+(0>k?\"\":0==k?\";expires=\"+(new Date(1970,1,1)).toUTCString():\";expires=\"+(new Date(Date.now()+1E3*k)).toUTCString())+(d?\";secure\":\"\")+(null!=e?\";samesite=\"+e:\"\")};\n",
      "_.h.get=function(a,b){for(var c=a+\"=\",d=(this.j.cookie||\"\").split(\";\"),e=0,f;e<d.length;e++){f=(0,_.Va)(d[e]);if(0==f.lastIndexOf(c,0))return f.substr(c.length);if(f==a)return\"\"}return b};_.h.remove=function(a,b,c){var d=void 0!==this.get(a);this.set(a,\"\",{Qd:0,path:b,domain:c});return d};_.h.Ra=function(){return Wd(this).keys};_.h.Da=function(){return Wd(this).values};_.h.Hb=function(){return!this.j.cookie};_.h.clear=function(){for(var a=Wd(this).keys,b=a.length-1;0<=b;b--)this.remove(a[b])};\n",
      "Wd=function(a){a=(a.j.cookie||\"\").split(\";\");for(var b=[],c=[],d,e,f=0;f<a.length;f++)e=(0,_.Va)(a[f]),d=e.indexOf(\"=\"),-1==d?(b.push(\"\"),c.push(e)):(b.push(e.substring(0,d)),c.push(e.substring(d+1)));return{keys:b,values:c}};_.Xd=new _.Vd(\"undefined\"==typeof document?null:document);\n",
      "var Yd=function(a,b){this.A=a;this.B=b;this.o=0;this.j=null};Yd.prototype.get=function(){if(0<this.o){this.o--;var a=this.j;this.j=a.next;a.next=null}else a=this.A();return a};var Zd=function(a,b){a.B(b);100>a.o&&(a.o++,b.next=a.j,a.j=b)};\n",
      "var $d=function(a){_.p.setTimeout(function(){throw a;},0)},ae,be=function(){var a=_.p.MessageChannel;\"undefined\"===typeof a&&\"undefined\"!==typeof window&&window.postMessage&&window.addEventListener&&!_.w(\"Presto\")&&(a=function(){var e=_.Ud(\"IFRAME\");e.style.display=\"none\";document.documentElement.appendChild(e);var f=e.contentWindow;e=f.document;e.open();e.close();var g=\"callImmediate\"+Math.random(),k=\"file:\"==f.location.protocol?\"*\":f.location.protocol+\"//\"+f.location.host;e=(0,_.r)(function(l){if((\"*\"==\n",
      "k||l.origin==k)&&l.data==g)this.port1.onmessage()},this);f.addEventListener(\"message\",e,!1);this.port1={};this.port2={postMessage:function(){f.postMessage(g,k)}}});if(\"undefined\"!==typeof a&&!_.rb()){var b=new a,c={},d=c;b.port1.onmessage=function(){if(void 0!==c.next){c=c.next;var e=c.Ff;c.Ff=null;e()}};return function(e){d.next={Ff:e};d=d.next;b.port2.postMessage(0)}}return function(e){_.p.setTimeout(e,0)}};\n",
      "var ce=function(){this.o=this.j=null},ee=new Yd(function(){return new de},function(a){a.reset()});ce.prototype.add=function(a,b){var c=ee.get();c.set(a,b);this.o?this.o.next=c:this.j=c;this.o=c};ce.prototype.remove=function(){var a=null;this.j&&(a=this.j,this.j=this.j.next,this.j||(this.o=null),a.next=null);return a};var de=function(){this.next=this.scope=this.Ab=null};de.prototype.set=function(a,b){this.Ab=a;this.scope=b;this.next=null};\n",
      "de.prototype.reset=function(){this.next=this.scope=this.Ab=null};\n",
      "var fe,ge,he,ie,ke;_.je=function(a,b){fe||ge();he||(fe(),he=!0);ie.add(a,b)};ge=function(){if(_.p.Promise&&_.p.Promise.resolve){var a=_.p.Promise.resolve(void 0);fe=function(){a.then(ke)}}else fe=function(){var b=ke;\"function\"!==typeof _.p.setImmediate||_.p.Window&&_.p.Window.prototype&&!_.w(\"Edge\")&&_.p.Window.prototype.setImmediate==_.p.setImmediate?(ae||(ae=be()),ae(b)):_.p.setImmediate(b)}};he=!1;ie=new ce;\n",
      "ke=function(){for(var a;a=ie.remove();){try{a.Ab.call(a.scope)}catch(b){$d(b)}Zd(ee,a)}he=!1};\n",
      "_.le=function(a){if(!a)return!1;try{return!!a.$goog_Thenable}catch(b){return!1}};\n",
      "var oe,te,xe,Ae,we,ue,ve,Be,ze,Ce;_.ne=function(a){this.j=0;this.F=void 0;this.B=this.o=this.A=null;this.C=this.D=!1;if(a!=_.za)try{var b=this;a.call(void 0,function(c){_.me(b,2,c)},function(c){_.me(b,3,c)})}catch(c){_.me(this,3,c)}};oe=function(){this.next=this.context=this.o=this.A=this.j=null;this.B=!1};oe.prototype.reset=function(){this.context=this.o=this.A=this.j=null;this.B=!1};\n",
      "var pe=new Yd(function(){return new oe},function(a){a.reset()}),qe=function(a,b,c){var d=pe.get();d.A=a;d.o=b;d.context=c;return d};_.ne.prototype.then=function(a,b,c){return _.re(this,\"function\"===typeof a?a:null,\"function\"===typeof b?b:null,c)};_.ne.prototype.$goog_Thenable=!0;_.ne.prototype.cancel=function(a){if(0==this.j){var b=new _.se(a);_.je(function(){te(this,b)},this)}};\n",
      "te=function(a,b){if(0==a.j)if(a.A){var c=a.A;if(c.o){for(var d=0,e=null,f=null,g=c.o;g&&(g.B||(d++,g.j==a&&(e=g),!(e&&1<d)));g=g.next)e||(f=g);e&&(0==c.j&&1==d?te(c,b):(f?(d=f,d.next==c.B&&(c.B=d),d.next=d.next.next):ue(c),ve(c,e,3,b)))}a.A=null}else _.me(a,3,b)};xe=function(a,b){a.o||2!=a.j&&3!=a.j||we(a);a.B?a.B.next=b:a.o=b;a.B=b};\n",
      "_.re=function(a,b,c,d){var e=qe(null,null,null);e.j=new _.ne(function(f,g){e.A=b?function(k){try{var l=b.call(d,k);f(l)}catch(m){g(m)}}:f;e.o=c?function(k){try{var l=c.call(d,k);void 0===l&&k instanceof _.se?g(k):f(l)}catch(m){g(m)}}:g});e.j.A=a;xe(a,e);return e.j};_.ne.prototype.H=function(a){this.j=0;_.me(this,2,a)};_.ne.prototype.J=function(a){this.j=0;_.me(this,3,a)};\n",
      "_.me=function(a,b,c){0==a.j&&(a===c&&(b=3,c=new TypeError(\"u\")),a.j=1,_.ye(c,a.H,a.J,a)||(a.F=c,a.j=b,a.A=null,we(a),3!=b||c instanceof _.se||ze(a,c)))};_.ye=function(a,b,c,d){if(a instanceof _.ne)return xe(a,qe(b||_.za,c||null,d)),!0;if(_.le(a))return a.then(b,c,d),!0;if(_.Da(a))try{var e=a.then;if(\"function\"===typeof e)return Ae(a,e,b,c,d),!0}catch(f){return c.call(d,f),!0}return!1};\n",
      "Ae=function(a,b,c,d,e){var f=!1,g=function(l){f||(f=!0,c.call(e,l))},k=function(l){f||(f=!0,d.call(e,l))};try{b.call(a,g,k)}catch(l){k(l)}};we=function(a){a.D||(a.D=!0,_.je(a.G,a))};ue=function(a){var b=null;a.o&&(b=a.o,a.o=b.next,b.next=null);a.o||(a.B=null);return b};_.ne.prototype.G=function(){for(var a;a=ue(this);)ve(this,a,this.j,this.F);this.D=!1};\n",
      "ve=function(a,b,c,d){if(3==c&&b.o&&!b.B)for(;a&&a.C;a=a.A)a.C=!1;if(b.j)b.j.A=null,Be(b,c,d);else try{b.B?b.A.call(b.context):Be(b,c,d)}catch(e){Ce.call(null,e)}Zd(pe,b)};Be=function(a,b,c){2==b?a.A.call(a.context,c):a.o&&a.o.call(a.context,c)};ze=function(a,b){a.C=!0;_.je(function(){a.C&&Ce.call(null,b)})};Ce=$d;_.se=function(a){_.aa.call(this,a)};_.v(_.se,_.aa);_.se.prototype.name=\"cancel\";\n",
      "var Ee,Fe,Ge;_.De=!_.x||_.ec(9);Ee=!_.x||_.ec(9);Fe=_.x&&!_.cc(\"9\");Ge=function(){if(!_.p.addEventListener||!Object.defineProperty)return!1;var a=!1,b=Object.defineProperty({},\"passive\",{get:function(){a=!0}});try{_.p.addEventListener(\"test\",_.za,b),_.p.removeEventListener(\"test\",_.za,b)}catch(c){}return a}();\n",
      "_.He=_.Mb?\"webkitTransitionEnd\":_.Ib?\"otransitionend\":\"transitionend\";\n",
      "_.Ie=/^(?:([^:/?#.]+):)?(?:\\/\\/(?:([^\\\\/?#]*)@)?([^\\\\/?#]*?)(?::([0-9]+))?(?=[\\\\/?#]|$))?([^?#]+)?(?:\\?([^#]*))?(?:#([\\s\\S]*))?$/;_.Je=function(a){a=a.match(_.Ie)[1]||null;!a&&_.p.self&&_.p.self.location&&(a=_.p.self.location.protocol,a=a.substr(0,a.length-1));return a?a.toLowerCase():\"\"};\n",
      "_.Ke=\"StopIteration\"in _.p?_.p.StopIteration:{message:\"StopIteration\",stack:\"\"};_.Le=function(){};_.Le.prototype.next=function(){throw _.Ke;};_.Le.prototype.Kb=function(){return this};\n",
      "_.Ne=function(a,b){this.o={};this.j=[];this.B=this.A=0;var c=arguments.length;if(1<c){if(c%2)throw Error(\"j\");for(var d=0;d<c;d+=2)this.set(arguments[d],arguments[d+1])}else a&&_.Me(this,a)};_.h=_.Ne.prototype;_.h.Da=function(){Oe(this);for(var a=[],b=0;b<this.j.length;b++)a.push(this.o[this.j[b]]);return a};_.h.Ra=function(){Oe(this);return this.j.concat()};_.h.Hb=function(){return 0==this.A};_.h.clear=function(){this.o={};this.B=this.A=this.j.length=0};\n",
      "_.h.remove=function(a){return _.Pe(this.o,a)?(delete this.o[a],this.A--,this.B++,this.j.length>2*this.A&&Oe(this),!0):!1};var Oe=function(a){if(a.A!=a.j.length){for(var b=0,c=0;b<a.j.length;){var d=a.j[b];_.Pe(a.o,d)&&(a.j[c++]=d);b++}a.j.length=c}if(a.A!=a.j.length){var e={};for(c=b=0;b<a.j.length;)d=a.j[b],_.Pe(e,d)||(a.j[c++]=d,e[d]=1),b++;a.j.length=c}};_.Ne.prototype.get=function(a,b){return _.Pe(this.o,a)?this.o[a]:b};\n",
      "_.Ne.prototype.set=function(a,b){_.Pe(this.o,a)||(this.A++,this.j.push(a),this.B++);this.o[a]=b};_.Me=function(a,b){if(b instanceof _.Ne)for(var c=b.Ra(),d=0;d<c.length;d++)a.set(c[d],b.get(c[d]));else for(c in b)a.set(c,b[c])};_.Ne.prototype.forEach=function(a,b){for(var c=this.Ra(),d=0;d<c.length;d++){var e=c[d],f=this.get(e);a.call(b,f,e,this)}};\n",
      "_.Ne.prototype.Kb=function(a){Oe(this);var b=0,c=this.B,d=this,e=new _.Le;e.next=function(){if(c!=d.B)throw Error(\"w\");if(b>=d.j.length)throw _.Ke;var f=d.j[b++];return a?f:d.o[f]};return e};_.Pe=function(a,b){return Object.prototype.hasOwnProperty.call(a,b)};\n",
      "var Qe;Qe=function(a){if(a.Da&&\"function\"==typeof a.Da)return a.Da();if(\"string\"===typeof a)return a.split(\"\");if(_.Ca(a)){for(var b=[],c=a.length,d=0;d<c;d++)b.push(a[d]);return b}b=[];c=0;for(d in a)b[c++]=a[d];return b};\n",
      "_.Re=function(a,b){if(a.forEach&&\"function\"==typeof a.forEach)a.forEach(b,void 0);else if(_.Ca(a)||\"string\"===typeof a)_.Ka(a,b,void 0);else{if(a.Ra&&\"function\"==typeof a.Ra)var c=a.Ra();else if(a.Da&&\"function\"==typeof a.Da)c=void 0;else if(_.Ca(a)||\"string\"===typeof a){c=[];for(var d=a.length,e=0;e<d;e++)c.push(e)}else c=_.Ad(a);d=Qe(a);e=d.length;for(var f=0;f<e;f++)b.call(void 0,d[f],c&&c[f],a)}};\n",
      "_.Se=function(a){_.z(this,a,0,-1,null,null)};_.v(_.Se,_.y);\n",
      "_.Ue=function(a,b){this.type=\"undefined\"!=typeof _.Te&&a instanceof _.Te?String(a):a;this.currentTarget=this.target=b;this.defaultPrevented=this.j=!1};_.Ue.prototype.stopPropagation=function(){this.j=!0};_.Ue.prototype.preventDefault=function(){this.defaultPrevented=!0};\n",
      "_.Ve=function(a,b){_.Ue.call(this,a?a.type:\"\");this.relatedTarget=this.currentTarget=this.target=null;this.button=this.screenY=this.screenX=this.clientY=this.clientX=this.offsetY=this.offsetX=0;this.key=\"\";this.charCode=this.keyCode=0;this.metaKey=this.shiftKey=this.altKey=this.ctrlKey=!1;this.state=null;this.pointerId=0;this.pointerType=\"\";this.Ba=null;a&&this.init(a,b)};_.v(_.Ve,_.Ue);var We={2:\"touch\",3:\"pen\",4:\"mouse\"};\n",
      "_.Ve.prototype.init=function(a,b){var c=this.type=a.type,d=a.changedTouches&&a.changedTouches.length?a.changedTouches[0]:null;this.target=a.target||a.srcElement;this.currentTarget=b;(b=a.relatedTarget)?_.Lb&&(_.Nd(b,\"nodeName\")||(b=null)):\"mouseover\"==c?b=a.fromElement:\"mouseout\"==c&&(b=a.toElement);this.relatedTarget=b;d?(this.clientX=void 0!==d.clientX?d.clientX:d.pageX,this.clientY=void 0!==d.clientY?d.clientY:d.pageY,this.screenX=d.screenX||0,this.screenY=d.screenY||0):(this.offsetX=_.Mb||void 0!==\n",
      "a.offsetX?a.offsetX:a.layerX,this.offsetY=_.Mb||void 0!==a.offsetY?a.offsetY:a.layerY,this.clientX=void 0!==a.clientX?a.clientX:a.pageX,this.clientY=void 0!==a.clientY?a.clientY:a.pageY,this.screenX=a.screenX||0,this.screenY=a.screenY||0);this.button=a.button;this.keyCode=a.keyCode||0;this.key=a.key||\"\";this.charCode=a.charCode||(\"keypress\"==c?a.keyCode:0);this.ctrlKey=a.ctrlKey;this.altKey=a.altKey;this.shiftKey=a.shiftKey;this.metaKey=a.metaKey;this.pointerId=a.pointerId||0;this.pointerType=\"string\"===\n",
      "typeof a.pointerType?a.pointerType:We[a.pointerType]||\"\";this.state=a.state;this.Ba=a;a.defaultPrevented&&this.preventDefault()};_.Ve.prototype.stopPropagation=function(){_.Ve.V.stopPropagation.call(this);this.Ba.stopPropagation?this.Ba.stopPropagation():this.Ba.cancelBubble=!0};_.Ve.prototype.preventDefault=function(){_.Ve.V.preventDefault.call(this);var a=this.Ba;if(a.preventDefault)a.preventDefault();else if(a.returnValue=!1,Fe)try{if(a.ctrlKey||112<=a.keyCode&&123>=a.keyCode)a.keyCode=-1}catch(b){}};\n",
      "var Xe,Ze;Xe=\"closure_listenable_\"+(1E6*Math.random()|0);_.Ye=function(a){return!(!a||!a[Xe])};Ze=0;\n",
      "var $e=function(a,b,c,d,e){this.listener=a;this.j=null;this.src=b;this.type=c;this.capture=!!d;this.Hd=e;this.key=++Ze;this.sc=this.od=!1},af=function(a){a.sc=!0;a.listener=null;a.j=null;a.src=null;a.Hd=null};\n",
      "var bf=function(a){this.src=a;this.j={};this.o=0},df;bf.prototype.add=function(a,b,c,d,e){var f=a.toString();a=this.j[f];a||(a=this.j[f]=[],this.o++);var g=cf(a,b,d,e);-1<g?(b=a[g],c||(b.od=!1)):(b=new $e(b,this.src,f,!!d,e),b.od=c,a.push(b));return b};bf.prototype.remove=function(a,b,c,d){a=a.toString();if(!(a in this.j))return!1;var e=this.j[a];b=cf(e,b,c,d);return-1<b?(af(e[b]),Array.prototype.splice.call(e,b,1),0==e.length&&(delete this.j[a],this.o--),!0):!1};\n",
      "df=function(a,b){var c=b.type;if(!(c in a.j))return!1;var d=_.md(a.j[c],b);d&&(af(b),0==a.j[c].length&&(delete a.j[c],a.o--));return d};_.ef=function(a){var b=0,c;for(c in a.j){for(var d=a.j[c],e=0;e<d.length;e++)++b,af(d[e]);delete a.j[c];a.o--}};bf.prototype.zd=function(a,b){a=this.j[a.toString()];var c=[];if(a)for(var d=0;d<a.length;++d){var e=a[d];e.capture==b&&c.push(e)}return c};bf.prototype.Nc=function(a,b,c,d){a=this.j[a.toString()];var e=-1;a&&(e=cf(a,b,c,d));return-1<e?a[e]:null};\n",
      "bf.prototype.hasListener=function(a,b){var c=void 0!==a,d=c?a.toString():\"\",e=void 0!==b;return zd(this.j,function(f){for(var g=0;g<f.length;++g)if(!(c&&f[g].type!=d||e&&f[g].capture!=b))return!0;return!1})};var cf=function(a,b,c,d){for(var e=0;e<a.length;++e){var f=a[e];if(!f.sc&&f.listener==b&&f.capture==!!c&&f.Hd==d)return e}return-1};\n",
      "var ff,gf,hf,lf,nf,of,tf,sf,pf,uf;ff=\"closure_lm_\"+(1E6*Math.random()|0);gf={};hf=0;_.O=function(a,b,c,d,e){if(d&&d.once)return _.jf(a,b,c,d,e);if(Array.isArray(b)){for(var f=0;f<b.length;f++)_.O(a,b[f],c,d,e);return null}c=_.kf(c);return _.Ye(a)?a.K(b,c,_.Da(d)?!!d.capture:!!d,e):lf(a,b,c,!1,d,e)};\n",
      "lf=function(a,b,c,d,e,f){if(!b)throw Error(\"x\");var g=_.Da(e)?!!e.capture:!!e,k=_.mf(a);k||(a[ff]=k=new bf(a));c=k.add(b,c,d,g,f);if(c.j)return c;d=nf();c.j=d;d.src=a;d.listener=c;if(a.addEventListener)Ge||(e=g),void 0===e&&(e=!1),a.addEventListener(b.toString(),d,e);else if(a.attachEvent)a.attachEvent(of(b.toString()),d);else if(a.addListener&&a.removeListener)a.addListener(d);else throw Error(\"y\");hf++;return c};\n",
      "nf=function(){var a=pf,b=Ee?function(c){return a.call(b.src,b.listener,c)}:function(c){c=a.call(b.src,b.listener,c);if(!c)return c};return b};_.jf=function(a,b,c,d,e){if(Array.isArray(b)){for(var f=0;f<b.length;f++)_.jf(a,b[f],c,d,e);return null}c=_.kf(c);return _.Ye(a)?a.Va(b,c,_.Da(d)?!!d.capture:!!d,e):lf(a,b,c,!0,d,e)};\n",
      "_.qf=function(a,b,c,d,e){if(Array.isArray(b))for(var f=0;f<b.length;f++)_.qf(a,b[f],c,d,e);else d=_.Da(d)?!!d.capture:!!d,c=_.kf(c),_.Ye(a)?a.qa(b,c,d,e):a&&(a=_.mf(a))&&(b=a.Nc(b,c,d,e))&&_.rf(b)};\n",
      "_.rf=function(a){if(\"number\"===typeof a||!a||a.sc)return!1;var b=a.src;if(_.Ye(b))return df(b.Za,a);var c=a.type,d=a.j;b.removeEventListener?b.removeEventListener(c,d,a.capture):b.detachEvent?b.detachEvent(of(c),d):b.addListener&&b.removeListener&&b.removeListener(d);hf--;(c=_.mf(b))?(df(c,a),0==c.o&&(c.src=null,b[ff]=null)):af(a);return!0};of=function(a){return a in gf?gf[a]:gf[a]=\"on\"+a};\n",
      "tf=function(a,b,c,d){var e=!0;if(a=_.mf(a))if(b=a.j[b.toString()])for(b=b.concat(),a=0;a<b.length;a++){var f=b[a];f&&f.capture==c&&!f.sc&&(f=sf(f,d),e=e&&!1!==f)}return e};sf=function(a,b){var c=a.listener,d=a.Hd||a.src;a.od&&_.rf(a);return c.call(d,b)};\n",
      "pf=function(a,b){if(a.sc)return!0;if(!Ee){var c=b||_.xa(\"window.event\");b=new _.Ve(c,this);var d=!0;if(!(0>c.keyCode||void 0!=c.returnValue)){a:{var e=!1;if(0==c.keyCode)try{c.keyCode=-1;break a}catch(g){e=!0}if(e||void 0==c.returnValue)c.returnValue=!0}c=[];for(e=b.currentTarget;e;e=e.parentNode)c.push(e);a=a.type;for(e=c.length-1;!b.j&&0<=e;e--){b.currentTarget=c[e];var f=tf(c[e],a,!0,b);d=d&&f}for(e=0;!b.j&&e<c.length;e++)b.currentTarget=c[e],f=tf(c[e],a,!1,b),d=d&&f}return d}return sf(a,new _.Ve(b,\n",
      "this))};_.mf=function(a){a=a[ff];return a instanceof bf?a:null};uf=\"__closure_events_fn_\"+(1E9*Math.random()>>>0);_.kf=function(a){if(\"function\"===typeof a)return a;a[uf]||(a[uf]=function(b){return a.handleEvent(b)});return a[uf]};\n",
      "_.P=function(){_.L.call(this);this.Za=new bf(this);this.Sh=this;this.Ud=null};_.v(_.P,_.L);_.P.prototype[Xe]=!0;_.h=_.P.prototype;_.h.nf=function(a){this.Ud=a};_.h.addEventListener=function(a,b,c,d){_.O(this,a,b,c,d)};_.h.removeEventListener=function(a,b,c,d){_.qf(this,a,b,c,d)};\n",
      "_.h.dispatchEvent=function(a){var b,c=this.Ud;if(c)for(b=[];c;c=c.Ud)b.push(c);c=this.Sh;var d=a.type||a;if(\"string\"===typeof a)a=new _.Ue(a,c);else if(a instanceof _.Ue)a.target=a.target||c;else{var e=a;a=new _.Ue(d,c);_.Ra(a,e)}e=!0;if(b)for(var f=b.length-1;!a.j&&0<=f;f--){var g=a.currentTarget=b[f];e=vf(g,d,!0,a)&&e}a.j||(g=a.currentTarget=c,e=vf(g,d,!0,a)&&e,a.j||(e=vf(g,d,!1,a)&&e));if(b)for(f=0;!a.j&&f<b.length;f++)g=a.currentTarget=b[f],e=vf(g,d,!1,a)&&e;return e};\n",
      "_.h.S=function(){_.P.V.S.call(this);this.Za&&_.ef(this.Za);this.Ud=null};_.h.K=function(a,b,c,d){return this.Za.add(String(a),b,!1,c,d)};_.h.Va=function(a,b,c,d){return this.Za.add(String(a),b,!0,c,d)};_.h.qa=function(a,b,c,d){return this.Za.remove(String(a),b,c,d)};var vf=function(a,b,c,d){b=a.Za.j[String(b)];if(!b)return!0;b=b.concat();for(var e=!0,f=0;f<b.length;++f){var g=b[f];if(g&&!g.sc&&g.capture==c){var k=g.listener,l=g.Hd||g.src;g.od&&df(a.Za,g);e=!1!==k.call(l,d)&&e}}return e&&!d.defaultPrevented};\n",
      "_.P.prototype.zd=function(a,b){return this.Za.zd(String(a),b)};_.P.prototype.Nc=function(a,b,c,d){return this.Za.Nc(String(a),b,c,d)};_.P.prototype.hasListener=function(a,b){return this.Za.hasListener(void 0!==a?String(a):void 0,b)};\n",
      "/*\n",
      "\n",
      "Math.uuid.js (v1.4)\n",
      "http://www.broofa.com\n",
      "mailto:robert@broofa.com\n",
      "Copyright (c) 2010 Robert Kieffer\n",
      "Dual licensed under the MIT and GPL licenses.\n",
      "*/\n",
      "var yf,xf,Bf,Cf,Af;_.wf=function(a){a=String(a);if(/^\\s*$/.test(a)?0:/^[\\],:{}\\s\\u2028\\u2029]*$/.test(a.replace(/\\\\[\"\\\\\\/bfnrtu]/g,\"@\").replace(/(?:\"[^\"\\\\\\n\\r\\u2028\\u2029\\x00-\\x08\\x0a-\\x1f]*\"|true|false|null|-?\\d+(?:\\.\\d*)?(?:[eE][+\\-]?\\d+)?)[\\s\\u2028\\u2029]*(?=:|,|]|}|$)/g,\"]\").replace(/(?:^|:|,)(?:[\\s\\u2028\\u2029]*\\[)+/g,\"\")))try{return eval(\"(\"+a+\")\")}catch(b){}throw Error(\"z`\"+a);};_.zf=function(a){var b=[];xf(new yf,a,b);return b.join(\"\")};yf=function(){};\n",
      "xf=function(a,b,c){if(null==b)c.push(\"null\");else{if(\"object\"==typeof b){if(Array.isArray(b)){var d=b;b=d.length;c.push(\"[\");for(var e=\"\",f=0;f<b;f++)c.push(e),xf(a,d[f],c),e=\",\";c.push(\"]\");return}if(b instanceof String||b instanceof Number||b instanceof Boolean)b=b.valueOf();else{c.push(\"{\");e=\"\";for(d in b)Object.prototype.hasOwnProperty.call(b,d)&&(f=b[d],\"function\"!=typeof f&&(c.push(e),Af(d,c),c.push(\":\"),xf(a,f,c),e=\",\"));c.push(\"}\");return}}switch(typeof b){case \"string\":Af(b,c);break;case \"number\":c.push(isFinite(b)&&\n",
      "!isNaN(b)?String(b):\"null\");break;case \"boolean\":c.push(String(b));break;case \"function\":c.push(\"null\");break;default:throw Error(\"A`\"+typeof b);}}};Bf={'\"':'\\\\\"',\"\\\\\":\"\\\\\\\\\",\"/\":\"\\\\/\",\"\\b\":\"\\\\b\",\"\\f\":\"\\\\f\",\"\\n\":\"\\\\n\",\"\\r\":\"\\\\r\",\"\\t\":\"\\\\t\",\"\\x0B\":\"\\\\u000b\"};Cf=/\\uffff/.test(\"\\uffff\")?/[\\\\\"\\x00-\\x1f\\x7f-\\uffff]/g:/[\\\\\"\\x00-\\x1f\\x7f-\\xff]/g;Af=function(a,b){b.push('\"',a.replace(Cf,function(c){var d=Bf[c];d||(d=\"\\\\u\"+(c.charCodeAt(0)|65536).toString(16).substr(1),Bf[c]=d);return d}),'\"')};\n",
      "_.Df=function(a){switch(a){case 200:case 201:case 202:case 204:case 206:case 304:case 1223:return!0;default:return!1}};\n",
      "_.Ef=function(){};_.Ef.prototype.o=null;var Ff=function(a){return a.o||(a.o=a.B())};\n",
      "var Hf;Hf=function(){};_.v(Hf,_.Ef);Hf.prototype.j=function(){var a=If(this);return a?new ActiveXObject(a):new XMLHttpRequest};Hf.prototype.B=function(){var a={};If(this)&&(a[0]=!0,a[1]=!0);return a};var If=function(a){if(!a.A&&\"undefined\"==typeof XMLHttpRequest&&\"undefined\"!=typeof ActiveXObject){for(var b=[\"MSXML2.XMLHTTP.6.0\",\"MSXML2.XMLHTTP.3.0\",\"MSXML2.XMLHTTP\",\"Microsoft.XMLHTTP\"],c=0;c<b.length;c++){var d=b[c];try{return new ActiveXObject(d),a.A=d}catch(e){}}throw Error(\"B\");}return a.A};\n",
      "_.Gf=new Hf;\n",
      "_.Jf=function(a,b){_.P.call(this);this.B=a||1;this.A=b||_.p;this.C=(0,_.r)(this.F,this);this.D=_.yd()};_.v(_.Jf,_.P);_.Jf.prototype.o=!1;_.Jf.prototype.j=null;_.Kf=function(a,b){a.B=b;a.j&&a.o?(a.stop(),a.start()):a.j&&a.stop()};_.Jf.prototype.F=function(){if(this.o){var a=_.yd()-this.D;0<a&&a<.8*this.B?this.j=this.A.setTimeout(this.C,this.B-a):(this.j&&(this.A.clearTimeout(this.j),this.j=null),this.dispatchEvent(\"tick\"),this.o&&(this.stop(),this.start()))}};\n",
      "_.Jf.prototype.start=function(){this.o=!0;this.j||(this.j=this.A.setTimeout(this.C,this.B),this.D=_.yd())};_.Jf.prototype.stop=function(){this.o=!1;this.j&&(this.A.clearTimeout(this.j),this.j=null)};_.Jf.prototype.S=function(){_.Jf.V.S.call(this);this.stop();delete this.A};_.Lf=function(a,b,c){if(\"function\"===typeof a)c&&(a=(0,_.r)(a,c));else if(a&&\"function\"==typeof a.handleEvent)a=(0,_.r)(a.handleEvent,a);else throw Error(\"C\");return 2147483647<Number(b)?-1:_.p.setTimeout(a,b||0)};_.Mf=function(a){_.p.clearTimeout(a)};\n",
      "var Of,Pf,Qf;_.Nf=function(a){_.P.call(this);this.headers=new _.Ne;this.N=a||null;this.o=!1;this.M=this.j=null;this.F=\"\";this.A=0;this.C=\"\";this.B=this.P=this.H=this.O=!1;this.D=0;this.J=null;this.T=\"\";this.R=this.G=!1};_.v(_.Nf,_.P);Of=/^https?$/i;Pf=[\"POST\",\"PUT\"];Qf=[];_.Rf=function(a,b,c,d,e,f,g){var k=new _.Nf;Qf.push(k);b&&k.K(\"complete\",b);k.Va(\"ready\",k.W);f&&(k.D=Math.max(0,f));g&&(k.G=g);k.send(a,c,d,e)};_.Nf.prototype.W=function(){this.ia();_.md(Qf,this)};\n",
      "_.Nf.prototype.send=function(a,b,c,d){if(this.j)throw Error(\"E`\"+this.F+\"`\"+a);b=b?b.toUpperCase():\"GET\";this.F=a;this.C=\"\";this.A=0;this.O=!1;this.o=!0;this.j=this.N?this.N.j():_.Gf.j();this.M=this.N?Ff(this.N):Ff(_.Gf);this.j.onreadystatechange=(0,_.r)(this.X,this);try{this.P=!0,this.j.open(b,String(a),!0),this.P=!1}catch(f){Sf(this,f);return}a=c||\"\";var e=new _.Ne(this.headers);d&&_.Re(d,function(f,g){e.set(g,f)});d=kd(e.Ra());c=_.p.FormData&&a instanceof _.p.FormData;!_.ld(Pf,b)||d||c||e.set(\"Content-Type\",\n",
      "\"application/x-www-form-urlencoded;charset=utf-8\");e.forEach(function(f,g){this.j.setRequestHeader(g,f)},this);this.T&&(this.j.responseType=this.T);\"withCredentials\"in this.j&&this.j.withCredentials!==this.G&&(this.j.withCredentials=this.G);try{Tf(this),0<this.D&&((this.R=Uf(this.j))?(this.j.timeout=this.D,this.j.ontimeout=(0,_.r)(this.$c,this)):this.J=_.Lf(this.$c,this.D,this)),this.H=!0,this.j.send(a),this.H=!1}catch(f){Sf(this,f)}};\n",
      "var Uf=function(a){return _.x&&_.cc(9)&&\"number\"===typeof a.timeout&&void 0!==a.ontimeout},jd=function(a){return\"content-type\"==a.toLowerCase()};_.Nf.prototype.$c=function(){\"undefined\"!=typeof _.wa&&this.j&&(this.C=\"Timed out after \"+this.D+\"ms, aborting\",this.A=8,this.dispatchEvent(\"timeout\"),this.abort(8))};var Sf=function(a,b){a.o=!1;a.j&&(a.B=!0,a.j.abort(),a.B=!1);a.C=b;a.A=5;Vf(a);Wf(a)},Vf=function(a){a.O||(a.O=!0,a.dispatchEvent(\"complete\"),a.dispatchEvent(\"error\"))};\n",
      "_.Nf.prototype.abort=function(a){this.j&&this.o&&(this.o=!1,this.B=!0,this.j.abort(),this.B=!1,this.A=a||7,this.dispatchEvent(\"complete\"),this.dispatchEvent(\"abort\"),Wf(this))};_.Nf.prototype.S=function(){this.j&&(this.o&&(this.o=!1,this.B=!0,this.j.abort(),this.B=!1),Wf(this,!0));_.Nf.V.S.call(this)};_.Nf.prototype.X=function(){this.Oa||(this.P||this.H||this.B?Xf(this):this.Y())};_.Nf.prototype.Y=function(){Xf(this)};\n",
      "var Xf=function(a){if(a.o&&\"undefined\"!=typeof _.wa&&(!a.M[1]||4!=_.Yf(a)||2!=a.jb()))if(a.H&&4==_.Yf(a))_.Lf(a.X,0,a);else if(a.dispatchEvent(\"readystatechange\"),4==_.Yf(a)){a.o=!1;try{if(a.jc())a.dispatchEvent(\"complete\"),a.dispatchEvent(\"success\");else{a.A=6;try{var b=2<_.Yf(a)?a.j.statusText:\"\"}catch(c){b=\"\"}a.C=b+\" [\"+a.jb()+\"]\";Vf(a)}}finally{Wf(a)}}},Wf=function(a,b){if(a.j){Tf(a);var c=a.j,d=a.M[0]?_.za:null;a.j=null;a.M=null;b||a.dispatchEvent(\"ready\");try{c.onreadystatechange=d}catch(e){}}},\n",
      "Tf=function(a){a.j&&a.R&&(a.j.ontimeout=null);a.J&&(_.Mf(a.J),a.J=null)};_.Nf.prototype.jc=function(){var a=this.jb(),b;if(!(b=_.Df(a))){if(a=0===a)a=_.Je(String(this.F)),a=!Of.test(a);b=a}return b};_.Yf=function(a){return a.j?a.j.readyState:0};_.Nf.prototype.jb=function(){try{return 2<_.Yf(this)?this.j.status:-1}catch(a){return-1}};_.Nf.prototype.Ad=function(){try{return this.j?this.j.responseText:\"\"}catch(a){return\"\"}};\n",
      "_.Nf.prototype.De=function(){if(this.j){a:{var a=this.j.responseText;if(_.p.JSON)try{var b=_.p.JSON.parse(a);break a}catch(c){}b=_.wf(a)}return b}};\n",
      "var Od=function(a){_.z(this,a,0,-1,null,null)};_.v(Od,_.y);\n",
      "_.Zf=new Pd;\n",
      "var $f,cg,bg;_.ag=function(a){var b=window.google&&window.google.logUrl?\"\":\"https://www.google.com\";b+=\"/gen_204?\";b+=a.o(2040-b.length);$f(_.Kd(b)||_.kb)};$f=function(a){var b=new Image,c=bg;b.onerror=b.onload=b.onabort=function(){c in cg&&delete cg[c]};cg[bg++]=b;b.src=_.hb(a)};cg=[];bg=0;\n",
      "_.dg=function(){this.data={}};_.dg.prototype.j=function(){window.console&&window.console.log&&window.console.log(\"Log data: \",this.data)};_.dg.prototype.o=function(a){var b=[],c;for(c in this.data)b.push(encodeURIComponent(c)+\"=\"+encodeURIComponent(String(this.data[c])));return(\"atyp=i&zx=\"+(new Date).getTime()+\"&\"+b.join(\"&\")).substr(0,a)};\n",
      "_.eg=function(a,b){this.data={};var c=_.G(a,_.vc,8)||new _.vc;window.google&&window.google.kEI&&(this.data.ei=window.google.kEI);this.data.sei=_.J(_.A(a,10));this.data.ogf=_.J(_.A(c,3));var d=window.google&&window.google.sn?/.*hp$/.test(window.google.sn)?!1:!0:_.I(_.B(a,7));this.data.ogrp=d?\"1\":\"\";this.data.ogv=_.J(_.A(c,6))+\".\"+_.J(_.A(c,7));this.data.ogd=_.J(_.A(a,21));this.data.ogc=_.J(_.A(a,20));this.data.ogl=_.J(_.A(a,5));b&&(this.data.oggv=b)};_.n(_.eg,_.dg);\n",
      "_.fg=function(a){_.L.call(this);this.ba=a;this.X={}};_.v(_.fg,_.L);var gg=[];_.fg.prototype.K=function(a,b,c,d){return hg(this,a,b,c,d)};_.fg.prototype.A=function(a,b,c,d,e){return hg(this,a,b,c,d,e)};var hg=function(a,b,c,d,e,f){Array.isArray(c)||(c&&(gg[0]=c.toString()),c=gg);for(var g=0;g<c.length;g++){var k=_.O(b,c[g],d||a.handleEvent,e||!1,f||a.ba||a);if(!k)break;a.X[k.key]=k}return a};_.fg.prototype.Va=function(a,b,c,d){return ig(this,a,b,c,d)};\n",
      "var ig=function(a,b,c,d,e,f){if(Array.isArray(c))for(var g=0;g<c.length;g++)ig(a,b,c[g],d,e,f);else{b=_.jf(b,c,d||a.handleEvent,e,f||a.ba||a);if(!b)return a;a.X[b.key]=b}return a};_.fg.prototype.qa=function(a,b,c,d,e){if(Array.isArray(b))for(var f=0;f<b.length;f++)this.qa(a,b[f],c,d,e);else c=c||this.handleEvent,d=_.Da(d)?!!d.capture:!!d,e=e||this.ba||this,c=_.kf(c),d=!!d,b=_.Ye(a)?a.Nc(b,c,d,e):a?(a=_.mf(a))?a.Nc(b,c,d,e):null:null,b&&(_.rf(b),delete this.X[b.key]);return this};\n",
      "_.jg=function(a){_.Pa(a.X,function(b,c){this.X.hasOwnProperty(c)&&_.rf(b)},a);a.X={}};_.fg.prototype.S=function(){_.fg.V.S.call(this);_.jg(this)};_.fg.prototype.handleEvent=function(){throw Error(\"F\");};\n",
      "\n",
      "}catch(e){_._DumpException(e)}\n",
      "try{\n",
      "/*\n",
      "\n",
      " Copyright The Closure Library Authors.\n",
      " SPDX-License-Identifier: Apache-2.0\n",
      "*/\n",
      "var kg,ug;_.lg=function(a,b){if((0,_.Ab)())for(;a.lastChild;)a.removeChild(a.lastChild);a.innerHTML=_.wb(b)};_.mg=function(a){return 9==a.nodeType?a:a.ownerDocument||a.document};_.ng=function(a,b){return\"string\"===typeof b?a.getElementById(b):b};_.og=function(a){for(var b;b=a.firstChild;)a.removeChild(b)};_.pg=function(a){return a&&a.parentNode?a.parentNode.removeChild(a):null};_.qg=function(a){return _.Oc&&void 0!=a.children?a.children:_.La(a.childNodes,function(b){return 1==b.nodeType})};\n",
      "_.rg=function(a){return _.Da(a)&&1==a.nodeType};_.sg=function(a,b){if(!a||!b)return!1;if(a.contains&&1==b.nodeType)return a==b||a.contains(b);if(\"undefined\"!=typeof a.compareDocumentPosition)return a==b||!!(a.compareDocumentPosition(b)&16);for(;b&&a!=b;)b=b.parentNode;return b==a};\n",
      "_.tg=function(a,b){if(\"textContent\"in a)a.textContent=b;else if(3==a.nodeType)a.data=String(b);else if(a.firstChild&&3==a.firstChild.nodeType){for(;a.lastChild!=a.firstChild;)a.removeChild(a.lastChild);a.firstChild.data=String(b)}else _.og(a),a.appendChild(_.mg(a).createTextNode(String(b)))};ug=function(a){this.j=a||_.p.document||document};_.h=ug.prototype;_.h.L=function(a){return _.ng(this.j,a)};_.h.na=function(a,b,c){return _.Vc(this.j,arguments)};\n",
      "_.h.createElement=function(a){return _.Tc(this.j,a)};_.h.Rc=function(a,b){a.appendChild(b)};_.h.Zf=_.og;_.h.Sc=_.pg;_.h.xi=_.qg;_.h.Yf=_.sg;_.vg=function(a){return a?new ug(_.mg(a)):kg||(kg=new ug)};\n",
      "_.wg=_.Lb?\"MozUserSelect\":_.Mb||_.Jb?\"WebkitUserSelect\":null;\n",
      "_.xg=function(){if(_.Qb){var a=/Windows NT ([0-9.]+)/;return(a=a.exec(_.ob))?a[1]:\"0\"}return _.Pb?(a=/10[_.][0-9_.]+/,(a=a.exec(_.ob))?a[0].replace(/_/g,\".\"):\"10\"):_.Sb?(a=/Android\\s+([^\\);]+)(\\)|;)/,(a=a.exec(_.ob))?a[1]:\"\"):_.Tb||_.Ub||_.Vb?(a=/(?:iPhone|CPU)\\s+OS\\s+(\\S+)/,(a=a.exec(_.ob))?a[1].replace(/_/g,\".\"):\"\"):\"\"}();\n",
      "var yg;yg=function(a){return(a=a.exec(_.ob))?a[1]:\"\"};_.zg=function(){if(_.hc)return yg(/Firefox\\/([0-9.]+)/);if(_.x||_.Jb||_.Ib)return _.bc;if(_.lc)return _.Eb()?yg(/CriOS\\/([0-9.]+)/):yg(/Chrome\\/([0-9.]+)/);if(_.mc&&!_.Eb())return yg(/Version\\/([0-9.]+)/);if(_.ic||_.jc){var a=/Version\\/(\\S+).*Mobile\\/(\\S+)/.exec(_.ob);if(a)return a[1]+\".\"+a[2]}else if(_.kc)return(a=yg(/Android\\s+([0-9.]+)/))?a:yg(/Version\\/([0-9.]+)/);return\"\"}();\n",
      "_.Ag=function(){};_.Aa(_.Ag);_.Ag.prototype.j=0;\n",
      "\n",
      "}catch(e){_._DumpException(e)}\n",
      "try{\n",
      "/*\n",
      "\n",
      " Copyright The Closure Library Authors.\n",
      " SPDX-License-Identifier: Apache-2.0\n",
      "*/\n",
      "_.Q=function(a,b,c){return _.Vc(document,arguments)};\n",
      "\n",
      "}catch(e){_._DumpException(e)}\n",
      "try{\n",
      "/*\n",
      "\n",
      " Copyright The Closure Library Authors.\n",
      " SPDX-License-Identifier: Apache-2.0\n",
      "*/\n",
      "var Bg;Bg=[1,4,2];_.Cg=function(a){return(_.De?0==a.Ba.button:\"click\"==a.type?!0:!!(a.Ba.button&Bg[0]))&&!(_.Pb&&a.ctrlKey)};_.Dg=function(a,b){return(b||document).getElementsByTagName(String(a))};\n",
      "var Eg,Gg;Eg=function(){};_.Fg=new Eg;Gg=[\"click\",\"keydown\",\"keyup\"];Eg.prototype.K=function(a,b,c,d,e){var f=function(g){var k=_.kf(b),l=_.rg(g.target)?g.target.getAttribute(\"role\")||null:null;\"click\"==g.type&&_.Cg(g)?k.call(d,g):13!=g.keyCode&&3!=g.keyCode||\"keyup\"==g.type?32!=g.keyCode||\"keyup\"!=g.type||\"button\"!=l&&\"tab\"!=l||(k.call(d,g),g.preventDefault()):(g.type=\"keypress\",k.call(d,g))};f.nb=b;f.Lk=d;e?e.K(a,Gg,f,c):_.O(a,Gg,f,c)};\n",
      "Eg.prototype.qa=function(a,b,c,d,e){for(var f,g=0;f=Gg[g];g++){var k=a;var l=f;var m=!!c;l=_.Ye(k)?k.zd(l,m):k?(k=_.mf(k))?k.zd(l,m):[]:[];for(k=0;m=l[k];k++){var q=m.listener;if(q.nb==b&&q.Lk==d){e?e.qa(a,f,m.listener,c,d):_.qf(a,f,m.listener,c,d);break}}}};\n",
      "\n",
      "}catch(e){_._DumpException(e)}\n",
      "try{\n",
      "var gl,ll,ml,nl,pl,rl,sl,tl,wl,xl,yl,zl,Bl,Dl,El,Il,Kl,jm;_.el=function(a,b){return null!=_.A(a,b)};_.fl=function(a,b,c){a.j||(a.j={});if(!a.j[c]){for(var d=_.A(a,c),e=[],f=0;f<d.length;f++)e[f]=new b(d[f]);a.j[c]=e}b=a.j[c];b==_.rc&&(b=a.j[c]=[]);return b};\n",
      "gl=function(a){if(Array.isArray(a)){for(var b=Array(a.length),c=0;c<a.length;c++){var d=a[c];null!=d&&(b[c]=\"object\"==typeof d?gl(d):d)}return b}if(_.qc&&a instanceof Uint8Array)return new Uint8Array(a);b={};for(c in a)d=a[c],null!=d&&(b[c]=\"object\"==typeof d?gl(d):d);return b};_.hl=function(a){return new a.constructor(gl(a.Ea()))};_.il=function(a){_.z(this,a,0,-1,null,null)};_.v(_.il,_.y);var jl=function(a){_.z(this,a,0,-1,null,null)};_.v(jl,_.y);\n",
      "_.kl=function(a,b,c){a.j||(a.j={});c=c||[];for(var d=[],e=0;e<c.length;e++)d[e]=c[e].Ea();a.j[b]=c;return _.F(a,b,d)};ll=null;ml=/^[\\w+/_-]+[=]{0,2}$/;nl=function(a){return(a=a.querySelector&&a.querySelector(\"script[nonce]\"))&&(a=a.nonce||a.getAttribute(\"nonce\"))&&ml.test(a)?a:\"\"};_.ol=function(a){if(a&&a!=_.p)return nl(a.document);null===ll&&(ll=nl(_.p.document));return ll};pl=function(a){var b=b||0;return function(){return a.apply(this,Array.prototype.slice.call(arguments,0,b))}};\n",
      "_.ql=function(a,b){a.src=_.Hd(b);(b=_.ol(a.ownerDocument&&a.ownerDocument.defaultView))&&a.setAttribute(\"nonce\",b)};rl=function(a,b){return a+Math.random()*(b-a)};sl=[2];tl=function(a){_.z(this,a,0,-1,sl,null)};_.v(tl,_.y);var ul=[1,2,3,4],vl=function(a){_.z(this,a,0,-1,ul,null)};_.v(vl,_.y);\n",
      "wl=function(a){if(!a)return\"\";a=a.split(\"#\")[0].split(\"?\")[0];a=a.toLowerCase();0==a.indexOf(\"//\")&&(a=window.location.protocol+a);/^[\\w\\-]*:\\/\\//.test(a)||(a=window.location.href);var b=a.substring(a.indexOf(\"://\")+3),c=b.indexOf(\"/\");-1!=c&&(b=b.substring(0,c));a=a.substring(0,a.indexOf(\"://\"));if(\"http\"!==a&&\"https\"!==a&&\"chrome-extension\"!==a&&\"moz-extension\"!==a&&\"file\"!==a&&\"android-app\"!==a&&\"chrome-search\"!==a&&\"chrome-untrusted\"!==a&&\"chrome\"!==a&&\"app\"!==a&&\"devtools\"!==a)throw Error(\"r`\"+\n",
      "a);c=\"\";var d=b.indexOf(\":\");if(-1!=d){var e=b.substring(d+1);b=b.substring(0,d);if(\"http\"===a&&\"80\"!==e||\"https\"===a&&\"443\"!==e)c=\":\"+e}return a+\"://\"+b+c};\n",
      "xl=function(){function a(){e[0]=1732584193;e[1]=4023233417;e[2]=2562383102;e[3]=271733878;e[4]=3285377520;q=m=0}function b(t){for(var D=g,E=0;64>E;E+=4)D[E/4]=t[E]<<24|t[E+1]<<16|t[E+2]<<8|t[E+3];for(E=16;80>E;E++)t=D[E-3]^D[E-8]^D[E-14]^D[E-16],D[E]=(t<<1|t>>>31)&4294967295;t=e[0];var K=e[1],H=e[2],ia=e[3],fd=e[4];for(E=0;80>E;E++){if(40>E)if(20>E){var ya=ia^K&(H^ia);var gd=1518500249}else ya=K^H^ia,gd=1859775393;else 60>E?(ya=K&H|ia&(K|H),gd=2400959708):(ya=K^H^ia,gd=3395469782);ya=((t<<5|t>>>27)&\n",
      "4294967295)+ya+fd+gd+D[E]&4294967295;fd=ia;ia=H;H=(K<<30|K>>>2)&4294967295;K=t;t=ya}e[0]=e[0]+t&4294967295;e[1]=e[1]+K&4294967295;e[2]=e[2]+H&4294967295;e[3]=e[3]+ia&4294967295;e[4]=e[4]+fd&4294967295}function c(t,D){if(\"string\"===typeof t){t=unescape(encodeURIComponent(t));for(var E=[],K=0,H=t.length;K<H;++K)E.push(t.charCodeAt(K));t=E}D||(D=t.length);E=0;if(0==m)for(;E+64<D;)b(t.slice(E,E+64)),E+=64,q+=64;for(;E<D;)if(f[m++]=t[E++],q++,64==m)for(m=0,b(f);E+64<D;)b(t.slice(E,E+64)),E+=64,q+=64}function d(){var t=\n",
      "[],D=8*q;56>m?c(k,56-m):c(k,64-(m-56));for(var E=63;56<=E;E--)f[E]=D&255,D>>>=8;b(f);for(E=D=0;5>E;E++)for(var K=24;0<=K;K-=8)t[D++]=e[E]>>K&255;return t}for(var e=[],f=[],g=[],k=[128],l=1;64>l;++l)k[l]=0;var m,q;a();return{reset:a,update:c,digest:d,ri:function(){for(var t=d(),D=\"\",E=0;E<t.length;E++)D+=\"0123456789ABCDEF\".charAt(Math.floor(t[E]/16))+\"0123456789ABCDEF\".charAt(t[E]%16);return D}}};yl=function(a){var b=xl();b.update(a);return b.ri().toLowerCase()};\n",
      "zl=function(a,b,c){var d=[],e=[];if(1==(Array.isArray(c)?2:1))return e=[b,a],_.Ka(d,function(k){e.push(k)}),yl(e.join(\" \"));var f=[],g=[];_.Ka(c,function(k){g.push(k.key);f.push(k.value)});c=Math.floor((new Date).getTime()/1E3);e=0==f.length?[c,b,a]:[f.join(\":\"),c,b,a];_.Ka(d,function(k){e.push(k)});a=yl(e.join(\" \"));a=[c,a];0==g.length||a.push(g.join(\"\"));return a.join(\"_\")};\n",
      "_.Al=function(a){var b=wl(String(_.p.location.href)),c;(c=_.p.__SAPISID||_.p.__APISID||_.p.__OVERRIDE_SID)?c=!0:(c=new _.Vd(document),c=c.get(\"SAPISID\")||c.get(\"APISID\")||c.get(\"__Secure-3PAPISID\")||c.get(\"SID\"),c=!!c);if(c&&(c=(b=0==b.indexOf(\"https:\")||0==b.indexOf(\"chrome-extension:\")||0==b.indexOf(\"moz-extension:\"))?_.p.__SAPISID:_.p.__APISID,c||(c=new _.Vd(document),c=c.get(b?\"SAPISID\":\"APISID\")||c.get(\"__Secure-3PAPISID\")),c)){b=b?\"SAPISIDHASH\":\"APISIDHASH\";var d=String(_.p.location.href);return d&&\n",
      "c&&b?[b,zl(wl(d),c,a||null)].join(\" \"):null}return null};Bl=function(a,b){if(!b)return a;var c=a.indexOf(\"#\");0>c&&(c=a.length);var d=a.indexOf(\"?\");if(0>d||d>c){d=c;var e=\"\"}else e=a.substring(d+1,c);a=[a.substr(0,d),e,a.substr(c)];c=a[1];a[1]=b?c?c+\"&\"+b:b:c;return a[0]+(a[1]?\"?\"+a[1]:\"\")+a[2]};_.Cl=function(a,b,c){if(Array.isArray(b))for(var d=0;d<b.length;d++)_.Cl(a,String(b[d]),c);else null!=b&&c.push(a+(\"\"===b?\"\":\"=\"+_.Ld(b)))};\n",
      "Dl=function(a,b){var c=[];for(b=b||0;b<a.length;b+=2)_.Cl(a[b],a[b+1],c);return c.join(\"&\")};El=function(a,b){var c=2==arguments.length?Dl(arguments[1],0):Dl(arguments,1);return Bl(a,c)};_.Fl=function(a,b,c){c=null!=c?\"=\"+_.Ld(c):\"\";return Bl(a,b+c)};_.Gl=function(a,b,c,d){for(var e=c.length;0<=(b=a.indexOf(c,b))&&b<d;){var f=a.charCodeAt(b-1);if(38==f||63==f)if(f=a.charCodeAt(b+e),!f||61==f||38==f||35==f)return b;b+=e+1}return-1};_.Hl=/#|$/;Il=/[?&]($|#)/;\n",
      "_.Jl=function(a,b){for(var c=a.search(_.Hl),d=0,e,f=[];0<=(e=_.Gl(a,d,b,c));)f.push(a.substring(d,e)),d=Math.min(a.indexOf(\"&\",e)+1||c,c);f.push(a.substr(d));return f.join(\"\").replace(Il,\"$1\")};Kl=function(a){_.z(this,a,0,-1,null,null)};_.v(Kl,_.y);var Ll=function(){return\"xxxxxxxx-xxxx-4xxx-yxxx-xxxxxxxxxxxx\".replace(/[xy]/g,function(a){var b=16*Math.random()|0;return(\"x\"==a?b:b&3|8).toString(16)})},Ml=function(a){this.o=this.j=this.A=a};Ml.prototype.reset=function(){this.o=this.j=this.A};\n",
      "var Nl=function(a,b,c){_.Rf(a.url,function(d){d=d.target;d.jc()?b(d.Ad()):c(d.jb())},a.hf,a.body,a.Jk,a.Xk,a.withCredentials)},Ol=function(a){_.z(this,a,0,-1,null,null)};_.v(Ol,_.y);Ol.prototype.uc=function(a){return _.F(this,5,a)};var Pl=function(a){_.z(this,a,0,-1,null,null)};_.v(Pl,_.y);var Ql=[3,20,27],Rl=function(a){_.z(this,a,0,31,Ql,null)};_.v(Rl,_.y);var Sl=[3,5],Tl=function(a){_.z(this,a,0,17,Sl,null)};_.v(Tl,_.y);\n",
      "var Ul=function(a,b){return _.kl(a,3,b)},Vl=function(a,b){return _.F(a,14,b)},Wl=[5],Xl=function(a){_.z(this,a,0,6,Wl,null)};_.v(Xl,_.y);var Yl=function(){this.type=\"event-logged\"};_.v(Yl,_.Ue);\n",
      "var $l=function(a,b,c,d,e,f,g,k,l,m,q){_.P.call(this);this.ga=a;this.X=b||_.za;this.C=new Tl;this.ca=d;this.Y=q;this.j=[];this.W=\"\";this.ea=_.nd(rl,0,1);this.H=e||null;this.F=c||null;this.J=g||!1;this.N=l||null;this.Z=!1;this.ba=this.O=-1;this.R=!1;this.A=null;this.da=!k;this.M=0;this.ja=1;this.T=f||!1;this.P=!1;(a=!this.T)&&!(a=_.lc&&_.cc(65)||_.hc&&_.cc(45)||_.mc&&_.cc(12))&&(a=_.Eb())&&(a=_.ob,b=\"\",_.w(\"Windows\")?(b=/Windows (?:NT|Phone) ([0-9.]+)/,b=(a=b.exec(a))?a[1]:\"0.0\"):_.Eb()?(b=/(?:iPhone|iPod|iPad|CPU)\\s+OS\\s+(\\S+)/,\n",
      "b=(a=b.exec(a))&&a[1].replace(/_/g,\".\")):_.w(\"Macintosh\")?(b=/Mac OS X ([0-9_.]+)/,b=(a=b.exec(a))?a[1].replace(/_/g,\".\"):\"10\"):-1!=_.ob.toLowerCase().indexOf(\"kaios\")?(b=/(?:KaiOS)\\/(\\S+)/i,b=(a=b.exec(a))&&a[1]):_.w(\"Android\")?(b=/Android\\s+([^\\);]+)(\\)|;)/,b=(a=b.exec(a))&&a[1]):_.w(\"CrOS\")&&(b=/(?:CrOS\\s+(?:i686|x86_64)\\s+([0-9.]+))/,b=(a=b.exec(a))&&a[1]),a=0<=_.eb(b||\"\",12));this.$=a&&!!_.Td()&&!!_.Td().navigator&&!!_.Td().navigator.sendBeacon;a=new Pl;a=_.F(a,1,1);f||(f=(new Ol).uc(document.documentElement.getAttribute(\"lang\")),\n",
      "_.N(a,11,f));_.N(this.C,1,a);_.F(this.C,2,this.ga);this.B=new Ml(1E4);this.o=new _.Jf(this.B.j);_.vd(this,this.o);_.O(this.o,\"tick\",pl(Zl(this,m)),!1,this);this.G=new _.Jf(6E5);_.vd(this,this.G);_.O(this.G,\"tick\",pl(Zl(this,m)),!1,this);this.J||this.G.start();this.T||(_.O(_.Td(),\"beforeunload\",this.D,!1,this),_.O(_.Td(),\"unload\",this.D,!1,this),_.O(document,\"pagehide\",this.D,!1,this))};_.v($l,_.P);var Zl=function(a,b){return b?function(){b().then(a.flush.bind(a))}:a.flush};\n",
      "$l.prototype.S=function(){this.D();$l.V.S.call(this)};var am=function(a){a.H||(a.H=.01>a.ea()?\"https://www.google.com/log?format=json&hasfast=true\":\"https://play.google.com/log?format=json&hasfast=true\");return a.H};$l.prototype.Ya=function(a){if(a instanceof Rl)this.log(a);else{var b=new Rl;a=a.o();b=_.F(b,8,a);this.log(b)}};var bm=function(a,b){a.B=new Ml(1>b?1:b);_.Kf(a.o,a.B.j)};\n",
      "$l.prototype.log=function(a){a=_.hl(a);var b=this.ja++;_.F(a,21,b);_.A(a,1)||_.F(a,1,Date.now().toString());_.el(a,15)||_.F(a,15,60*(new Date).getTimezoneOffset());this.A&&(b=_.hl(this.A),_.N(a,16,b));for(;1E3<=this.j.length;)this.j.shift(),++this.M;this.j.push(a);this.dispatchEvent(new Yl(a));this.J||this.o.o||this.o.start()};\n",
      "$l.prototype.flush=function(a,b){if(0==this.j.length)a&&a();else if(this.P)cm(this);else{var c=_.yd();if(this.ba>c&&this.O<c)b&&b(\"throttled\");else{var d=Vl(Ul(_.F(_.hl(this.C),4,_.yd().toString()),this.j),this.M);c={};var e=this.X();e&&(c.Authorization=e);var f=am(this);this.F&&(c[\"X-Goog-AuthUser\"]=this.F,f=_.Fl(f,\"authuser\",this.F));this.N&&(c[\"X-Goog-PageId\"]=this.N,f=_.Fl(f,\"pageId\",this.N));if(e&&this.W==e)b&&b(\"stale-auth-token\");else{this.j=[];this.o.o&&this.o.stop();this.M=0;var g=d.o();\n",
      "c={url:f,body:g,Yl:1,Jk:c,hf:\"POST\",withCredentials:this.da,Xk:0};f=(0,_.r)(function(k){this.B.reset();_.Kf(this.o,this.B.j);if(k){try{var l=JSON.parse(k.replace(\")]}'\\n\",\"\"));var m=new Xl(l)}catch(q){}m&&(k=_.C(m,1,\"-1\"),k=Number(k),0<k&&(this.O=_.yd(),this.ba=this.O+k),_.sc(m),m.j||(m.j={}),_.Zf.o()?(!m.j[175237375]&&m.B[175237375]&&(m.j[175237375]=new _.Zf.j(m.B[175237375])),m=m.j[175237375]):m=m.B[175237375],m&&(m=_.C(m,1,-1),-1!=m&&(this.R||bm(this,m))))}a&&a()},this);g=(0,_.r)(function(k){var l=\n",
      "_.fl(d,Rl,3),m=this.B;m.o=Math.min(3E5,2*m.o);m.j=Math.min(3E5,m.o+Math.round(.2*(Math.random()-.5)*m.o));_.Kf(this.o,this.B.j);401==k&&e&&(this.W=e);if(500<=k&&600>k||401==k||0==k)this.j=l.concat(this.j),this.J||this.o.o||this.o.start();b&&b(\"net-send-failed\",k)},this);this.Y?this.Y.send(c,f,g):this.ca(c,f,g)}}}};$l.prototype.D=function(){this.Z&&cm(this);this.flush()};\n",
      "var cm=function(a){dm(a,function(b,c){b=_.Fl(b,\"format\",\"json\");b=_.Td().navigator.sendBeacon(b,c.o());a.P&&!b&&(a.P=!1);return b})},dm=function(a,b){if(0!=a.j.length){var c=_.Jl(am(a),\"format\");c=El(c,\"auth\",a.X(),\"authuser\",a.F||\"0\");for(var d=0;10>d&&a.j.length;++d){var e=a.j.slice(0,32),f=Ul(_.F(_.hl(a.C),4,_.yd().toString()),e);if(!b(c,f))break;a.j=a.j.slice(e.length)}}},em=function(a,b,c,d,e,f,g){$l.call(this,a,_.Al,b,Nl,c,d,e,void 0,f,g)};_.n(em,$l);\n",
      "var fm=[1,61,116,117],gm=function(a,b){_.L.call(this);this.F=b;this.R=0;this.D=_.yc(_.rd(a,2,1E-4),.001);this.B=_.yc(_.rd(a,10,0),0);this.ba=_.J(_.A(a,21),\"\");this.$=_.yc(_.A(a,4),0);this.Y=_.yc(_.A(a,5),-1);this.W=_.J(_.A(a,7),\"\");this.O=_.J(_.A(a,6),\"\");this.N=_.J(_.A(a,8),\"\");this.J=_.A(a,9);this.Z=!!_.B(a,11);this.P=!!_.B(a,12);this.H=!!_.B(a,15);this.X=_.B(a,22);this.T=_.B(a,23);this.G=!!_.B(a,16);this.o=_.el(a,17)?_.A(a,17).split(\",\"):[];var c=Math.random();this.C=_.I(_.B(a,1))&&c<this.D;this.A=\n",
      "_.I(_.B(a,1))&&c<this.B;this.M=\"og-\"+Ll();if(this.C||this.A){a=this.j=new em(373,_.J(_.A(b,5)));a.R=!0;bm(a,1E3);a=this.j;a.Z=a.$;if(0!=this.o.length){a=new vl;for(b=0;b<this.o.length;b++)c=Number(this.o[b]),isNaN(c)||0==c||_.Qd(a,3,c);b=this.j;a?(b.A||(b.A=new tl),a=a.o(),_.F(b.A,4,a)):b.A&&_.F(b.A,4,void 0)}_.vd(this,this.j)}};_.n(gm,_.L);\n",
      "gm.prototype.log=function(a,b){var c=!_.ld(fm,a);if(c?this.C:this.A){b=(void 0===b?null:b)||new _.Se;_.F(b,1,a);var d=++this.R;_.F(b,38,d);_.F(b,2,this.$);_.F(b,4,c?this.D:this.B);_.F(b,6,this.ba);_.F(b,3,this.Y);this.T&&_.F(b,52,!0);_.F(b,11,this.O);_.F(b,10,this.W);_.F(b,5,this.N);window.performance&&window.performance.timing&&(c=(new Date).getTime()-window.performance.timing.navigationStart,_.F(b,14,c));_.F(b,13,this.J);_.F(b,16,this.Z);_.F(b,17,this.P);_.F(b,19,this.M);c=0;_.B(this.F,1)&&(c|=\n",
      "1);_.B(this.F,3)&&(c|=4);_.F(b,12,c);_.F(b,25,this.H);_.F(b,26,this.G);1===a&&_.F(b,51,this.X);a=new Rl;b=b.o();_.F(a,8,b);this.j.log(a)}};_.hm=function(a,b,c,d,e){_.eg.call(this,a,b);_.Ra(this.data,{jexpid:_.J(_.A(a,9)),srcpg:\"prop=\"+_.J(_.A(a,6)),jsr:Math.round(1/d),emsg:c.name+\":\"+c.message});if(e){e._sn&&(e._sn=\"og.\"+e._sn);for(var f in e)this.data[encodeURIComponent(f)]=e[f]}};_.n(_.hm,_.eg);\n",
      "var im=function(a,b,c){this.o=_.Bc;this.D=b;this.F=c;this.B=_.yc(_.rd(a,2,.001),.001);this.G=_.I(_.B(a,1))&&Math.random()<this.B;this.C=_.yc(_.C(a,3,1),1);this.A=0;this.j=null;this.H=_.I(_.qd(a,4,!0),!0)};\n",
      "im.prototype.log=function(a,b){if(this.j){var c=new Kl;_.F(c,1,a.message);_.F(c,2,a.stack);_.F(c,3,a.lineNumber);_.F(c,5,1);var d=new _.Se;_.N(d,40,c);this.j.log(98,d)}try{if(this.o||this.G&&this.A<this.C){try{var e=_.Ec(_.Dc.U(),\"lm\").j(a,b)}catch(f){e=new _.hm(this.D,this.F,a,this.B,b)}b=e;this.o?b.j():_.ag(b);this.A++}}catch(f){}if(this.o&&this.H)throw a;};jm=null;_.km=function(){if(!jm){var a=_.G(_.M(),_.il,13)||new _.il,b=_.Mc(),c=_.xd();jm=new im(a,b,c)}return jm};\n",
      "_.Cc=function(a,b){_.km().log(a,b)};\n",
      "var lm;lm=null;_.mm=function(){var a=_.G(_.M(),jl,29)||new jl,b=_.Sd();if(lm)return lm;lm=a=new gm(a,b);return _.km().j=a};\n",
      "var nm;nm=function(){this.o=!1;this.j=[]};_.pm=function(a){var b=_.om;b.o?a():b.j.push(a)};nm.prototype.A=function(a){if(!this.o){this.o=!0;_.mm().log(1);for(var b=0;b<this.j.length;b++)try{this.j[b]()}catch(c){a(c)}this.j=null;try{_.Rd(\"api\").Ya()}catch(c){}}};_.om=new nm;\n",
      "\n",
      "}catch(e){_._DumpException(e)}\n",
      "try{\n",
      "var Mq,Nq;_.Lq=function(a,b,c){return function(){try{return b.apply(c,arguments)}catch(d){a.log(d)}}};Mq=function(){_.L.call(this);this.j=new _.fg};_.n(Mq,_.L);Mq.prototype.K=function(a,b,c,d,e){(e||this.j).A(a,Nq,b,c,d)};Mq.prototype.qa=function(a,b,c,d,e){(e||this.j).qa(a,Nq,b,c,d)};Mq.prototype.S=function(){this.j.ia();_.L.prototype.S.call(this)};_.Oq=new Mq;Nq=[\"click\",\"keydown\",\"mousedown\",\"touchstart\"];\n",
      "/*\n",
      " Portions of this code are from MochiKit, received by\n",
      " The Closure Authors under the MIT license. All other code is Copyright\n",
      " 2005-2009 The Closure Authors. All Rights Reserved.\n",
      "*/\n",
      "_.Pq=function(a,b){this.F=[];this.O=a;this.N=b||null;this.D=this.A=!1;this.C=void 0;this.Oa=this.P=this.H=!1;this.G=0;this.B=null;this.J=0};_.Pq.prototype.cancel=function(a){if(this.A)this.C instanceof _.Pq&&this.C.cancel();else{if(this.B){var b=this.B;delete this.B;a?b.cancel(a):(b.J--,0>=b.J&&b.cancel())}this.O?this.O.call(this.N,this):this.Oa=!0;this.A||this.o(new Qq(this))}};_.Pq.prototype.M=function(a,b){this.H=!1;Rq(this,a,b)};\n",
      "var Rq=function(a,b,c){a.A=!0;a.C=c;a.D=!b;Sq(a)},Uq=function(a){if(a.A){if(!a.Oa)throw new Tq(a);a.Oa=!1}};_.Pq.prototype.j=function(a){Uq(this);Rq(this,!0,a)};_.Pq.prototype.o=function(a){Uq(this);Rq(this,!1,a)};_.Pq.prototype.addCallback=function(a,b){return _.Vq(this,a,null,b)};_.Vq=function(a,b,c,d){a.F.push([b,c,d]);a.A&&Sq(a);return a};_.Pq.prototype.then=function(a,b,c){var d,e,f=new _.ne(function(g,k){d=g;e=k});_.Vq(this,d,function(g){g instanceof Qq?f.cancel():e(g)});return f.then(a,b,c)};\n",
      "_.Pq.prototype.$goog_Thenable=!0;_.Pq.prototype.isError=function(a){return a instanceof Error};\n",
      "var Wq=function(a){return _.Oa(a.F,function(b){return\"function\"===typeof b[1]})},Sq=function(a){if(a.G&&a.A&&Wq(a)){var b=a.G,c=Xq[b];c&&(_.p.clearTimeout(c.fa),delete Xq[b]);a.G=0}a.B&&(a.B.J--,delete a.B);b=a.C;for(var d=c=!1;a.F.length&&!a.H;){var e=a.F.shift(),f=e[0],g=e[1];e=e[2];if(f=a.D?g:f)try{var k=f.call(e||a.N,b);void 0!==k&&(a.D=a.D&&(k==b||a.isError(k)),a.C=b=k);if(_.le(b)||\"function\"===typeof _.p.Promise&&b instanceof _.p.Promise)d=!0,a.H=!0}catch(l){b=l,a.D=!0,Wq(a)||(c=!0)}}a.C=b;\n",
      "d&&(k=(0,_.r)(a.M,a,!0),d=(0,_.r)(a.M,a,!1),b instanceof _.Pq?(_.Vq(b,k,d),b.P=!0):b.then(k,d));c&&(b=new Yq(b),Xq[b.fa]=b,a.G=b.fa)},Tq=function(){_.aa.call(this)};_.v(Tq,_.aa);Tq.prototype.message=\"Deferred has already fired\";Tq.prototype.name=\"AlreadyCalledError\";var Qq=function(){_.aa.call(this)};_.v(Qq,_.aa);Qq.prototype.message=\"Deferred was canceled\";Qq.prototype.name=\"CanceledError\";var Yq=function(a){this.fa=_.p.setTimeout((0,_.r)(this.o,this),0);this.j=a};\n",
      "Yq.prototype.o=function(){delete Xq[this.fa];throw this.j;};var Xq={};\n",
      "/*\n",
      "\n",
      " Copyright The Closure Library Authors.\n",
      " SPDX-License-Identifier: Apache-2.0\n",
      "*/\n",
      "\n",
      "}catch(e){_._DumpException(e)}\n",
      "try{\n",
      "_.Zq=function(a){_.z(this,a,0,-1,null,null)};_.v(_.Zq,_.y);_.Zq.prototype.eb=function(){return _.A(this,6)};_.$q=function(a){_.z(this,a,0,-1,null,null)};_.v(_.$q,_.y);var ar=function(a){var b=arguments,c=b.length;return function(){for(var d=0;d<c;d++)if(b[d].apply(this,arguments))return!0;return!1}},br=function(a){return function(){return!a.apply(this,arguments)}},cr=function(a,b){return null!==a&&b in a};\n",
      "_.dr=function(a,b,c,d,e){_.L.call(this);this.B=b;this.W=d;this.F=e;this.H=!1;this.A={};this.o={};this.T=[];this.C=[];this.M=_.B(a,1)?\"http\":\"https\";this.X=[this.M+\"://\"+_.J(_.A(a,2)),\"og/_/js\",\"k=\"+_.J(_.A(a,3)),\"rt=j\"];this.J=\"\"==_.J(_.A(a,14))?null:_.A(a,14);this.P=[this.M+\"://\"+_.J(_.A(a,2)),\"og/_/ss\",\"k=\"+_.J(_.A(a,13))];this.G=\"\"==_.J(_.A(a,15))?null:_.A(a,15);this.N=_.I(_.B(a,1))?\"?host=www.gstatic.com&bust=\"+_.J(_.A(a,16)):\"\";this.O=_.I(_.B(a,1))?\"?host=www.gstatic.com&bust=\"+1E11*Math.random():\n",
      "\"\";this.j=_.yc(_.C(a,17,1),1);a=0;for(b=c[a];a<c.length;a++,b=c[a])this.A[b]=!0,this.o[b]=!0};_.n(_.dr,_.L);_.fr=function(a,b,c){b=_.La(b,br(ar(_.Jd,_.nd(cr,a.A))));if(0<b.length){var d=a.X.join(\"/\")+\"/m=\"+b.join(\",\")+\"/exm=\"+_.Ad(a.A).join(\",\")+\"/d=1/ed=1\";a.J&&(d+=\"/rs=\"+a.J);d+=a.N;er(a,d,(0,_.r)(a.R,a,c));a.T.push(d);for(c=0;c<b.length;c++)a.A[b[c]]=!0}};_.dr.prototype.R=function(a){for(var b=0;b<this.C.length;b++)this.C[b].call(null);a&&a.call(null)};\n",
      "var er=function(a,b,c,d){var e=_.Ud(\"SCRIPT\");e.async=!0;e.type=\"text/javascript\";e.charset=\"UTF-8\";_.ql(e,_.Id(b));var f=!0,g=d||1;d=(0,_.r)(function(){f=!1;this.F.log(47,{att:g,max:this.j,url:b});g<this.j?er(this,b,c,g+1):this.W.log(Error(\"ra`\"+g+\"`\"+this.j),{url:b})},a);var k=(0,_.r)(function(){f&&(this.F.log(46,{att:g,max:this.j,url:b}),f=!1,c&&c.call(null))},a),l=function(m){\"loaded\"==m.readyState||\"complete\"==m.readyState?k():f&&window.setTimeout(function(){l(m)},100)};\"undefined\"!==typeof e.addEventListener?\n",
      "e.onload=function(){k()}:e.onreadystatechange=function(){e.onreadystatechange=null;l(e)};e.onerror=d;a.F.log(45,{att:g,max:a.j,url:b});_.Dg(\"HEAD\")[0].appendChild(e)};_.dr.prototype.Pd=function(a,b){a=_.La(a,br(ar(_.Jd,_.nd(cr,this.o))));if(0<a.length){var c=this.P.join(\"/\")+\"/m=\"+a.join(\",\")+\"/excm=\"+_.Ad(this.o).join(\",\")+\"/d=1/ed=1/ct=zgms\";this.G&&(c+=\"/rs=\"+this.G);gr(c+this.O,b);for(b=0;b<a.length;b++)this.o[a[b]]=!0}};\n",
      "var gr=function(a,b){var c=_.Ud(\"LINK\");c.setAttribute(\"rel\",\"stylesheet\");c.setAttribute(\"type\",\"text/css\");c.setAttribute(\"href\",a);c.onload=c.onreadystatechange=function(){c.readyState&&\"loaded\"!=c.readyState&&\"complete\"!=c.readyState||b&&b.call(null)};_.Dg(\"HEAD\")[0].appendChild(c)};\n",
      "_.dr.prototype.D=function(a,b){if(!this.H)if(void 0!=b)window.setTimeout((0,_.r)(this.D,this,a,void 0),b);else{_.fr(this,_.A(this.B,1),a);a=_.A(this.B,2);if(_.B(this.B,3)){var c=(0,_.r)(this.Pd,this,a);a=function(){c()};\"undefined\"!==typeof window.addEventListener?window.addEventListener(\"load\",a):window.attachEvent(\"onload\",a)}else this.Pd(a);this.H=!0}};_.Gc(_.dr,\"m\");\n",
      "\n",
      "}catch(e){_._DumpException(e)}\n",
      "try{\n",
      "var hr=function(a){_.z(this,a,0,-1,null,null)},or,qr;_.v(hr,_.y);\n",
      "var ir=[1,2,3,4,5,6,9,10,11,13,14,28,29,30,34,35,37,38,39,40,42,43,48,49,50,51,52,53,62,500],jr=function(a){a=String(a);return a.replace(\".\",\"%2E\").replace(\",\",\"%2C\")},kr=null,lr=function(a){if(!kr){kr={};for(var b=0;b<ir.length;b++)kr[ir[b]]=!0}return!!kr[a]},mr=function(a,b,c,d,e,f){_.eg.call(this,a,b);_.Ra(this.data,{oge:d,ogex:_.J(_.A(a,9)),ogp:_.J(_.A(a,6)),ogsr:Math.round(1/(lr(d)?_.yc(_.rd(c,3,1)):_.yc(_.rd(c,2,1E-4)))),ogus:e});if(f){\"ogw\"in f&&(this.data.ogw=f.ogw,delete f.ogw);\"ved\"in f&&\n",
      "(this.data.ved=f.ved,delete f.ved);a=[];for(var g in f)0!=a.length&&a.push(\",\"),a.push(jr(g)),a.push(\".\"),a.push(jr(f[g]));f=a.join(\"\");\"\"!=f&&(this.data.ogad=f)}};_.n(mr,_.eg);var nr=function(a,b,c,d){this.j=_.Bc;this.B=a;this.A=b;this.C=d;this.F=_.yc(_.rd(a,2,1E-4),1E-4);this.G=_.yc(_.rd(a,3,1),1);b=Math.random();this.D=_.I(_.B(a,1))&&b<this.F;this.o=_.I(_.B(a,1))&&b<this.G;a=0;_.I(_.B(c,1))&&(a|=1);_.I(_.B(c,2))&&(a|=2);_.I(_.B(c,3))&&(a|=4);this.H=a};\n",
      "nr.prototype.log=function(a,b){try{if(this.j||(lr(a)?this.o:this.D)){var c=new mr(this.A,this.C,this.B,a,this.H,b);this.j?c.j():_.ag(c)}}catch(d){}};or=null;_.pr=function(){if(!or){var a=_.G(_.M(),hr,12)||new hr,b=_.Mc(),c=_.Sd(),d=_.xd();or=new nr(a,b,c,d)}return or};qr={m:\"BackCompat\"==document.compatMode?\"q\":\"s\"};_.pr().log(8,qr);\n",
      "\n",
      "}catch(e){_._DumpException(e)}\n",
      "try{\n",
      "var rr=function(){_.om.A(_.Cc)},sr=function(a,b){var c=_.km();c=_.Lq(c,rr);a.addEventListener?a.addEventListener(b,c):a.attachEvent&&a.attachEvent(\"on\"+b,c)},tr=[1,2],ur=function(a){_.z(this,a,0,-1,tr,null)};_.v(ur,_.y);var vr=function(a,b){a.__PVT=b},wr=function(a,b){a.C.push(b)},xr=function(a){_.L.call(this);this.D=a;this.A=null;this.j={};this.C={};this.o={};this.B=null};_.n(xr,_.L);var yr=function(a){if(a.A)return a.A;for(var b in a.o)if(a.o[b].Oe()&&a.o[b].tb())return a.o[b];return null};\n",
      "_.h=xr.prototype;_.h.mf=function(a){a&&yr(this)&&a!=yr(this)&&yr(this).Ye(!1);this.A=a};_.h.ug=function(a){a=this.o[a]||a;return yr(this)==a};_.h.Gf=function(){yr(this)&&yr(this).Ye(!1);this.mf(null)};_.h.$h=function(a){yr(this)&&yr(this).lc()==a&&this.Gf()};_.h.Hc=function(a,b,c){this.j[a]=this.j[a]||{};this.j[a][b]=this.j[a][b]||[];this.j[a][b].push(c)};_.h.we=function(a,b){b=b.lc();if(this.j[a]&&this.j[a][b])for(var c=0;c<this.j[a][b].length;c++)try{this.j[a][b][c]()}catch(d){this.D.log(d)}};\n",
      "_.h.Sk=function(a,b){this.C[a]=b};_.h.Yh=function(a){return!this.C[a.lc()]};_.h.Fj=function(){return!!yr(this)&&yr(this).rg()};_.h.Vh=function(){return!!yr(this)};_.h.Eg=function(){yr(this)&&yr(this).Xe()};_.h.ck=function(a){this.B=a;for(var b in this.o)this.o[b].Oe()&&this.o[b].Rd(a)};_.h.Ze=function(a){this.o[a.lc()]=a};\n",
      "var zr=function(a){_.L.call(this);this.D=a;this.A=this.j=null;this.F=0;this.C={};this.o=!1;a=window.navigator.userAgent;0<=a.indexOf(\"MSIE\")&&0<=a.indexOf(\"Trident\")&&(a=/\\b(?:MSIE|rv)[: ]([^\\);]+)(\\)|;)/.exec(a))&&a[1]&&9>parseFloat(a[1])&&(this.o=!0)};_.n(zr,_.L);\n",
      "var Ar=function(a,b,c){if(!a.o)if(c instanceof Array){c=_.ka(c);for(var d=c.next();!d.done;d=c.next())Ar(a,b,d.value)}else{d=(0,_.r)(a.G,a,b);var e=a.F+c;a.F++;b.setAttribute(\"data-eqid\",e);a.C[e]=d;b&&b.addEventListener?b.addEventListener(c,d,!1):b&&b.attachEvent?b.attachEvent(\"on\"+c,d):a.D.log(Error(\"pa`\"+b))}};\n",
      "zr.prototype.B=function(a,b){if(this.o)return null;if(b instanceof Array){var c=null;b=_.ka(b);for(var d=b.next();!d.done;d=b.next())(d=this.B(a,d.value))&&(c=d);return c}c=null;this.j&&this.j.type==b&&this.A==a&&(c=this.j,this.j=null);if(d=a.getAttribute(\"data-eqid\"))a.removeAttribute(\"data-eqid\"),(d=this.C[d])?a.removeEventListener?a.removeEventListener(b,d,!1):a.detachEvent&&a.detachEvent(\"on\"+b,d):this.D.log(Error(\"qa`\"+a));return c};\n",
      "zr.prototype.G=function(a,b){this.j=b;this.A=a;b.preventDefault?b.preventDefault():b.returnValue=!1};var Br=function(){_.L.call(this);this.o=[];this.j=[]};_.n(Br,_.L);Br.prototype.A=function(a,b){this.o.push({sd:a,options:b})};\n",
      "Br.prototype.init=function(a,b,c){window.gapi={};var d=window.___jsl={};d.h=_.J(_.A(a,1));_.el(a,12)&&(d.dpo=_.I(_.B(a,12)));d.ms=_.J(_.A(a,2));d.m=_.J(_.A(a,3));d.l=[];_.A(b,1)&&(a=_.A(b,3))&&this.j.push(a);_.A(c,1)&&(c=_.A(c,2))&&this.j.push(c);_.u(\"gapi.load\",(0,_.r)(this.A,this));return this};\n",
      "(function(){var a;window.gbar&&window.gbar._LDD?a=window.gbar._LDD:a=[];var b=_.Sd();vr(window,_.J(_.A(b,8)));b=_.Mc();var c=_.km();a=new _.dr(b,_.G(_.M(),ur,17)||new ur,a,c,_.pr());_.Ic(\"m\",a);var d=function(){_.u(\"gbar.qm\",(0,_.r)(function(e){try{e()}catch(f){c.log(f)}},this));_.Rd(\"api\").Ya()};_.I(_.B(b,18),!0)?a.D(d):(b=_.yc(_.A(b,19),200),b=(0,_.r)(a.D,a,d,b),_.pm(b))})();sr(document,\"DOMContentLoaded\");sr(window,\"load\");\n",
      "_.u(\"gbar.ldb\",_.r(_.om.A,_.om,_.Cc));\n",
      "_.u(\"gbar.mls\",function(){});\n",
      "_.Ic(\"eq\",new zr(_.km()));\n",
      "_.Ic(\"gs\",(new Br).init(_.wd(),_.G(_.M(),_.$q,5)||new _.$q,_.G(_.M(),_.Zq,6)||new _.Zq));\n",
      "(function(){for(var a=function(e){return function(){var f={n:e};_.pr().log(44,f)}},b=0;b<_.Yc.length;b++){var c=\"gbar.\"+_.Yc[b];_.u(c,a(c))}var d=_.Dc.U();_.Ec(d,\"api\").Ya();wr(_.Ec(d,\"m\"),function(){_.Ec(d,\"api\").Ya()})})();\n",
      "var Cr=function(a){_.pm(function(){var b=document.querySelector(\".\"+a);b&&(b=b.querySelector(\".gb_D\"))&&Ar(_.Rd(\"eq\"),b,\"click\")})};\n",
      "var Dr=document.querySelector(\".gb_C\"),Er=/(\\s+|^)gb_ig(\\s+|$)/;Dr&&!Er.test(Dr.className)&&Cr(\"gb_C\");\n",
      "var Fr=new xr(_.km());_.Ic(\"dd\",Fr);_.u(\"gbar.close\",(0,_.r)(Fr.Gf,Fr));_.u(\"gbar.cls\",(0,_.r)(Fr.$h,Fr));_.u(\"gbar.abh\",(0,_.r)(Fr.Hc,Fr,0));_.u(\"gbar.adh\",(0,_.r)(Fr.Hc,Fr,1));_.u(\"gbar.ach\",(0,_.r)(Fr.Hc,Fr,2));_.u(\"gbar.aeh\",(0,_.r)(Fr.Sk,Fr));_.u(\"gbar.bsy\",(0,_.r)(Fr.Fj,Fr));_.u(\"gbar.op\",(0,_.r)(Fr.Vh,Fr));\n",
      "Cr(\"gb_Ra\");\n",
      "_.pm(function(){var a=document.querySelector(\".gb_tc\");a&&Ar(_.Rd(\"eq\"),a,\"click\")});\n",
      "_.u(\"gbar.qfgw\",(0,_.r)(document.getElementById,document,\"gbqfqw\"));_.u(\"gbar.qfgq\",(0,_.r)(document.getElementById,document,\"gbqfq\"));_.u(\"gbar.qfgf\",(0,_.r)(document.getElementById,document,\"gbqf\"));_.u(\"gbar.qfsb\",(0,_.r)(document.getElementById,document,\"gbqfb\"));\n",
      "\n",
      "}catch(e){_._DumpException(e)}\n",
      "})(this.gbar_);\n",
      "// Google Inc.\n",
      "</script><div class=\"gb_Ea\"></div><style>@-webkit-keyframes gb__a{0%{opacity:0}50%{opacity:1}}@keyframes gb__a{0%{opacity:0}50%{opacity:1}}.gb_Ea{display:none!important}.gb_Fa{visibility:hidden}.gb_e .gbqfi::before{left:-428px;top:0}.gb_Rb .gbqfb:focus .gbqfi{outline:1px dotted #fff}.gb_e .gb_C .gb_D::before,.gb_e.gb_E .gb_C .gb_D::before{left:-132px;top:-38px}.gb_e.gb_j .gb_C .gb_D::before{left:-463px;top:-35px}.gb_Rb .gb_K{position:relative}.gb_C .gb_D:hover,.gb_C .gb_D:focus{opacity:.85}.gb_j .gb_C .gb_D:hover,.gb_j .gb_C .gb_D:focus{opacity:1}@media (min-resolution:1.25dppx),(-webkit-min-device-pixel-ratio:1.25),(min-device-pixel-ratio:1.25){.gb_o .gb_r{background-image:url('https://ssl.gstatic.com/gb/images/p2_8e348e57.png')}}.gb_e .gb_tc .gb_vc::before{left:0;top:-35px}.gb_e.gb_j .gb_tc .gb_vc::before{left:-296px;top:0}.gb_e.gb_E .gb_tc .gb_vc::before{left:-97px;top:0}.gb_e .gb_ra{background-image:none!important}.gb_e .gb_wc{visibility:visible}.gb_Rb .gb_ve span{background:transparent}.gb_Nd{color:#ffffff;font-size:13px;font-weight:bold;height:25px;line-height:19px;padding-top:5px;padding-left:12px;position:relative;background-color:#4d90fe}.gb_Nd .gb_Od{color:#ffffff;cursor:default;font-size:22px;font-weight:normal;position:absolute;right:12px;top:5px}.gb_Nd .gb_rd,.gb_Nd .gb_pd{color:#ffffff;display:inline-block;font-size:11px;margin-left:16px;padding:0 8px;white-space:nowrap}.gb_Pd{background:none;background-image:-webkit-gradient(linear,left top,left bottom,from(rgba(0,0,0,0.16)),to(rgba(0,0,0,0.2)));background-image:-webkit-linear-gradient(top,rgba(0,0,0,0.16),rgba(0,0,0,0.2));background-image:linear-gradient(top,rgba(0,0,0,0.16),rgba(0,0,0,0.2));background-image:-webkit-linear-gradient(top,rgba(0,0,0,0.16),rgba(0,0,0,0.2));border-radius:2px;border:1px solid #dcdcdc;border:1px solid rgba(0,0,0,0.1);cursor:default!important;filter:progid:DXImageTransform.Microsoft.gradient(startColorstr=#160000ff,endColorstr=#220000ff);text-decoration:none!important;-webkit-border-radius:2px}.gb_Pd:hover{background:none;background-image:-webkit-gradient(linear,left top,left bottom,from(rgba(0,0,0,0.14)),to(rgba(0,0,0,0.2)));background-image:-webkit-linear-gradient(top,rgba(0,0,0,0.14),rgba(0,0,0,0.2));background-image:linear-gradient(top,rgba(0,0,0,0.14),rgba(0,0,0,0.2));background-image:-webkit-linear-gradient(top,rgba(0,0,0,0.14),rgba(0,0,0,0.2));border:1px solid rgba(0,0,0,0.2);box-shadow:0 1px 1px rgba(0,0,0,0.1);-webkit-box-shadow:0 1px 1px rgba(0,0,0,0.1);filter:progid:DXImageTransform.Microsoft.gradient(startColorstr=#14000000,endColorstr=#22000000)}.gb_Pd:active{box-shadow:inset 0 1px 2px rgba(0,0,0,0.3);-webkit-box-shadow:inset 0 1px 2px rgba(0,0,0,0.3)}.gb_fd.gb_gd{padding:0}.gb_gd .gb_F{background:#ffffff;border:solid 1px transparent;-webkit-border-radius:8px;border-radius:8px;-webkit-box-sizing:border-box;box-sizing:border-box;padding:16px;right:0;top:72px;-webkit-box-shadow:0 1px 2px 0 rgba(65,69,73,0.3),0 3px 6px 2px rgba(65,69,73,0.15);box-shadow:0 1px 2px 0 rgba(65,69,73,0.3),0 3px 6px 2px rgba(65,69,73,0.15)}.gb_gd .gb_F.gb_hd{right:60px;top:48px}.gb_gd .gb_F.gb_id{top:62px}a.gb_jd{color:#5f6368!important;font-size:22px;height:24px;opacity:1;padding:8px;position:absolute;right:8px;top:8px;text-decoration:none!important;width:24px}a.gb_jd:focus,a.gb_jd:active,a.gb_jd:focus:hover{background-color:#e8eaed;-webkit-border-radius:50%;border-radius:50%;outline:none}a.gb_jd:hover{background-color:#f1f3f4;-webkit-border-radius:50%;border-radius:50%;outline:none}svg.gb_kd{fill:#5f6368;opacity:1}.gb_ld{padding:0;white-space:normal;display:table}.gb_md{line-height:normal;font-family:Roboto,RobotoDraft,Helvetica,Arial,sans-serif}.gb_gd .gb_4:active{outline:none;-webkit-box-shadow:0 4px 5px rgba(0,0,0,.16);box-shadow:0 4px 5px rgba(0,0,0,.16)}.gb_0.gb_nd.gb_od{-webkit-border-radius:4px;border-radius:4px;-webkit-box-sizing:border-box;box-sizing:border-box;cursor:pointer;height:36px;font-family:Google Sans,Roboto,RobotoDraft,Helvetica,Arial,sans-serif;font-size:14px;font-weight:500;letter-spacing:.25px;line-height:16px;min-width:70px;outline:none;text-transform:none;-webkit-font-smoothing:antialiased}.gb_0.gb_pd.gb_od{-webkit-border-radius:4px;border-radius:4px;-webkit-box-sizing:border-box;box-sizing:border-box;cursor:pointer;height:36px;color:#5f6368;font-family:Google Sans,Roboto,RobotoDraft,Helvetica,Arial,sans-serif;font-size:14px;font-weight:500;letter-spacing:.25px;line-height:16px;min-width:70px;outline:none;padding:8px 6px;text-transform:none;-webkit-font-smoothing:antialiased}.gb_0.gb_nd.gb_od{background:white;border:1px solid #dadce0;color:#1a73e8;margin-top:21px;padding:9px 7px}.gb_0.gb_nd.gb_od:hover{background-color:rgba(26,115,232,0.04)}.gb_0.gb_nd.gb_od:focus,.gb_0.gb_nd.gb_od:focus:hover{background-color:rgba(26,115,232,0.12);border:solid 1px #1a73e8}.gb_0.gb_nd.gb_od:active{background-color:rgba(26,115,232,0.1);border-color:transparent}.gb_0.gb_pd:hover{background-color:#f8f9fa}.gb_0.gb_pd:focus,.gb_0.gb_pd:hover:focus{background-color:#f1f3f4;border-color:transparent}.gb_0.gb_pd:active{background-color:#f1f3f4;-webkit-box-shadow:0 1px 2px 0 rgba(60,64,67,0.3),0 1px 3px 1px rgba(60,64,67,0.15);box-shadow:0 1px 2px 0 rgba(60,64,67,0.3),0 1px 3px 1px rgba(60,64,67,0.15)}.gb_ed{color:#5f6368;font-family:Roboto,RobotoDraft,Helvetica,Arial,sans-serif;font-size:14px;letter-spacing:.25px;line-height:20px;margin:0;margin-bottom:5px}.gb_qd{text-align:right;font-size:14px;padding-bottom:0;white-space:nowrap}.gb_qd .gb_rd,.gb_qd .gb_sd{margin-left:12px;text-transform:none}a.gb_4.gb_rd:hover{background-color:#2b7de9;border-color:transparent;-webkit-box-shadow:0 1px 2px 0 rgba(66,133,244,0.3),0 1px 3px 1px rgba(66,133,244,0.15);box-shadow:0 1px 2px 0 rgba(66,133,244,0.3),0 1px 3px 1px rgba(66,133,244,0.15)}a.gb_4.gb_rd:focus,a.gb_4.gb_rd:hover:focus{background-color:#5094ed;border-color:transparent;-webkit-box-shadow:0 1px 2px 0 rgba(66,133,244,0.3),0 1px 3px 1px rgba(66,133,244,0.15);box-shadow:0 1px 2px 0 rgba(66,133,244,0.3),0 1px 3px 1px rgba(66,133,244,0.15)}a.gb_4.gb_rd:active{background-color:#63a0ef;-webkit-box-shadow:0 1px 2px 0 rgba(66,133,244,0.3),0 1px 3px 1px rgba(66,133,244,0.15);box-shadow:0 1px 2px 0 rgba(66,133,244,0.3),0 1px 3px 1px rgba(66,133,244,0.15)}.gb_qd .gb_od.gb_rd img{background-color:inherit;-webkit-border-radius:initial;border-radius:initial;height:18px;margin:0 8px 0 4px;vertical-align:text-top;width:18px}.gb_td .gb_ld .gb_ud .gb_od{border:2px solid transparent}.gb_ld .gb_ud .gb_od:focus:after,.gb_ld .gb_ud .gb_od:hover:after{background-color:transparent}.gb_md{background-color:#404040;color:#fff;padding:16px;position:absolute;top:36px;min-width:328px;max-width:650px;right:0;-webkit-border-radius:2px;border-radius:2px;-webkit-box-shadow:4px 4px 12px rgba(0,0,0,0.4);box-shadow:4px 4px 12px rgba(0,0,0,0.4)}.gb_md a,.gb_md a:visited{color:#5e97f6;text-decoration:none}.gb_vd{text-transform:uppercase}.gb_wd{padding-left:50px}.gb_xd{color:#3c4043;font-family:Google Sans,Roboto,RobotoDraft,Helvetica,Arial,sans-serif;font-size:16px;font-weight:500;letter-spacing:.1px;line-height:20px;margin:0;margin-bottom:12px}.gb_ed a.gb_zd{text-decoration:none;color:#5e97f6}.gb_ed a.gb_zd:visited{color:#5e97f6}.gb_ed a.gb_zd:hover,.gb_ed a.gb_zd:active{text-decoration:underline}.gb_Ad{position:absolute;background:transparent;top:-999px;z-index:-1;visibility:hidden;margin-top:1px;margin-left:1px}#gb .gb_gd{margin:0}.gb_gd .gb_7c{background:#4d90fe;border:2px solid transparent;-webkit-box-sizing:border-box;box-sizing:border-box;font-weight:500;margin-top:21px;min-width:70px;text-align:center;-webkit-font-smoothing:antialiased}.gb_gd a.gb_4{background:#1a73e8;-webkit-border-radius:4px;border-radius:4px;color:#ffffff;font-family:Google Sans,Roboto,RobotoDraft,Helvetica,Arial,sans-serif;font-size:14px;font-weight:500;letter-spacing:.25px;line-height:16px;padding:8px 22px;-webkit-font-smoothing:antialiased}.gb_gd a.gb_4.gb_Bd{background:#d93025}.gb_gd a.gb_4.gb_Bd:hover{background-color:#cc3127;-webkit-box-shadow:0 -1px 5px rgba(128,134,139,0.09),0 3px 5px rgba(128,134,139,0.06),0 1px 2px rgba(60,64,67,0.3),0 1px 3px rgba(60,64,67,0.15);box-shadow:0 -1px 5px rgba(128,134,139,0.09),0 3px 5px rgba(128,134,139,0.06),0 1px 2px rgba(60,64,67,0.3),0 1px 3px rgba(60,64,67,0.15)}.gb_gd a.gb_4.gb_Bd:focus,.gb_gd a.gb_4.gb_Bd:focus:hover{background-color:#b3332c;-webkit-box-shadow:none;box-shadow:none}.gb_gd a.gb_4.gb_Bd:active,.gb_gd a.gb_4.gb_Bd:focus:active{background-color:#a6342e;-webkit-box-shadow:0 -2px 8px rgba(128,134,139,0.09),0 4px 8px rgba(128,134,139,0.06),0 1px 2px rgba(60,64,67,0.3),0 2px 6px rgba(60,64,67,0.15);box-shadow:0 -2px 8px rgba(128,134,139,0.09),0 4px 8px rgba(128,134,139,0.06),0 1px 2px rgba(60,64,67,0.3),0 2px 6px rgba(60,64,67,0.15)}.gb_gd.gb_Cd a.gb_4{float:right}#gb .gb_gd a.gb_7c.gb_7c{color:#ffffff;cursor:pointer}.gb_gd .gb_7c:hover{background:#357ae8;border-color:#2f5bb7}.gb_Dd,.gb_ud{display:table-cell}.gb_Dd{vertical-align:middle}.gb_Dd img{height:48px;padding-left:4px;padding-right:20px;width:48px}.gb_ud{padding-left:13px;width:100%}.gb_gd .gb_ud{padding-top:4px;min-width:326px;padding-left:0;width:326px}.gb_gd.gb_Ed .gb_ud{min-width:254px;width:254px}.gb_gd.gb_Cd .gb_ud{padding-top:32px}.gb_Fd{display:block;display:inline-block;padding:1em 0 0 0;position:relative;width:100%}.gb_Hd{color:#ff0000;font-style:italic;margin:0;padding-left:46px}.gb_Fd .gb_Id{float:right;margin:-20px 0;width:-webkit-calc(100% - 46px);width:calc(100% - 46px)}.gb_Jd svg{fill:grey}.gb_Jd.gb_Kd svg{fill:#4285f4}.gb_Fd .gb_Id label:after{background-color:#4285f4}.gb_Jd{display:inline;float:right;margin-right:22px;position:relative;top:2px}.gb_4c{display:none}.gb_4c.gb_oa{display:block}.gb_5c{background-color:#fff;-webkit-box-shadow:0 1px 0 rgba(0,0,0,0.08);box-shadow:0 1px 0 rgba(0,0,0,0.08);color:#000;position:relative;z-index:986}.gb_6c{height:40px;padding:16px 24px;white-space:nowrap}.gb_5c .gb_7c{border:0;font-weight:500;font-size:14px;line-height:36px;min-width:32px;padding:0 16px;vertical-align:middle}.gb_5c .gb_7c:before{content:'';height:6px;left:0;position:absolute;top:-6px;width:100%}.gb_5c .gb_7c:after{bottom:-6px;content:'';height:6px;left:0;position:absolute;width:100%}.gb_5c .gb_7c+.gb_7c{margin-left:8px}.gb_8c{height:48px;padding:4px;margin:-8px 0 0 -8px}.gb_9c{font-family:Roboto,RobotoDraft,Helvetica,Arial,sans-serif;overflow:hidden;vertical-align:top}.gb_6c .gb_9c{display:inline-block;padding-left:8px;width:640px}.gb_ad{background-color:inherit}.gb_6c .gb_ad{display:inline-block;position:absolute;top:18px;right:24px}.gb_ad .gb_bd{height:1.5em;margin:-.25em 10px -.25em 0;vertical-align:text-top;width:1.5em}.gb_cd{line-height:20px;font-size:16px;font-weight:700;color:rgba(0,0,0,.87)}.gb_6c .gb_cd,.gb_6c .gb_dd{width:640px}.gb_dd .gb_ed,.gb_dd{line-height:20px;font-size:13px;font-weight:400;color:rgba(0,0,0,.54)}.gb_Rb .gb_3a{border:0;border-left:1px solid rgba(0,0,0,.2);border-top:1px solid rgba(0,0,0,.2);height:14px;width:14px;-webkit-transform:rotate(45deg);transform:rotate(45deg)}.gb_Rb .gb_2a{border:0;border-left:1px solid rgba(0,0,0,.2);border-top:1px solid rgba(0,0,0,.2);height:14px;width:14px;-webkit-transform:rotate(45deg);transform:rotate(45deg);border-color:#fff;background:#fff}.gb_e .gb_vg::before{clip:rect( 25px   235px   41px   219px );left:-197px;top:-3px}.gb_e .gb_vc.gb_wg{position:absolute}.gb_e .gb_wg::before{clip:rect( -0   210px   16px   194px );left:-164px;top:22px}.gb_e .gb_Ta .gb_vg::before{left:-189px}@media (min-resolution:1.25dppx),(-webkit-min-device-pixel-ratio:1.25),(min-device-pixel-ratio:1.25){.gb_e .gb_vg::before{clip:rect( 50px   470px   82px   438px )}.gb_e .gb_wg::before{clip:rect( -0   420px   32px   388px )}}.gb_e .gb_vc{background-image:none;overflow:hidden;position:relative}.gb_e .gb_vc::before{content:url('//ssl.gstatic.com/gb/images/i1_1967ca6a.png');position:absolute}@media (min-resolution:1.25dppx),(-webkit-min-device-pixel-ratio:1.25),(min-device-pixel-ratio:1.25){.gb_e .gb_vc::before{content:url('//ssl.gstatic.com/gb/images/i2_2ec824b0.png');-webkit-transform:scale(.5);transform:scale(.5);-webkit-transform-origin:0 0;transform-origin:0 0}}.gb_Rb a:focus{outline:1px dotted #fff!important}sentinel{}</style><script nonce=\"85l7VxQ9iEgIvpEFNOfcIw==\">(function(){var m=['AkxOpE','[\\x22psy-ab\\x22,\\x22gws-wiz\\x22,\\x22\\x22,\\x22\\x22,null,1,0,0,11,\\x22en\\x22,\\x22EnNQYU4IdUNtv4WPlnTzxp0aby8\\x22,\\x22\\x22,\\x22U2-2X-akBKKAtgWs5LmIBQ\\x22,0,\\x22en\\x22,null,null,null,0,null,3,5,null,0,-1,0,0,0,\\x22\\x22,-1,0,\\x22\\x22,0,null,null,1,null,0,null,null,0,0,0,1,0,0,8,-1,null,null,null,null,null,0.0,0,null,null,null,600,0,null,null,null,null,null,1,null,0,0,0,0.1,0,0,0,null,0,0,100,0,null,1.15,0,0,-1,null,0,0,null,0,0,0,9]\\n','AkxOpI','[null,null,1,30000,null,null,null,2,null,null,3,null,null,null,null,null,1,null,null,null,null,null,null,[29.5108608,-98.5694208]\\n,null,null,null,null,0,null,null,null,null,null,null,null,0,\\x221605791571\\x22,null,null,null,null,null,1,null,null,[\\x2286400000\\x22,\\x22604800000\\x22,2.0]\\n,null,1,21600000]\\n'];\n",
      "var a=m;window.W_jd=window.W_jd||{};for(var b=0;b<a.length;b+=2)window.W_jd[a[b]]=JSON.parse(a[b+1]);})();(function(){var s='/images/nav_logo299.png';\n",
      "var k=this||self,l=function(){},m=function(a){var b=typeof a;return\"object\"==b&&null!=a||\"function\"==b},aa=function(a,b){function e(){}e.prototype=b.prototype;a.l=b.prototype;a.prototype=new e;a.prototype.constructor=a;a.m=function(c,d,f){for(var g=Array(arguments.length-2),h=2;h<arguments.length;h++)g[h-2]=arguments[h];return b.prototype[d].apply(c,g)}};var ba=Array.prototype.indexOf?function(a,b){return Array.prototype.indexOf.call(a,b,void 0)}:function(a,b){if(\"string\"===typeof a)return\"string\"!==typeof b||1!=b.length?-1:a.indexOf(b,0);for(var e=0;e<a.length;e++)if(e in a&&a[e]===b)return e;return-1};var n=String.prototype.trim?function(a){return a.trim()}:function(a){return/^[\\s\\xa0]*([\\s\\S]*?)[\\s\\xa0]*$/.exec(a)[1]},p=function(a,b){return a<b?-1:a>b?1:0};var q;a:{var r=k.navigator;if(r){var t=r.userAgent;if(t){q=t;break a}}q=\"\"};var u=function(a){u[\" \"](a);return a};u[\" \"]=l;var ca=-1!=q.indexOf(\"Opera\"),v=-1!=q.indexOf(\"Trident\")||-1!=q.indexOf(\"MSIE\"),da=-1!=q.indexOf(\"Edge\"),w=-1!=q.indexOf(\"Gecko\")&&!(-1!=q.toLowerCase().indexOf(\"webkit\")&&-1==q.indexOf(\"Edge\"))&&!(-1!=q.indexOf(\"Trident\")||-1!=q.indexOf(\"MSIE\"))&&-1==q.indexOf(\"Edge\"),ea=-1!=q.toLowerCase().indexOf(\"webkit\")&&-1==q.indexOf(\"Edge\"),x=function(){var a=k.document;return a?a.documentMode:void 0},y;a:{var z=\"\",A=function(){var a=q;if(w)return/rv:([^\\);]+)(\\)|;)/.exec(a);if(da)return/Edge\\/([\\d\\.]+)/.exec(a);if(v)return/\\b(?:MSIE|rv)[:]([^\\);]+)(\\)|;)/.exec(a);if(ea)return/WebKit\\/(\\S+)/.exec(a);if(ca)return/(?:Version)[ \\/]?(\\S+)/.exec(a)}();A&&(z=A?A[1]:\"\");if(v){var B=x();if(null!=B&&B>parseFloat(z)){y=String(B);break a}}y=z}var C=y,D={},E;if(k.document&&v){var F=x();E=F?F:parseInt(C,10)||void 0}else E=void 0;var fa=E;var G;(G=!v)||(G=9<=Number(fa));var H=G,I;if(I=v){var J;if(Object.prototype.hasOwnProperty.call(D,\"9\"))J=D[\"9\"];else{for(var K=0,L=n(String(C)).split(\".\"),M=n(\"9\").split(\".\"),ha=Math.max(L.length,M.length),N=0;0==K&&N<ha;N++){var O=L[N]||\"\",P=M[N]||\"\";do{var Q=/(\\d*)(\\D*)(.*)/.exec(O)||[\"\",\"\",\"\",\"\"],R=/(\\d*)(\\D*)(.*)/.exec(P)||[\"\",\"\",\"\",\"\"];if(0==Q[0].length&&0==R[0].length)break;K=p(0==Q[1].length?0:parseInt(Q[1],10),0==R[1].length?0:parseInt(R[1],10))||p(0==Q[2].length,0==R[2].length)||p(Q[2],R[2]);O=Q[3];P=R[3]}while(0==K)}J=D[\"9\"]=0<=\n",
      "K}I=!J}var ia=I,ja=function(){if(!k.addEventListener||!Object.defineProperty)return!1;var a=!1,b=Object.defineProperty({},\"passive\",{get:function(){a=!0}});try{k.addEventListener(\"test\",l,b),k.removeEventListener(\"test\",l,b)}catch(e){}return a}();var S=function(a,b){this.type=a;this.a=this.target=b};S.prototype.g=function(){};var T=function(a,b){S.call(this,a?a.type:\"\");this.relatedTarget=this.a=this.target=null;this.button=this.screenY=this.screenX=this.clientY=this.clientX=0;this.key=\"\";this.metaKey=this.shiftKey=this.altKey=this.ctrlKey=!1;this.pointerId=0;this.pointerType=\"\";this.j=null;if(a){var e=this.type=a.type,c=a.changedTouches&&a.changedTouches.length?a.changedTouches[0]:null;this.target=a.target||a.srcElement;this.a=b;if(b=a.relatedTarget){if(w){a:{try{u(b.nodeName);var d=!0;break a}catch(f){}d=!1}d||(b=null)}}else\"mouseover\"==\n",
      "e?b=a.fromElement:\"mouseout\"==e&&(b=a.toElement);this.relatedTarget=b;c?(this.clientX=void 0!==c.clientX?c.clientX:c.pageX,this.clientY=void 0!==c.clientY?c.clientY:c.pageY,this.screenX=c.screenX||0,this.screenY=c.screenY||0):(this.clientX=void 0!==a.clientX?a.clientX:a.pageX,this.clientY=void 0!==a.clientY?a.clientY:a.pageY,this.screenX=a.screenX||0,this.screenY=a.screenY||0);this.button=a.button;this.key=a.key||\"\";this.ctrlKey=a.ctrlKey;this.altKey=a.altKey;this.shiftKey=a.shiftKey;this.metaKey=\n",
      "a.metaKey;this.pointerId=a.pointerId||0;this.pointerType=\"string\"===typeof a.pointerType?a.pointerType:ma[a.pointerType]||\"\";this.j=a;a.defaultPrevented&&this.g()}};aa(T,S);var ma={2:\"touch\",3:\"pen\",4:\"mouse\"};T.prototype.g=function(){T.l.g.call(this);var a=this.j;if(a.preventDefault)a.preventDefault();else if(a.returnValue=!1,ia)try{if(a.ctrlKey||112<=a.keyCode&&123>=a.keyCode)a.keyCode=-1}catch(b){}};var U=\"closure_listenable_\"+(1E6*Math.random()|0),na=0;var oa=function(a,b,e,c,d){this.listener=a;this.a=null;this.src=b;this.type=e;this.capture=!!c;this.g=d;this.key=++na;this.h=this.i=!1},pa=function(a){a.h=!0;a.listener=null;a.a=null;a.src=null;a.g=null};var V=function(a){this.src=a;this.a={};this.g=0};V.prototype.add=function(a,b,e,c,d){var f=a.toString();a=this.a[f];a||(a=this.a[f]=[],this.g++);var g;a:{for(g=0;g<a.length;++g){var h=a[g];if(!h.h&&h.listener==b&&h.capture==!!c&&h.g==d)break a}g=-1}-1<g?(b=a[g],e||(b.i=!1)):(b=new oa(b,this.src,f,!!c,d),b.i=e,a.push(b));return b};var W=\"closure_lm_\"+(1E6*Math.random()|0),X={},qa=0,sa=function(a,b,e,c,d){if(c&&c.once)ra(a,b,e,c,d);else if(Array.isArray(b))for(var f=0;f<b.length;f++)sa(a,b[f],e,c,d);else e=ta(e),a&&a[U]?a.a(b,e,m(c)?!!c.capture:!!c,d):ua(a,b,e,!1,c,d)},ua=function(a,b,e,c,d,f){if(!b)throw Error(\"a\");var g=m(d)?!!d.capture:!!d,h=Y(a);h||(a[W]=h=new V(a));e=h.add(b,e,c,g,f);if(!e.a){c=va();e.a=c;c.src=a;c.listener=e;if(a.addEventListener)ja||(d=g),void 0===d&&(d=!1),a.addEventListener(b.toString(),c,d);else if(a.attachEvent)a.attachEvent(wa(b.toString()),c);else if(a.addListener&&a.removeListener)a.addListener(c);else throw Error(\"b\");qa++}},va=function(){var a=xa,b=H?function(e){return a.call(b.src,b.listener,e)}:function(e){e=a.call(b.src,b.listener,e);if(!e)return e};return b},ra=function(a,b,e,c,d){if(Array.isArray(b))for(var f=0;f<b.length;f++)ra(a,b[f],e,c,d);else e=ta(e),a&&a[U]?a.g(b,e,m(c)?!!c.capture:!!c,d):ua(a,b,e,!0,c,d)},wa=function(a){return a in X?X[a]:X[a]=\"on\"+a},za=function(a,b,e,c){var d=!0;if(a=Y(a))if(b=a.a[b.toString()])for(b=\n",
      "b.concat(),a=0;a<b.length;a++){var f=b[a];f&&f.capture==e&&!f.h&&(f=ya(f,c),d=d&&!1!==f)}return d},ya=function(a,b){var e=a.listener,c=a.g||a.src;if(a.i&&\"number\"!==typeof a&&a&&!a.h){var d=a.src;if(d&&d[U])d.j(a);else{var f=a.type,g=a.a;d.removeEventListener?d.removeEventListener(f,g,a.capture):d.detachEvent?d.detachEvent(wa(f),g):d.addListener&&d.removeListener&&d.removeListener(g);qa--;if(f=Y(d)){g=a.type;var h;if(h=g in f.a){h=f.a[g];var ka=ba(h,a),la;(la=0<=ka)&&Array.prototype.splice.call(h,ka,1);h=la}h&&(pa(a),0==f.a[g].length&&(delete f.a[g],f.g--));0==f.g&&(f.src=null,d[W]=null)}else pa(a)}}return e.call(c,b)},xa=function(a,b){if(a.h)return!0;if(!H){if(!b)a:{b=[\"window\",\"event\"];for(var e=k,c=0;c<b.length;c++)if(e=e[b[c]],null==e){b=null;break a}b=e}c=b;b=new T(c,this);e=!0;if(!(0>c.keyCode||void 0!=c.returnValue)){a:{var d=!1;if(0==c.keyCode)try{c.keyCode=-1;break a}catch(g){d=!0}if(d||void 0==c.returnValue)c.returnValue=!0}c=[];for(d=b.a;d;d=d.parentNode)c.push(d);a=a.type;for(d=\n",
      "c.length-1;0<=d;d--){b.a=c[d];var f=za(c[d],a,!0,b);e=e&&f}for(d=0;d<c.length;d++)b.a=c[d],f=za(c[d],a,!1,b),e=e&&f}return e}return ya(a,new T(b,this))},Y=function(a){a=a[W];return a instanceof V?a:null},Z=\"__closure_events_fn_\"+(1E9*Math.random()>>>0),ta=function(a){if(\"function\"===typeof a)return a;a[Z]||(a[Z]=function(b){return a.handleEvent(b)});return a[Z]};sa(document,\"DOMContentLoaded\",function(){document.f&&(document.f.q.getAttribute(\"data-saf\")||document.f.q.focus());document.gbqf&&document.gbqf.q.focus();document.images&&((new Image).src=s)});})();</script></div><textarea class=\"csi\" name=\"csi\" style=\"display:none\"></textarea><script nonce=\"85l7VxQ9iEgIvpEFNOfcIw==\">(function(){\n",
      "(function(){var c=google.time();if(google.timers&&google.timers.load.t){for(var a=document.getElementsByTagName(\"img\"),d=0,b=void 0;b=a[d++];)google.c.setup(b);\"hidden\"==document.visibilityState&&google.c.e(\"load\",\"hddn\",\"1\");google.c.e(\"load\",\"imn\",String(a.length));google.c.ubr(!0,c);google.c.glu&&google.c.glu();google.rll(window,!1,function(){google.tick(\"load\",\"ol\");google.c.u(\"pr\")})}})();}).call(this);google.drty&&google.drty();</script></body></html>\n"
     ]
    }
   ],
   "source": [
    "google_url = \"https://www.google.com/\"\n",
    "\n",
    "User_Agent = \"Mozilla/5.0 (Macintosh; Intel Mac OS X 10_10_0) AppleWebKit/537.36 (KHTML, like Gecko) Chrome/45.0.2454.85 Safari/537.36\"\n",
    "\n",
    "waybackpy_url_object = waybackpy.Url(google_url, User_Agent)\n",
    "\n",
    "\n",
    "# If no argument is passed in get(), it gets the source of the Url used to create the object.\n",
    "current_google_url_source = waybackpy_url_object.get()\n",
    "print(current_google_url_source)"
   ]
  },
  {
   "cell_type": "code",
   "execution_count": 7,
   "metadata": {},
   "outputs": [
    {
     "name": "stdout",
     "output_type": "stream",
     "text": [
      "<script src=\"//archive.org/includes/analytics.js?v=cf34f82\" type=\"text/javascript\"></script>\n",
      "<script type=\"text/javascript\">window.addEventListener('DOMContentLoaded',function(){var v=archive_analytics.values;v.service='wb';v.server_name='wwwb-app102.us.archive.org';v.server_ms=714;archive_analytics.send_pageview({});});</script><script type=\"text/javascript\" src=\"/_static/js/playback.bundle.js?v=SOX25l-I\" charset=\"utf-8\"></script>\n",
      "<script type=\"text/javascript\" src=\"/_static/js/wombat.js?v=cRqOKCOw\" charset=\"utf-8\"></script>\n",
      "<script type=\"text/javascript\">\n",
      "  __wm.init(\"https://web.archive.org/web\");\n",
      "  __wm.wombat(\"http://google.com:80/\",\"19981111184551\",\"https://web.archive.org/\",\"web\",\"/_static/\",\n",
      "\t      \"910809951\");\n",
      "</script>\n",
      "<link rel=\"stylesheet\" type=\"text/css\" href=\"/_static/css/banner-styles.css?v=bsmaklHF\" />\n",
      "<link rel=\"stylesheet\" type=\"text/css\" href=\"/_static/css/iconochive.css?v=qtvMKcIJ\" />\n",
      "<!-- End Wayback Rewrite JS Include -->\n",
      "<!-- BEGIN WAYBACK TOOLBAR INSERT -->\n",
      "<style type=\"text/css\">\n",
      "body {\n",
      "  margin-top:0 !important;\n",
      "  padding-top:0 !important;\n",
      "  /*min-width:800px !important;*/\n",
      "}\n",
      "</style>\n",
      "<script>__wm.rw(0);</script>\n",
      "<div id=\"wm-ipp-base\" lang=\"en\" style=\"display:none;direction:ltr;\">\n",
      "<div id=\"wm-ipp\" style=\"position:fixed;left:0;top:0;right:0;\">\n",
      "<div id=\"wm-ipp-inside\">\n",
      "  <div style=\"position:relative;\">\n",
      "    <div id=\"wm-logo\" style=\"float:left;width:110px;padding-top:12px;\">\n",
      "      <a href=\"/web/\" title=\"Wayback Machine home page\"><img src=\"/_static/images/toolbar/wayback-toolbar-logo-200.png\" srcset=\"/_static/images/toolbar/wayback-toolbar-logo-100.png, /_static/images/toolbar/wayback-toolbar-logo-150.png 1.5x, /_static/images/toolbar/wayback-toolbar-logo-200.png 2x\" alt=\"Wayback Machine\" style=\"width:100px\" border=\"0\" /></a>\n",
      "    </div>\n",
      "    <div class=\"r\" style=\"float:right;\">\n",
      "      <div id=\"wm-btns\" style=\"text-align:right;height:25px;\">\n",
      "                  <div id=\"wm-save-snapshot-success\">success</div>\n",
      "          <div id=\"wm-save-snapshot-fail\">fail</div>\n",
      "          <a id=\"wm-save-snapshot-open\" href=\"#\"\n",
      "\t     title=\"Share via My Web Archive\" >\n",
      "            <span class=\"iconochive-web\"></span>\n",
      "          </a>\n",
      "          <a href=\"https://archive.org/account/login.php\"\n",
      "             title=\"Sign In\"\n",
      "             id=\"wm-sign-in\"\n",
      "          >\n",
      "            <span class=\"iconochive-person\"></span>\n",
      "          </a>\n",
      "          <span id=\"wm-save-snapshot-in-progress\" class=\"iconochive-web\"></span>\n",
      "        \t<a href=\"http://faq.web.archive.org/\" title=\"Get some help using the Wayback Machine\" style=\"top:-6px;\"><span class=\"iconochive-question\" style=\"color:rgb(87,186,244);font-size:160%;\"></span></a>\n",
      "\t<a id=\"wm-tb-close\" href=\"#close\" onclick=\"__wm.h(event);return false;\" style=\"top:-2px;\" title=\"Close the toolbar\"><span class=\"iconochive-remove-circle\" style=\"color:#888888;font-size:240%;\"></span></a>\n",
      "      </div>\n",
      "      <div id=\"wm-share\">\n",
      "          <a href=\"/web/19981111184551/http://web.archive.org/screenshot/http://google.com/\"\n",
      "             id=\"wm-screenshot\"\n",
      "             title=\"screenshot\">\n",
      "            <span class=\"wm-icon-screen-shot\"></span>\n",
      "          </a>\n",
      "\t<a id=\"wm-share-facebook\" href=\"#\" data-url=\"https://web.archive.org/web/19981111184551/http://google.com:80/\" title=\"Share on Facebook\" style=\"margin-right:5px;\" target=\"_blank\"><span class=\"iconochive-facebook\" style=\"color:#3b5998;font-size:160%;\"></span></a>\n",
      "\t<a id=\"wm-share-twitter\" href=\"#\" data-url=\"https://web.archive.org/web/19981111184551/http://google.com:80/\" title=\"Share on Twitter\" style=\"margin-right:5px;\" target=\"_blank\"><span class=\"iconochive-twitter\" style=\"color:#1dcaff;font-size:160%;\"></span></a>\n",
      "      </div>\n",
      "    </div>\n",
      "    <table class=\"c\" style=\"\">\n",
      "      <tbody>\n",
      "\t<tr>\n",
      "\t  <td class=\"u\" colspan=\"2\">\n",
      "\t    <form target=\"_top\" method=\"get\" action=\"/web/submit\" name=\"wmtb\" id=\"wmtb\"><input type=\"text\" name=\"url\" id=\"wmtbURL\" value=\"http://google.com/\" onfocus=\"this.focus();this.select();\" /><input type=\"hidden\" name=\"type\" value=\"replay\" /><input type=\"hidden\" name=\"date\" value=\"19981111184551\" /><input type=\"submit\" value=\"Go\" /></form>\n",
      "\t  </td>\n",
      "\t  <td class=\"n\" rowspan=\"2\" style=\"width:110px;\">\n",
      "\t    <table>\n",
      "\t      <tbody>\n",
      "\t\t<!-- NEXT/PREV MONTH NAV AND MONTH INDICATOR -->\n",
      "\t\t<tr class=\"m\">\n",
      "\t\t  <td class=\"b\" nowrap=\"nowrap\">Oct</td>\n",
      "\t\t  <td class=\"c\" id=\"displayMonthEl\" title=\"You are here: 18:45:51 Nov 11, 1998\">NOV</td>\n",
      "\t\t  <td class=\"f\" nowrap=\"nowrap\"><a href=\"https://web.archive.org/web/19990117032727/http://www.google.com:80/\" title=\"17 Jan 1999\"><strong>Jan</strong></a></td>\n",
      "\t\t</tr>\n",
      "\t\t<!-- NEXT/PREV CAPTURE NAV AND DAY OF MONTH INDICATOR -->\n",
      "\t\t<tr class=\"d\">\n",
      "\t\t  <td class=\"b\" nowrap=\"nowrap\"><img src=\"/_static/images/toolbar/wm_tb_prv_off.png\" alt=\"Previous capture\" width=\"14\" height=\"16\" border=\"0\" /></td>\n",
      "\t\t  <td class=\"c\" id=\"displayDayEl\" style=\"width:34px;font-size:24px;white-space:nowrap;\" title=\"You are here: 18:45:51 Nov 11, 1998\">11</td>\n",
      "\t\t  <td class=\"f\" nowrap=\"nowrap\"><a href=\"https://web.archive.org/web/19981202230410/http://www.google.com:80/\" title=\"23:04:10 Dec 02, 1998\"><img src=\"/_static/images/toolbar/wm_tb_nxt_on.png\" alt=\"Next capture\" width=\"14\" height=\"16\" border=\"0\" /></a></td>\n",
      "\t\t</tr>\n",
      "\t\t<!-- NEXT/PREV YEAR NAV AND YEAR INDICATOR -->\n",
      "\t\t<tr class=\"y\">\n",
      "\t\t  <td class=\"b\" nowrap=\"nowrap\">1997</td>\n",
      "\t\t  <td class=\"c\" id=\"displayYearEl\" title=\"You are here: 18:45:51 Nov 11, 1998\">1998</td>\n",
      "\t\t  <td class=\"f\" nowrap=\"nowrap\"><a href=\"https://web.archive.org/web/19991127153009/http://www.google.com:80/\" title=\"27 Nov 1999\"><strong>1999</strong></a></td>\n",
      "\t\t</tr>\n",
      "\t      </tbody>\n",
      "\t    </table>\n",
      "\t  </td>\n",
      "\t</tr>\n",
      "\t<tr>\n",
      "\t  <td class=\"s\">\n",
      "\t    \t    <div id=\"wm-nav-captures\">\n",
      "\t      </div>\n",
      "\t  </td>\n",
      "\t  <td class=\"k\">\n",
      "\t    <a href=\"\" id=\"wm-graph-anchor\">\n",
      "\t      <div id=\"wm-ipp-sparkline\" title=\"Explore captures for this URL\" style=\"position: relative\">\n",
      "\t\t<canvas id=\"wm-sparkline-canvas\" width=\"625\" height=\"27\" border=\"0\"></canvas>\n",
      "\t      </div>\n",
      "\t    </a>\n",
      "\t  </td>\n",
      "\t</tr>\n",
      "      </tbody>\n",
      "    </table>\n",
      "    <div style=\"position:absolute;bottom:0;right:2px;text-align:right;\">\n",
      "      <a id=\"wm-expand\" class=\"wm-btn wm-closed\" href=\"#expand\" onclick=\"__wm.ex(event);return false;\"><span id=\"wm-expand-icon\" class=\"iconochive-down-solid\"></span> <span style=\"font-size:80%\">About this capture</span></a>\n",
      "    </div>\n",
      "  </div>\n",
      "    <div id=\"wm-capinfo\" style=\"border-top:1px solid #777;display:none; overflow: hidden\">\n",
      "                    <div id=\"wm-capinfo-collected-by\">\n",
      "    <div style=\"background-color:#666;color:#fff;font-weight:bold;text-align:center\">COLLECTED BY</div>\n",
      "    <div style=\"padding:3px;position:relative\" id=\"wm-collected-by-content\">\n",
      "            <div style=\"display:inline-block;vertical-align:top;width:50%;\">\n",
      "\t\t\t<span class=\"c-logo\" style=\"background-image:url(https://archive.org/services/img/ArchiveIt-Partner-825);\"></span>\n",
      "\t\tOrganization: <a style=\"color:#33f;\" href=\"https://archive.org/details/ArchiveIt-Partner-825\" target=\"_new\"><span class=\"wm-title\">George Washington University Libraries</span></a>\n",
      "\t\t<div style=\"max-height:75px;overflow:hidden;position:relative;\">\n",
      "\t  <div style=\"position:absolute;top:0;left:0;width:100%;height:75px;background:linear-gradient(to bottom,rgba(255,255,255,0) 0%,rgba(255,255,255,0) 90%,rgba(255,255,255,255) 100%);\"></div>\n",
      "\t  Archive-It Partner 825: George Washington University Libraries\n",
      "\t</div>\n",
      "\t      </div>\n",
      "      <div style=\"display:inline-block;vertical-align:top;width:49%;\">\n",
      "\t\t\t<span class=\"c-logo\" style=\"background-image:url(https://archive.org/services/img/ArchiveIt-Collection-5184)\"></span>\n",
      "\t\t<div>Collection: <a style=\"color:#33f;\" href=\"https://archive.org/details/ArchiveIt-Collection-5184\" target=\"_new\"><span class=\"wm-title\">George Washington University </span></a></div>\n",
      "\t\t<div style=\"max-height:75px;overflow:hidden;position:relative;\">\n",
      "\t  <div style=\"position:absolute;top:0;left:0;width:100%;height:75px;background:linear-gradient(to bottom,rgba(255,255,255,0) 0%,rgba(255,255,255,0) 90%,rgba(255,255,255,255) 100%);\"></div>\n",
      "\t  Websites produced by or affiliated with the George Washington University, documenting the administration, publications, policies, events, and announcements of the university community.\n",
      "\t</div>\n",
      "\t      </div>\n",
      "    </div>\n",
      "    </div>\n",
      "    <div id=\"wm-capinfo-timestamps\">\n",
      "    <div style=\"background-color:#666;color:#fff;font-weight:bold;text-align:center\" title=\"Timestamps for the elements of this page\">TIMESTAMPS</div>\n",
      "    <div>\n",
      "      <div id=\"wm-capresources\" style=\"margin:0 5px 5px 5px;max-height:250px;overflow-y:scroll !important\"></div>\n",
      "      <div id=\"wm-capresources-loading\" style=\"text-align:left;margin:0 20px 5px 5px;display:none\"><img src=\"/_static/images/loading.gif\" alt=\"loading\" /></div>\n",
      "    </div>\n",
      "    </div>\n",
      "  </div></div></div></div><div id=\"donato\" style=\"position:relative;width:100%;\">\n",
      "  <div id=\"donato-base\">\n",
      "    <iframe id=\"donato-if\" src=\"https://archive.org/includes/donate.php?as_page=1&amp;platform=wb&amp;referer=https%3A//web.archive.org/web/19981111184551/http%3A//google.com%3A80/\"\n",
      "\t    scrolling=\"no\" frameborder=\"0\" style=\"width:100%; height:100%\">\n",
      "    </iframe>\n",
      "  </div>\n",
      "</div><script type=\"text/javascript\">\n",
      "__wm.bt(625,27,25,2,\"web\",\"http://google.com/\",\"19981111184551\",1996,\"/_static/\",[\"/_static/css/banner-styles.css?v=bsmaklHF\",\"/_static/css/iconochive.css?v=qtvMKcIJ\"]);\n",
      "  __wm.rw(1);\n",
      "</script>\n",
      "<!-- END WAYBACK TOOLBAR INSERT --><h1>Welcome to Google</h1>\n",
      "<a href=\"https://web.archive.org/web/19981111184551/http://google.stanford.edu/\">Google Search Engine Prototype</a><br>\n",
      "<a href=\"https://web.archive.org/web/19981111184551/http://alpha.google.com/\">\n",
      "Might-work-some-of-the-time-prototype that is much more up to date.</a>\n",
      "\n",
      "<!--\n",
      "     FILE ARCHIVED ON 18:45:51 Nov 11, 1998 AND RETRIEVED FROM THE\n",
      "     INTERNET ARCHIVE ON 13:12:55 Nov 19, 2020.\n",
      "     JAVASCRIPT APPENDED BY WAYBACK MACHINE, COPYRIGHT INTERNET ARCHIVE.\n",
      "\n",
      "     ALL OTHER CONTENT MAY ALSO BE PROTECTED BY COPYRIGHT (17 U.S.C.\n",
      "     SECTION 108(a)(3)).\n",
      "-->\n",
      "<!--\n",
      "playback timings (ms):\n",
      "  esindex: 0.105 (7)\n",
      "  PetaboxLoader3.resolve: 34.239\n",
      "  RedisCDXSource: 38.685 (7)\n",
      "  CDXLines.iter: 831.727 (12)\n",
      "  PetaboxLoader3.datanode: 653.735 (25)\n",
      "  load_resource: 98.405\n",
      "  exclusion.robots: 2.467 (7)\n",
      "  exclusion.robots.policy: 2.327 (7)\n",
      "  LoadShardBlock: 1235.844 (24)\n",
      "-->\n"
     ]
    }
   ],
   "source": [
    "google_oldest_archive_source = waybackpy_url_object.get(waybackpy_url_object.oldest())\n",
    "print(google_oldest_archive_source)"
   ]
  },
  {
   "cell_type": "code",
   "execution_count": 41,
   "metadata": {},
   "outputs": [
    {
     "name": "stdout",
     "output_type": "stream",
     "text": [
      "0\n"
     ]
    }
   ],
   "source": [
    "URL = \"http://mixi.guru/SSR_frontend/accountGet/SSR_index.php\"\n",
    "UA = \"Mozilla/5.0 (iPad; CPU OS 8_1_1 like Mac OS X) AppleWebKit/600.1.4 (KHTML, like Gecko) Version/8.0 Mobile/12B435 Safari/600.1.4\"\n",
    "\n",
    "waybackpy_url_object = waybackpy.Url(url=URL, user_agent=UA)\n",
    "\n",
    "archive_count = waybackpy_url_object.total_archives()\n",
    "\n",
    "print(archive_count) # total_archives() returns an int"
   ]
  },
  {
   "cell_type": "code",
   "execution_count": 9,
   "metadata": {},
   "outputs": [
    {
     "name": "stderr",
     "output_type": "stream",
     "text": [
      "ERROR: Could not find a version that satisfies the requirement python-requests (from versions: none)\n",
      "ERROR: No matching distribution found for python-requests\n"
     ]
    }
   ],
   "source": [
    "!pip install python-requests\n"
   ]
  },
  {
   "cell_type": "code",
   "execution_count": 10,
   "metadata": {},
   "outputs": [
    {
     "name": "stderr",
     "output_type": "stream",
     "text": [
      "ERROR: Could not find a version that satisfies the requirement python-requests (from versions: none)\n",
      "ERROR: No matching distribution found for python-requests\n"
     ]
    }
   ],
   "source": [
    "!pip install python-requests"
   ]
  },
  {
   "cell_type": "code",
   "execution_count": 11,
   "metadata": {},
   "outputs": [
    {
     "ename": "SyntaxError",
     "evalue": "invalid syntax (<ipython-input-11-b32ccd17c56b>, line 1)",
     "output_type": "error",
     "traceback": [
      "\u001b[1;36m  File \u001b[1;32m\"<ipython-input-11-b32ccd17c56b>\"\u001b[1;36m, line \u001b[1;32m1\u001b[0m\n\u001b[1;33m    import python-requests\u001b[0m\n\u001b[1;37m                 ^\u001b[0m\n\u001b[1;31mSyntaxError\u001b[0m\u001b[1;31m:\u001b[0m invalid syntax\n"
     ]
    }
   ],
   "source": [
    "import python-requests"
   ]
  },
  {
   "cell_type": "code",
   "execution_count": 12,
   "metadata": {},
   "outputs": [
    {
     "name": "stdout",
     "output_type": "stream",
     "text": [
      "Requirement already satisfied: requests in c:\\users\\mprit\\anaconda3\\lib\\site-packages (2.24.0)\n",
      "Requirement already satisfied: urllib3!=1.25.0,!=1.25.1,<1.26,>=1.21.1 in c:\\users\\mprit\\anaconda3\\lib\\site-packages (from requests) (1.25.9)\n",
      "Requirement already satisfied: idna<3,>=2.5 in c:\\users\\mprit\\anaconda3\\lib\\site-packages (from requests) (2.10)\n",
      "Requirement already satisfied: chardet<4,>=3.0.2 in c:\\users\\mprit\\anaconda3\\lib\\site-packages (from requests) (3.0.4)\n",
      "Requirement already satisfied: certifi>=2017.4.17 in c:\\users\\mprit\\anaconda3\\lib\\site-packages (from requests) (2020.6.20)\n"
     ]
    }
   ],
   "source": [
    "\n",
    "!pip install requests "
   ]
  },
  {
   "cell_type": "code",
   "execution_count": null,
   "metadata": {},
   "outputs": [],
   "source": []
  },
  {
   "cell_type": "code",
   "execution_count": 40,
   "metadata": {},
   "outputs": [
    {
     "name": "stdout",
     "output_type": "stream",
     "text": [
      "[]\n"
     ]
    }
   ],
   "source": [
    "\n",
    "\n",
    "URL = \"http://mixi.guru/SSR_frontend/accountGet/SSR_index.php\"\n",
    "#UA = \"Mozilla/5.0 (iPad; CPU OS 8_1_1 like Mac OS X) AppleWebKit/600.1.4 (KHTML, like Gecko) Version/8.0 Mobile/12B435 Safari/600.1.4\"\n",
    "UA = \"Mozilla/5.0 (Windows NT 5.1; rv:40.0) Gecko/20100101 Firefox/40.0\"\n",
    "waybackpy_url_object = waybackpy.Url(url=URL, user_agent=UA)\n",
    "known_urls = waybackpy_url_object.known_urls(alive=False, subdomain=True) # alive and subdomain are optional.\n",
    "print(known_urls) # known_urls() returns list of URLs"
   ]
  },
  {
   "cell_type": "code",
   "execution_count": 44,
   "metadata": {},
   "outputs": [
    {
     "name": "stdout",
     "output_type": "stream",
     "text": [
      "http://email302.com/\n",
      "http://postageapp.com/\n",
      "https://postageapp.com/\n",
      "2\n"
     ]
    }
   ],
   "source": [
    "url = \"http://email302.com\"\n",
    "params = {\n",
    "     'User-Agent': 'Mozilla/5.0 (Macintosh; Intel Mac OS X 10_13_6) AppleWebKit/537.36 (KHTML, like Gecko) Chrome/68.0.3440.106 Safari/537.36',\n",
    "}\n",
    "\n",
    "try:\n",
    "    response = requests.get(url)\n",
    "    for h in response.history:\n",
    "        print(h.url)\n",
    "    print(response.url)\n",
    "    print(len(response.history))\n",
    "except (\n",
    "    requests.ConnectionError,\n",
    "    requests.exceptions.ReadTimeout,\n",
    "    requests.exceptions.Timeout,\n",
    "    requests.exceptions.ConnectTimeout,\n",
    ") as e:\n",
    "    #print(response.status_code)\n",
    "    #statuscode = 0\n",
    "    print(e)"
   ]
  },
  {
   "cell_type": "code",
   "execution_count": 38,
   "metadata": {},
   "outputs": [
    {
     "name": "stdout",
     "output_type": "stream",
     "text": [
      "{'url': 'http://mixi.guru/SSR_frontend/accountGet/SSR_index.php', 'archived_snapshots': {}}\n"
     ]
    }
   ],
   "source": [
    "\n",
    "url = \"http://mixi.guru/SSR_frontend/accountGet/SSR_index.php\"\n",
    "user_agent = \"Mozilla/5.0 (Macintosh; Intel Mac OS X 10.10; rv:39.0) Gecko/20100101 Firefox/39.0\"\n",
    "\n",
    "waybackpy_url_obj = waybackpy.Url(url, user_agent)\n",
    "json_dict = waybackpy_url_obj.JSON\n",
    "print(json_dict)"
   ]
  },
  {
   "cell_type": "code",
   "execution_count": 1,
   "metadata": {},
   "outputs": [
    {
     "name": "stdout",
     "output_type": "stream",
     "text": [
      "['http://budgetbots.com:80/', 'http://www.budgetbots.com:80/cache/_cachetfm0ORBOYkOKX.php', 'http://www.budgetbots.com:80/cache/testmail.php', 'http://budgetbots.com/favicon.ico', 'http://budgetbots.com:80/robots.txt', 'http://www.budgetbots.com/server.php/Server%20update/index.php?email=USER@DOMAIN.com', 'http://www.budgetbots.com/ss.php/Server%20update/index.php?email=darlenefawcett@prepaidlegal.com']\n",
      "7\n",
      "Wall time: 2.56 s\n"
     ]
    }
   ],
   "source": [
    "%%time\n",
    "import waybackpy\n",
    "\n",
    "URL = \"www.budgetbots.com\"\n",
    "\n",
    "UA = \"Mozilla/5.0 (Pad; CPU OS 8_1_1 like Mac OS X) AppleWebKit/600.1.4 (KHTML, like Gecko) Version/8.0 Mobile/12B435 Safari/600.1.4\"\n",
    "\n",
    "waybackpy_url_object = waybackpy.Url(url=URL, user_agent=UA)\n",
    "known_urls = waybackpy_url_object.known_urls(alive=True, subdomain=False) # alive and subdomain are optional.\n",
    "print(known_urls) # known_urls() returns list of URLs\n",
    "print(len(known_urls))\n"
   ]
  },
  {
   "cell_type": "markdown",
   "metadata": {},
   "source": [
    "# "
   ]
  },
  {
   "cell_type": "markdown",
   "metadata": {},
   "source": [
    "# experiment with CNN/RNN"
   ]
  },
  {
   "cell_type": "code",
   "execution_count": 94,
   "metadata": {},
   "outputs": [
    {
     "name": "stdout",
     "output_type": "stream",
     "text": [
      "Collecting gensim\n",
      "  Downloading gensim-3.8.3-cp38-cp38-win_amd64.whl (24.2 MB)\n",
      "Requirement already satisfied: scipy>=0.18.1 in c:\\users\\mprit\\anaconda3\\lib\\site-packages (from gensim) (1.5.0)\n",
      "Collecting Cython==0.29.14\n",
      "  Downloading Cython-0.29.14-cp38-cp38-win_amd64.whl (1.7 MB)\n",
      "Requirement already satisfied: numpy>=1.11.3 in c:\\users\\mprit\\anaconda3\\lib\\site-packages (from gensim) (1.18.5)\n",
      "Collecting smart-open>=1.8.1\n",
      "  Downloading smart_open-4.0.1.tar.gz (117 kB)\n",
      "Requirement already satisfied: six>=1.5.0 in c:\\users\\mprit\\anaconda3\\lib\\site-packages (from gensim) (1.15.0)\n",
      "Building wheels for collected packages: smart-open\n",
      "  Building wheel for smart-open (setup.py): started\n",
      "  Building wheel for smart-open (setup.py): finished with status 'done'\n",
      "  Created wheel for smart-open: filename=smart_open-4.0.1-py3-none-any.whl size=108253 sha256=1484d0cf939865f9950a6c6333dab434b4fa086b66fe26a675a5c20a857921b1\n",
      "  Stored in directory: c:\\users\\mprit\\appdata\\local\\pip\\cache\\wheels\\8c\\f9\\f4\\4ddd9ddee3488f48be20e9bf3108961f03ae23da29b7ed26d1\n",
      "Successfully built smart-open\n",
      "Installing collected packages: Cython, smart-open, gensim\n",
      "  Attempting uninstall: Cython\n",
      "    Found existing installation: Cython 0.29.21\n",
      "    Uninstalling Cython-0.29.21:\n",
      "      Successfully uninstalled Cython-0.29.21\n",
      "Successfully installed Cython-0.29.14 gensim-3.8.3 smart-open-4.0.1\n"
     ]
    }
   ],
   "source": [
    "!pip install gensim"
   ]
  },
  {
   "cell_type": "code",
   "execution_count": 96,
   "metadata": {},
   "outputs": [
    {
     "name": "stdout",
     "output_type": "stream",
     "text": [
      "Collecting keras\n",
      "  Downloading Keras-2.4.3-py2.py3-none-any.whl (36 kB)\n",
      "Requirement already satisfied: pyyaml in c:\\users\\mprit\\anaconda3\\lib\\site-packages (from keras) (5.3.1)\n",
      "Requirement already satisfied: scipy>=0.14 in c:\\users\\mprit\\anaconda3\\lib\\site-packages (from keras) (1.5.0)\n",
      "Requirement already satisfied: numpy>=1.9.1 in c:\\users\\mprit\\anaconda3\\lib\\site-packages (from keras) (1.18.5)\n",
      "Requirement already satisfied: h5py in c:\\users\\mprit\\anaconda3\\lib\\site-packages (from keras) (2.10.0)\n",
      "Requirement already satisfied: six in c:\\users\\mprit\\anaconda3\\lib\\site-packages (from h5py->keras) (1.15.0)\n",
      "Installing collected packages: keras\n",
      "Successfully installed keras-2.4.3\n"
     ]
    }
   ],
   "source": [
    "!pip install keras"
   ]
  },
  {
   "cell_type": "code",
   "execution_count": 98,
   "metadata": {},
   "outputs": [
    {
     "name": "stdout",
     "output_type": "stream",
     "text": [
      "Collecting tensorflow\n",
      "  Downloading tensorflow-2.3.1-cp38-cp38-win_amd64.whl (342.5 MB)\n",
      "Requirement already satisfied: wrapt>=1.11.1 in c:\\users\\mprit\\anaconda3\\lib\\site-packages (from tensorflow) (1.11.2)\n",
      "Collecting google-pasta>=0.1.8\n",
      "  Downloading google_pasta-0.2.0-py3-none-any.whl (57 kB)\n",
      "Collecting keras-preprocessing<1.2,>=1.1.1\n",
      "  Downloading Keras_Preprocessing-1.1.2-py2.py3-none-any.whl (42 kB)\n",
      "Collecting grpcio>=1.8.6\n",
      "  Downloading grpcio-1.34.0-cp38-cp38-win_amd64.whl (2.9 MB)\n",
      "Requirement already satisfied: numpy<1.19.0,>=1.16.0 in c:\\users\\mprit\\anaconda3\\lib\\site-packages (from tensorflow) (1.18.5)\n",
      "Collecting astunparse==1.6.3\n",
      "  Downloading astunparse-1.6.3-py2.py3-none-any.whl (12 kB)\n",
      "Collecting tensorboard<3,>=2.3.0\n",
      "  Downloading tensorboard-2.4.0-py3-none-any.whl (10.6 MB)\n",
      "Collecting opt-einsum>=2.3.2\n",
      "  Downloading opt_einsum-3.3.0-py3-none-any.whl (65 kB)\n",
      "Collecting protobuf>=3.9.2\n",
      "  Downloading protobuf-3.14.0-py2.py3-none-any.whl (173 kB)\n",
      "Collecting absl-py>=0.7.0\n",
      "  Downloading absl_py-0.11.0-py3-none-any.whl (127 kB)\n",
      "Collecting termcolor>=1.1.0\n",
      "  Downloading termcolor-1.1.0.tar.gz (3.9 kB)\n",
      "Requirement already satisfied: wheel>=0.26 in c:\\users\\mprit\\anaconda3\\lib\\site-packages (from tensorflow) (0.34.2)\n",
      "Collecting gast==0.3.3\n",
      "  Downloading gast-0.3.3-py2.py3-none-any.whl (9.7 kB)\n",
      "Requirement already satisfied: h5py<2.11.0,>=2.10.0 in c:\\users\\mprit\\anaconda3\\lib\\site-packages (from tensorflow) (2.10.0)\n",
      "Collecting tensorflow-estimator<2.4.0,>=2.3.0\n",
      "  Downloading tensorflow_estimator-2.3.0-py2.py3-none-any.whl (459 kB)\n",
      "Requirement already satisfied: six>=1.12.0 in c:\\users\\mprit\\anaconda3\\lib\\site-packages (from tensorflow) (1.15.0)\n",
      "Requirement already satisfied: werkzeug>=0.11.15 in c:\\users\\mprit\\anaconda3\\lib\\site-packages (from tensorboard<3,>=2.3.0->tensorflow) (1.0.1)\n",
      "Requirement already satisfied: setuptools>=41.0.0 in c:\\users\\mprit\\anaconda3\\lib\\site-packages (from tensorboard<3,>=2.3.0->tensorflow) (49.2.0.post20200714)\n",
      "Collecting markdown>=2.6.8\n",
      "  Downloading Markdown-3.3.3-py3-none-any.whl (96 kB)\n",
      "Collecting google-auth-oauthlib<0.5,>=0.4.1\n",
      "  Downloading google_auth_oauthlib-0.4.2-py2.py3-none-any.whl (18 kB)\n",
      "Collecting tensorboard-plugin-wit>=1.6.0\n",
      "  Downloading tensorboard_plugin_wit-1.7.0-py3-none-any.whl (779 kB)\n",
      "Collecting google-auth<2,>=1.6.3\n",
      "  Downloading google_auth-1.23.0-py2.py3-none-any.whl (114 kB)\n",
      "Requirement already satisfied: requests<3,>=2.21.0 in c:\\users\\mprit\\anaconda3\\lib\\site-packages (from tensorboard<3,>=2.3.0->tensorflow) (2.24.0)\n",
      "Collecting requests-oauthlib>=0.7.0\n",
      "  Downloading requests_oauthlib-1.3.0-py2.py3-none-any.whl (23 kB)\n",
      "Collecting rsa<5,>=3.1.4; python_version >= \"3.5\"\n",
      "  Downloading rsa-4.6-py3-none-any.whl (47 kB)\n",
      "Collecting cachetools<5.0,>=2.0.0\n",
      "  Downloading cachetools-4.1.1-py3-none-any.whl (10 kB)\n",
      "Collecting pyasn1-modules>=0.2.1\n",
      "  Downloading pyasn1_modules-0.2.8-py2.py3-none-any.whl (155 kB)\n",
      "Requirement already satisfied: urllib3!=1.25.0,!=1.25.1,<1.26,>=1.21.1 in c:\\users\\mprit\\anaconda3\\lib\\site-packages (from requests<3,>=2.21.0->tensorboard<3,>=2.3.0->tensorflow) (1.25.9)\n",
      "Requirement already satisfied: chardet<4,>=3.0.2 in c:\\users\\mprit\\anaconda3\\lib\\site-packages (from requests<3,>=2.21.0->tensorboard<3,>=2.3.0->tensorflow) (3.0.4)\n",
      "Requirement already satisfied: idna<3,>=2.5 in c:\\users\\mprit\\anaconda3\\lib\\site-packages (from requests<3,>=2.21.0->tensorboard<3,>=2.3.0->tensorflow) (2.10)\n",
      "Requirement already satisfied: certifi>=2017.4.17 in c:\\users\\mprit\\anaconda3\\lib\\site-packages (from requests<3,>=2.21.0->tensorboard<3,>=2.3.0->tensorflow) (2020.6.20)\n",
      "Collecting oauthlib>=3.0.0\n",
      "  Downloading oauthlib-3.1.0-py2.py3-none-any.whl (147 kB)\n",
      "Collecting pyasn1>=0.1.3\n",
      "  Downloading pyasn1-0.4.8-py2.py3-none-any.whl (77 kB)\n",
      "Building wheels for collected packages: termcolor\n",
      "  Building wheel for termcolor (setup.py): started\n",
      "  Building wheel for termcolor (setup.py): finished with status 'done'\n",
      "  Created wheel for termcolor: filename=termcolor-1.1.0-py3-none-any.whl size=4835 sha256=6b72d8c341530c69b528976246d4c202b5c2add89a3e08f951436c9da473f83a\n",
      "  Stored in directory: c:\\users\\mprit\\appdata\\local\\pip\\cache\\wheels\\a0\\16\\9c\\5473df82468f958445479c59e784896fa24f4a5fc024b0f501\n",
      "Successfully built termcolor\n",
      "Installing collected packages: google-pasta, keras-preprocessing, grpcio, astunparse, absl-py, protobuf, markdown, pyasn1, rsa, cachetools, pyasn1-modules, google-auth, oauthlib, requests-oauthlib, google-auth-oauthlib, tensorboard-plugin-wit, tensorboard, opt-einsum, termcolor, gast, tensorflow-estimator, tensorflow\n",
      "Successfully installed absl-py-0.11.0 astunparse-1.6.3 cachetools-4.1.1 gast-0.3.3 google-auth-1.23.0 google-auth-oauthlib-0.4.2 google-pasta-0.2.0 grpcio-1.34.0 keras-preprocessing-1.1.2 markdown-3.3.3 oauthlib-3.1.0 opt-einsum-3.3.0 protobuf-3.14.0 pyasn1-0.4.8 pyasn1-modules-0.2.8 requests-oauthlib-1.3.0 rsa-4.6 tensorboard-2.4.0 tensorboard-plugin-wit-1.7.0 tensorflow-2.3.1 tensorflow-estimator-2.3.0 termcolor-1.1.0\n"
     ]
    }
   ],
   "source": [
    "!pip install tensorflow"
   ]
  },
  {
   "cell_type": "code",
   "execution_count": 99,
   "metadata": {},
   "outputs": [],
   "source": [
    "\n",
    "from __future__ import division, print_function\n",
    "from gensim import models\n",
    "from keras.callbacks import ModelCheckpoint\n",
    "from keras.layers import Dense, Dropout, Reshape, Flatten, concatenate, Input, Conv1D, GlobalMaxPooling1D, Embedding\n",
    "from keras.layers.recurrent import LSTM\n",
    "from keras.models import Sequential\n",
    "from keras.preprocessing.text import Tokenizer\n",
    "from keras.preprocessing.sequence import pad_sequences\n",
    "from keras.models import Model\n",
    "from sklearn.model_selection import train_test_split\n",
    "import numpy as np\n",
    "import pandas as pd\n",
    "import os\n",
    "import collections\n",
    "import re\n",
    "import string"
   ]
  },
  {
   "cell_type": "code",
   "execution_count": 111,
   "metadata": {},
   "outputs": [
    {
     "ename": "UnicodeDecodeError",
     "evalue": "'utf-8' codec can't decode byte 0x92 in position 95: invalid start byte",
     "output_type": "error",
     "traceback": [
      "\u001b[1;31m---------------------------------------------------------------------------\u001b[0m",
      "\u001b[1;31mUnicodeDecodeError\u001b[0m                        Traceback (most recent call last)",
      "\u001b[1;32mpandas\\_libs\\parsers.pyx\u001b[0m in \u001b[0;36mpandas._libs.parsers.TextReader._convert_tokens\u001b[1;34m()\u001b[0m\n",
      "\u001b[1;32mpandas\\_libs\\parsers.pyx\u001b[0m in \u001b[0;36mpandas._libs.parsers.TextReader._convert_with_dtype\u001b[1;34m()\u001b[0m\n",
      "\u001b[1;32mpandas\\_libs\\parsers.pyx\u001b[0m in \u001b[0;36mpandas._libs.parsers.TextReader._string_convert\u001b[1;34m()\u001b[0m\n",
      "\u001b[1;32mpandas\\_libs\\parsers.pyx\u001b[0m in \u001b[0;36mpandas._libs.parsers._string_box_utf8\u001b[1;34m()\u001b[0m\n",
      "\u001b[1;31mUnicodeDecodeError\u001b[0m: 'utf-8' codec can't decode byte 0x92 in position 95: invalid start byte",
      "\nDuring handling of the above exception, another exception occurred:\n",
      "\u001b[1;31mUnicodeDecodeError\u001b[0m                        Traceback (most recent call last)",
      "\u001b[1;32m<ipython-input-111-b5e4a5a3e749>\u001b[0m in \u001b[0;36m<module>\u001b[1;34m\u001b[0m\n\u001b[1;32m----> 1\u001b[1;33m \u001b[0mtweeter_labeled_data\u001b[0m \u001b[1;33m=\u001b[0m \u001b[0mpd\u001b[0m\u001b[1;33m.\u001b[0m\u001b[0mread_csv\u001b[0m\u001b[1;33m(\u001b[0m\u001b[1;34m\"covid_data_merged_0_1_new.csv\"\u001b[0m\u001b[1;33m)\u001b[0m\u001b[1;33m\u001b[0m\u001b[1;33m\u001b[0m\u001b[0m\n\u001b[0m",
      "\u001b[1;32m~\\Anaconda3\\lib\\site-packages\\pandas\\io\\parsers.py\u001b[0m in \u001b[0;36mparser_f\u001b[1;34m(filepath_or_buffer, sep, delimiter, header, names, index_col, usecols, squeeze, prefix, mangle_dupe_cols, dtype, engine, converters, true_values, false_values, skipinitialspace, skiprows, skipfooter, nrows, na_values, keep_default_na, na_filter, verbose, skip_blank_lines, parse_dates, infer_datetime_format, keep_date_col, date_parser, dayfirst, cache_dates, iterator, chunksize, compression, thousands, decimal, lineterminator, quotechar, quoting, doublequote, escapechar, comment, encoding, dialect, error_bad_lines, warn_bad_lines, delim_whitespace, low_memory, memory_map, float_precision)\u001b[0m\n\u001b[0;32m    674\u001b[0m         )\n\u001b[0;32m    675\u001b[0m \u001b[1;33m\u001b[0m\u001b[0m\n\u001b[1;32m--> 676\u001b[1;33m         \u001b[1;32mreturn\u001b[0m \u001b[0m_read\u001b[0m\u001b[1;33m(\u001b[0m\u001b[0mfilepath_or_buffer\u001b[0m\u001b[1;33m,\u001b[0m \u001b[0mkwds\u001b[0m\u001b[1;33m)\u001b[0m\u001b[1;33m\u001b[0m\u001b[1;33m\u001b[0m\u001b[0m\n\u001b[0m\u001b[0;32m    677\u001b[0m \u001b[1;33m\u001b[0m\u001b[0m\n\u001b[0;32m    678\u001b[0m     \u001b[0mparser_f\u001b[0m\u001b[1;33m.\u001b[0m\u001b[0m__name__\u001b[0m \u001b[1;33m=\u001b[0m \u001b[0mname\u001b[0m\u001b[1;33m\u001b[0m\u001b[1;33m\u001b[0m\u001b[0m\n",
      "\u001b[1;32m~\\Anaconda3\\lib\\site-packages\\pandas\\io\\parsers.py\u001b[0m in \u001b[0;36m_read\u001b[1;34m(filepath_or_buffer, kwds)\u001b[0m\n\u001b[0;32m    452\u001b[0m \u001b[1;33m\u001b[0m\u001b[0m\n\u001b[0;32m    453\u001b[0m     \u001b[1;32mtry\u001b[0m\u001b[1;33m:\u001b[0m\u001b[1;33m\u001b[0m\u001b[1;33m\u001b[0m\u001b[0m\n\u001b[1;32m--> 454\u001b[1;33m         \u001b[0mdata\u001b[0m \u001b[1;33m=\u001b[0m \u001b[0mparser\u001b[0m\u001b[1;33m.\u001b[0m\u001b[0mread\u001b[0m\u001b[1;33m(\u001b[0m\u001b[0mnrows\u001b[0m\u001b[1;33m)\u001b[0m\u001b[1;33m\u001b[0m\u001b[1;33m\u001b[0m\u001b[0m\n\u001b[0m\u001b[0;32m    455\u001b[0m     \u001b[1;32mfinally\u001b[0m\u001b[1;33m:\u001b[0m\u001b[1;33m\u001b[0m\u001b[1;33m\u001b[0m\u001b[0m\n\u001b[0;32m    456\u001b[0m         \u001b[0mparser\u001b[0m\u001b[1;33m.\u001b[0m\u001b[0mclose\u001b[0m\u001b[1;33m(\u001b[0m\u001b[1;33m)\u001b[0m\u001b[1;33m\u001b[0m\u001b[1;33m\u001b[0m\u001b[0m\n",
      "\u001b[1;32m~\\Anaconda3\\lib\\site-packages\\pandas\\io\\parsers.py\u001b[0m in \u001b[0;36mread\u001b[1;34m(self, nrows)\u001b[0m\n\u001b[0;32m   1131\u001b[0m     \u001b[1;32mdef\u001b[0m \u001b[0mread\u001b[0m\u001b[1;33m(\u001b[0m\u001b[0mself\u001b[0m\u001b[1;33m,\u001b[0m \u001b[0mnrows\u001b[0m\u001b[1;33m=\u001b[0m\u001b[1;32mNone\u001b[0m\u001b[1;33m)\u001b[0m\u001b[1;33m:\u001b[0m\u001b[1;33m\u001b[0m\u001b[1;33m\u001b[0m\u001b[0m\n\u001b[0;32m   1132\u001b[0m         \u001b[0mnrows\u001b[0m \u001b[1;33m=\u001b[0m \u001b[0m_validate_integer\u001b[0m\u001b[1;33m(\u001b[0m\u001b[1;34m\"nrows\"\u001b[0m\u001b[1;33m,\u001b[0m \u001b[0mnrows\u001b[0m\u001b[1;33m)\u001b[0m\u001b[1;33m\u001b[0m\u001b[1;33m\u001b[0m\u001b[0m\n\u001b[1;32m-> 1133\u001b[1;33m         \u001b[0mret\u001b[0m \u001b[1;33m=\u001b[0m \u001b[0mself\u001b[0m\u001b[1;33m.\u001b[0m\u001b[0m_engine\u001b[0m\u001b[1;33m.\u001b[0m\u001b[0mread\u001b[0m\u001b[1;33m(\u001b[0m\u001b[0mnrows\u001b[0m\u001b[1;33m)\u001b[0m\u001b[1;33m\u001b[0m\u001b[1;33m\u001b[0m\u001b[0m\n\u001b[0m\u001b[0;32m   1134\u001b[0m \u001b[1;33m\u001b[0m\u001b[0m\n\u001b[0;32m   1135\u001b[0m         \u001b[1;31m# May alter columns / col_dict\u001b[0m\u001b[1;33m\u001b[0m\u001b[1;33m\u001b[0m\u001b[1;33m\u001b[0m\u001b[0m\n",
      "\u001b[1;32m~\\Anaconda3\\lib\\site-packages\\pandas\\io\\parsers.py\u001b[0m in \u001b[0;36mread\u001b[1;34m(self, nrows)\u001b[0m\n\u001b[0;32m   2035\u001b[0m     \u001b[1;32mdef\u001b[0m \u001b[0mread\u001b[0m\u001b[1;33m(\u001b[0m\u001b[0mself\u001b[0m\u001b[1;33m,\u001b[0m \u001b[0mnrows\u001b[0m\u001b[1;33m=\u001b[0m\u001b[1;32mNone\u001b[0m\u001b[1;33m)\u001b[0m\u001b[1;33m:\u001b[0m\u001b[1;33m\u001b[0m\u001b[1;33m\u001b[0m\u001b[0m\n\u001b[0;32m   2036\u001b[0m         \u001b[1;32mtry\u001b[0m\u001b[1;33m:\u001b[0m\u001b[1;33m\u001b[0m\u001b[1;33m\u001b[0m\u001b[0m\n\u001b[1;32m-> 2037\u001b[1;33m             \u001b[0mdata\u001b[0m \u001b[1;33m=\u001b[0m \u001b[0mself\u001b[0m\u001b[1;33m.\u001b[0m\u001b[0m_reader\u001b[0m\u001b[1;33m.\u001b[0m\u001b[0mread\u001b[0m\u001b[1;33m(\u001b[0m\u001b[0mnrows\u001b[0m\u001b[1;33m)\u001b[0m\u001b[1;33m\u001b[0m\u001b[1;33m\u001b[0m\u001b[0m\n\u001b[0m\u001b[0;32m   2038\u001b[0m         \u001b[1;32mexcept\u001b[0m \u001b[0mStopIteration\u001b[0m\u001b[1;33m:\u001b[0m\u001b[1;33m\u001b[0m\u001b[1;33m\u001b[0m\u001b[0m\n\u001b[0;32m   2039\u001b[0m             \u001b[1;32mif\u001b[0m \u001b[0mself\u001b[0m\u001b[1;33m.\u001b[0m\u001b[0m_first_chunk\u001b[0m\u001b[1;33m:\u001b[0m\u001b[1;33m\u001b[0m\u001b[1;33m\u001b[0m\u001b[0m\n",
      "\u001b[1;32mpandas\\_libs\\parsers.pyx\u001b[0m in \u001b[0;36mpandas._libs.parsers.TextReader.read\u001b[1;34m()\u001b[0m\n",
      "\u001b[1;32mpandas\\_libs\\parsers.pyx\u001b[0m in \u001b[0;36mpandas._libs.parsers.TextReader._read_low_memory\u001b[1;34m()\u001b[0m\n",
      "\u001b[1;32mpandas\\_libs\\parsers.pyx\u001b[0m in \u001b[0;36mpandas._libs.parsers.TextReader._read_rows\u001b[1;34m()\u001b[0m\n",
      "\u001b[1;32mpandas\\_libs\\parsers.pyx\u001b[0m in \u001b[0;36mpandas._libs.parsers.TextReader._convert_column_data\u001b[1;34m()\u001b[0m\n",
      "\u001b[1;32mpandas\\_libs\\parsers.pyx\u001b[0m in \u001b[0;36mpandas._libs.parsers.TextReader._convert_tokens\u001b[1;34m()\u001b[0m\n",
      "\u001b[1;32mpandas\\_libs\\parsers.pyx\u001b[0m in \u001b[0;36mpandas._libs.parsers.TextReader._convert_with_dtype\u001b[1;34m()\u001b[0m\n",
      "\u001b[1;32mpandas\\_libs\\parsers.pyx\u001b[0m in \u001b[0;36mpandas._libs.parsers.TextReader._string_convert\u001b[1;34m()\u001b[0m\n",
      "\u001b[1;32mpandas\\_libs\\parsers.pyx\u001b[0m in \u001b[0;36mpandas._libs.parsers._string_box_utf8\u001b[1;34m()\u001b[0m\n",
      "\u001b[1;31mUnicodeDecodeError\u001b[0m: 'utf-8' codec can't decode byte 0x92 in position 95: invalid start byte"
     ]
    }
   ],
   "source": [
    "tweeter_labeled_data = pd.read_csv(\"covid_data_merged_0_1_new.csv\")"
   ]
  },
  {
   "cell_type": "code",
   "execution_count": 107,
   "metadata": {},
   "outputs": [],
   "source": [
    "temp_data = xlrd.open_workbook(r'covid_data_merged_0_1.xlsx')\n",
    "sheets_name1 = wb1.sheet_names();\n",
    "ws1 = wb1.sheet_by_index(0)\n",
    "labeled_tweets = ws1.col_values(0)"
   ]
  },
  {
   "cell_type": "code",
   "execution_count": 108,
   "metadata": {},
   "outputs": [
    {
     "data": {
      "text/plain": [
       "314"
      ]
     },
     "execution_count": 108,
     "metadata": {},
     "output_type": "execute_result"
    }
   ],
   "source": [
    "len(labeled_tweets)"
   ]
  },
  {
   "cell_type": "code",
   "execution_count": null,
   "metadata": {},
   "outputs": [],
   "source": []
  }
 ],
 "metadata": {
  "kernelspec": {
   "display_name": "Python 3",
   "language": "python",
   "name": "python3"
  },
  "language_info": {
   "codemirror_mode": {
    "name": "ipython",
    "version": 3
   },
   "file_extension": ".py",
   "mimetype": "text/x-python",
   "name": "python",
   "nbconvert_exporter": "python",
   "pygments_lexer": "ipython3",
   "version": "3.8.3"
  }
 },
 "nbformat": 4,
 "nbformat_minor": 4
}
