{
 "cells": [
  {
   "cell_type": "code",
   "execution_count": 49,
   "metadata": {},
   "outputs": [],
   "source": [
    "import pandas as pd"
   ]
  },
  {
   "cell_type": "markdown",
   "metadata": {},
   "source": [
    "# Converting json to csv for processing"
   ]
  },
  {
   "cell_type": "code",
   "execution_count": 20,
   "metadata": {},
   "outputs": [],
   "source": [
    "Tweet_raw_data_1= pd.read_json('corona_tweets_15.jsonl', lines=True)"
   ]
  },
  {
   "cell_type": "code",
   "execution_count": 21,
   "metadata": {},
   "outputs": [
    {
     "data": {
      "text/plain": [
       "(7925, 34)"
      ]
     },
     "execution_count": 21,
     "metadata": {},
     "output_type": "execute_result"
    }
   ],
   "source": [
    "Tweet_raw_data_1.shape"
   ]
  },
  {
   "cell_type": "code",
   "execution_count": 25,
   "metadata": {},
   "outputs": [
    {
     "data": {
      "text/html": [
       "<div>\n",
       "<style scoped>\n",
       "    .dataframe tbody tr th:only-of-type {\n",
       "        vertical-align: middle;\n",
       "    }\n",
       "\n",
       "    .dataframe tbody tr th {\n",
       "        vertical-align: top;\n",
       "    }\n",
       "\n",
       "    .dataframe thead th {\n",
       "        text-align: right;\n",
       "    }\n",
       "</style>\n",
       "<table border=\"1\" class=\"dataframe\">\n",
       "  <thead>\n",
       "    <tr style=\"text-align: right;\">\n",
       "      <th></th>\n",
       "      <th>created_at</th>\n",
       "      <th>id</th>\n",
       "      <th>id_str</th>\n",
       "      <th>full_text</th>\n",
       "      <th>truncated</th>\n",
       "      <th>display_text_range</th>\n",
       "      <th>entities</th>\n",
       "      <th>source</th>\n",
       "      <th>in_reply_to_status_id</th>\n",
       "      <th>in_reply_to_status_id_str</th>\n",
       "      <th>...</th>\n",
       "      <th>favorite_count</th>\n",
       "      <th>favorited</th>\n",
       "      <th>retweeted</th>\n",
       "      <th>possibly_sensitive</th>\n",
       "      <th>lang</th>\n",
       "      <th>retweeted_status</th>\n",
       "      <th>extended_entities</th>\n",
       "      <th>withheld_in_countries</th>\n",
       "      <th>withheld_scope</th>\n",
       "      <th>withheld_copyright</th>\n",
       "    </tr>\n",
       "  </thead>\n",
       "  <tbody>\n",
       "    <tr>\n",
       "      <th>0</th>\n",
       "      <td>2020-04-02 06:36:17+00:00</td>\n",
       "      <td>1245600924141158400</td>\n",
       "      <td>1245600924141158400</td>\n",
       "      <td>On this situation all the people of Maharashtr...</td>\n",
       "      <td>False</td>\n",
       "      <td>[0, 140]</td>\n",
       "      <td>{'hashtags': [], 'symbols': [], 'user_mentions...</td>\n",
       "      <td>&lt;a href=\"http://twitter.com/download/android\" ...</td>\n",
       "      <td>NaN</td>\n",
       "      <td>NaN</td>\n",
       "      <td>...</td>\n",
       "      <td>0</td>\n",
       "      <td>False</td>\n",
       "      <td>False</td>\n",
       "      <td>0.0</td>\n",
       "      <td>en</td>\n",
       "      <td>NaN</td>\n",
       "      <td>NaN</td>\n",
       "      <td>NaN</td>\n",
       "      <td>NaN</td>\n",
       "      <td>NaN</td>\n",
       "    </tr>\n",
       "    <tr>\n",
       "      <th>1</th>\n",
       "      <td>2020-04-02 06:36:19+00:00</td>\n",
       "      <td>1245600933993562000</td>\n",
       "      <td>1245600933993562112</td>\n",
       "      <td>RT @ashokgehlot51: People of #Rajasthan have a...</td>\n",
       "      <td>False</td>\n",
       "      <td>[0, 140]</td>\n",
       "      <td>{'hashtags': [{'text': 'Rajasthan', 'indices':...</td>\n",
       "      <td>&lt;a href=\"http://twitter.com/download/android\" ...</td>\n",
       "      <td>NaN</td>\n",
       "      <td>NaN</td>\n",
       "      <td>...</td>\n",
       "      <td>0</td>\n",
       "      <td>False</td>\n",
       "      <td>False</td>\n",
       "      <td>NaN</td>\n",
       "      <td>en</td>\n",
       "      <td>{'created_at': 'Wed Apr 01 15:39:58 +0000 2020...</td>\n",
       "      <td>NaN</td>\n",
       "      <td>NaN</td>\n",
       "      <td>NaN</td>\n",
       "      <td>NaN</td>\n",
       "    </tr>\n",
       "    <tr>\n",
       "      <th>2</th>\n",
       "      <td>2020-04-02 06:36:20+00:00</td>\n",
       "      <td>1245600939538407400</td>\n",
       "      <td>1245600939538407424</td>\n",
       "      <td>@narendramodi You have to consider using nucle...</td>\n",
       "      <td>False</td>\n",
       "      <td>[14, 189]</td>\n",
       "      <td>{'hashtags': [], 'symbols': [], 'user_mentions...</td>\n",
       "      <td>&lt;a href=\"http://twitter.com/download/android\" ...</td>\n",
       "      <td>1.245519e+18</td>\n",
       "      <td>1.245519e+18</td>\n",
       "      <td>...</td>\n",
       "      <td>0</td>\n",
       "      <td>False</td>\n",
       "      <td>False</td>\n",
       "      <td>NaN</td>\n",
       "      <td>en</td>\n",
       "      <td>NaN</td>\n",
       "      <td>NaN</td>\n",
       "      <td>NaN</td>\n",
       "      <td>NaN</td>\n",
       "      <td>NaN</td>\n",
       "    </tr>\n",
       "  </tbody>\n",
       "</table>\n",
       "<p>3 rows × 34 columns</p>\n",
       "</div>"
      ],
      "text/plain": [
       "                 created_at                   id               id_str  \\\n",
       "0 2020-04-02 06:36:17+00:00  1245600924141158400  1245600924141158400   \n",
       "1 2020-04-02 06:36:19+00:00  1245600933993562000  1245600933993562112   \n",
       "2 2020-04-02 06:36:20+00:00  1245600939538407400  1245600939538407424   \n",
       "\n",
       "                                           full_text  truncated  \\\n",
       "0  On this situation all the people of Maharashtr...      False   \n",
       "1  RT @ashokgehlot51: People of #Rajasthan have a...      False   \n",
       "2  @narendramodi You have to consider using nucle...      False   \n",
       "\n",
       "  display_text_range                                           entities  \\\n",
       "0           [0, 140]  {'hashtags': [], 'symbols': [], 'user_mentions...   \n",
       "1           [0, 140]  {'hashtags': [{'text': 'Rajasthan', 'indices':...   \n",
       "2          [14, 189]  {'hashtags': [], 'symbols': [], 'user_mentions...   \n",
       "\n",
       "                                              source  in_reply_to_status_id  \\\n",
       "0  <a href=\"http://twitter.com/download/android\" ...                    NaN   \n",
       "1  <a href=\"http://twitter.com/download/android\" ...                    NaN   \n",
       "2  <a href=\"http://twitter.com/download/android\" ...           1.245519e+18   \n",
       "\n",
       "   in_reply_to_status_id_str  ...  favorite_count  favorited retweeted  \\\n",
       "0                        NaN  ...               0      False     False   \n",
       "1                        NaN  ...               0      False     False   \n",
       "2               1.245519e+18  ...               0      False     False   \n",
       "\n",
       "  possibly_sensitive lang                                   retweeted_status  \\\n",
       "0                0.0   en                                                NaN   \n",
       "1                NaN   en  {'created_at': 'Wed Apr 01 15:39:58 +0000 2020...   \n",
       "2                NaN   en                                                NaN   \n",
       "\n",
       "  extended_entities  withheld_in_countries  withheld_scope  withheld_copyright  \n",
       "0               NaN                    NaN             NaN                 NaN  \n",
       "1               NaN                    NaN             NaN                 NaN  \n",
       "2               NaN                    NaN             NaN                 NaN  \n",
       "\n",
       "[3 rows x 34 columns]"
      ]
     },
     "execution_count": 25,
     "metadata": {},
     "output_type": "execute_result"
    }
   ],
   "source": [
    "Tweet_raw_data_1.head(3)"
   ]
  },
  {
   "cell_type": "code",
   "execution_count": 24,
   "metadata": {},
   "outputs": [
    {
     "data": {
      "text/plain": [
       "created_at                   datetime64[ns, UTC]\n",
       "id                                         int64\n",
       "id_str                                     int64\n",
       "full_text                                 object\n",
       "truncated                                   bool\n",
       "display_text_range                        object\n",
       "entities                                  object\n",
       "source                                    object\n",
       "in_reply_to_status_id                    float64\n",
       "in_reply_to_status_id_str                float64\n",
       "in_reply_to_user_id                      float64\n",
       "in_reply_to_user_id_str                  float64\n",
       "in_reply_to_screen_name                   object\n",
       "user                                      object\n",
       "geo                                       object\n",
       "coordinates                               object\n",
       "place                                     object\n",
       "contributors                             float64\n",
       "is_quote_status                             bool\n",
       "quoted_status_id                         float64\n",
       "quoted_status_id_str                     float64\n",
       "quoted_status_permalink                   object\n",
       "quoted_status                             object\n",
       "retweet_count                              int64\n",
       "favorite_count                             int64\n",
       "favorited                                   bool\n",
       "retweeted                                   bool\n",
       "possibly_sensitive                       float64\n",
       "lang                                      object\n",
       "retweeted_status                          object\n",
       "extended_entities                         object\n",
       "withheld_in_countries                     object\n",
       "withheld_scope                            object\n",
       "withheld_copyright                       float64\n",
       "dtype: object"
      ]
     },
     "execution_count": 24,
     "metadata": {},
     "output_type": "execute_result"
    }
   ],
   "source": [
    "Tweet_raw_data_1.dtypes"
   ]
  },
  {
   "cell_type": "code",
   "execution_count": 26,
   "metadata": {},
   "outputs": [],
   "source": [
    "Tweet_raw_data_1_reformed= Tweet_raw_data_1.drop(columns=['created_at', 'id', 'id_str', 'truncated', 'display_text_range', 'entities', 'source', 'in_reply_to_status_id', 'in_reply_to_status_id_str', 'in_reply_to_user_id', 'in_reply_to_user_id_str', 'in_reply_to_screen_name', 'user', 'contributors', 'quoted_status_id', 'quoted_status_id_str','quoted_status_permalink', 'quoted_status' ,'favorited', 'retweeted', 'lang', 'retweeted_status', 'extended_entities','withheld_in_countries', 'withheld_scope', 'withheld_copyright'])"
   ]
  },
  {
   "cell_type": "code",
   "execution_count": 27,
   "metadata": {},
   "outputs": [
    {
     "data": {
      "text/plain": [
       "(7925, 8)"
      ]
     },
     "execution_count": 27,
     "metadata": {},
     "output_type": "execute_result"
    }
   ],
   "source": [
    "Tweet_raw_data_1_reformed.shape"
   ]
  },
  {
   "cell_type": "code",
   "execution_count": 65,
   "metadata": {},
   "outputs": [
    {
     "data": {
      "text/html": [
       "<div>\n",
       "<style scoped>\n",
       "    .dataframe tbody tr th:only-of-type {\n",
       "        vertical-align: middle;\n",
       "    }\n",
       "\n",
       "    .dataframe tbody tr th {\n",
       "        vertical-align: top;\n",
       "    }\n",
       "\n",
       "    .dataframe thead th {\n",
       "        text-align: right;\n",
       "    }\n",
       "</style>\n",
       "<table border=\"1\" class=\"dataframe\">\n",
       "  <thead>\n",
       "    <tr style=\"text-align: right;\">\n",
       "      <th></th>\n",
       "      <th>full_text</th>\n",
       "      <th>is_quote_status</th>\n",
       "      <th>retweet_count</th>\n",
       "      <th>favorite_count</th>\n",
       "      <th>possibly_sensitive</th>\n",
       "    </tr>\n",
       "  </thead>\n",
       "  <tbody>\n",
       "    <tr>\n",
       "      <th>0</th>\n",
       "      <td>on this situation all the people of maharashtr...</td>\n",
       "      <td>True</td>\n",
       "      <td>0</td>\n",
       "      <td>0</td>\n",
       "      <td>0.0</td>\n",
       "    </tr>\n",
       "    <tr>\n",
       "      <th>1</th>\n",
       "      <td>rt @ashokgehlot51: people of #rajasthan have a...</td>\n",
       "      <td>False</td>\n",
       "      <td>517</td>\n",
       "      <td>0</td>\n",
       "      <td>NaN</td>\n",
       "    </tr>\n",
       "    <tr>\n",
       "      <th>2</th>\n",
       "      <td>@narendramodi you have to consider using nucle...</td>\n",
       "      <td>False</td>\n",
       "      <td>0</td>\n",
       "      <td>0</td>\n",
       "      <td>NaN</td>\n",
       "    </tr>\n",
       "    <tr>\n",
       "      <th>3</th>\n",
       "      <td>rt @yadavtejashwi: remember, it's a marathon a...</td>\n",
       "      <td>False</td>\n",
       "      <td>207</td>\n",
       "      <td>0</td>\n",
       "      <td>NaN</td>\n",
       "    </tr>\n",
       "    <tr>\n",
       "      <th>4</th>\n",
       "      <td>rt @tehseenp: india might potentially have the...</td>\n",
       "      <td>False</td>\n",
       "      <td>168</td>\n",
       "      <td>0</td>\n",
       "      <td>NaN</td>\n",
       "    </tr>\n",
       "  </tbody>\n",
       "</table>\n",
       "</div>"
      ],
      "text/plain": [
       "                                           full_text  is_quote_status  \\\n",
       "0  on this situation all the people of maharashtr...             True   \n",
       "1  rt @ashokgehlot51: people of #rajasthan have a...            False   \n",
       "2  @narendramodi you have to consider using nucle...            False   \n",
       "3  rt @yadavtejashwi: remember, it's a marathon a...            False   \n",
       "4  rt @tehseenp: india might potentially have the...            False   \n",
       "\n",
       "   retweet_count  favorite_count  possibly_sensitive  \n",
       "0              0               0                 0.0  \n",
       "1            517               0                 NaN  \n",
       "2              0               0                 NaN  \n",
       "3            207               0                 NaN  \n",
       "4            168               0                 NaN  "
      ]
     },
     "execution_count": 65,
     "metadata": {},
     "output_type": "execute_result"
    }
   ],
   "source": [
    "Tweet_raw_data_1_reformed.head(5)"
   ]
  },
  {
   "cell_type": "markdown",
   "metadata": {},
   "source": [
    "# Processed raw tweets (removed columns)"
   ]
  },
  {
   "cell_type": "code",
   "execution_count": 76,
   "metadata": {},
   "outputs": [],
   "source": [
    "Tweet_raw_data_1_reformed.to_csv(\"Tweets_converted_15.csv\", index= False)"
   ]
  },
  {
   "cell_type": "code",
   "execution_count": 42,
   "metadata": {},
   "outputs": [],
   "source": [
    "Tweet_raw_data_1_reformed = Tweet_raw_data_1_reformed.drop(columns=['place','coordinates','geo'])"
   ]
  },
  {
   "cell_type": "code",
   "execution_count": 45,
   "metadata": {},
   "outputs": [],
   "source": [
    "most_popular_tweets = Tweet_raw_data_1_reformed['full_text'].value_counts()"
   ]
  },
  {
   "cell_type": "code",
   "execution_count": 48,
   "metadata": {},
   "outputs": [],
   "source": [
    "most_popular_tweets.to_csv(\"popular_tweet_counts.csv\")"
   ]
  },
  {
   "cell_type": "code",
   "execution_count": 17,
   "metadata": {},
   "outputs": [],
   "source": []
  },
  {
   "cell_type": "markdown",
   "metadata": {},
   "source": [
    "# Filtering Tweets based on Covid health keywords"
   ]
  },
  {
   "cell_type": "code",
   "execution_count": 50,
   "metadata": {},
   "outputs": [],
   "source": [
    "# 50 COVID/health related keywords for filtering target information and misinformation\n",
    "covid_health_keywords = ['drug','fda-approved', 'scientific evidence', 'social distance', 'immunity drink', 'hydroxychloroquine', 'face mask', 'chloroquine', 'azithromycin', 'heparan sulfate', 'sars', 'tide pods', 'bleach shots', 'treatment', 'health', 'mask', 'pneumonia', 'vaccine', 'uv light', 'homeopathy', 'herd immunity', 'sanitizer', 'sunlight', 'uv ray', 'disinfectant', 'vitamin d', 'immunity booster', 'n95', 'n-95', 'antibody test', 'dengue', 'screening patient', 'stay at home', 'stay home', 'body pain', 'fever', 'slight cough', 'amphetamine', 'wash hand', 'hand wash', 'home stay', 'testing', 'wuhanvirus', 'wuhan virus', 'lockdown', 'hoax', 'antibodies', 'antibody','immunity', '5g']"
   ]
  },
  {
   "cell_type": "code",
   "execution_count": 53,
   "metadata": {},
   "outputs": [
    {
     "data": {
      "text/plain": [
       "50"
      ]
     },
     "execution_count": 53,
     "metadata": {},
     "output_type": "execute_result"
    }
   ],
   "source": [
    "len(covid_health_keywords)"
   ]
  },
  {
   "cell_type": "code",
   "execution_count": 18,
   "metadata": {},
   "outputs": [],
   "source": [
    "#df = pd.DataFrame({'name':['Allan2','Mike39','Brenda4','Holy5'], 'Age': [30,20,25,18],'Zodiac':['Aries','Leo','Virgo','Libra'],'Grade':['A','AB','B','AA'],'City':['Aura','Somerville','Hendersonville','Gannon'], 'pahun':['a_b_c','c_d_e','f_g','h_i_j']})\n"
   ]
  },
  {
   "cell_type": "code",
   "execution_count": 64,
   "metadata": {},
   "outputs": [],
   "source": [
    "# convert all strings to lower case characters for efficient filtering\n",
    "Tweet_raw_data_1_reformed['full_text'] = Tweet_raw_data_1_reformed['full_text'].str.lower()"
   ]
  },
  {
   "cell_type": "code",
   "execution_count": 66,
   "metadata": {},
   "outputs": [],
   "source": [
    "filtered_tweet_data = Tweet_raw_data_1_reformed[Tweet_raw_data_1_reformed.full_text.str.contains('|'.join(covid_health_keywords))]"
   ]
  },
  {
   "cell_type": "code",
   "execution_count": 67,
   "metadata": {},
   "outputs": [
    {
     "data": {
      "text/plain": [
       "(892, 5)"
      ]
     },
     "execution_count": 67,
     "metadata": {},
     "output_type": "execute_result"
    }
   ],
   "source": [
    "filtered_tweet_data.shape"
   ]
  },
  {
   "cell_type": "code",
   "execution_count": 68,
   "metadata": {},
   "outputs": [
    {
     "data": {
      "text/html": [
       "<div>\n",
       "<style scoped>\n",
       "    .dataframe tbody tr th:only-of-type {\n",
       "        vertical-align: middle;\n",
       "    }\n",
       "\n",
       "    .dataframe tbody tr th {\n",
       "        vertical-align: top;\n",
       "    }\n",
       "\n",
       "    .dataframe thead th {\n",
       "        text-align: right;\n",
       "    }\n",
       "</style>\n",
       "<table border=\"1\" class=\"dataframe\">\n",
       "  <thead>\n",
       "    <tr style=\"text-align: right;\">\n",
       "      <th></th>\n",
       "      <th>full_text</th>\n",
       "      <th>is_quote_status</th>\n",
       "      <th>retweet_count</th>\n",
       "      <th>favorite_count</th>\n",
       "      <th>possibly_sensitive</th>\n",
       "    </tr>\n",
       "  </thead>\n",
       "  <tbody>\n",
       "    <tr>\n",
       "      <th>0</th>\n",
       "      <td>on this situation all the people of maharashtr...</td>\n",
       "      <td>True</td>\n",
       "      <td>0</td>\n",
       "      <td>0</td>\n",
       "      <td>0.0</td>\n",
       "    </tr>\n",
       "    <tr>\n",
       "      <th>4</th>\n",
       "      <td>rt @tehseenp: india might potentially have the...</td>\n",
       "      <td>False</td>\n",
       "      <td>168</td>\n",
       "      <td>0</td>\n",
       "      <td>NaN</td>\n",
       "    </tr>\n",
       "    <tr>\n",
       "      <th>19</th>\n",
       "      <td>@httweets #soniagandhi ji, world is fighting #...</td>\n",
       "      <td>False</td>\n",
       "      <td>1</td>\n",
       "      <td>8</td>\n",
       "      <td>NaN</td>\n",
       "    </tr>\n",
       "    <tr>\n",
       "      <th>27</th>\n",
       "      <td>rt @legitngnews: “the work on the drug we are ...</td>\n",
       "      <td>False</td>\n",
       "      <td>28</td>\n",
       "      <td>0</td>\n",
       "      <td>NaN</td>\n",
       "    </tr>\n",
       "    <tr>\n",
       "      <th>47</th>\n",
       "      <td>rt @ep_sciencetech: new issue of the #esmh pre...</td>\n",
       "      <td>False</td>\n",
       "      <td>11</td>\n",
       "      <td>0</td>\n",
       "      <td>NaN</td>\n",
       "    </tr>\n",
       "  </tbody>\n",
       "</table>\n",
       "</div>"
      ],
      "text/plain": [
       "                                            full_text  is_quote_status  \\\n",
       "0   on this situation all the people of maharashtr...             True   \n",
       "4   rt @tehseenp: india might potentially have the...            False   \n",
       "19  @httweets #soniagandhi ji, world is fighting #...            False   \n",
       "27  rt @legitngnews: “the work on the drug we are ...            False   \n",
       "47  rt @ep_sciencetech: new issue of the #esmh pre...            False   \n",
       "\n",
       "    retweet_count  favorite_count  possibly_sensitive  \n",
       "0               0               0                 0.0  \n",
       "4             168               0                 NaN  \n",
       "19              1               8                 NaN  \n",
       "27             28               0                 NaN  \n",
       "47             11               0                 NaN  "
      ]
     },
     "execution_count": 68,
     "metadata": {},
     "output_type": "execute_result"
    }
   ],
   "source": [
    "filtered_tweet_data.head(5)"
   ]
  },
  {
   "cell_type": "code",
   "execution_count": 69,
   "metadata": {},
   "outputs": [],
   "source": [
    "filtered_tweet_data_unique = filtered_tweet_data.drop_duplicates(subset='full_text', keep='first')\n"
   ]
  },
  {
   "cell_type": "code",
   "execution_count": 70,
   "metadata": {},
   "outputs": [
    {
     "data": {
      "text/plain": [
       "(576, 5)"
      ]
     },
     "execution_count": 70,
     "metadata": {},
     "output_type": "execute_result"
    }
   ],
   "source": [
    "filtered_tweet_data_unique.shape"
   ]
  },
  {
   "cell_type": "code",
   "execution_count": 71,
   "metadata": {},
   "outputs": [
    {
     "data": {
      "text/html": [
       "<div>\n",
       "<style scoped>\n",
       "    .dataframe tbody tr th:only-of-type {\n",
       "        vertical-align: middle;\n",
       "    }\n",
       "\n",
       "    .dataframe tbody tr th {\n",
       "        vertical-align: top;\n",
       "    }\n",
       "\n",
       "    .dataframe thead th {\n",
       "        text-align: right;\n",
       "    }\n",
       "</style>\n",
       "<table border=\"1\" class=\"dataframe\">\n",
       "  <thead>\n",
       "    <tr style=\"text-align: right;\">\n",
       "      <th></th>\n",
       "      <th>full_text</th>\n",
       "      <th>is_quote_status</th>\n",
       "      <th>retweet_count</th>\n",
       "      <th>favorite_count</th>\n",
       "      <th>possibly_sensitive</th>\n",
       "    </tr>\n",
       "  </thead>\n",
       "  <tbody>\n",
       "    <tr>\n",
       "      <th>0</th>\n",
       "      <td>on this situation all the people of maharashtr...</td>\n",
       "      <td>True</td>\n",
       "      <td>0</td>\n",
       "      <td>0</td>\n",
       "      <td>0.0</td>\n",
       "    </tr>\n",
       "    <tr>\n",
       "      <th>4</th>\n",
       "      <td>rt @tehseenp: india might potentially have the...</td>\n",
       "      <td>False</td>\n",
       "      <td>168</td>\n",
       "      <td>0</td>\n",
       "      <td>NaN</td>\n",
       "    </tr>\n",
       "    <tr>\n",
       "      <th>19</th>\n",
       "      <td>@httweets #soniagandhi ji, world is fighting #...</td>\n",
       "      <td>False</td>\n",
       "      <td>1</td>\n",
       "      <td>8</td>\n",
       "      <td>NaN</td>\n",
       "    </tr>\n",
       "    <tr>\n",
       "      <th>27</th>\n",
       "      <td>rt @legitngnews: “the work on the drug we are ...</td>\n",
       "      <td>False</td>\n",
       "      <td>28</td>\n",
       "      <td>0</td>\n",
       "      <td>NaN</td>\n",
       "    </tr>\n",
       "    <tr>\n",
       "      <th>47</th>\n",
       "      <td>rt @ep_sciencetech: new issue of the #esmh pre...</td>\n",
       "      <td>False</td>\n",
       "      <td>11</td>\n",
       "      <td>0</td>\n",
       "      <td>NaN</td>\n",
       "    </tr>\n",
       "  </tbody>\n",
       "</table>\n",
       "</div>"
      ],
      "text/plain": [
       "                                            full_text  is_quote_status  \\\n",
       "0   on this situation all the people of maharashtr...             True   \n",
       "4   rt @tehseenp: india might potentially have the...            False   \n",
       "19  @httweets #soniagandhi ji, world is fighting #...            False   \n",
       "27  rt @legitngnews: “the work on the drug we are ...            False   \n",
       "47  rt @ep_sciencetech: new issue of the #esmh pre...            False   \n",
       "\n",
       "    retweet_count  favorite_count  possibly_sensitive  \n",
       "0               0               0                 0.0  \n",
       "4             168               0                 NaN  \n",
       "19              1               8                 NaN  \n",
       "27             28               0                 NaN  \n",
       "47             11               0                 NaN  "
      ]
     },
     "execution_count": 71,
     "metadata": {},
     "output_type": "execute_result"
    }
   ],
   "source": [
    "filtered_tweet_data_unique.head(5)"
   ]
  },
  {
   "cell_type": "code",
   "execution_count": 72,
   "metadata": {},
   "outputs": [
    {
     "data": {
      "text/plain": [
       "False    486\n",
       "True      90\n",
       "Name: is_quote_status, dtype: int64"
      ]
     },
     "execution_count": 72,
     "metadata": {},
     "output_type": "execute_result"
    }
   ],
   "source": [
    "filtered_tweet_data_unique['is_quote_status'].value_counts()"
   ]
  },
  {
   "cell_type": "code",
   "execution_count": 73,
   "metadata": {},
   "outputs": [
    {
     "data": {
      "text/plain": [
       "0.0    194\n",
       "1.0      3\n",
       "Name: possibly_sensitive, dtype: int64"
      ]
     },
     "execution_count": 73,
     "metadata": {},
     "output_type": "execute_result"
    }
   ],
   "source": [
    "filtered_tweet_data_unique['possibly_sensitive'].value_counts()"
   ]
  },
  {
   "cell_type": "code",
   "execution_count": 74,
   "metadata": {},
   "outputs": [
    {
     "data": {
      "text/plain": [
       "0      271\n",
       "1       60\n",
       "2       24\n",
       "5       14\n",
       "4       12\n",
       "      ... \n",
       "202      1\n",
       "207      1\n",
       "214      1\n",
       "215      1\n",
       "69       1\n",
       "Name: retweet_count, Length: 108, dtype: int64"
      ]
     },
     "execution_count": 74,
     "metadata": {},
     "output_type": "execute_result"
    }
   ],
   "source": [
    "filtered_tweet_data_unique['retweet_count'].value_counts()"
   ]
  },
  {
   "cell_type": "code",
   "execution_count": 75,
   "metadata": {},
   "outputs": [
    {
     "data": {
      "text/plain": [
       "0      450\n",
       "1       53\n",
       "2       20\n",
       "3       10\n",
       "5        8\n",
       "4        7\n",
       "8        6\n",
       "6        3\n",
       "10       3\n",
       "7        2\n",
       "201      1\n",
       "9        1\n",
       "281      1\n",
       "16       1\n",
       "18       1\n",
       "19       1\n",
       "22       1\n",
       "23       1\n",
       "26       1\n",
       "28       1\n",
       "42       1\n",
       "110      1\n",
       "162      1\n",
       "12       1\n",
       "Name: favorite_count, dtype: int64"
      ]
     },
     "execution_count": 75,
     "metadata": {},
     "output_type": "execute_result"
    }
   ],
   "source": [
    "filtered_tweet_data_unique['favorite_count'].value_counts()"
   ]
  },
  {
   "cell_type": "code",
   "execution_count": null,
   "metadata": {},
   "outputs": [],
   "source": []
  }
 ],
 "metadata": {
  "kernelspec": {
   "display_name": "Python 3",
   "language": "python",
   "name": "python3"
  },
  "language_info": {
   "codemirror_mode": {
    "name": "ipython",
    "version": 3
   },
   "file_extension": ".py",
   "mimetype": "text/x-python",
   "name": "python",
   "nbconvert_exporter": "python",
   "pygments_lexer": "ipython3",
   "version": "3.8.3"
  }
 },
 "nbformat": 4,
 "nbformat_minor": 4
}
